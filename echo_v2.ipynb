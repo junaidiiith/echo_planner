{
 "cells": [
  {
   "cell_type": "code",
   "execution_count": 1,
   "metadata": {},
   "outputs": [
    {
     "name": "stdout",
     "output_type": "stream",
     "text": [
      "Data directory: /Users/sali/Library/Application Support/crewai_storage\n"
     ]
    },
    {
     "name": "stderr",
     "output_type": "stream",
     "text": [
      "/Users/sali/miniconda3/envs/ML/lib/python3.10/site-packages/pydantic/_internal/_config.py:345: UserWarning: Valid config keys have changed in V2:\n",
      "* 'fields' has been removed\n",
      "  warnings.warn(message, UserWarning)\n"
     ]
    },
    {
     "name": "stdout",
     "output_type": "stream",
     "text": [
      "Data directory: /Users/sali/Library/Application Support/crewai_storage\n"
     ]
    }
   ],
   "source": [
    "import nest_asyncio\n",
    "nest_asyncio.apply()\n",
    "\n",
    "from crewai import LLM\n",
    "from dotenv import load_dotenv\n",
    "import os\n",
    "\n",
    "load_dotenv()\n",
    "\n",
    "llm = LLM(\n",
    "    model=os.getenv(\"FIREWORKS_MODEL_NAME\"),\n",
    "    base_url=\"https://api.fireworks.ai/inference/v1\",\n",
    "    api_key=os.getenv(\"FIREWORKS_API_KEY\")\n",
    ")"
   ]
  },
  {
   "cell_type": "code",
   "execution_count": 2,
   "metadata": {},
   "outputs": [],
   "source": [
    "from echo.runner import make_call\n",
    "import asyncio\n",
    "import nest_asyncio\n",
    "nest_asyncio.apply()\n",
    "\n",
    "\n",
    "test_clients = [\n",
    "\t\"Shell\",\n",
    "\t\"Schneider electric\"\n",
    "]\n",
    "\n",
    "\n",
    "train_clients = [\n",
    "\t\"ICICI bank\",\n",
    "\t\"Infosys\",\t\n",
    "\t\"University of Illinois\",\n",
    "\t\"Marks and spencer\",\n",
    "\t\"Mercedes Benz\",\n",
    "]\n",
    "\n",
    "clients = test_clients + train_clients\n",
    "\n",
    "\n",
    "inputs = {\n",
    "    'call_type': 'discovery', \n",
    "    'seller': 'Whatfix',\n",
    "    'n_competitors': 3\n",
    "}"
   ]
  },
  {
   "cell_type": "code",
   "execution_count": null,
   "metadata": {},
   "outputs": [],
   "source": [
    "discovery_calls_data = asyncio.run(make_call('discovery', clients, inputs))"
   ]
  },
  {
   "cell_type": "code",
   "execution_count": 4,
   "metadata": {},
   "outputs": [
    {
     "data": {
      "text/plain": [
       "<coroutine object aget_simulation_data_for_client at 0x3125c27a0>"
      ]
     },
     "execution_count": 4,
     "metadata": {},
     "output_type": "execute_result"
    }
   ],
   "source": [
    "from echo.step_templates.discovery import aget_simulation_data_for_client\n",
    "\n",
    "simulation_data = await aget_simulation_data_for_client(inputs, llm)"
   ]
  },
  {
   "cell_type": "code",
   "execution_count": 3,
   "metadata": {},
   "outputs": [
    {
     "name": "stdout",
     "output_type": "stream",
     "text": [
      "Making demo call for ['Shell', 'Schneider electric', 'ICICI bank', 'Infosys', 'University of Illinois', 'Marks and spencer', 'Mercedes Benz']\n"
     ]
    },
    {
     "name": "stderr",
     "output_type": "stream",
     "text": [
      "Get Research Data: 100%|██████████| 7/7 [00:00<00:00, 70.34it/s]\n",
      "Simulating Data:   0%|          | 0/7 [00:00<?, ?it/s]"
     ]
    },
    {
     "name": "stdout",
     "output_type": "stream",
     "text": [
      "Simulating Data for Shell\n",
      "Adding Discovery Transcript Data to Vector Store\n"
     ]
    },
    {
     "name": "stderr",
     "output_type": "stream",
     "text": [
      "Simulating Data:  14%|█▍        | 1/7 [00:00<00:04,  1.48it/s]"
     ]
    },
    {
     "name": "stdout",
     "output_type": "stream",
     "text": [
      "Simulating Data for Schneider electric\n",
      "Adding Discovery Transcript Data to Vector Store\n"
     ]
    },
    {
     "name": "stderr",
     "output_type": "stream",
     "text": [
      "Simulating Data:  29%|██▊       | 2/7 [00:01<00:02,  1.88it/s]"
     ]
    },
    {
     "name": "stdout",
     "output_type": "stream",
     "text": [
      "Simulating Data for ICICI bank\n",
      "Adding Discovery Transcript Data to Vector Store\n"
     ]
    },
    {
     "name": "stderr",
     "output_type": "stream",
     "text": [
      "Simulating Data:  43%|████▎     | 3/7 [00:01<00:01,  2.17it/s]"
     ]
    },
    {
     "name": "stdout",
     "output_type": "stream",
     "text": [
      "Simulating Data for Infosys\n",
      "Adding Discovery Transcript Data to Vector Store\n"
     ]
    },
    {
     "name": "stderr",
     "output_type": "stream",
     "text": [
      "Simulating Data:  57%|█████▋    | 4/7 [00:02<00:01,  2.04it/s]"
     ]
    },
    {
     "name": "stdout",
     "output_type": "stream",
     "text": [
      "Simulating Data for University of Illinois\n",
      "Adding Discovery Transcript Data to Vector Store\n"
     ]
    },
    {
     "name": "stderr",
     "output_type": "stream",
     "text": [
      "Simulating Data:  71%|███████▏  | 5/7 [00:02<00:00,  2.01it/s]"
     ]
    },
    {
     "name": "stdout",
     "output_type": "stream",
     "text": [
      "Simulating Data for Marks and spencer\n",
      "Adding Discovery Transcript Data to Vector Store\n"
     ]
    },
    {
     "name": "stderr",
     "output_type": "stream",
     "text": [
      "Simulating Data:  86%|████████▌ | 6/7 [00:02<00:00,  2.10it/s]"
     ]
    },
    {
     "name": "stdout",
     "output_type": "stream",
     "text": [
      "Simulating Data for Mercedes Benz\n",
      "Adding Discovery Transcript Data to Vector Store\n"
     ]
    },
    {
     "name": "stderr",
     "output_type": "stream",
     "text": [
      "Simulating Data: 100%|██████████| 7/7 [00:03<00:00,  2.10it/s]\n",
      "Analyzing Data:   0%|          | 0/7 [00:00<?, ?it/s]"
     ]
    },
    {
     "name": "stdout",
     "output_type": "stream",
     "text": [
      "Adding Analysis Data to Vector Store\n"
     ]
    },
    {
     "name": "stderr",
     "output_type": "stream",
     "text": [
      "Analyzing Data:  14%|█▍        | 1/7 [00:00<00:02,  2.46it/s]"
     ]
    },
    {
     "name": "stdout",
     "output_type": "stream",
     "text": [
      "Adding Analysis Data to Vector Store\n"
     ]
    },
    {
     "name": "stderr",
     "output_type": "stream",
     "text": [
      "Analyzing Data:  29%|██▊       | 2/7 [00:00<00:02,  2.01it/s]"
     ]
    },
    {
     "name": "stdout",
     "output_type": "stream",
     "text": [
      "Adding Analysis Data to Vector Store\n"
     ]
    },
    {
     "name": "stderr",
     "output_type": "stream",
     "text": [
      "Analyzing Data:  43%|████▎     | 3/7 [00:01<00:01,  2.22it/s]"
     ]
    },
    {
     "name": "stdout",
     "output_type": "stream",
     "text": [
      "Adding Analysis Data to Vector Store\n"
     ]
    },
    {
     "name": "stderr",
     "output_type": "stream",
     "text": [
      "Analyzing Data:  57%|█████▋    | 4/7 [00:01<00:01,  2.42it/s]"
     ]
    },
    {
     "name": "stdout",
     "output_type": "stream",
     "text": [
      "Adding Analysis Data to Vector Store\n"
     ]
    },
    {
     "name": "stderr",
     "output_type": "stream",
     "text": [
      "Analyzing Data:  71%|███████▏  | 5/7 [00:02<00:00,  2.36it/s]"
     ]
    },
    {
     "name": "stdout",
     "output_type": "stream",
     "text": [
      "Adding Analysis Data to Vector Store\n"
     ]
    },
    {
     "name": "stderr",
     "output_type": "stream",
     "text": [
      "Analyzing Data:  86%|████████▌ | 6/7 [00:02<00:00,  2.31it/s]"
     ]
    },
    {
     "name": "stdout",
     "output_type": "stream",
     "text": [
      "Adding Analysis Data to Vector Store\n"
     ]
    },
    {
     "name": "stderr",
     "output_type": "stream",
     "text": [
      "Analyzing Data: 100%|██████████| 7/7 [00:03<00:00,  2.29it/s]\n"
     ]
    }
   ],
   "source": [
    "demo_calls_data = asyncio.run(make_call('demo', clients, inputs))"
   ]
  },
  {
   "cell_type": "code",
   "execution_count": 4,
   "metadata": {},
   "outputs": [
    {
     "name": "stdout",
     "output_type": "stream",
     "text": [
      "Making pricing call for ['Shell', 'Schneider electric', 'ICICI bank', 'Infosys', 'University of Illinois', 'Marks and spencer', 'Mercedes Benz']\n"
     ]
    },
    {
     "name": "stderr",
     "output_type": "stream",
     "text": [
      "Simulating Data:   0%|          | 0/7 [00:00<?, ?it/s]"
     ]
    },
    {
     "name": "stdout",
     "output_type": "stream",
     "text": [
      "Simulating Data for Shell\n",
      "Adding Discovery Transcript Data to Vector Store\n"
     ]
    },
    {
     "name": "stderr",
     "output_type": "stream",
     "text": [
      "Simulating Data:  14%|█▍        | 1/7 [00:00<00:05,  1.19it/s]"
     ]
    },
    {
     "name": "stdout",
     "output_type": "stream",
     "text": [
      "Simulating Data for Schneider electric\n",
      "Adding Discovery Transcript Data to Vector Store\n"
     ]
    },
    {
     "name": "stderr",
     "output_type": "stream",
     "text": [
      "Simulating Data:  29%|██▊       | 2/7 [00:01<00:02,  1.69it/s]"
     ]
    },
    {
     "name": "stdout",
     "output_type": "stream",
     "text": [
      "Simulating Data for ICICI bank\n",
      "Adding Discovery Transcript Data to Vector Store\n"
     ]
    },
    {
     "name": "stderr",
     "output_type": "stream",
     "text": [
      "Simulating Data:  43%|████▎     | 3/7 [00:01<00:02,  1.91it/s]"
     ]
    },
    {
     "name": "stdout",
     "output_type": "stream",
     "text": [
      "Simulating Data for Infosys\n",
      "Adding Discovery Transcript Data to Vector Store\n"
     ]
    },
    {
     "name": "stderr",
     "output_type": "stream",
     "text": [
      "Simulating Data:  57%|█████▋    | 4/7 [00:02<00:01,  2.18it/s]"
     ]
    },
    {
     "name": "stdout",
     "output_type": "stream",
     "text": [
      "Simulating Data for University of Illinois\n",
      "Adding Discovery Transcript Data to Vector Store\n"
     ]
    },
    {
     "name": "stderr",
     "output_type": "stream",
     "text": [
      "Simulating Data:  71%|███████▏  | 5/7 [00:02<00:00,  2.05it/s]"
     ]
    },
    {
     "name": "stdout",
     "output_type": "stream",
     "text": [
      "Simulating Data for Marks and spencer\n",
      "Adding Discovery Transcript Data to Vector Store\n"
     ]
    },
    {
     "name": "stderr",
     "output_type": "stream",
     "text": [
      "Simulating Data:  86%|████████▌ | 6/7 [00:03<00:00,  2.18it/s]"
     ]
    },
    {
     "name": "stdout",
     "output_type": "stream",
     "text": [
      "Simulating Data for Mercedes Benz\n",
      "Adding Discovery Transcript Data to Vector Store\n"
     ]
    },
    {
     "name": "stderr",
     "output_type": "stream",
     "text": [
      "Simulating Data: 100%|██████████| 7/7 [00:03<00:00,  2.00it/s]\n",
      "Analyzing Data:   0%|          | 0/7 [00:00<?, ?it/s]"
     ]
    },
    {
     "name": "stdout",
     "output_type": "stream",
     "text": [
      "Adding Analysis Data to Vector Store\n"
     ]
    },
    {
     "name": "stderr",
     "output_type": "stream",
     "text": [
      "Analyzing Data:  14%|█▍        | 1/7 [00:00<00:03,  1.99it/s]"
     ]
    },
    {
     "name": "stdout",
     "output_type": "stream",
     "text": [
      "Adding Analysis Data to Vector Store\n"
     ]
    },
    {
     "name": "stderr",
     "output_type": "stream",
     "text": [
      "Analyzing Data:  29%|██▊       | 2/7 [00:01<00:02,  1.87it/s]"
     ]
    },
    {
     "name": "stdout",
     "output_type": "stream",
     "text": [
      "Adding Analysis Data to Vector Store\n"
     ]
    },
    {
     "name": "stderr",
     "output_type": "stream",
     "text": [
      "Analyzing Data:  43%|████▎     | 3/7 [00:01<00:01,  2.06it/s]"
     ]
    },
    {
     "name": "stdout",
     "output_type": "stream",
     "text": [
      "Adding Analysis Data to Vector Store\n"
     ]
    },
    {
     "name": "stderr",
     "output_type": "stream",
     "text": [
      "Analyzing Data:  57%|█████▋    | 4/7 [00:01<00:01,  2.24it/s]"
     ]
    },
    {
     "name": "stdout",
     "output_type": "stream",
     "text": [
      "Adding Analysis Data to Vector Store\n"
     ]
    },
    {
     "name": "stderr",
     "output_type": "stream",
     "text": [
      "Analyzing Data:  71%|███████▏  | 5/7 [00:02<00:00,  2.34it/s]"
     ]
    },
    {
     "name": "stdout",
     "output_type": "stream",
     "text": [
      "Adding Analysis Data to Vector Store\n"
     ]
    },
    {
     "name": "stderr",
     "output_type": "stream",
     "text": [
      "Analyzing Data:  86%|████████▌ | 6/7 [00:02<00:00,  2.47it/s]"
     ]
    },
    {
     "name": "stdout",
     "output_type": "stream",
     "text": [
      "Adding Analysis Data to Vector Store\n"
     ]
    },
    {
     "name": "stderr",
     "output_type": "stream",
     "text": [
      "Analyzing Data: 100%|██████████| 7/7 [00:03<00:00,  2.30it/s]\n"
     ]
    }
   ],
   "source": [
    "pricing_call_data = asyncio.run(make_call('pricing', clients, inputs))"
   ]
  },
  {
   "cell_type": "code",
   "execution_count": 5,
   "metadata": {},
   "outputs": [
    {
     "name": "stdout",
     "output_type": "stream",
     "text": [
      "Making negotiation call for ['Shell', 'Schneider electric', 'ICICI bank', 'Infosys', 'University of Illinois', 'Marks and spencer', 'Mercedes Benz']\n"
     ]
    },
    {
     "name": "stderr",
     "output_type": "stream",
     "text": [
      "Simulating Data:   0%|          | 0/7 [00:00<?, ?it/s]"
     ]
    },
    {
     "name": "stdout",
     "output_type": "stream",
     "text": [
      "Simulating Data for Shell\n",
      "Adding Discovery Transcript Data to Vector Store\n"
     ]
    },
    {
     "name": "stderr",
     "output_type": "stream",
     "text": [
      "Simulating Data:  14%|█▍        | 1/7 [00:00<00:02,  2.14it/s]"
     ]
    },
    {
     "name": "stdout",
     "output_type": "stream",
     "text": [
      "Simulating Data for Schneider electric\n",
      "Adding Discovery Transcript Data to Vector Store\n"
     ]
    },
    {
     "name": "stderr",
     "output_type": "stream",
     "text": [
      "Simulating Data:  29%|██▊       | 2/7 [00:00<00:02,  2.13it/s]"
     ]
    },
    {
     "name": "stdout",
     "output_type": "stream",
     "text": [
      "Simulating Data for ICICI bank\n",
      "Adding Discovery Transcript Data to Vector Store\n"
     ]
    },
    {
     "name": "stderr",
     "output_type": "stream",
     "text": [
      "Simulating Data:  43%|████▎     | 3/7 [00:01<00:01,  2.04it/s]"
     ]
    },
    {
     "name": "stdout",
     "output_type": "stream",
     "text": [
      "Simulating Data for Infosys\n",
      "Adding Discovery Transcript Data to Vector Store\n"
     ]
    },
    {
     "name": "stderr",
     "output_type": "stream",
     "text": [
      "Simulating Data:  57%|█████▋    | 4/7 [00:01<00:01,  2.37it/s]"
     ]
    },
    {
     "name": "stdout",
     "output_type": "stream",
     "text": [
      "Simulating Data for University of Illinois\n",
      "Adding Discovery Transcript Data to Vector Store\n"
     ]
    },
    {
     "name": "stderr",
     "output_type": "stream",
     "text": [
      "Simulating Data:  71%|███████▏  | 5/7 [00:02<00:00,  2.45it/s]"
     ]
    },
    {
     "name": "stdout",
     "output_type": "stream",
     "text": [
      "Simulating Data for Marks and spencer\n",
      "Adding Discovery Transcript Data to Vector Store\n"
     ]
    },
    {
     "name": "stderr",
     "output_type": "stream",
     "text": [
      "Simulating Data:  86%|████████▌ | 6/7 [00:02<00:00,  2.57it/s]"
     ]
    },
    {
     "name": "stdout",
     "output_type": "stream",
     "text": [
      "Simulating Data for Mercedes Benz\n",
      "Adding Discovery Transcript Data to Vector Store\n"
     ]
    },
    {
     "name": "stderr",
     "output_type": "stream",
     "text": [
      "Simulating Data: 100%|██████████| 7/7 [00:03<00:00,  2.25it/s]\n",
      "Analyzing Data:   0%|          | 0/7 [00:00<?, ?it/s]"
     ]
    },
    {
     "name": "stdout",
     "output_type": "stream",
     "text": [
      "Adding Analysis Data to Vector Store\n"
     ]
    },
    {
     "name": "stderr",
     "output_type": "stream",
     "text": [
      "Analyzing Data:  14%|█▍        | 1/7 [00:00<00:02,  2.70it/s]"
     ]
    },
    {
     "name": "stdout",
     "output_type": "stream",
     "text": [
      "Adding Analysis Data to Vector Store\n"
     ]
    },
    {
     "name": "stderr",
     "output_type": "stream",
     "text": [
      "Analyzing Data:  29%|██▊       | 2/7 [00:00<00:01,  2.55it/s]"
     ]
    },
    {
     "name": "stdout",
     "output_type": "stream",
     "text": [
      "Adding Analysis Data to Vector Store\n"
     ]
    },
    {
     "name": "stderr",
     "output_type": "stream",
     "text": [
      "Analyzing Data:  43%|████▎     | 3/7 [00:01<00:01,  2.84it/s]"
     ]
    },
    {
     "name": "stdout",
     "output_type": "stream",
     "text": [
      "Adding Analysis Data to Vector Store\n"
     ]
    },
    {
     "name": "stderr",
     "output_type": "stream",
     "text": [
      "Analyzing Data:  57%|█████▋    | 4/7 [00:01<00:01,  2.29it/s]"
     ]
    },
    {
     "name": "stdout",
     "output_type": "stream",
     "text": [
      "Adding Analysis Data to Vector Store\n"
     ]
    },
    {
     "name": "stderr",
     "output_type": "stream",
     "text": [
      "Analyzing Data:  71%|███████▏  | 5/7 [00:02<00:00,  2.29it/s]"
     ]
    },
    {
     "name": "stdout",
     "output_type": "stream",
     "text": [
      "Adding Analysis Data to Vector Store\n"
     ]
    },
    {
     "name": "stderr",
     "output_type": "stream",
     "text": [
      "Analyzing Data:  86%|████████▌ | 6/7 [00:02<00:00,  2.23it/s]"
     ]
    },
    {
     "name": "stdout",
     "output_type": "stream",
     "text": [
      "Adding Analysis Data to Vector Store\n"
     ]
    },
    {
     "name": "stderr",
     "output_type": "stream",
     "text": [
      "Analyzing Data: 100%|██████████| 7/7 [00:02<00:00,  2.46it/s]\n"
     ]
    }
   ],
   "source": [
    "negotiation_call_data = asyncio.run(make_call('negotiation', clients, inputs))"
   ]
  },
  {
   "cell_type": "markdown",
   "metadata": {},
   "source": [
    "## Memory Module"
   ]
  },
  {
   "cell_type": "markdown",
   "metadata": {},
   "source": [
    "## Using Memory"
   ]
  },
  {
   "cell_type": "markdown",
   "metadata": {},
   "source": [
    "#### Memory Types\n",
    "\n",
    "- Deal Summary"
   ]
  },
  {
   "cell_type": "code",
   "execution_count": 5,
   "metadata": {},
   "outputs": [],
   "source": [
    "import enum\n",
    "from typing import Dict\n",
    "from llama_index.core.node_parser import SentenceSplitter\n",
    "from echo.utils import db_storage_path\n",
    "from llama_index.core import VectorStoreIndex\n",
    "from llama_index.core.vector_stores import (\n",
    "    MetadataFilter,\n",
    "    MetadataFilters,\n",
    "    FilterOperator,\n",
    "    FilterCondition\n",
    ")\n",
    "\n",
    "from llama_index.core.schema import TextNode\n",
    "from llama_index.vector_stores.chroma import ChromaVectorStore\n",
    "import chromadb\n",
    "\n",
    "\n",
    "CHUNK_SIZE=8192\n",
    "CHUNK_OVERLAP=128\n",
    "SIMILARITY_TOP_K=3\n",
    "\n",
    "\n",
    "class IndexType(enum.Enum):\n",
    "    HISTORICAL = \"historical\"\n",
    "    CURRENT_DEAL = \"current_deal\"\n",
    "    BUYER_RESEARCH = \"buyer_research\"\n",
    "    SELLER_RESEARCH = \"seller_research\"\n",
    "    SALES_PLAYBOOK = \"sales_playbook\"\n",
    "\n",
    "\n",
    "class CallType(enum.Enum):\n",
    "    DISCOVERY = \"discovery\"\n",
    "    DEMO = \"demo\"\n",
    "    PRICING = \"pricing\"\n",
    "    PROCUREMENT = \"procurement\"\n",
    "\n",
    "\n",
    "def get_vector_index(\n",
    "    index_name: str, \n",
    "    index_type: IndexType\n",
    "):\n",
    "    chroma_db_path = db_storage_path(index_name)\n",
    "    db = chromadb.PersistentClient(path=str(chroma_db_path))\n",
    "    chroma_collection = db.get_or_create_collection(f\"{index_type.value}\")\n",
    "    vector_store = ChromaVectorStore(chroma_collection=chroma_collection)\n",
    "    index = VectorStoreIndex.from_vector_store(vector_store)\n",
    "\n",
    "    return index\n",
    "\n",
    "\n",
    "def get_response(\n",
    "    query: str, \n",
    "    index: VectorStoreIndex, \n",
    "    filters: Dict[str, str] = None, \n",
    "    filter_operator: FilterOperator = FilterOperator.EQ,\n",
    "    condition: FilterCondition = FilterCondition.AND,\n",
    "    \n",
    "):\n",
    "    filters = filters or {}\n",
    "    filters = MetadataFilters(\n",
    "        filters=[\n",
    "            MetadataFilter(\n",
    "                key=k.lower(), \n",
    "                value=v.lower(),\n",
    "                operator=filter_operator\n",
    "            ) for k, v in filters.items()\n",
    "        ],\n",
    "        condition=condition,\n",
    "    )\n",
    "\n",
    "    return index.as_query_engine(filters=filters).query(query)\n",
    "\n",
    "\n",
    "def get_nodes_from_documents(data: str, metadata: Dict[str, str]):\n",
    "    splitter = SentenceSplitter(\n",
    "        chunk_size=CHUNK_SIZE, \n",
    "        chunk_overlap=CHUNK_OVERLAP\n",
    "    )\n",
    "    docs = splitter.split_text(data)\n",
    "    return [\n",
    "        TextNode(\n",
    "            text=doc,\n",
    "            metadata=metadata\n",
    "        )\n",
    "        for doc in docs\n",
    "    ]"
   ]
  },
  {
   "cell_type": "markdown",
   "metadata": {},
   "source": [
    "## Queries"
   ]
  },
  {
   "cell_type": "code",
   "execution_count": 10,
   "metadata": {},
   "outputs": [],
   "source": [
    "index_name = 'Whatfix'\n",
    "index_type = IndexType.HISTORICAL\n",
    "\n",
    "chroma_db_path = db_storage_path(index_name)\n",
    "db = chromadb.PersistentClient(path=str(chroma_db_path))\n",
    "chroma_collection = db.get_or_create_collection(f\"{index_type.value}\")"
   ]
  },
  {
   "cell_type": "code",
   "execution_count": 11,
   "metadata": {},
   "outputs": [],
   "source": [
    "index = get_vector_index(index_name, index_type)"
   ]
  },
  {
   "cell_type": "code",
   "execution_count": 12,
   "metadata": {},
   "outputs": [
    {
     "data": {
      "text/plain": [
       "7"
      ]
     },
     "execution_count": 12,
     "metadata": {},
     "output_type": "execute_result"
    }
   ],
   "source": [
    "len(index._storage_context.vector_store._collection.get()['metadatas'])"
   ]
  },
  {
   "cell_type": "code",
   "execution_count": 7,
   "metadata": {},
   "outputs": [],
   "source": [
    "def get_filters(metadata: Dict):\n",
    "    filters = MetadataFilters(\n",
    "        filters=[\n",
    "            MetadataFilter(\n",
    "                key=k, \n",
    "                value=v['value'],\n",
    "                operator=v['operator']\n",
    "            ) for k, v in metadata.items()\n",
    "        ],\n",
    "    )\n",
    "    return filters"
   ]
  },
  {
   "cell_type": "code",
   "execution_count": 8,
   "metadata": {},
   "outputs": [],
   "source": [
    "from IPython.display import Markdown, display\n",
    "\n",
    "def display_prompt_dict(prompts_dict):\n",
    "    for k, p in prompts_dict.items():\n",
    "        text_md = f\"**Prompt Key**: {k}\" f\"**Text:** \"\n",
    "        display(Markdown(text_md))\n",
    "        print(p.get_template())\n",
    "        display(Markdown(\"\"))"
   ]
  },
  {
   "cell_type": "code",
   "execution_count": 13,
   "metadata": {},
   "outputs": [
    {
     "data": {
      "text/plain": [
       "[NodeWithScore(node=TextNode(id_='45503907-9143-4e87-9223-6d7c81e61364', embedding=None, metadata={'seller': 'Whatfix', 'buyer': 'Infosys', 'call_type': 'discovery', 'company_size': 'Enterprise', 'industry': 'Technology', 'description': 'Infosys is a global leader in next-generation digital services and consulting. We enable clients in more than 50 countries to navigate their digital transformation.', 'data_json': \"Discovery Analysis Buyer Data Fields Description: class BuyerDataExtracted(BaseModel):\\n\\n\\tpain_points: List[str] # The pain points identified in the call.\\n\\tobjections: List[str] # The objections identified in the call.\\n\\ttime_lines: List[str] # The time lines identified in the call.\\n\\tsuccess_indicators: List[str] # The success indicators identified in the call.\\n\\tbudget_constraints: List[str] # The budget constraints identified in the call.\\n\\tcompetition: List[str] # The competitors identified in the call.\\n\\tdecision_committee: List[str] # The members of the decision committee identified in the call.\\n\\n# Pain_Points\\n   - low user engagement\\n   - inefficient use of technology investments\\n   - steep learning curve\\n   - limited customization options\\n# Objections\\n   - concerns about the steep learning curve\\n   - limited customization options\\n# Time_Lines\\n   - within the next 24 hours\\n# Success_Indicators\\n   - improve user adoption rates\\n   - reduce support requests\\n   - amplify human potential and create the next opportunity for people, businesses, and society\\n# Budget_Constraints\\n# Competition\\n   - WalkMe\\n   - Pendo\\n   - Userpilot\\n# Decision_Committee\\n   - Ramesh, a Digital Transformation Consultant at Infosys\\n\\nDiscovery Analysis Seller Data Fields Description: class SellerDataExtracted(BaseModel):\\n\\n\\tdiscovery_questions: List[str] # The discovery questions asked by the seller.\\n\\tdecision_making_process_questions: List[str] # The decision making process questions asked by the seller.\\n\\tobjection_resolution_pairs: List[{\\n\\t\\tobjection: str # The objection raised by the buyer.\\n\\t\\tresolution: str # The resolution provided by the seller.\\n\\t}] # The objection resolution pairs identified in the call.\\n\\tinsights: List[str] # The insights identified in the call.\\n\\timprovements: List[str] # The areas of improvement identified in the call.\\n\\n# Discovery_Questions\\n   - Can you start by sharing a little bit about your role and what brings you to this call?\\n   - Can you elaborate on what you mean by improving software experiences for your clients? What specific pain points are you trying to address?\\n   - Have you considered any other digital adoption platforms in the past?\\n   - Can I walk you through a demo of our platform to show you how it can address your specific needs?\\n   - Can you provide more information on your pricing model and what kind of ROI we can expect from implementing Whatfix?\\n# Decision_Making_Process_Questions\\n   - What is the typical process for evaluating and implementing a new digital adoption platform within Infosys?\\n   - Who else will be involved in the decision-making process for this purchase?\\n# Objection_Resolution_Pairs\\n   - ### Objection\\nconcerns about the steep learning curve\\n### Resolution\\nWhatfix is designed to be highly customizable and scalable to meet the needs of large enterprises like Infosys. Our platform can integrate with a wide range of systems and tools, and our support team is dedicated to ensuring a smooth implementation process.\\n   - ### Objection\\nlimited customization options\\n### Resolution\\nWhatfix provides a range of features that can help you improve user adoption, streamline software adoption processes, and enhance your clients' overall software experiences. Our platform is highly customizable to meet the specific needs of your business.\\n# Insights\\n   - Infosys is looking for a digital adoption platform that can help them improve their clients' software experiences and enhance their own digital transformation capabilities.\\n   - Whatfix's platform can provide personalized onboarding, contextual help, and analytics to help Infosys better understand user behavior.\\n   - Infosys has evaluated other digital adoption platforms in the past, including WalkMe, Pendo, and Userpilot, but has concerns about the steep learning curve and limited customization options.\\n# Improvements\\n   - The seller could have asked more questions about Infosys's current software adoption processes and pain points to better understand their needs.\\n   - The seller could have provided more specific examples of how Whatfix's platform has helped similar companies in the past.\\n   - The seller could have emphasized Whatfix's differentiators, such as advanced analytics and AI-powered guidance, to further differentiate themselves from competitors.\\n\"}, excluded_embed_metadata_keys=[], excluded_llm_metadata_keys=[], relationships={}, metadata_template='{key}: {value}', metadata_separator='\\n', text=\"Discovery Analysis Buyer Data Fields Description: class BuyerDataExtracted(BaseModel):\\n\\n\\tpain_points: List[str] # The pain points identified in the call.\\n\\tobjections: List[str] # The objections identified in the call.\\n\\ttime_lines: List[str] # The time lines identified in the call.\\n\\tsuccess_indicators: List[str] # The success indicators identified in the call.\\n\\tbudget_constraints: List[str] # The budget constraints identified in the call.\\n\\tcompetition: List[str] # The competitors identified in the call.\\n\\tdecision_committee: List[str] # The members of the decision committee identified in the call.\\n\\n# Pain_Points\\n   - low user engagement\\n   - inefficient use of technology investments\\n   - steep learning curve\\n   - limited customization options\\n# Objections\\n   - concerns about the steep learning curve\\n   - limited customization options\\n# Time_Lines\\n   - within the next 24 hours\\n# Success_Indicators\\n   - improve user adoption rates\\n   - reduce support requests\\n   - amplify human potential and create the next opportunity for people, businesses, and society\\n# Budget_Constraints\\n# Competition\\n   - WalkMe\\n   - Pendo\\n   - Userpilot\\n# Decision_Committee\\n   - Ramesh, a Digital Transformation Consultant at Infosys\\n\\nDiscovery Analysis Seller Data Fields Description: class SellerDataExtracted(BaseModel):\\n\\n\\tdiscovery_questions: List[str] # The discovery questions asked by the seller.\\n\\tdecision_making_process_questions: List[str] # The decision making process questions asked by the seller.\\n\\tobjection_resolution_pairs: List[{\\n\\t\\tobjection: str # The objection raised by the buyer.\\n\\t\\tresolution: str # The resolution provided by the seller.\\n\\t}] # The objection resolution pairs identified in the call.\\n\\tinsights: List[str] # The insights identified in the call.\\n\\timprovements: List[str] # The areas of improvement identified in the call.\\n\\n# Discovery_Questions\\n   - Can you start by sharing a little bit about your role and what brings you to this call?\\n   - Can you elaborate on what you mean by improving software experiences for your clients? What specific pain points are you trying to address?\\n   - Have you considered any other digital adoption platforms in the past?\\n   - Can I walk you through a demo of our platform to show you how it can address your specific needs?\\n   - Can you provide more information on your pricing model and what kind of ROI we can expect from implementing Whatfix?\\n# Decision_Making_Process_Questions\\n   - What is the typical process for evaluating and implementing a new digital adoption platform within Infosys?\\n   - Who else will be involved in the decision-making process for this purchase?\\n# Objection_Resolution_Pairs\\n   - ### Objection\\nconcerns about the steep learning curve\\n### Resolution\\nWhatfix is designed to be highly customizable and scalable to meet the needs of large enterprises like Infosys. Our platform can integrate with a wide range of systems and tools, and our support team is dedicated to ensuring a smooth implementation process.\\n   - ### Objection\\nlimited customization options\\n### Resolution\\nWhatfix provides a range of features that can help you improve user adoption, streamline software adoption processes, and enhance your clients' overall software experiences. Our platform is highly customizable to meet the specific needs of your business.\\n# Insights\\n   - Infosys is looking for a digital adoption platform that can help them improve their clients' software experiences and enhance their own digital transformation capabilities.\\n   - Whatfix's platform can provide personalized onboarding, contextual help, and analytics to help Infosys better understand user behavior.\\n   - Infosys has evaluated other digital adoption platforms in the past, including WalkMe, Pendo, and Userpilot, but has concerns about the steep learning curve and limited customization options.\\n# Improvements\\n   - The seller could have asked more questions about Infosys's current software adoption processes and pain points to better understand their needs.\\n   - The seller could have provided more specific examples of how Whatfix's platform has helped similar companies in the past.\\n   - The seller could have emphasized Whatfix's differentiators, such as advanced analytics and AI-powered guidance, to further differentiate themselves from competitors.\", mimetype='text/plain', start_char_idx=None, end_char_idx=None, metadata_seperator='\\n', text_template='{metadata_str}\\n\\n{content}'), score=0.6714715480800514),\n",
       " NodeWithScore(node=TextNode(id_='a7f72cfa-7b54-48d5-9c07-22d81e9a0267', embedding=None, metadata={'seller': 'Whatfix', 'buyer': 'Schneider electric', 'call_type': 'discovery', 'company_size': 'Enterprise', 'industry': 'Industrial Technology', 'description': 'Schneider Electric is a global industrial technology leader bringing world-leading expertise in electrification, automation and digitization to its customers', 'data_json': \"Discovery Analysis Buyer Data Fields Description: class BuyerDataExtracted(BaseModel):\\n\\n\\tpain_points: List[str] # The pain points identified in the call.\\n\\tobjections: List[str] # The objections identified in the call.\\n\\ttime_lines: List[str] # The time lines identified in the call.\\n\\tsuccess_indicators: List[str] # The success indicators identified in the call.\\n\\tbudget_constraints: List[str] # The budget constraints identified in the call.\\n\\tcompetition: List[str] # The competitors identified in the call.\\n\\tdecision_committee: List[str] # The members of the decision committee identified in the call.\\n\\n# Pain_Points\\n   - customers having trouble navigating software\\n   - high churn rate\\n   - struggling to reduce carbon footprint\\n   - meeting sustainability goals\\n# Objections\\n   - pricing model concerns\\n   - customization and implementation process\\n# Time_Lines\\n# Success_Indicators\\n# Budget_Constraints\\n   - large-scale enterprise budget\\n# Competition\\n# Decision_Committee\\n   - John, the Head of Digital Transformation at Schneider Electric\\n\\nDiscovery Analysis Seller Data Fields Description: class SellerDataExtracted(BaseModel):\\n\\n\\tdiscovery_questions: List[str] # The discovery questions asked by the seller.\\n\\tdecision_making_process_questions: List[str] # The decision making process questions asked by the seller.\\n\\tobjection_resolution_pairs: List[{\\n\\t\\tobjection: str # The objection raised by the buyer.\\n\\t\\tresolution: str # The resolution provided by the seller.\\n\\t}] # The objection resolution pairs identified in the call.\\n\\tinsights: List[str] # The insights identified in the call.\\n\\timprovements: List[str] # The areas of improvement identified in the call.\\n\\n# Discovery_Questions\\n   - Can you start by telling me a little bit about your role and what brings you to this call?\\n   - Can you tell me more about what you mean by improving customer experience and increasing energy efficiency? What specific pain points are you trying to address?\\n# Decision_Making_Process_Questions\\n# Objection_Resolution_Pairs\\n   - ### Objection\\npricing model concerns\\n### Resolution\\nOur pricing model is based on the number of users and the level of customization you need. We have a tiered pricing structure, with discounts for larger enterprises. We also offer a free trial and a pilot program to help you test our platform and see the ROI for yourself.\\n   - ### Objection\\ncustomization and implementation process\\n### Resolution\\nWe'll provide you with a customized proposal outlining the scope of work, timeline, and pricing. You'll have a dedicated customer success manager to ensure a smooth implementation and to provide ongoing support.\\n# Insights\\n   - Improving customer experience and increasing energy efficiency are key goals for Schneider Electric\\n   - Schneider Electric is struggling with high churn rates and reducing carbon footprint\\n   - Schneider Electric is interested in exploring digital adoption platforms to achieve their goals\\n# Improvements\\n   - Provide more clarity on pricing and customization options\\n   - Offer a more personalized demo to address specific pain points\\n   - Emphasize the ROI and benefits of implementing Whatfix's digital adoption platform\\n\"}, excluded_embed_metadata_keys=[], excluded_llm_metadata_keys=[], relationships={}, metadata_template='{key}: {value}', metadata_separator='\\n', text=\"Discovery Analysis Buyer Data Fields Description: class BuyerDataExtracted(BaseModel):\\n\\n\\tpain_points: List[str] # The pain points identified in the call.\\n\\tobjections: List[str] # The objections identified in the call.\\n\\ttime_lines: List[str] # The time lines identified in the call.\\n\\tsuccess_indicators: List[str] # The success indicators identified in the call.\\n\\tbudget_constraints: List[str] # The budget constraints identified in the call.\\n\\tcompetition: List[str] # The competitors identified in the call.\\n\\tdecision_committee: List[str] # The members of the decision committee identified in the call.\\n\\n# Pain_Points\\n   - customers having trouble navigating software\\n   - high churn rate\\n   - struggling to reduce carbon footprint\\n   - meeting sustainability goals\\n# Objections\\n   - pricing model concerns\\n   - customization and implementation process\\n# Time_Lines\\n# Success_Indicators\\n# Budget_Constraints\\n   - large-scale enterprise budget\\n# Competition\\n# Decision_Committee\\n   - John, the Head of Digital Transformation at Schneider Electric\\n\\nDiscovery Analysis Seller Data Fields Description: class SellerDataExtracted(BaseModel):\\n\\n\\tdiscovery_questions: List[str] # The discovery questions asked by the seller.\\n\\tdecision_making_process_questions: List[str] # The decision making process questions asked by the seller.\\n\\tobjection_resolution_pairs: List[{\\n\\t\\tobjection: str # The objection raised by the buyer.\\n\\t\\tresolution: str # The resolution provided by the seller.\\n\\t}] # The objection resolution pairs identified in the call.\\n\\tinsights: List[str] # The insights identified in the call.\\n\\timprovements: List[str] # The areas of improvement identified in the call.\\n\\n# Discovery_Questions\\n   - Can you start by telling me a little bit about your role and what brings you to this call?\\n   - Can you tell me more about what you mean by improving customer experience and increasing energy efficiency? What specific pain points are you trying to address?\\n# Decision_Making_Process_Questions\\n# Objection_Resolution_Pairs\\n   - ### Objection\\npricing model concerns\\n### Resolution\\nOur pricing model is based on the number of users and the level of customization you need. We have a tiered pricing structure, with discounts for larger enterprises. We also offer a free trial and a pilot program to help you test our platform and see the ROI for yourself.\\n   - ### Objection\\ncustomization and implementation process\\n### Resolution\\nWe'll provide you with a customized proposal outlining the scope of work, timeline, and pricing. You'll have a dedicated customer success manager to ensure a smooth implementation and to provide ongoing support.\\n# Insights\\n   - Improving customer experience and increasing energy efficiency are key goals for Schneider Electric\\n   - Schneider Electric is struggling with high churn rates and reducing carbon footprint\\n   - Schneider Electric is interested in exploring digital adoption platforms to achieve their goals\\n# Improvements\\n   - Provide more clarity on pricing and customization options\\n   - Offer a more personalized demo to address specific pain points\\n   - Emphasize the ROI and benefits of implementing Whatfix's digital adoption platform\", mimetype='text/plain', start_char_idx=None, end_char_idx=None, metadata_seperator='\\n', text_template='{metadata_str}\\n\\n{content}'), score=0.6632374398395307),\n",
       " NodeWithScore(node=TextNode(id_='8e8b99c9-e901-443e-ae80-44bbe70d0850', embedding=None, metadata={'seller': 'Whatfix', 'buyer': 'ICICI bank', 'call_type': 'discovery', 'company_size': 'Enterprise', 'industry': 'Banking and Financial Services', 'description': 'ICICI Bank is an Indian multinational bank and financial services company headquartered in Mumbai with a registered office in Vadodara.', 'data_json': \"Discovery Analysis Buyer Data Fields Description: class BuyerDataExtracted(BaseModel):\\n\\n\\tpain_points: List[str] # The pain points identified in the call.\\n\\tobjections: List[str] # The objections identified in the call.\\n\\ttime_lines: List[str] # The time lines identified in the call.\\n\\tsuccess_indicators: List[str] # The success indicators identified in the call.\\n\\tbudget_constraints: List[str] # The budget constraints identified in the call.\\n\\tcompetition: List[str] # The competitors identified in the call.\\n\\tdecision_committee: List[str] # The members of the decision committee identified in the call.\\n\\n# Pain_Points\\n   - adapting to changing customer behavior and preferences\\n   - risk and compliance management\\n   - low user adoption rates\\n   - ensuring employees are effectively using digital banking platforms and tools\\n# Objections\\n   - pricing model\\n   - implementation costs\\n# Time_Lines\\n   - implementation timelines\\n# Success_Indicators\\n   - measure the effectiveness of digital banking initiatives\\n   - identify opportunities for improvement\\n   - optimize the user experience and improve engagement\\n# Budget_Constraints\\n   - $15,500.00 per month\\n# Competition\\n# Decision_Committee\\n   - other stakeholders involved in the decision-making process\\n\\nDiscovery Analysis Seller Data Fields Description: class SellerDataExtracted(BaseModel):\\n\\n\\tdiscovery_questions: List[str] # The discovery questions asked by the seller.\\n\\tdecision_making_process_questions: List[str] # The decision making process questions asked by the seller.\\n\\tobjection_resolution_pairs: List[{\\n\\t\\tobjection: str # The objection raised by the buyer.\\n\\t\\tresolution: str # The resolution provided by the seller.\\n\\t}] # The objection resolution pairs identified in the call.\\n\\tinsights: List[str] # The insights identified in the call.\\n\\timprovements: List[str] # The areas of improvement identified in the call.\\n\\n# Discovery_Questions\\n   - Can you tell me a little bit about your current digital banking initiatives and what you're hoping to achieve?\\n   - Can you tell me more about your current approach to employee training and onboarding for your digital banking platforms? How do you currently support your employees in terms of guidance and performance?\\n   - What are the timelines for implementation?\\n# Decision_Making_Process_Questions\\n   - Who else is involved in the decision-making process for this type of solution?\\n   - What are the timelines for implementation?\\n# Objection_Resolution_Pairs\\n   - ### Objection\\npricing model\\n### Resolution\\nWhatfix pricing is based on two components: a flat per-application fee, plus user license fees. We also offer a free trial and premium subscription plans starting at $15,500.00 per month.\\n   - ### Objection\\nimplementation costs\\n### Resolution\\nWe can discuss the implementation timelines and process in more detail.\\n# Insights\\n   - ICICI Bank is facing challenges in adapting to changing customer behavior and preferences\\n   - Risk and compliance management is a concern for ICICI Bank\\n   - Low user adoption rates of digital banking platforms and tools are a challenge for ICICI Bank\\n   - ICICI Bank wants to measure the effectiveness of their digital banking initiatives and identify opportunities for improvement\\n   - ICICI Bank wants to optimize the user experience and improve engagement\\n# Improvements\\n   - The seller could have asked more specific questions about the current digital banking initiatives and their goals\\n   - The seller could have provided more information about the implementation process and timelines\\n   - The seller could have addressed the pricing model objection more effectively\\n\"}, excluded_embed_metadata_keys=[], excluded_llm_metadata_keys=[], relationships={}, metadata_template='{key}: {value}', metadata_separator='\\n', text=\"Discovery Analysis Buyer Data Fields Description: class BuyerDataExtracted(BaseModel):\\n\\n\\tpain_points: List[str] # The pain points identified in the call.\\n\\tobjections: List[str] # The objections identified in the call.\\n\\ttime_lines: List[str] # The time lines identified in the call.\\n\\tsuccess_indicators: List[str] # The success indicators identified in the call.\\n\\tbudget_constraints: List[str] # The budget constraints identified in the call.\\n\\tcompetition: List[str] # The competitors identified in the call.\\n\\tdecision_committee: List[str] # The members of the decision committee identified in the call.\\n\\n# Pain_Points\\n   - adapting to changing customer behavior and preferences\\n   - risk and compliance management\\n   - low user adoption rates\\n   - ensuring employees are effectively using digital banking platforms and tools\\n# Objections\\n   - pricing model\\n   - implementation costs\\n# Time_Lines\\n   - implementation timelines\\n# Success_Indicators\\n   - measure the effectiveness of digital banking initiatives\\n   - identify opportunities for improvement\\n   - optimize the user experience and improve engagement\\n# Budget_Constraints\\n   - $15,500.00 per month\\n# Competition\\n# Decision_Committee\\n   - other stakeholders involved in the decision-making process\\n\\nDiscovery Analysis Seller Data Fields Description: class SellerDataExtracted(BaseModel):\\n\\n\\tdiscovery_questions: List[str] # The discovery questions asked by the seller.\\n\\tdecision_making_process_questions: List[str] # The decision making process questions asked by the seller.\\n\\tobjection_resolution_pairs: List[{\\n\\t\\tobjection: str # The objection raised by the buyer.\\n\\t\\tresolution: str # The resolution provided by the seller.\\n\\t}] # The objection resolution pairs identified in the call.\\n\\tinsights: List[str] # The insights identified in the call.\\n\\timprovements: List[str] # The areas of improvement identified in the call.\\n\\n# Discovery_Questions\\n   - Can you tell me a little bit about your current digital banking initiatives and what you're hoping to achieve?\\n   - Can you tell me more about your current approach to employee training and onboarding for your digital banking platforms? How do you currently support your employees in terms of guidance and performance?\\n   - What are the timelines for implementation?\\n# Decision_Making_Process_Questions\\n   - Who else is involved in the decision-making process for this type of solution?\\n   - What are the timelines for implementation?\\n# Objection_Resolution_Pairs\\n   - ### Objection\\npricing model\\n### Resolution\\nWhatfix pricing is based on two components: a flat per-application fee, plus user license fees. We also offer a free trial and premium subscription plans starting at $15,500.00 per month.\\n   - ### Objection\\nimplementation costs\\n### Resolution\\nWe can discuss the implementation timelines and process in more detail.\\n# Insights\\n   - ICICI Bank is facing challenges in adapting to changing customer behavior and preferences\\n   - Risk and compliance management is a concern for ICICI Bank\\n   - Low user adoption rates of digital banking platforms and tools are a challenge for ICICI Bank\\n   - ICICI Bank wants to measure the effectiveness of their digital banking initiatives and identify opportunities for improvement\\n   - ICICI Bank wants to optimize the user experience and improve engagement\\n# Improvements\\n   - The seller could have asked more specific questions about the current digital banking initiatives and their goals\\n   - The seller could have provided more information about the implementation process and timelines\\n   - The seller could have addressed the pricing model objection more effectively\", mimetype='text/plain', start_char_idx=None, end_char_idx=None, metadata_seperator='\\n', text_template='{metadata_str}\\n\\n{content}'), score=0.6552961232374803)]"
      ]
     },
     "execution_count": 13,
     "metadata": {},
     "output_type": "execute_result"
    }
   ],
   "source": [
    "metadata = {\n",
    "    'call_type': {\n",
    "        'value': 'discovery',\n",
    "        'operator': FilterOperator.EQ\n",
    "    },\n",
    "    'seller': {\n",
    "        'value': 'Whatfix',\n",
    "        'operator': FilterOperator.EQ\n",
    "    },\n",
    "    'buyer': {\n",
    "        'value': 'Shell',\n",
    "        'operator': FilterOperator.NE\n",
    "    },\n",
    "    'company_size': {\n",
    "        'value': 'Enterprise',\n",
    "        'operator': FilterOperator.EQ\n",
    "    },\n",
    "}\n",
    "\n",
    "filters = get_filters(metadata)\n",
    "q = \"What all pieces of pending information do i need to uncover from the buyer at the Discovery stage?\"\n",
    "sq1 = \"What all pieces of information about the buyer are uncovered in discovery calls of successful deals?\"\n",
    "# qe = index.as_query_engine(filters=filters, similarity_top_k=SIMILARITY_TOP_K)\n",
    "\n",
    "\n",
    "# display_prompt_dict(qe.get_prompts())\n",
    "# # sq1_response = qe.query(sq1)\n",
    "docs = index.as_retriever(filters=filters, similarity_top_k=SIMILARITY_TOP_K).retrieve(sq1)\n",
    "docs\n"
   ]
  },
  {
   "cell_type": "code",
   "execution_count": 28,
   "metadata": {},
   "outputs": [
    {
     "name": "stdout",
     "output_type": "stream",
     "text": [
      "The pieces of information about the buyer that are uncovered in discovery calls of successful deals include pain points such as customers having trouble navigating software, high churn rates, struggling to reduce carbon footprint, and meeting sustainability goals.\n",
      " Additionally, objections related to pricing model concerns and customization and implementation processes are addressed.\n",
      " The success indicators identified are improving customer experience, increasing energy efficiency, improving user adoption rates, reducing support requests, and optimizing the user experience.\n",
      " Budget constraints are also discussed, with a focus on large-scale enterprise budgets.\n",
      " The decision committee members involved in the decision-making process are identified, such as the Head of Digital Transformation at Schneider Electric and a Digital Transformation Consultant at Infosys.\n",
      "\n"
     ]
    }
   ],
   "source": [
    "sq1_response = qe.query(sq1)\n",
    "print(\".\\n\".join(str(sq1_response).split('.')))"
   ]
  },
  {
   "cell_type": "code",
   "execution_count": 14,
   "metadata": {},
   "outputs": [
    {
     "name": "stdout",
     "output_type": "stream",
     "text": [
      "Discovery Analysis Buyer Data Fields Description: class BuyerDataExtracted(BaseModel):\n",
      "\n",
      "\tpain_points: List[str] # The pain points identified in the call.\n",
      "\tobjections: List[str] # The objections identified in the call.\n",
      "\ttime_lines: List[str] # The time lines identified in the call.\n",
      "\tsuccess_indicators: List[str] # The success indicators identified in the call.\n",
      "\tbudget_constraints: List[str] # The budget constraints identified in the call.\n",
      "\tcompetition: List[str] # The competitors identified in the call.\n",
      "\tdecision_committee: List[str] # The members of the decision committee identified in the call.\n",
      "\n",
      "# Pain_Points\n",
      "   - low user engagement\n",
      "   - inefficient use of technology investments\n",
      "   - steep learning curve\n",
      "   - limited customization options\n",
      "# Objections\n",
      "   - concerns about the steep learning curve\n",
      "   - limited customization options\n",
      "# Time_Lines\n",
      "   - within the next 24 hours\n",
      "# Success_Indicators\n",
      "   - improve user adoption rates\n",
      "   - reduce support requests\n",
      "   - amplify human potential and create the next opportunity for people, businesses, and society\n",
      "# Budget_Constraints\n",
      "# Competition\n",
      "   - WalkMe\n",
      "   - Pendo\n",
      "   - Userpilot\n",
      "# Decision_Committee\n",
      "   - Ramesh, a Digital Transformation Consultant at Infosys\n",
      "\n",
      "Discovery Analysis Seller Data Fields Description: class SellerDataExtracted(BaseModel):\n",
      "\n",
      "\tdiscovery_questions: List[str] # The discovery questions asked by the seller.\n",
      "\tdecision_making_process_questions: List[str] # The decision making process questions asked by the seller.\n",
      "\tobjection_resolution_pairs: List[{\n",
      "\t\tobjection: str # The objection raised by the buyer.\n",
      "\t\tresolution: str # The resolution provided by the seller.\n",
      "\t}] # The objection resolution pairs identified in the call.\n",
      "\tinsights: List[str] # The insights identified in the call.\n",
      "\timprovements: List[str] # The areas of improvement identified in the call.\n",
      "\n",
      "# Discovery_Questions\n",
      "   - Can you start by sharing a little bit about your role and what brings you to this call?\n",
      "   - Can you elaborate on what you mean by improving software experiences for your clients? What specific pain points are you trying to address?\n",
      "   - Have you considered any other digital adoption platforms in the past?\n",
      "   - Can I walk you through a demo of our platform to show you how it can address your specific needs?\n",
      "   - Can you provide more information on your pricing model and what kind of ROI we can expect from implementing Whatfix?\n",
      "# Decision_Making_Process_Questions\n",
      "   - What is the typical process for evaluating and implementing a new digital adoption platform within Infosys?\n",
      "   - Who else will be involved in the decision-making process for this purchase?\n",
      "# Objection_Resolution_Pairs\n",
      "   - ### Objection\n",
      "concerns about the steep learning curve\n",
      "### Resolution\n",
      "Whatfix is designed to be highly customizable and scalable to meet the needs of large enterprises like Infosys. Our platform can integrate with a wide range of systems and tools, and our support team is dedicated to ensuring a smooth implementation process.\n",
      "   - ### Objection\n",
      "limited customization options\n",
      "### Resolution\n",
      "Whatfix provides a range of features that can help you improve user adoption, streamline software adoption processes, and enhance your clients' overall software experiences. Our platform is highly customizable to meet the specific needs of your business.\n",
      "# Insights\n",
      "   - Infosys is looking for a digital adoption platform that can help them improve their clients' software experiences and enhance their own digital transformation capabilities.\n",
      "   - Whatfix's platform can provide personalized onboarding, contextual help, and analytics to help Infosys better understand user behavior.\n",
      "   - Infosys has evaluated other digital adoption platforms in the past, including WalkMe, Pendo, and Userpilot, but has concerns about the steep learning curve and limited customization options.\n",
      "# Improvements\n",
      "   - The seller could have asked more questions about Infosys's current software adoption processes and pain points to better understand their needs.\n",
      "   - The seller could have provided more specific examples of how Whatfix's platform has helped similar companies in the past.\n",
      "   - The seller could have emphasized Whatfix's differentiators, such as advanced analytics and AI-powered guidance, to further differentiate themselves from competitors.\n"
     ]
    }
   ],
   "source": [
    "print(docs[0].text)"
   ]
  },
  {
   "cell_type": "code",
   "execution_count": null,
   "metadata": {},
   "outputs": [],
   "source": []
  }
 ],
 "metadata": {
  "kernelspec": {
   "display_name": "ML",
   "language": "python",
   "name": "python3"
  },
  "language_info": {
   "codemirror_mode": {
    "name": "ipython",
    "version": 3
   },
   "file_extension": ".py",
   "mimetype": "text/x-python",
   "name": "python",
   "nbconvert_exporter": "python",
   "pygments_lexer": "ipython3",
   "version": "3.10.14"
  }
 },
 "nbformat": 4,
 "nbformat_minor": 2
}

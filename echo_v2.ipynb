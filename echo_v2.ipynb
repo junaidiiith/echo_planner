{
 "cells": [
  {
   "cell_type": "code",
   "execution_count": 7,
   "metadata": {},
   "outputs": [],
   "source": [
    "import nest_asyncio\n",
    "from crewai import LLM\n",
    "from dotenv import load_dotenv\n",
    "import os\n",
    "import asyncio\n",
    "from echo.constants import (\n",
    "    DISCOVERY,\n",
    "    DEMO,\n",
    "    PRICING,\n",
    "    NEGOTIATION\n",
    ")\n",
    "\n",
    "\n",
    "nest_asyncio.apply()\n",
    "\n",
    "load_dotenv()\n",
    "\n",
    "llm = LLM(\n",
    "    model=os.getenv(\"FIREWORKS_MODEL_NAME\"),\n",
    "    base_url=\"https://api.fireworks.ai/inference/v1\",\n",
    "    api_key=os.getenv(\"FIREWORKS_API_KEY\"),\n",
    ")"
   ]
  },
  {
   "cell_type": "code",
   "execution_count": 8,
   "metadata": {},
   "outputs": [
    {
     "name": "stdout",
     "output_type": "stream",
     "text": [
      "Creating seller for Whatfix\n",
      "Adding Seller: Whatfix Data\n",
      "Node already exists in index: {'seller': 'Whatfix'}\n"
     ]
    }
   ],
   "source": [
    "from echo.runner import create_or_get_seller\n",
    "\n",
    "inputs = {\n",
    "    \"seller\": \"Whatfix\",\n",
    "    \"num_buyers\": 10,\n",
    "}\n",
    "\n",
    "seller = asyncio.run(create_or_get_seller(inputs))"
   ]
  },
  {
   "cell_type": "code",
   "execution_count": 9,
   "metadata": {},
   "outputs": [],
   "source": [
    "from echo.runner import make_call\n",
    "\n",
    "\n",
    "buyer_inputs = {\n",
    "    **inputs,\n",
    "    **seller,\n",
    "    'n_competitors': 10,\n",
    "}\n",
    "\n",
    "clients = seller['seller_clients']['clients']"
   ]
  },
  {
   "cell_type": "code",
   "execution_count": 10,
   "metadata": {},
   "outputs": [
    {
     "data": {
      "text/plain": [
       "['Sophos', 'Sentry Insurance', 'Marketboomer', 'Cardinal Health', 'LinkedIn']"
      ]
     },
     "execution_count": 10,
     "metadata": {},
     "output_type": "execute_result"
    }
   ],
   "source": [
    "seller['seller_clients']['clients']"
   ]
  },
  {
   "cell_type": "code",
   "execution_count": 11,
   "metadata": {},
   "outputs": [
    {
     "name": "stdout",
     "output_type": "stream",
     "text": [
      "Making discovery call for ['Sophos', 'Sentry Insurance', 'Marketboomer', 'Cardinal Health', 'LinkedIn']\n",
      "Getting analysis Data\n",
      "Number of Clients:  5\n"
     ]
    },
    {
     "name": "stderr",
     "output_type": "stream",
     "text": [
      "Getting Data: 100%|██████████| 5/5 [00:00<00:00, 30.02it/s]"
     ]
    },
    {
     "name": "stdout",
     "output_type": "stream",
     "text": [
      "Getting Data for Sophos\n",
      "Adding Analysis Data to Vector Store\n",
      "Node already exists in index: {'seller': 'Whatfix', 'buyer': 'Sophos', 'call_type': 'discovery', 'company_size': 'Enterprise', 'industry': 'Cybersecurity', 'description': 'Sophos is a British security software and hardware company that develops and markets managed security services and cybersecurity software and hardware.'}\n",
      "Getting Data for Sentry Insurance\n",
      "Adding Analysis Data to Vector Store\n",
      "Node already exists in index: {'seller': 'Whatfix', 'buyer': 'Sentry Insurance', 'call_type': 'discovery', 'company_size': 'Mid-Market (1,001-5,000 employees)', 'industry': 'Insurance', 'description': 'Sentry is a mutual insurance company specializing in business insurance.'}\n",
      "Getting Data for Marketboomer\n",
      "Adding Analysis Data to Vector Store\n",
      "Node already exists in index: {'seller': 'Whatfix', 'buyer': 'Marketboomer', 'call_type': 'discovery', 'company_size': 'SMB', 'industry': 'Hospitality', 'description': 'Marketboomer provides an online procurement system and related services for hotels and their preferred suppliers to buy and sell in the most effective way.'}\n",
      "Getting Data for Cardinal Health\n",
      "Adding Analysis Data to Vector Store\n",
      "Node already exists in index: {'seller': 'Whatfix', 'buyer': 'Cardinal Health', 'call_type': 'discovery', 'company_size': 'Enterprise', 'industry': 'Healthcare', 'description': 'Cardinal Health is a global healthcare services and products company, providing customized solutions for hospitals, healthcare systems, pharmacies, and other healthcare providers.'}\n",
      "Getting Data for LinkedIn\n",
      "Adding Analysis Data to Vector Store\n",
      "Node already exists in index: {'seller': 'Whatfix', 'buyer': 'LinkedIn', 'call_type': 'discovery', 'company_size': 'More than 18,500 employees', 'industry': 'Information Technology and Services', 'description': 'LinkedIn is a business and employment-focused online professional platform that works through websites and mobile apps.'}\n"
     ]
    },
    {
     "name": "stderr",
     "output_type": "stream",
     "text": [
      "\n"
     ]
    }
   ],
   "source": [
    "discovery_calls_data = asyncio.run(make_call(DISCOVERY, seller['seller_clients']['clients'], buyer_inputs))"
   ]
  },
  {
   "cell_type": "code",
   "execution_count": 13,
   "metadata": {},
   "outputs": [
    {
     "name": "stdout",
     "output_type": "stream",
     "text": [
      "Making demo call for ['Sophos', 'Sentry Insurance', 'Marketboomer', 'Cardinal Health', 'LinkedIn']\n",
      "Getting analysis Data\n",
      "Number of Clients:  5\n"
     ]
    },
    {
     "name": "stderr",
     "output_type": "stream",
     "text": [
      "Getting Data: 100%|██████████| 5/5 [00:00<00:00, 35.84it/s]"
     ]
    },
    {
     "name": "stdout",
     "output_type": "stream",
     "text": [
      "Getting Data for Sophos\n",
      "Adding Analysis Data to Vector Store\n",
      "Node already exists in index: {'seller': 'Whatfix', 'buyer': 'Sophos', 'call_type': 'demo', 'company_size': 'Enterprise', 'industry': 'Cybersecurity', 'description': 'Sophos is a British security software and hardware company that develops and markets managed security services and cybersecurity software and hardware.'}\n",
      "Getting Data for Sentry Insurance\n",
      "Adding Analysis Data to Vector Store\n",
      "Node already exists in index: {'seller': 'Whatfix', 'buyer': 'Sentry Insurance', 'call_type': 'demo', 'company_size': 'Mid-Market (1,001-5,000 employees)', 'industry': 'Insurance', 'description': 'Sentry is a mutual insurance company specializing in business insurance.'}\n",
      "Getting Data for Marketboomer\n",
      "Adding Analysis Data to Vector Store\n",
      "Node already exists in index: {'seller': 'Whatfix', 'buyer': 'Marketboomer', 'call_type': 'demo', 'company_size': 'SMB', 'industry': 'Hospitality', 'description': 'Marketboomer provides an online procurement system and related services for hotels and their preferred suppliers to buy and sell in the most effective way.'}\n",
      "Getting Data for Cardinal Health\n",
      "Adding Analysis Data to Vector Store\n",
      "Node already exists in index: {'seller': 'Whatfix', 'buyer': 'Cardinal Health', 'call_type': 'demo', 'company_size': 'Enterprise', 'industry': 'Healthcare', 'description': 'Cardinal Health is a global healthcare services and products company, providing customized solutions for hospitals, healthcare systems, pharmacies, and other healthcare providers.'}\n",
      "Getting Data for LinkedIn\n",
      "Adding Analysis Data to Vector Store\n",
      "Node already exists in index: {'seller': 'Whatfix', 'buyer': 'LinkedIn', 'call_type': 'demo', 'company_size': 'More than 18,500 employees', 'industry': 'Information Technology and Services', 'description': 'LinkedIn is a business and employment-focused online professional platform that works through websites and mobile apps.'}\n"
     ]
    },
    {
     "name": "stderr",
     "output_type": "stream",
     "text": [
      "\n"
     ]
    }
   ],
   "source": [
    "demo_calls_data = asyncio.run(make_call(DEMO, clients, buyer_inputs))"
   ]
  },
  {
   "cell_type": "code",
   "execution_count": 14,
   "metadata": {},
   "outputs": [
    {
     "name": "stdout",
     "output_type": "stream",
     "text": [
      "Making pricing call for ['Sophos', 'Sentry Insurance', 'Marketboomer', 'Cardinal Health', 'LinkedIn']\n",
      "Getting analysis Data\n",
      "Number of Clients:  5\n"
     ]
    },
    {
     "name": "stderr",
     "output_type": "stream",
     "text": [
      "Getting Data:   0%|          | 0/5 [00:00<?, ?it/s]2025-02-11 17:26:59,357 - 8645349184 - __init__.py-__init__:537 - WARNING: Overriding of current TracerProvider is not allowed\n"
     ]
    },
    {
     "name": "stdout",
     "output_type": "stream",
     "text": [
      "Getting Data for Sophos\n",
      "Data exists but pricing transcript not found\n",
      "Adding pricing Transcript Data to Vector Store\n"
     ]
    },
    {
     "name": "stderr",
     "output_type": "stream",
     "text": [
      "2025-02-11 17:27:04,114 - 8645349184 - __init__.py-__init__:537 - WARNING: Overriding of current TracerProvider is not allowed\n"
     ]
    },
    {
     "name": "stdout",
     "output_type": "stream",
     "text": [
      "Adding Analysis Data to Vector Store\n"
     ]
    },
    {
     "name": "stderr",
     "output_type": "stream",
     "text": [
      "Getting Data:  20%|██        | 1/5 [00:07<00:29,  7.27s/it]2025-02-11 17:27:06,611 - 8645349184 - __init__.py-__init__:537 - WARNING: Overriding of current TracerProvider is not allowed\n"
     ]
    },
    {
     "name": "stdout",
     "output_type": "stream",
     "text": [
      "Getting Data for Sentry Insurance\n",
      "Data exists but pricing transcript not found\n",
      "Adding pricing Transcript Data to Vector Store\n"
     ]
    },
    {
     "name": "stderr",
     "output_type": "stream",
     "text": [
      "2025-02-11 17:27:11,508 - 8645349184 - __init__.py-__init__:537 - WARNING: Overriding of current TracerProvider is not allowed\n"
     ]
    },
    {
     "name": "stdout",
     "output_type": "stream",
     "text": [
      "Adding Analysis Data to Vector Store\n"
     ]
    },
    {
     "name": "stderr",
     "output_type": "stream",
     "text": [
      "Getting Data:  40%|████      | 2/5 [00:16<00:25,  8.57s/it]2025-02-11 17:27:16,086 - 8645349184 - __init__.py-__init__:537 - WARNING: Overriding of current TracerProvider is not allowed\n"
     ]
    },
    {
     "name": "stdout",
     "output_type": "stream",
     "text": [
      "Getting Data for Marketboomer\n",
      "Data exists but pricing transcript not found\n",
      "Adding pricing Transcript Data to Vector Store\n"
     ]
    },
    {
     "name": "stderr",
     "output_type": "stream",
     "text": [
      "2025-02-11 17:27:20,184 - 8645349184 - __init__.py-__init__:537 - WARNING: Overriding of current TracerProvider is not allowed\n"
     ]
    },
    {
     "name": "stdout",
     "output_type": "stream",
     "text": [
      "Adding Analysis Data to Vector Store\n"
     ]
    },
    {
     "name": "stderr",
     "output_type": "stream",
     "text": [
      "Getting Data:  60%|██████    | 3/5 [00:23<00:15,  7.86s/it]2025-02-11 17:27:23,104 - 8645349184 - __init__.py-__init__:537 - WARNING: Overriding of current TracerProvider is not allowed\n"
     ]
    },
    {
     "name": "stdout",
     "output_type": "stream",
     "text": [
      "Getting Data for Cardinal Health\n",
      "Data exists but pricing transcript not found\n",
      "Adding pricing Transcript Data to Vector Store\n"
     ]
    },
    {
     "name": "stderr",
     "output_type": "stream",
     "text": [
      "2025-02-11 17:27:29,005 - 8645349184 - __init__.py-__init__:537 - WARNING: Overriding of current TracerProvider is not allowed\n"
     ]
    },
    {
     "name": "stdout",
     "output_type": "stream",
     "text": [
      "Adding Analysis Data to Vector Store\n"
     ]
    },
    {
     "name": "stderr",
     "output_type": "stream",
     "text": [
      "Getting Data:  80%|████████  | 4/5 [00:33<00:08,  8.42s/it]2025-02-11 17:27:32,396 - 8645349184 - __init__.py-__init__:537 - WARNING: Overriding of current TracerProvider is not allowed\n"
     ]
    },
    {
     "name": "stdout",
     "output_type": "stream",
     "text": [
      "Getting Data for LinkedIn\n",
      "Data exists but pricing transcript not found\n",
      "Adding pricing Transcript Data to Vector Store\n"
     ]
    },
    {
     "name": "stderr",
     "output_type": "stream",
     "text": [
      "2025-02-11 17:27:37,910 - 8645349184 - __init__.py-__init__:537 - WARNING: Overriding of current TracerProvider is not allowed\n"
     ]
    },
    {
     "name": "stdout",
     "output_type": "stream",
     "text": [
      "Adding Analysis Data to Vector Store\n"
     ]
    },
    {
     "name": "stderr",
     "output_type": "stream",
     "text": [
      "Getting Data: 100%|██████████| 5/5 [00:42<00:00,  8.43s/it]\n"
     ]
    }
   ],
   "source": [
    "pricing_call_data = asyncio.run(make_call(PRICING, clients, buyer_inputs))"
   ]
  },
  {
   "cell_type": "code",
   "execution_count": 15,
   "metadata": {},
   "outputs": [
    {
     "name": "stdout",
     "output_type": "stream",
     "text": [
      "Making negotiation call for ['Sophos', 'Sentry Insurance', 'Marketboomer', 'Cardinal Health', 'LinkedIn']\n",
      "Getting analysis Data\n",
      "Number of Clients:  5\n"
     ]
    },
    {
     "name": "stderr",
     "output_type": "stream",
     "text": [
      "Getting Data:   0%|          | 0/5 [00:00<?, ?it/s]2025-02-11 17:27:43,990 - 8645349184 - __init__.py-__init__:537 - WARNING: Overriding of current TracerProvider is not allowed\n"
     ]
    },
    {
     "name": "stdout",
     "output_type": "stream",
     "text": [
      "Getting Data for Sophos\n",
      "Data exists but pricing transcript not found\n",
      "Adding negotiation Transcript Data to Vector Store\n"
     ]
    },
    {
     "name": "stderr",
     "output_type": "stream",
     "text": [
      "2025-02-11 17:27:49,509 - 8645349184 - __init__.py-__init__:537 - WARNING: Overriding of current TracerProvider is not allowed\n"
     ]
    },
    {
     "name": "stdout",
     "output_type": "stream",
     "text": [
      "Adding Analysis Data to Vector Store\n"
     ]
    },
    {
     "name": "stderr",
     "output_type": "stream",
     "text": [
      "Getting Data:  20%|██        | 1/5 [00:09<00:37,  9.41s/it]2025-02-11 17:27:53,405 - 8645349184 - __init__.py-__init__:537 - WARNING: Overriding of current TracerProvider is not allowed\n"
     ]
    },
    {
     "name": "stdout",
     "output_type": "stream",
     "text": [
      "Getting Data for Sentry Insurance\n",
      "Data exists but pricing transcript not found\n",
      "Adding negotiation Transcript Data to Vector Store\n"
     ]
    },
    {
     "name": "stderr",
     "output_type": "stream",
     "text": [
      "2025-02-11 17:27:59,636 - 8645349184 - __init__.py-__init__:537 - WARNING: Overriding of current TracerProvider is not allowed\n"
     ]
    },
    {
     "name": "stdout",
     "output_type": "stream",
     "text": [
      "Adding Analysis Data to Vector Store\n"
     ]
    },
    {
     "name": "stderr",
     "output_type": "stream",
     "text": [
      "Getting Data:  40%|████      | 2/5 [00:19<00:30, 10.03s/it]2025-02-11 17:28:03,865 - 8645349184 - __init__.py-__init__:537 - WARNING: Overriding of current TracerProvider is not allowed\n"
     ]
    },
    {
     "name": "stdout",
     "output_type": "stream",
     "text": [
      "Getting Data for Marketboomer\n",
      "Data exists but pricing transcript not found\n",
      "Adding negotiation Transcript Data to Vector Store\n"
     ]
    },
    {
     "name": "stderr",
     "output_type": "stream",
     "text": [
      "2025-02-11 17:28:09,922 - 8645349184 - __init__.py-__init__:537 - WARNING: Overriding of current TracerProvider is not allowed\n"
     ]
    },
    {
     "name": "stdout",
     "output_type": "stream",
     "text": [
      "Adding Analysis Data to Vector Store\n"
     ]
    },
    {
     "name": "stderr",
     "output_type": "stream",
     "text": [
      "Getting Data:  60%|██████    | 3/5 [00:29<00:19,  9.99s/it]2025-02-11 17:28:13,793 - 8645349184 - __init__.py-__init__:537 - WARNING: Overriding of current TracerProvider is not allowed\n"
     ]
    },
    {
     "name": "stdout",
     "output_type": "stream",
     "text": [
      "Getting Data for Cardinal Health\n",
      "Data exists but pricing transcript not found\n",
      "Adding negotiation Transcript Data to Vector Store\n"
     ]
    },
    {
     "name": "stderr",
     "output_type": "stream",
     "text": [
      "2025-02-11 17:28:18,923 - 8645349184 - __init__.py-__init__:537 - WARNING: Overriding of current TracerProvider is not allowed\n"
     ]
    },
    {
     "name": "stdout",
     "output_type": "stream",
     "text": [
      "Adding Analysis Data to Vector Store\n"
     ]
    },
    {
     "name": "stderr",
     "output_type": "stream",
     "text": [
      "Getting Data:  80%|████████  | 4/5 [00:39<00:09,  9.69s/it]2025-02-11 17:28:23,040 - 8645349184 - __init__.py-__init__:537 - WARNING: Overriding of current TracerProvider is not allowed\n"
     ]
    },
    {
     "name": "stdout",
     "output_type": "stream",
     "text": [
      "Getting Data for LinkedIn\n",
      "Data exists but pricing transcript not found\n",
      "Adding negotiation Transcript Data to Vector Store\n"
     ]
    },
    {
     "name": "stderr",
     "output_type": "stream",
     "text": [
      "2025-02-11 17:28:27,819 - 8645349184 - __init__.py-__init__:537 - WARNING: Overriding of current TracerProvider is not allowed\n"
     ]
    },
    {
     "name": "stdout",
     "output_type": "stream",
     "text": [
      "Adding Analysis Data to Vector Store\n"
     ]
    },
    {
     "name": "stderr",
     "output_type": "stream",
     "text": [
      "Getting Data: 100%|██████████| 5/5 [00:47<00:00,  9.55s/it]\n"
     ]
    }
   ],
   "source": [
    "negotiation_call_data = asyncio.run(make_call(NEGOTIATION, clients, buyer_inputs))"
   ]
  },
  {
   "cell_type": "markdown",
   "metadata": {},
   "source": [
    "## Queries"
   ]
  },
  {
   "cell_type": "code",
   "execution_count": 8,
   "metadata": {},
   "outputs": [],
   "source": [
    "# len(index._storage_context.vector_store._collection.get()['metadatas'])"
   ]
  },
  {
   "cell_type": "code",
   "execution_count": 16,
   "metadata": {},
   "outputs": [],
   "source": [
    "from echo.queries import get_queries\n",
    "\n",
    "seller = \"Whatfix\"\n",
    "queries = get_queries(seller)"
   ]
  },
  {
   "cell_type": "code",
   "execution_count": 17,
   "metadata": {},
   "outputs": [
    {
     "name": "stdout",
     "output_type": "stream",
     "text": [
      "Total queries:  4\n"
     ]
    }
   ],
   "source": [
    "print(\"Total queries: \", len(queries))"
   ]
  },
  {
   "cell_type": "code",
   "execution_count": null,
   "metadata": {},
   "outputs": [],
   "source": [
    "from echo.query_executor import arun_queries\n",
    "from echo.query_executor import ResponseFormat\n",
    "from echo.query_executor import ContextExtractionMode\n",
    "import nest_asyncio\n",
    "import asyncio\n",
    "\n",
    "nest_asyncio.apply()\n",
    "\n",
    "\n",
    "inputs = {\"buyer\": \"Shell\", \"company_size\": \"Enterprise\"}\n",
    "\n",
    "responses = asyncio.run(\n",
    "    arun_queries(\n",
    "        queries,\n",
    "        inputs=inputs,\n",
    "        response_format=ResponseFormat.MARKDOWN,\n",
    "        context_extraction_mode=ContextExtractionMode.QUERY_ENGINE,\n",
    "    )\n",
    ")"
   ]
  },
  {
   "cell_type": "code",
   "execution_count": 4,
   "metadata": {},
   "outputs": [
    {
     "data": {
      "text/plain": [
       "{'response': \"# Call Preparation Document\\n## Discovery Call with Shell\\n### Overview\\nThe goal of this discovery call is to uncover the needs and pain points of Shell, a potential buyer, and understand how Whatfix can help them address their challenges.\\n\\n### Information Uncovered so far\\n#### Challenges and Pain Points\\n* Maximize technology investments and driving user adoption\\n* Balancing oil demand with climate goals\\n* Slow user adoption of new tools, impacting productivity and efficiency\\n* Integration with existing systems\\n* High degree of customization to meet unique requirements\\n* Concerns about cost and implementation timeline of a digital adoption platform\\n\\n#### Decision Committee Members\\n* IT\\n* Operations\\n* Business Leaders\\n* CEO Wael Sawan\\n* Mark (Shell icon)\\n* Shareholders\\n\\n### Missing Information to Uncover\\n#### From Historical Data\\n* Objections\\n* Time lines\\n* Success indicators\\n* Budget constraints\\n* Competition\\n\\n#### From Current Call\\n* None, as we have already uncovered the buyer's challenges, pain points, and decision committee members.\\n\\n### Next Steps\\nIn the upcoming calls, we should focus on uncovering the missing information mentioned above. Specifically, we should ask questions to understand:\\n* What are the buyer's objections to adopting a digital adoption platform?\\n* What are the key timelines for implementing a solution?\\n* What are the success indicators for a digital adoption platform?\\n* What are the budget constraints for this project?\\n* Who are the competitors, and how does the buyer perceive them?\\n\\nBy uncovering this information, we can better understand the buyer's needs and tailor our solution to address their challenges, increasing the chances of a successful deal.\",\n",
       " 'sub_queries_context': [{'query': 'What all pieces of information about the buyer are uncovered in discovery calls of successful deals?',\n",
       "   'context': 'Relevant Context:\\nThe pain points, objections, time lines, success indicators, budget constraints, competition, and decision committee members are all pieces of information about the buyer that are uncovered in discovery calls of successful deals.'},\n",
       "  {'query': 'What all piece of information have we learnt about the buyer from discovery till now?',\n",
       "   'context': 'Relevant Context:\\nThe buyer, Shell, is facing challenges in maximizing technology investments and driving user adoption. They are struggling to balance oil demand with climate goals and their users are not adopting new tools quickly enough, impacting productivity and efficiency. Shell is concerned about integration with existing systems, needs a high degree of customization to meet their unique requirements, and is also concerned about the cost and implementation timeline of a digital adoption platform. The decision committee involved in the call includes IT, operations, business leaders, the CEO Wael Sawan, Mark (Shell icon), and shareholders.'}]}"
      ]
     },
     "execution_count": 4,
     "metadata": {},
     "output_type": "execute_result"
    }
   ],
   "source": [
    "responses[\"Info To Cover\"]"
   ]
  },
  {
   "cell_type": "code",
   "execution_count": 1,
   "metadata": {},
   "outputs": [],
   "source": [
    "# from echo.query_executor import aget_query_response\n",
    "\n",
    "\n",
    "# response, sub_queries_context = await aget_query_response(\n",
    "#     query,\n",
    "#     inputs,\n",
    "#     response_format=ResponseFormat.MARKDOWN, context_extraction_mode=ContextExtractionMode.QUERY_ENGINE\n",
    "# )"
   ]
  },
  {
   "cell_type": "code",
   "execution_count": null,
   "metadata": {},
   "outputs": [],
   "source": [
    "from echo.step_templates.discovery import aget_research_data_for_client\n",
    "from echo.utils import get_llm\n",
    "import nest_asyncio\n",
    "import asyncio\n",
    "\n",
    "nest_asyncio.apply()\n",
    "\n",
    "\n",
    "\n",
    "data = asyncio.run(aget_research_data_for_client(inputs, llm=get_llm()))"
   ]
  }
 ],
 "metadata": {
  "kernelspec": {
   "display_name": "Echo",
   "language": "python",
   "name": "python3"
  },
  "language_info": {
   "codemirror_mode": {
    "name": "ipython",
    "version": 3
   },
   "file_extension": ".py",
   "mimetype": "text/x-python",
   "name": "python",
   "nbconvert_exporter": "python",
   "pygments_lexer": "ipython3",
   "version": "3.12.0"
  }
 },
 "nbformat": 4,
 "nbformat_minor": 2
}

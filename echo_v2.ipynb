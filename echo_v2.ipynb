{
 "cells": [
  {
   "cell_type": "code",
   "execution_count": 1,
   "metadata": {},
   "outputs": [
    {
     "name": "stdout",
     "output_type": "stream",
     "text": [
      "Data directory: /Users/sali/Library/Application Support/crewai_storage\n"
     ]
    },
    {
     "name": "stderr",
     "output_type": "stream",
     "text": [
      "/Users/sali/miniconda3/envs/ML/lib/python3.10/site-packages/pydantic/_internal/_config.py:345: UserWarning: Valid config keys have changed in V2:\n",
      "* 'fields' has been removed\n",
      "  warnings.warn(message, UserWarning)\n"
     ]
    },
    {
     "name": "stdout",
     "output_type": "stream",
     "text": [
      "Data directory: /Users/sali/Library/Application Support/crewai_storage\n"
     ]
    }
   ],
   "source": [
    "import nest_asyncio\n",
    "nest_asyncio.apply()\n",
    "\n",
    "from crewai import LLM\n",
    "from dotenv import load_dotenv\n",
    "import os\n",
    "\n",
    "load_dotenv()\n",
    "\n",
    "llm = LLM(\n",
    "    model=os.getenv(\"FIREWORKS_MODEL_NAME\"),\n",
    "    base_url=\"https://api.fireworks.ai/inference/v1\",\n",
    "    api_key=os.getenv(\"FIREWORKS_API_KEY\")\n",
    ")"
   ]
  },
  {
   "cell_type": "code",
   "execution_count": 2,
   "metadata": {},
   "outputs": [],
   "source": [
    "from echo.runner import make_call\n",
    "\n",
    "test_clients = [\n",
    "\t\"Shell\",\n",
    "\t\"Schneider electric\"\n",
    "]\n",
    "\n",
    "\n",
    "train_clients = [\n",
    "\t\"ICICI bank\",\n",
    "\t\"Infosys\",\t\n",
    "\t\"University of Illinois\",\n",
    "\t\"Marks and spencer\",\n",
    "\t\"Mercedes Benz\",\n",
    "]\n",
    "\n",
    "clients = test_clients + train_clients\n",
    "\n",
    "\n",
    "inputs = {\n",
    "    'call_type': 'discovery', \n",
    "    'seller': 'Whatfix',\n",
    "    'n_competitors': 3\n",
    "}"
   ]
  },
  {
   "cell_type": "code",
   "execution_count": 3,
   "metadata": {},
   "outputs": [],
   "source": [
    "import asyncio\n",
    "import nest_asyncio\n",
    "nest_asyncio.apply()"
   ]
  },
  {
   "cell_type": "code",
   "execution_count": 4,
   "metadata": {},
   "outputs": [
    {
     "name": "stdout",
     "output_type": "stream",
     "text": [
      "Making discovery call for ['Shell', 'Schneider electric', 'ICICI bank', 'Infosys', 'University of Illinois', 'Marks and spencer', 'Mercedes Benz']\n"
     ]
    },
    {
     "name": "stderr",
     "output_type": "stream",
     "text": [
      "Getting Research Data:   0%|          | 0/7 [00:00<?, ?it/s]"
     ]
    },
    {
     "name": "stdout",
     "output_type": "stream",
     "text": [
      "Getting Research Data for Shell\n",
      "Getting Research Data for Schneider electric\n"
     ]
    },
    {
     "name": "stderr",
     "output_type": "stream",
     "text": [
      "Getting Research Data:  29%|██▊       | 2/7 [00:24<01:00, 12.20s/it]2025-01-21 15:35:56,893 - 8645349184 - __init__.py-__init__:537 - WARNING: Overriding of current TracerProvider is not allowed\n"
     ]
    },
    {
     "name": "stdout",
     "output_type": "stream",
     "text": [
      "Getting Research Data for ICICI bank\n"
     ]
    },
    {
     "name": "stderr",
     "output_type": "stream",
     "text": [
      "Getting Research Data:  43%|████▎     | 3/7 [00:49<01:10, 17.71s/it]2025-01-21 15:36:22,330 - 8645349184 - __init__.py-__init__:537 - WARNING: Overriding of current TracerProvider is not allowed\n"
     ]
    },
    {
     "name": "stdout",
     "output_type": "stream",
     "text": [
      "Getting Research Data for Infosys\n"
     ]
    },
    {
     "name": "stderr",
     "output_type": "stream",
     "text": [
      "Getting Research Data:  57%|█████▋    | 4/7 [01:24<01:12, 24.12s/it]2025-01-21 15:36:57,215 - 8645349184 - __init__.py-__init__:537 - WARNING: Overriding of current TracerProvider is not allowed\n"
     ]
    },
    {
     "name": "stdout",
     "output_type": "stream",
     "text": [
      "Getting Research Data for University of Illinois\n"
     ]
    },
    {
     "name": "stderr",
     "output_type": "stream",
     "text": [
      "Getting Research Data:  71%|███████▏  | 5/7 [01:46<00:46, 23.40s/it]2025-01-21 15:37:19,260 - 8645349184 - __init__.py-__init__:537 - WARNING: Overriding of current TracerProvider is not allowed\n"
     ]
    },
    {
     "name": "stdout",
     "output_type": "stream",
     "text": [
      "Getting Research Data for Marks and spencer\n"
     ]
    },
    {
     "name": "stderr",
     "output_type": "stream",
     "text": [
      "Getting Research Data:  86%|████████▌ | 6/7 [02:18<00:26, 26.26s/it]2025-01-21 15:37:51,264 - 8645349184 - __init__.py-__init__:537 - WARNING: Overriding of current TracerProvider is not allowed\n"
     ]
    },
    {
     "name": "stdout",
     "output_type": "stream",
     "text": [
      "Getting Research Data for Mercedes Benz\n"
     ]
    },
    {
     "name": "stderr",
     "output_type": "stream",
     "text": [
      "Getting Research Data: 100%|██████████| 7/7 [02:40<00:00, 22.95s/it]\n",
      "Simulating Data:   0%|          | 0/7 [00:00<?, ?it/s]2025-01-21 15:38:13,123 - 8645349184 - __init__.py-__init__:537 - WARNING: Overriding of current TracerProvider is not allowed\n"
     ]
    },
    {
     "name": "stdout",
     "output_type": "stream",
     "text": [
      "Simulating Data for Shell\n"
     ]
    },
    {
     "name": "stderr",
     "output_type": "stream",
     "text": [
      "Simulating Data:  14%|█▍        | 1/7 [00:10<01:01, 10.30s/it]2025-01-21 15:38:23,422 - 8645349184 - __init__.py-__init__:537 - WARNING: Overriding of current TracerProvider is not allowed\n"
     ]
    },
    {
     "name": "stdout",
     "output_type": "stream",
     "text": [
      "Simulating Data for Schneider electric\n"
     ]
    },
    {
     "name": "stderr",
     "output_type": "stream",
     "text": [
      "Simulating Data:  29%|██▊       | 2/7 [00:15<00:35,  7.12s/it]2025-01-21 15:38:28,316 - 8645349184 - __init__.py-__init__:537 - WARNING: Overriding of current TracerProvider is not allowed\n"
     ]
    },
    {
     "name": "stdout",
     "output_type": "stream",
     "text": [
      "Simulating Data for ICICI bank\n"
     ]
    },
    {
     "name": "stderr",
     "output_type": "stream",
     "text": [
      "Simulating Data:  43%|████▎     | 3/7 [00:21<00:27,  6.97s/it]2025-01-21 15:38:35,095 - 8645349184 - __init__.py-__init__:537 - WARNING: Overriding of current TracerProvider is not allowed\n"
     ]
    },
    {
     "name": "stdout",
     "output_type": "stream",
     "text": [
      "Simulating Data for Infosys\n"
     ]
    },
    {
     "name": "stderr",
     "output_type": "stream",
     "text": [
      "Simulating Data:  57%|█████▋    | 4/7 [00:30<00:22,  7.45s/it]2025-01-21 15:38:43,294 - 8645349184 - __init__.py-__init__:537 - WARNING: Overriding of current TracerProvider is not allowed\n"
     ]
    },
    {
     "name": "stdout",
     "output_type": "stream",
     "text": [
      "Simulating Data for University of Illinois\n"
     ]
    },
    {
     "name": "stderr",
     "output_type": "stream",
     "text": [
      "Simulating Data:  71%|███████▏  | 5/7 [00:36<00:14,  7.13s/it]2025-01-21 15:38:49,864 - 8645349184 - __init__.py-__init__:537 - WARNING: Overriding of current TracerProvider is not allowed\n"
     ]
    },
    {
     "name": "stdout",
     "output_type": "stream",
     "text": [
      "Simulating Data for Marks and spencer\n"
     ]
    },
    {
     "name": "stderr",
     "output_type": "stream",
     "text": [
      "Simulating Data:  86%|████████▌ | 6/7 [00:43<00:07,  7.11s/it]2025-01-21 15:38:56,928 - 8645349184 - __init__.py-__init__:537 - WARNING: Overriding of current TracerProvider is not allowed\n"
     ]
    },
    {
     "name": "stdout",
     "output_type": "stream",
     "text": [
      "Simulating Data for Mercedes Benz\n"
     ]
    },
    {
     "name": "stderr",
     "output_type": "stream",
     "text": [
      "Simulating Data: 100%|██████████| 7/7 [00:53<00:00,  7.58s/it]\n",
      "Analyzing Data:   0%|          | 0/7 [00:00<?, ?it/s]2025-01-21 15:39:06,214 - 8645349184 - __init__.py-__init__:537 - WARNING: Overriding of current TracerProvider is not allowed\n"
     ]
    },
    {
     "name": "stdout",
     "output_type": "stream",
     "text": [
      "Saving Data for Shell\n",
      "Saving buyer call data for Shell\n",
      "Data directory: /Users/sali/Library/Application Support/echo_storage\n",
      "Row already exists!\n",
      "Saving seller call data for Shell\n",
      "Data directory: /Users/sali/Library/Application Support/echo_storage\n",
      "Row already exists!\n",
      "Saving buyer call data for Shell\n",
      "Data directory: /Users/sali/Library/Application Support/echo_storage\n"
     ]
    },
    {
     "name": "stderr",
     "output_type": "stream",
     "text": [
      "2025-01-21 15:39:11,698 - 8645349184 - memory.py-memory:368 - ERROR: Error checking if text is embedded: Expected where to have exactly one operator, got {'embed_string_hash': '334dece9cd9331fc8d7576090434f51dd0152704c11a7d23e133deeb47bcf84a', 'seller': 'Whatfix', 'buyer': 'Shell', 'call_type': 'discovery'} in get.\n",
      "Analyzing Data:  14%|█▍        | 1/7 [00:06<00:38,  6.46s/it]2025-01-21 15:39:12,676 - 8645349184 - __init__.py-__init__:537 - WARNING: Overriding of current TracerProvider is not allowed\n",
      "2025-01-21 15:39:16,691 - 8645349184 - memory.py-memory:368 - ERROR: Error checking if text is embedded: Expected where to have exactly one operator, got {'embed_string_hash': '4bd25b9c6a21d12a7dfe15ebc1d18f70ae7f18db5179797814721ed4b5d28802', 'seller': 'Whatfix', 'buyer': 'Schneider electric', 'call_type': 'discovery'} in get.\n"
     ]
    },
    {
     "name": "stdout",
     "output_type": "stream",
     "text": [
      "Saving Data for Schneider electric\n",
      "Saving buyer call data for Schneider electric\n",
      "Data directory: /Users/sali/Library/Application Support/echo_storage\n",
      "Row already exists!\n",
      "Saving seller call data for Schneider electric\n",
      "Data directory: /Users/sali/Library/Application Support/echo_storage\n",
      "Row already exists!\n",
      "Saving buyer call data for Schneider electric\n",
      "Data directory: /Users/sali/Library/Application Support/echo_storage\n"
     ]
    },
    {
     "name": "stderr",
     "output_type": "stream",
     "text": [
      "Analyzing Data:  29%|██▊       | 2/7 [00:13<00:34,  6.80s/it]2025-01-21 15:39:19,713 - 8645349184 - __init__.py-__init__:537 - WARNING: Overriding of current TracerProvider is not allowed\n",
      "2025-01-21 15:39:23,507 - 8645349184 - memory.py-memory:368 - ERROR: Error checking if text is embedded: Expected where to have exactly one operator, got {'embed_string_hash': 'd0d7b0fc7b68675e2515743f3a4ad353fffd65bb20b310659200d146de8a8953', 'seller': 'Whatfix', 'buyer': 'ICICI bank', 'call_type': 'discovery'} in get.\n"
     ]
    },
    {
     "name": "stdout",
     "output_type": "stream",
     "text": [
      "Saving Data for ICICI bank\n",
      "Saving buyer call data for ICICI bank\n",
      "Data directory: /Users/sali/Library/Application Support/echo_storage\n",
      "Row already exists!\n",
      "Saving seller call data for ICICI bank\n",
      "Data directory: /Users/sali/Library/Application Support/echo_storage\n",
      "Row already exists!\n",
      "Saving buyer call data for ICICI bank\n",
      "Data directory: /Users/sali/Library/Application Support/echo_storage\n"
     ]
    },
    {
     "name": "stderr",
     "output_type": "stream",
     "text": [
      "Analyzing Data:  43%|████▎     | 3/7 [00:18<00:23,  5.97s/it]2025-01-21 15:39:24,705 - 8645349184 - __init__.py-__init__:537 - WARNING: Overriding of current TracerProvider is not allowed\n",
      "2025-01-21 15:39:30,383 - 8645349184 - memory.py-memory:368 - ERROR: Error checking if text is embedded: Expected where to have exactly one operator, got {'embed_string_hash': '9c26a8a4ea54ba9c106f3f5a0ffa3f424b77053f228b58e09c878134f13766e8', 'seller': 'Whatfix', 'buyer': 'Infosys', 'call_type': 'discovery'} in get.\n"
     ]
    },
    {
     "name": "stdout",
     "output_type": "stream",
     "text": [
      "Saving Data for Infosys\n",
      "Saving buyer call data for Infosys\n",
      "Data directory: /Users/sali/Library/Application Support/echo_storage\n",
      "Row already exists!\n",
      "Saving seller call data for Infosys\n",
      "Data directory: /Users/sali/Library/Application Support/echo_storage\n",
      "Row already exists!\n",
      "Saving buyer call data for Infosys\n",
      "Data directory: /Users/sali/Library/Application Support/echo_storage\n"
     ]
    },
    {
     "name": "stderr",
     "output_type": "stream",
     "text": [
      "Analyzing Data:  57%|█████▋    | 4/7 [00:24<00:18,  6.07s/it]2025-01-21 15:39:30,929 - 8645349184 - __init__.py-__init__:537 - WARNING: Overriding of current TracerProvider is not allowed\n",
      "2025-01-21 15:39:34,939 - 8645349184 - memory.py-memory:368 - ERROR: Error checking if text is embedded: Expected where to have exactly one operator, got {'embed_string_hash': 'b29b5f1bbd7d2d4e05d7f14378452f8d6124db2f9a1818db824baa9dbdaa27aa', 'seller': 'Whatfix', 'buyer': 'University of Illinois', 'call_type': 'discovery'} in get.\n"
     ]
    },
    {
     "name": "stdout",
     "output_type": "stream",
     "text": [
      "Saving Data for University of Illinois\n",
      "Saving buyer call data for University of Illinois\n",
      "Data directory: /Users/sali/Library/Application Support/echo_storage\n",
      "Row already exists!\n",
      "Saving seller call data for University of Illinois\n",
      "Data directory: /Users/sali/Library/Application Support/echo_storage\n",
      "Row already exists!\n",
      "Saving buyer call data for University of Illinois\n",
      "Data directory: /Users/sali/Library/Application Support/echo_storage\n"
     ]
    },
    {
     "name": "stderr",
     "output_type": "stream",
     "text": [
      "Analyzing Data:  71%|███████▏  | 5/7 [00:29<00:11,  5.53s/it]2025-01-21 15:39:35,500 - 8645349184 - __init__.py-__init__:537 - WARNING: Overriding of current TracerProvider is not allowed\n",
      "2025-01-21 15:39:40,929 - 8645349184 - memory.py-memory:368 - ERROR: Error checking if text is embedded: Expected where to have exactly one operator, got {'embed_string_hash': '27b6fa1eb2920212821ed28477dea332d123539eb1267a929af3142f7e1177d2', 'seller': 'Whatfix', 'buyer': 'Marks and spencer', 'call_type': 'discovery'} in get.\n"
     ]
    },
    {
     "name": "stdout",
     "output_type": "stream",
     "text": [
      "Saving Data for Marks and spencer\n",
      "Saving buyer call data for Marks and spencer\n",
      "Data directory: /Users/sali/Library/Application Support/echo_storage\n",
      "Row already exists!\n",
      "Saving seller call data for Marks and spencer\n",
      "Data directory: /Users/sali/Library/Application Support/echo_storage\n",
      "Row already exists!\n",
      "Saving buyer call data for Marks and spencer\n",
      "Data directory: /Users/sali/Library/Application Support/echo_storage\n"
     ]
    },
    {
     "name": "stderr",
     "output_type": "stream",
     "text": [
      "Analyzing Data:  86%|████████▌ | 6/7 [00:35<00:05,  5.62s/it]2025-01-21 15:39:41,291 - 8645349184 - __init__.py-__init__:537 - WARNING: Overriding of current TracerProvider is not allowed\n",
      "2025-01-21 15:39:47,188 - 8645349184 - memory.py-memory:368 - ERROR: Error checking if text is embedded: Expected where to have exactly one operator, got {'embed_string_hash': '6d25b7582396faa1c2fbc28da031695b5042c94dd42a8437bd151de18b7bf02a', 'seller': 'Whatfix', 'buyer': 'Mercedes Benz', 'call_type': 'discovery'} in get.\n"
     ]
    },
    {
     "name": "stdout",
     "output_type": "stream",
     "text": [
      "Saving Data for Mercedes Benz\n",
      "Saving buyer call data for Mercedes Benz\n",
      "Data directory: /Users/sali/Library/Application Support/echo_storage\n",
      "Row already exists!\n",
      "Saving seller call data for Mercedes Benz\n",
      "Data directory: /Users/sali/Library/Application Support/echo_storage\n",
      "Row already exists!\n",
      "Saving buyer call data for Mercedes Benz\n",
      "Data directory: /Users/sali/Library/Application Support/echo_storage\n"
     ]
    },
    {
     "name": "stderr",
     "output_type": "stream",
     "text": [
      "Analyzing Data: 100%|██████████| 7/7 [00:41<00:00,  5.95s/it]\n"
     ]
    }
   ],
   "source": [
    "discovery_calls_data = asyncio.run(make_call('discovery', clients, inputs))"
   ]
  },
  {
   "cell_type": "code",
   "execution_count": 5,
   "metadata": {},
   "outputs": [
    {
     "name": "stdout",
     "output_type": "stream",
     "text": [
      "Making demo call for ['Shell', 'Schneider electric', 'ICICI bank', 'Infosys', 'University of Illinois', 'Marks and spencer', 'Mercedes Benz']\n"
     ]
    },
    {
     "name": "stderr",
     "output_type": "stream",
     "text": [
      "Get Research Data:   0%|          | 0/7 [00:00<?, ?it/s]2025-01-21 15:39:48,043 - 8645349184 - __init__.py-__init__:537 - WARNING: Overriding of current TracerProvider is not allowed\n",
      "Get Research Data:  14%|█▍        | 1/7 [00:02<00:13,  2.27s/it]2025-01-21 15:39:50,316 - 8645349184 - __init__.py-__init__:537 - WARNING: Overriding of current TracerProvider is not allowed\n",
      "Get Research Data:  29%|██▊       | 2/7 [00:04<00:11,  2.33s/it]2025-01-21 15:39:52,685 - 8645349184 - __init__.py-__init__:537 - WARNING: Overriding of current TracerProvider is not allowed\n",
      "Get Research Data:  43%|████▎     | 3/7 [00:07<00:09,  2.41s/it]2025-01-21 15:39:55,188 - 8645349184 - __init__.py-__init__:537 - WARNING: Overriding of current TracerProvider is not allowed\n",
      "Get Research Data:  57%|█████▋    | 4/7 [00:10<00:07,  2.66s/it]2025-01-21 15:39:58,233 - 8645349184 - __init__.py-__init__:537 - WARNING: Overriding of current TracerProvider is not allowed\n",
      "Get Research Data:  71%|███████▏  | 5/7 [00:13<00:05,  2.95s/it]2025-01-21 15:40:01,711 - 8645349184 - __init__.py-__init__:537 - WARNING: Overriding of current TracerProvider is not allowed\n",
      "Get Research Data:  86%|████████▌ | 6/7 [00:15<00:02,  2.73s/it]2025-01-21 15:40:04,000 - 8645349184 - __init__.py-__init__:537 - WARNING: Overriding of current TracerProvider is not allowed\n",
      "Get Research Data: 100%|██████████| 7/7 [00:19<00:00,  2.72s/it]\n",
      "Simulating Data:   0%|          | 0/7 [00:00<?, ?it/s]2025-01-21 15:40:07,114 - 8645349184 - __init__.py-__init__:537 - WARNING: Overriding of current TracerProvider is not allowed\n"
     ]
    },
    {
     "name": "stdout",
     "output_type": "stream",
     "text": [
      "Simulating Data for Shell\n"
     ]
    },
    {
     "name": "stderr",
     "output_type": "stream",
     "text": [
      "Simulating Data:  14%|█▍        | 1/7 [00:07<00:45,  7.65s/it]2025-01-21 15:40:14,767 - 8645349184 - __init__.py-__init__:537 - WARNING: Overriding of current TracerProvider is not allowed\n"
     ]
    },
    {
     "name": "stdout",
     "output_type": "stream",
     "text": [
      "Simulating Data for Schneider electric\n"
     ]
    },
    {
     "name": "stderr",
     "output_type": "stream",
     "text": [
      "Simulating Data:  29%|██▊       | 2/7 [00:16<00:42,  8.58s/it]2025-01-21 15:40:23,986 - 8645349184 - __init__.py-__init__:537 - WARNING: Overriding of current TracerProvider is not allowed\n"
     ]
    },
    {
     "name": "stdout",
     "output_type": "stream",
     "text": [
      "Simulating Data for ICICI bank\n"
     ]
    },
    {
     "name": "stderr",
     "output_type": "stream",
     "text": [
      "Simulating Data:  43%|████▎     | 3/7 [00:22<00:29,  7.29s/it]2025-01-21 15:40:29,747 - 8645349184 - __init__.py-__init__:537 - WARNING: Overriding of current TracerProvider is not allowed\n"
     ]
    },
    {
     "name": "stdout",
     "output_type": "stream",
     "text": [
      "Simulating Data for Infosys\n"
     ]
    },
    {
     "name": "stderr",
     "output_type": "stream",
     "text": [
      "Simulating Data:  57%|█████▋    | 4/7 [00:30<00:22,  7.56s/it]2025-01-21 15:40:37,720 - 8645349184 - __init__.py-__init__:537 - WARNING: Overriding of current TracerProvider is not allowed\n"
     ]
    },
    {
     "name": "stdout",
     "output_type": "stream",
     "text": [
      "Simulating Data for University of Illinois\n"
     ]
    },
    {
     "name": "stderr",
     "output_type": "stream",
     "text": [
      "Simulating Data:  71%|███████▏  | 5/7 [00:37<00:14,  7.47s/it]2025-01-21 15:40:45,031 - 8645349184 - __init__.py-__init__:537 - WARNING: Overriding of current TracerProvider is not allowed\n"
     ]
    },
    {
     "name": "stdout",
     "output_type": "stream",
     "text": [
      "Simulating Data for Marks and spencer\n"
     ]
    },
    {
     "name": "stderr",
     "output_type": "stream",
     "text": [
      "Simulating Data:  86%|████████▌ | 6/7 [00:49<00:08,  8.89s/it]2025-01-21 15:40:56,682 - 8645349184 - __init__.py-__init__:537 - WARNING: Overriding of current TracerProvider is not allowed\n"
     ]
    },
    {
     "name": "stdout",
     "output_type": "stream",
     "text": [
      "Simulating Data for Mercedes Benz\n"
     ]
    },
    {
     "name": "stderr",
     "output_type": "stream",
     "text": [
      "Simulating Data: 100%|██████████| 7/7 [00:57<00:00,  8.28s/it]\n",
      "Analyzing Data:   0%|          | 0/7 [00:00<?, ?it/s]2025-01-21 15:41:05,086 - 8645349184 - __init__.py-__init__:537 - WARNING: Overriding of current TracerProvider is not allowed\n",
      "2025-01-21 15:41:10,561 - 8645349184 - memory.py-memory:368 - ERROR: Error checking if text is embedded: Expected where to have exactly one operator, got {'embed_string_hash': '6f08f4e62ea3e274e13300a6ff85eaba2717e95ea3d4da0e21ed36db50a67c14', 'seller': 'Whatfix', 'buyer': 'Shell', 'call_type': 'demo'} in get.\n"
     ]
    },
    {
     "name": "stdout",
     "output_type": "stream",
     "text": [
      "Saving buyer call data for Shell\n",
      "Data directory: /Users/sali/Library/Application Support/echo_storage\n",
      "Row already exists!\n",
      "Saving seller call data for Shell\n",
      "Data directory: /Users/sali/Library/Application Support/echo_storage\n",
      "Row already exists!\n",
      "Saving buyer call data for Shell\n",
      "Data directory: /Users/sali/Library/Application Support/echo_storage\n"
     ]
    },
    {
     "name": "stderr",
     "output_type": "stream",
     "text": [
      "Analyzing Data:  14%|█▍        | 1/7 [00:05<00:34,  5.77s/it]2025-01-21 15:41:10,858 - 8645349184 - __init__.py-__init__:537 - WARNING: Overriding of current TracerProvider is not allowed\n",
      "2025-01-21 15:41:16,718 - 8645349184 - memory.py-memory:368 - ERROR: Error checking if text is embedded: Expected where to have exactly one operator, got {'embed_string_hash': '72267d7646150c8879c19375f2f96cd2bb3227a3019c1f3bb3295e78eab51c22', 'seller': 'Whatfix', 'buyer': 'Schneider electric', 'call_type': 'demo'} in get.\n"
     ]
    },
    {
     "name": "stdout",
     "output_type": "stream",
     "text": [
      "Saving buyer call data for Schneider electric\n",
      "Data directory: /Users/sali/Library/Application Support/echo_storage\n",
      "Row already exists!\n",
      "Saving seller call data for Schneider electric\n",
      "Data directory: /Users/sali/Library/Application Support/echo_storage\n",
      "Row already exists!\n",
      "Saving buyer call data for Schneider electric\n",
      "Data directory: /Users/sali/Library/Application Support/echo_storage\n"
     ]
    },
    {
     "name": "stderr",
     "output_type": "stream",
     "text": [
      "Analyzing Data:  29%|██▊       | 2/7 [00:12<00:30,  6.12s/it]2025-01-21 15:41:17,215 - 8645349184 - __init__.py-__init__:537 - WARNING: Overriding of current TracerProvider is not allowed\n",
      "2025-01-21 15:41:48,822 - 8645349184 - memory.py-memory:368 - ERROR: Error checking if text is embedded: Expected where to have exactly one operator, got {'embed_string_hash': '0a78b9133e769558a6e53ecf1bb1c29404cddd03230e5eaff666390b86923cb4', 'seller': 'Whatfix', 'buyer': 'ICICI bank', 'call_type': 'demo'} in get.\n"
     ]
    },
    {
     "name": "stdout",
     "output_type": "stream",
     "text": [
      "\u001b[91m Failed to convert text into a pydantic model due to the following error: Instructor does not support multiple tool calls, use List[Model] instead Using raw output instead.\u001b[00m\n",
      "Saving buyer call data for ICICI bank\n",
      "Data directory: /Users/sali/Library/Application Support/echo_storage\n",
      "Row already exists!\n",
      "Saving seller call data for ICICI bank\n",
      "Data directory: /Users/sali/Library/Application Support/echo_storage\n",
      "Row already exists!\n",
      "Saving buyer call data for ICICI bank\n",
      "Data directory: /Users/sali/Library/Application Support/echo_storage\n"
     ]
    },
    {
     "name": "stderr",
     "output_type": "stream",
     "text": [
      "Analyzing Data:  43%|████▎     | 3/7 [00:44<01:11, 17.92s/it]2025-01-21 15:41:49,195 - 8645349184 - __init__.py-__init__:537 - WARNING: Overriding of current TracerProvider is not allowed\n",
      "2025-01-21 15:41:54,883 - 8645349184 - memory.py-memory:368 - ERROR: Error checking if text is embedded: Expected where to have exactly one operator, got {'embed_string_hash': '4b12040e79eb192b075fd99c5fdaca56480f3515bbd8fc5536c60a02f0a2b55b', 'seller': 'Whatfix', 'buyer': 'Infosys', 'call_type': 'demo'} in get.\n"
     ]
    },
    {
     "name": "stdout",
     "output_type": "stream",
     "text": [
      "Saving buyer call data for Infosys\n",
      "Data directory: /Users/sali/Library/Application Support/echo_storage\n",
      "Row already exists!\n",
      "Saving seller call data for Infosys\n",
      "Data directory: /Users/sali/Library/Application Support/echo_storage\n",
      "Row already exists!\n",
      "Saving buyer call data for Infosys\n",
      "Data directory: /Users/sali/Library/Application Support/echo_storage\n"
     ]
    },
    {
     "name": "stderr",
     "output_type": "stream",
     "text": [
      "Analyzing Data:  57%|█████▋    | 4/7 [00:50<00:39, 13.24s/it]2025-01-21 15:41:55,241 - 8645349184 - __init__.py-__init__:537 - WARNING: Overriding of current TracerProvider is not allowed\n",
      "2025-01-21 15:42:00,963 - 8645349184 - memory.py-memory:368 - ERROR: Error checking if text is embedded: Expected where to have exactly one operator, got {'embed_string_hash': '2262ec0a4922470fd27817b98c5c14ab14379da82ee009e4d113ff1113c09f0a', 'seller': 'Whatfix', 'buyer': 'University of Illinois', 'call_type': 'demo'} in get.\n"
     ]
    },
    {
     "name": "stdout",
     "output_type": "stream",
     "text": [
      "Saving buyer call data for University of Illinois\n",
      "Data directory: /Users/sali/Library/Application Support/echo_storage\n",
      "Row already exists!\n",
      "Saving seller call data for University of Illinois\n",
      "Data directory: /Users/sali/Library/Application Support/echo_storage\n",
      "Row already exists!\n",
      "Saving buyer call data for University of Illinois\n",
      "Data directory: /Users/sali/Library/Application Support/echo_storage\n"
     ]
    },
    {
     "name": "stderr",
     "output_type": "stream",
     "text": [
      "Analyzing Data:  71%|███████▏  | 5/7 [00:56<00:21, 10.68s/it]2025-01-21 15:42:01,376 - 8645349184 - __init__.py-__init__:537 - WARNING: Overriding of current TracerProvider is not allowed\n",
      "2025-01-21 15:42:05,626 - 8645349184 - memory.py-memory:368 - ERROR: Error checking if text is embedded: Expected where to have exactly one operator, got {'embed_string_hash': '229b34c8908fbeadd5e3d01cdd9537d0480940b40e211fef7b7fe348d4c86327', 'seller': 'Whatfix', 'buyer': 'Marks and spencer', 'call_type': 'demo'} in get.\n"
     ]
    },
    {
     "name": "stdout",
     "output_type": "stream",
     "text": [
      "Saving buyer call data for Marks and spencer\n",
      "Data directory: /Users/sali/Library/Application Support/echo_storage\n",
      "Row already exists!\n",
      "Saving seller call data for Marks and spencer\n",
      "Data directory: /Users/sali/Library/Application Support/echo_storage\n",
      "Row already exists!\n",
      "Saving buyer call data for Marks and spencer\n",
      "Data directory: /Users/sali/Library/Application Support/echo_storage\n"
     ]
    },
    {
     "name": "stderr",
     "output_type": "stream",
     "text": [
      "Analyzing Data:  86%|████████▌ | 6/7 [01:00<00:08,  8.63s/it]2025-01-21 15:42:06,045 - 8645349184 - __init__.py-__init__:537 - WARNING: Overriding of current TracerProvider is not allowed\n",
      "2025-01-21 15:42:12,909 - 8645349184 - memory.py-memory:368 - ERROR: Error checking if text is embedded: Expected where to have exactly one operator, got {'embed_string_hash': '3c5d2738818a4e5edd07ce76570a7ac281bf26adfd50e4554e085a6bdc351e93', 'seller': 'Whatfix', 'buyer': 'Mercedes Benz', 'call_type': 'demo'} in get.\n"
     ]
    },
    {
     "name": "stdout",
     "output_type": "stream",
     "text": [
      "Saving buyer call data for Mercedes Benz\n",
      "Data directory: /Users/sali/Library/Application Support/echo_storage\n",
      "Row already exists!\n",
      "Saving seller call data for Mercedes Benz\n",
      "Data directory: /Users/sali/Library/Application Support/echo_storage\n",
      "Row already exists!\n",
      "Saving buyer call data for Mercedes Benz\n",
      "Data directory: /Users/sali/Library/Application Support/echo_storage\n"
     ]
    },
    {
     "name": "stderr",
     "output_type": "stream",
     "text": [
      "Analyzing Data: 100%|██████████| 7/7 [01:08<00:00,  9.78s/it]\n"
     ]
    }
   ],
   "source": [
    "demo_calls_data = asyncio.run(make_call('demo', clients, inputs))"
   ]
  },
  {
   "cell_type": "markdown",
   "metadata": {},
   "source": [
    "## Memory Module"
   ]
  },
  {
   "cell_type": "markdown",
   "metadata": {},
   "source": [
    "## Using Memory"
   ]
  },
  {
   "cell_type": "markdown",
   "metadata": {},
   "source": [
    "#### Memory Types\n",
    "\n",
    "- Deal Summary"
   ]
  },
  {
   "cell_type": "code",
   "execution_count": 1,
   "metadata": {},
   "outputs": [],
   "source": [
    "from llama_index.core import VectorStoreIndex\n",
    "from llama_index.core.vector_stores import (\n",
    "    MetadataFilter,\n",
    "    MetadataFilters,\n",
    "    FilterOperator,\n",
    "    FilterCondition\n",
    ")\n",
    "\n",
    "from llama_index.core.schema import TextNode\n",
    "from llama_index.vector_stores.chroma import ChromaVectorStore\n",
    "import chromadb\n",
    "from llama_index.core import StorageContext\n",
    "\n",
    "\n",
    "nodes = [\n",
    "    TextNode(\n",
    "        text=\"The Shawshank Redemption\",\n",
    "        metadata={\n",
    "            \"author\": \"Stephen King\",\n",
    "            \"theme\": \"Friendship\",\n",
    "            \"year\": 1994,\n",
    "        },\n",
    "    ),\n",
    "    TextNode(\n",
    "        text=\"The Godfather\",\n",
    "        metadata={\n",
    "            \"director\": \"Francis Ford Coppola\",\n",
    "            \"theme\": \"Mafia\",\n",
    "            \"year\": 1972,\n",
    "        },\n",
    "    ),\n",
    "    TextNode(\n",
    "        text=\"Inception\",\n",
    "        metadata={\n",
    "            \"director\": \"Christopher Nolan\",\n",
    "            \"theme\": \"Fiction\",\n",
    "            \"year\": 2010,\n",
    "        },\n",
    "    ),\n",
    "    TextNode(\n",
    "        text=\"To Kill a Mockingbird\",\n",
    "        metadata={\n",
    "            \"author\": \"Harper Lee\",\n",
    "            \"theme\": \"Mafia\",\n",
    "            \"year\": 1960,\n",
    "        },\n",
    "    ),\n",
    "    TextNode(\n",
    "        text=\"1984\",\n",
    "        metadata={\n",
    "            \"author\": \"George Orwell\",\n",
    "            \"theme\": \"Totalitarianism\",\n",
    "            \"year\": 1949,\n",
    "        },\n",
    "    ),\n",
    "    TextNode(\n",
    "        text=\"The Great Gatsby\",\n",
    "        metadata={\n",
    "            \"author\": \"F. Scott Fitzgerald\",\n",
    "            \"theme\": \"The American Dream\",\n",
    "            \"year\": 1925,\n",
    "        },\n",
    "    ),\n",
    "    TextNode(\n",
    "        text=\"Harry Potter and the Sorcerer's Stone\",\n",
    "        metadata={\n",
    "            \"author\": \"J.K. Rowling\",\n",
    "            \"theme\": \"Fiction\",\n",
    "            \"year\": 1997,\n",
    "        },\n",
    "    ),\n",
    "]"
   ]
  },
  {
   "cell_type": "code",
   "execution_count": 2,
   "metadata": {},
   "outputs": [
    {
     "name": "stdout",
     "output_type": "stream",
     "text": [
      "Data directory: /Users/sali/Library/Application Support/crewai_storage\n"
     ]
    },
    {
     "name": "stderr",
     "output_type": "stream",
     "text": [
      "/Users/sali/miniconda3/envs/ML/lib/python3.10/site-packages/pydantic/_internal/_config.py:345: UserWarning: Valid config keys have changed in V2:\n",
      "* 'fields' has been removed\n",
      "  warnings.warn(message, UserWarning)\n"
     ]
    },
    {
     "name": "stdout",
     "output_type": "stream",
     "text": [
      "Data directory: /Users/sali/Library/Application Support/crewai_storage\n"
     ]
    }
   ],
   "source": [
    "import enum\n",
    "from typing import Dict\n",
    "from llama_index.core.node_parser import SentenceSplitter\n",
    "from echo.utils import db_storage_path\n",
    "\n",
    "CHUNK_SIZE=8192\n",
    "CHUNK_OVERLAP=128\n",
    "SIMILARITY_TOP_K=3\n",
    "\n",
    "\n",
    "class IndexType(enum.Enum):\n",
    "    HISTORICAL = \"historical\"\n",
    "    CURRENT_DEAL = \"current_deal\"\n",
    "    BUYER_RESEARCH = \"buyer_research\"\n",
    "    SELLER_RESEARCH = \"seller_research\"\n",
    "    SALES_PLAYBOOK = \"sales_playbook\"\n",
    "\n",
    "\n",
    "class CallType(enum.Enum):\n",
    "    DISCOVERY = \"discovery\"\n",
    "    DEMO = \"demo\"\n",
    "    PRICING = \"pricing\"\n",
    "    PROCUREMENT = \"procurement\"\n",
    "\n",
    "\n",
    "def get_vector_index(\n",
    "    index_name: str, \n",
    "    index_type: IndexType\n",
    "):\n",
    "    chroma_db_path = db_storage_path(index_name)\n",
    "    db = chromadb.PersistentClient(path=str(chroma_db_path))\n",
    "    chroma_collection = db.get_or_create_collection(f\"{index_type.value}\")\n",
    "    vector_store = ChromaVectorStore(chroma_collection=chroma_collection)\n",
    "    index = VectorStoreIndex.from_vector_store(vector_store)\n",
    "\n",
    "    return index\n",
    "\n",
    "\n",
    "def get_response(\n",
    "    query: str, \n",
    "    index: VectorStoreIndex, \n",
    "    filters: Dict[str, str] = None, \n",
    "    filter_operator: FilterOperator = FilterOperator.EQ,\n",
    "    condition: FilterCondition = FilterCondition.AND,\n",
    "    \n",
    "):\n",
    "    filters = filters or {}\n",
    "    filters = MetadataFilters(\n",
    "        filters=[\n",
    "            MetadataFilter(\n",
    "                key=k.lower(), \n",
    "                value=v.lower(),\n",
    "                operator=filter_operator\n",
    "            ) for k, v in filters.items()\n",
    "        ],\n",
    "        condition=condition,\n",
    "    )\n",
    "\n",
    "    return index.as_query_engine(filters=filters).query(query)\n",
    "\n",
    "\n",
    "def get_nodes_from_documents(data: str, metadata: Dict[str, str]):\n",
    "    splitter = SentenceSplitter(\n",
    "        chunk_size=CHUNK_SIZE, \n",
    "        chunk_overlap=CHUNK_OVERLAP\n",
    "    )\n",
    "    docs = splitter.split_text(data)\n",
    "    return [\n",
    "        TextNode(\n",
    "            text=doc,\n",
    "            metadata=metadata\n",
    "        )\n",
    "        for doc in docs\n",
    "    ]"
   ]
  },
  {
   "cell_type": "code",
   "execution_count": 3,
   "metadata": {},
   "outputs": [],
   "source": [
    "metadata_keys = {\n",
    "    IndexType.HISTORICAL: [\n",
    "        \"seller\", \n",
    "        \"buyer\", \n",
    "        \"call_type\", \n",
    "        \"company_size\", \n",
    "        \"industry\", \n",
    "        \"description\"\n",
    "    ],\n",
    "    IndexType.BUYER_RESEARCH: [\"buyer\"],\n",
    "    IndexType.SELLER_RESEARCH: [\"seller\"],\n",
    "    IndexType.SALES_PLAYBOOK: [],\n",
    "}\n",
    "\n",
    "def add_data(\n",
    "    data: str, \n",
    "    metadata: Dict[str, str], \n",
    "    index_name: str, \n",
    "    index_type: IndexType\n",
    "):\n",
    "    assert all([k in metadata for k in metadata_keys[index_type]]), f\"Missing metadata keys for {index_type}. \\nRequired keys: {metadata_keys[index_type]}. \\nProvided keys: {metadata.keys()}\"\n",
    "    filtered_metadata = {\n",
    "        k: v for k, v in metadata.items() \n",
    "        if k in metadata_keys[index_type]\n",
    "    }\n",
    "    index = get_vector_index(index_name, index_type)\n",
    "    nodes = get_nodes_from_documents(data, metadata=filtered_metadata)\n",
    "    index.insert_nodes(nodes)"
   ]
  },
  {
   "cell_type": "code",
   "execution_count": null,
   "metadata": {},
   "outputs": [],
   "source": [
    "import json\n",
    "import os\n",
    "\n",
    "all_data = {\n",
    "    client.split('.')[0]: json.load(open('runs/' + client))\n",
    "    for client in os.listdir('runs')\n",
    "}\n",
    "\n",
    "print(\"\\n\".join(all_data['ICICI bank'].keys()))"
   ]
  },
  {
   "cell_type": "code",
   "execution_count": null,
   "metadata": {},
   "outputs": [],
   "source": [
    "import echo.utils as echo_utils\n",
    "for k in all_data['ICICI bank']:\n",
    "    print(echo_utils.json_to_markdown(all_data['ICICI bank'][k]))"
   ]
  },
  {
   "cell_type": "code",
   "execution_count": 6,
   "metadata": {},
   "outputs": [],
   "source": [
    "import echo.utils as echo_utils\n",
    "\n",
    "seller = \"Whatfix\"\n",
    "\n",
    "for client in all_data:\n",
    "    add_data(\n",
    "        data=echo_utils.json_to_markdown(all_data[client]['seller_research']) + \"\\n\" + echo_utils.json_to_markdown(all_data[client]['seller_pricing']),\n",
    "        metadata={\n",
    "            \"seller\": seller,\n",
    "        },\n",
    "        index_name=seller,\n",
    "        index_type=IndexType.SELLER_RESEARCH\n",
    "    )\n",
    "    \n",
    "    add_data(\n",
    "        data=echo_utils.json_to_markdown(all_data[client]['buyer_research']) + \"\\n\" + echo_utils.json_to_markdown(all_data[client]['competitive_info']),\n",
    "        metadata={\n",
    "            \"buyer\": client,\n",
    "        },\n",
    "        index_name=seller,\n",
    "        index_type=IndexType.BUYER_RESEARCH\n",
    "    )\n",
    "    \n",
    "    add_data(\n",
    "        data=echo_utils.json_to_markdown(all_data[client]['discovery_analysis_buyer_data']) + \"\\n\" + echo_utils.json_to_markdown(all_data[client]['discovery_analysis_seller_data']),\n",
    "        metadata={\n",
    "            \"seller\": seller,\n",
    "            \"buyer\": client,\n",
    "            \"call_type\": CallType.DISCOVERY.value,\n",
    "            \"company_size\": all_data[client][\"buyer_research\"][\"company_size\"],\n",
    "            \"industry\": all_data[client][\"buyer_research\"][\"industry\"],\n",
    "            \"description\": all_data[client][\"buyer_research\"][\"description\"]\n",
    "        },\n",
    "        index_name=seller,\n",
    "        index_type=IndexType.HISTORICAL\n",
    "    )\n",
    "\n",
    "    add_data(\n",
    "        data=echo_utils.json_to_markdown(all_data[client]['demo_analysis_buyer_data']) + \"\\n\" + echo_utils.json_to_markdown(all_data[client]['demo_analysis_seller_data']),\n",
    "        metadata={\n",
    "            \"seller\": seller,\n",
    "            \"buyer\": client,\n",
    "            \"call_type\": CallType.DEMO.value,\n",
    "            \"company_size\": all_data[client][\"buyer_research\"][\"company_size\"],\n",
    "            \"industry\": all_data[client][\"buyer_research\"][\"industry\"],\n",
    "            \"description\": all_data[client][\"buyer_research\"][\"description\"]\n",
    "        },\n",
    "        index_name=seller,\n",
    "        index_type=IndexType.HISTORICAL\n",
    "    )"
   ]
  },
  {
   "cell_type": "code",
   "execution_count": 15,
   "metadata": {},
   "outputs": [
    {
     "data": {
      "text/plain": [
       "[NodeWithScore(node=TextNode(id_='52575575-052e-4e9e-8b16-2943bad26a2d', embedding=None, metadata={'seller': 'Whatfix', 'buyer': 'ICICI bank', 'call_type': 'discovery', 'company_size': 'Enterprise', 'industry': 'Banking and Financial Services', 'description': 'ICICI Bank is an Indian multinational bank and financial services company headquartered in Mumbai with a registered office in Vadodara.'}, excluded_embed_metadata_keys=[], excluded_llm_metadata_keys=[], relationships={}, text=\"# Pain_Points\\n   - adapting to changing customer behavior and preferences\\n   - risk and compliance management\\n   - low user adoption rates\\n   - ensuring employees are effectively using digital banking platforms and tools\\n# Objections\\n   - pricing model\\n   - implementation costs\\n# Time_Lines\\n   - implementation timelines\\n# Success_Indicators\\n   - measure the effectiveness of digital banking initiatives\\n   - identify opportunities for improvement\\n   - optimize the user experience and improve engagement\\n# Budget_Constraints\\n   - $15,500.00 per month\\n# Competition\\n# Decision_Committee\\n   - other stakeholders involved in the decision-making process\\n\\n# Discovery_Questions\\n   - Can you tell me a little bit about your current digital banking initiatives and what you're hoping to achieve?\\n   - Can you tell me more about your current approach to employee training and onboarding for your digital banking platforms? How do you currently support your employees in terms of guidance and performance?\\n   - What are the timelines for implementation?\\n# Decision_Making_Process_Questions\\n   - Who else is involved in the decision-making process for this type of solution?\\n   - What are the timelines for implementation?\\n# Objection_Resolution_Pairs\\n   - ### Objection\\npricing model\\n### Resolution\\nWhatfix pricing is based on two components: a flat per-application fee, plus user license fees. We also offer a free trial and premium subscription plans starting at $15,500.00 per month.\\n   - ### Objection\\nimplementation costs\\n### Resolution\\nWe can discuss the implementation timelines and process in more detail.\\n# Insights\\n   - ICICI Bank is facing challenges in adapting to changing customer behavior and preferences\\n   - Risk and compliance management is a concern for ICICI Bank\\n   - Low user adoption rates of digital banking platforms and tools are a challenge for ICICI Bank\\n   - ICICI Bank wants to measure the effectiveness of their digital banking initiatives and identify opportunities for improvement\\n   - ICICI Bank wants to optimize the user experience and improve engagement\\n# Improvements\\n   - The seller could have asked more specific questions about the current digital banking initiatives and their goals\\n   - The seller could have provided more information about the implementation process and timelines\\n   - The seller could have addressed the pricing model objection more effectively\", mimetype='text/plain', start_char_idx=None, end_char_idx=None, text_template='{metadata_str}\\n\\n{content}', metadata_template='{key}: {value}', metadata_seperator='\\n'), score=0.7374024457349231)]"
      ]
     },
     "execution_count": 15,
     "metadata": {},
     "output_type": "execute_result"
    }
   ],
   "source": [
    "index = get_vector_index(seller, IndexType.HISTORICAL)\n",
    "\n",
    "filters_dict = {\n",
    "    \"seller\": seller,\n",
    "    \"buyer\": \"ICICI bank\",\n",
    "    \"call_type\": \"discovery\"\n",
    "}\n",
    "\n",
    "filters = MetadataFilters(\n",
    "    filters=[\n",
    "        MetadataFilter(\n",
    "            key=k, \n",
    "            value=v,\n",
    "        ) for k, v in filters_dict.items()\n",
    "    ]\n",
    ")\n",
    "\n",
    "retriever = index.as_retriever(filters=filters)\n",
    "retriever.retrieve(\"What are the top pain points of ICICI bank?\")"
   ]
  },
  {
   "cell_type": "code",
   "execution_count": 14,
   "metadata": {},
   "outputs": [
    {
     "data": {
      "text/plain": [
       "[\"# Pain_Points\\n   - struggling to provide a seamless onboarding experience for students\\n   - faculty members are overwhelmed with different systems and applications\\n   - limited funding for research and programs\\n   - current onboarding process is not scalable\\n   - current onboarding process is not providing the level of support needed\\n# Objections\\n# Time_Lines\\n   - next 6-9 months\\n# Success_Indicators\\n   - improving student satisfaction and retention rates\\n# Budget_Constraints\\n   - limited funding for research and programs\\n   - need to ensure a strong ROI\\n# Competition\\n   - WalkMe\\n   - Pendo\\n# Decision_Committee\\n   - IT\\n   - academic affairs\\n   - student affairs\\n\\n# Discovery_Questions\\n   - Can you start by telling me a little bit about your role and what brings you here today?\\n   - What specific challenges are you facing that you're hoping a digital adoption platform can help with?\\n   - Can you tell me a little bit more about what you're hoping to achieve with a digital adoption platform?\\n   - Are there any specific metrics or KPIs that you're trying to improve?\\n   - Can you tell me a little bit more about your current onboarding process for students and faculty members?\\n   - What do you currently use to support them?\\n   - Have you considered any other digital adoption platforms besides Whatfix?\\n   - Are there any other solutions that you're evaluating right now?\\n   - What's the timeline looking like for this project?\\n# Decision_Making_Process_Questions\\n   - Can you tell me a little bit more about your decision-making process for this project?\\n   - Who else is involved, and what are the key factors that you'll be considering when making a decision?\\n# Objection_Resolution_Pairs\\n   - ### Objection\\nlimited funding for research and programs\\n### Resolution\\nWe'll make sure to provide you with a customized proposal that outlines how our solution can help you achieve your goals while also being mindful of your budget constraints.\\n# Insights\\n   - The University of Illinois is struggling to provide a seamless onboarding experience for students and faculty members.\\n   - They are facing challenges with limited funding for research and programs.\\n   - They are looking for a digital adoption platform that can provide a strong ROI and help them achieve their goals.\\n   - They are evaluating multiple solutions, including WalkMe and Pendo.\\n# Improvements\\n   - The seller could have asked more specific questions about the University's current onboarding process and pain points.\\n   - The seller could have provided more detailed information about Whatfix's pricing model and how it can meet the University's budget constraints.\",\n",
       " \"# Interested_Features\\n   - ### Name\\nIn-app guidance feature\\n### Description\\nProvides step-by-step guidance to users within the application, helping them navigate and complete tasks efficiently.\\n### Pain_Point\\nOnboarding challenges and difficulties faced by students and faculty members.\\n   - ### Name\\nNo-code editor\\n### Description\\nEmpowers the team to create in-app guidance without requiring extensive coding knowledge, reducing development time and costs.\\n### Pain_Point\\nCustomization requirements for onboarding process and reducing development time and costs.\\n# Skeptical_Features\\n   - ### Name\\nScalability\\n### Description\\nThe platform's ability to adapt to the growing needs of the University of Illinois.\\n### Objection\\nConcerns about the platform's scalability to meet the growing needs of the university.\\n   - ### Name\\nPricing model\\n### Description\\nCustomized pricing model tailored to the university's specific needs, ensuring a strong ROI.\\n### Objection\\nLimited funding for research and programs, requiring a strong ROI.\\n# Objections_Raised\\n   - Scalability concerns\\n   - Pricing model concerns\\n# Stakeholder_Engagement\\n   - ### Stakeholder\\nUniversity of Illinois - IT\\n### Engagement_Level\\nHigh\\n   - ### Stakeholder\\nUniversity of Illinois - Academic Affairs\\n### Engagement_Level\\nHigh\\n   - ### Stakeholder\\nUniversity of Illinois - Student Affairs\\n### Engagement_Level\\nMedium\\n# Feedback\\nPositive feedback, interested in moving forward with the next steps, and looking forward to reviewing the proposal and discussing further.\\n\\n# Demo_Features\\n   - ### Name\\nIn-app guidance feature\\n### Description\\nProvides step-by-step guidance to users within the application, helping them navigate and complete tasks efficiently.\\n   - ### Name\\nNo-code editor\\n### Description\\nEmpowers the team to create in-app guidance without requiring extensive coding knowledge, reducing development time and costs.\\n# Objection_Handling\\n   - ### Objection\\nScalability concerns\\n### Resolution\\nOur platform is designed to be scalable, so it can adapt to your growing needs and ensure a seamless experience for users.\\n### Status\\nTrue\\n   - ### Objection\\nPricing model concerns\\n### Resolution\\nWe offer customized pricing that is tailored to your specific needs, ensuring a strong ROI and meeting your budget constraints.\\n### Status\\nTrue\\n# Success_Stories\\n   - XYZ University, who have seen a significant improvement in their onboarding process and user adoption rates.\\n# Assets_Used\\n# Customizations\\n   - No-code editor for customization\\n# Engagement_Questions\\n   - Have you all had a chance to review the agenda we sent over prior to this call?\\n   - Is that correct?\",\n",
       " \"# Pain_Points\\n   - customers having trouble navigating software\\n   - high churn rate\\n   - struggling to reduce carbon footprint\\n   - meeting sustainability goals\\n# Objections\\n   - pricing model concerns\\n   - customization and implementation process\\n# Time_Lines\\n# Success_Indicators\\n# Budget_Constraints\\n   - large-scale enterprise budget\\n# Competition\\n# Decision_Committee\\n   - John, the Head of Digital Transformation at Schneider Electric\\n\\n# Discovery_Questions\\n   - Can you start by telling me a little bit about your role and what brings you to this call?\\n   - Can you tell me more about what you mean by improving customer experience and increasing energy efficiency? What specific pain points are you trying to address?\\n# Decision_Making_Process_Questions\\n# Objection_Resolution_Pairs\\n   - ### Objection\\npricing model concerns\\n### Resolution\\nOur pricing model is based on the number of users and the level of customization you need. We have a tiered pricing structure, with discounts for larger enterprises. We also offer a free trial and a pilot program to help you test our platform and see the ROI for yourself.\\n   - ### Objection\\ncustomization and implementation process\\n### Resolution\\nWe'll provide you with a customized proposal outlining the scope of work, timeline, and pricing. You'll have a dedicated customer success manager to ensure a smooth implementation and to provide ongoing support.\\n# Insights\\n   - Improving customer experience and increasing energy efficiency are key goals for Schneider Electric\\n   - Schneider Electric is struggling with high churn rates and reducing carbon footprint\\n   - Schneider Electric is interested in exploring digital adoption platforms to achieve their goals\\n# Improvements\\n   - Provide more clarity on pricing and customization options\\n   - Offer a more personalized demo to address specific pain points\\n   - Emphasize the ROI and benefits of implementing Whatfix's digital adoption platform\",\n",
       " \"# Interested_Features\\n   - ### Name\\nInteractive Guides\\n### Description\\nenable users to learn and adapt to new software applications and features through interactive and immersive experiences\\n### Pain_Point\\nhigh churn rates\\n   - ### Name\\nAnalytics\\n### Description\\nprovide insights and analytics to help organizations measure the effectiveness of their digital adoption strategy and identify areas for improvement\\n### Pain_Point\\nimproving customer experience and increasing energy efficiency\\n   - ### Name\\nTraining\\n### Description\\noffers personalized and interactive training experiences to help users develop skills and proficiency in using software applications\\n### Pain_Point\\nimproving customer experience and increasing energy efficiency\\n   - ### Name\\nPerformance Support\\n### Description\\nprovides real-time support and feedback to users within the software application to help them complete tasks efficiently and effectively\\n### Pain_Point\\nimproving customer experience and increasing energy efficiency\\n# Skeptical_Features\\n   - ### Name\\nCustomization and Implementation\\n### Description\\ncustomized proposal outlining the scope of work, timeline, and pricing\\n### Objection\\nconcerns about the time and resources required to implement the platform\\n# Objections_Raised\\n   - concerns about the time and resources required to implement the platform\\n   - ROI expectations\\n# Stakeholder_Engagement\\n   - ### Stakeholder\\nJohn, Head of Digital Transformation at Schneider Electric\\n### Engagement_Level\\nhigh\\n# Feedback\\nThank you for the demo and for addressing our concerns.\\n\\n# Demo_Features\\n   - ### Name\\nInteractive Guides\\n### Description\\nenable users to learn and adapt to new software applications and features through interactive and immersive experiences\\n   - ### Name\\nAnalytics\\n### Description\\nprovide insights and analytics to help organizations measure the effectiveness of their digital adoption strategy and identify areas for improvement\\n   - ### Name\\nTraining\\n### Description\\noffers personalized and interactive training experiences to help users develop skills and proficiency in using software applications\\n   - ### Name\\nPerformance Support\\n### Description\\nprovides real-time support and feedback to users within the software application to help them complete tasks efficiently and effectively\\n# Objection_Handling\\n   - ### Objection\\nconcerns about the time and resources required to implement the platform\\n### Resolution\\ncustomized proposal outlining the scope of work, timeline, and pricing\\n### Status\\nTrue\\n   - ### Objection\\nROI expectations\\n### Resolution\\ncustomized ROI calculation based on the buyer's specific needs and goals\\n### Status\\nTrue\\n# Success_Stories\\n   - one of our clients in the energy sector saw a 30% reduction in churn rates and a 25% increase in customer satisfaction\\n# Assets_Used\\n   - presentation outlining the features and benefits of our digital adoption platform\\n   - video showcasing our Interactive Guides feature\\n   - document highlighting our success stories and case studies\\n# Customizations\\n   - customized proposal outlining the scope of work, timeline, and pricing\\n# Engagement_Questions\\n   - Can you tell me a little bit more about what you mean by these challenges and how they're impacting your business?\",\n",
       " \"# Pain_Points\\n   - adapting to changing customer behavior and preferences\\n   - risk and compliance management\\n   - low user adoption rates\\n   - ensuring employees are effectively using digital banking platforms and tools\\n# Objections\\n   - pricing model\\n   - implementation costs\\n# Time_Lines\\n   - implementation timelines\\n# Success_Indicators\\n   - measure the effectiveness of digital banking initiatives\\n   - identify opportunities for improvement\\n   - optimize the user experience and improve engagement\\n# Budget_Constraints\\n   - $15,500.00 per month\\n# Competition\\n# Decision_Committee\\n   - other stakeholders involved in the decision-making process\\n\\n# Discovery_Questions\\n   - Can you tell me a little bit about your current digital banking initiatives and what you're hoping to achieve?\\n   - Can you tell me more about your current approach to employee training and onboarding for your digital banking platforms? How do you currently support your employees in terms of guidance and performance?\\n   - What are the timelines for implementation?\\n# Decision_Making_Process_Questions\\n   - Who else is involved in the decision-making process for this type of solution?\\n   - What are the timelines for implementation?\\n# Objection_Resolution_Pairs\\n   - ### Objection\\npricing model\\n### Resolution\\nWhatfix pricing is based on two components: a flat per-application fee, plus user license fees. We also offer a free trial and premium subscription plans starting at $15,500.00 per month.\\n   - ### Objection\\nimplementation costs\\n### Resolution\\nWe can discuss the implementation timelines and process in more detail.\\n# Insights\\n   - ICICI Bank is facing challenges in adapting to changing customer behavior and preferences\\n   - Risk and compliance management is a concern for ICICI Bank\\n   - Low user adoption rates of digital banking platforms and tools are a challenge for ICICI Bank\\n   - ICICI Bank wants to measure the effectiveness of their digital banking initiatives and identify opportunities for improvement\\n   - ICICI Bank wants to optimize the user experience and improve engagement\\n# Improvements\\n   - The seller could have asked more specific questions about the current digital banking initiatives and their goals\\n   - The seller could have provided more information about the implementation process and timelines\\n   - The seller could have addressed the pricing model objection more effectively\",\n",
       " \"# Interested_Features\\n   - ### Name\\nInteractive guides\\n### Description\\nProvides step-by-step walkthroughs and contextualized guidance to support employees\\n### Pain_Point\\nLow user adoption rates\\n   - ### Name\\nFlows\\n### Description\\nEnables creation of customized workflows and automation of tasks\\n### Pain_Point\\nRisk and compliance management\\n# Skeptical_Features\\n   - ### Name\\nScalability and integration\\n### Description\\nEnsures seamless integration with existing systems\\n### Objection\\nHow does the solution ensure scalability and integration with our existing systems?\\n   - ### Name\\nPricing model and implementation costs\\n### Description\\nBased on a flat per-application fee, plus user license fees\\n### Objection\\nWhat is the pricing model and implementation costs?\\n# Objections_Raised\\n   - How does the solution ensure scalability and integration with our existing systems?\\n   - What is the pricing model and implementation costs?\\n# Stakeholder_Engagement\\n   - ### Stakeholder\\nPiyush\\n### Engagement_Level\\nHigh\\n   - ### Stakeholder\\nRohan\\n### Engagement_Level\\nMedium\\n# Feedback\\nThank you for the demo, it was very informative.\\n\\n# Demo_Features\\n   - ### Name\\nInteractive guides\\n### Description\\nProvides step-by-step walkthroughs and contextualized guidance to support employees\\n   - ### Name\\nFlows\\n### Description\\nEnables creation of customized workflows and automation of tasks\\n# Objection_Handling\\n   - ### Objection\\nHow does this feature address our risk and compliance management concerns?\\n### Resolution\\nOur flows feature is designed to reduce risk and compliance management concerns by enabling you to create customized workflows and automate tasks\\n### Status\\nTrue\\n   - ### Objection\\nHow do you ensure that your solution is scalable and can integrate with our existing systems?\\n### Resolution\\nOur digital adoption platform is designed to be scalable and can integrate with your existing systems\\n### Status\\nTrue\\n   - ### Objection\\nWhat is the pricing model and implementation costs?\\n### Resolution\\nOur pricing model is based on two components: a flat per-application fee, plus user license fees. We also offer a free trial and premium subscription plans starting at $15,500.00 per month\\n### Status\\nTrue\\n# Success_Stories\\n   - HDFC Bank\\n# Assets_Used\\n# Customizations\\n# Engagement_Questions\\n   - Before I summarize the demo, I'd like to ask if you have any other questions or concerns about our digital adoption platform?\",\n",
       " \"# Pain_Points\\n   - maximizing technology investments\\n   - driving user adoption\\n   - balancing oil demand with climate goals\\n   - not seeing ROI on technology investments\\n   - users not adopting new tools quickly enough\\n   - impacting productivity and efficiency\\n# Objections\\n   - integration with existing systems\\n   - customization options\\n   - cost and implementation timeline\\n# Time_Lines\\n   - 2-3 months for making a decision on a digital adoption platform\\n   - 6-12 weeks for implementation\\n# Success_Indicators\\n   - user adoption rates\\n   - time to proficiency\\n   - ROI of the digital adoption platform\\n# Budget_Constraints\\n# Competition\\n# Decision_Committee\\n   - IT\\n   - operations\\n   - business leaders\\n   - Wael Sawan (CEO)\\n   - Mark (Shell icon)\\n   - Shareholders\\n\\n# Discovery_Questions\\n   - Can you tell me more about what you mean by 'maximizing technology investments'?\\n   - What specific challenges are you facing in this area?\\n   - What kind of customization options do you offer?\\n   - What's the typical implementation timeline and cost for a organization of our size?\\n   - Who else would need to be involved in this decision?\\n   - What kind of success indicators do you typically track for a digital adoption platform like Whatfix?\\n   - What's the timeline for making a decision on a digital adoption platform like Whatfix?\\n# Decision_Making_Process_Questions\\n   - Who else would need to be involved in this decision?\\n   - What's the decision-making process like for implementing a digital adoption platform like Whatfix?\\n# Objection_Resolution_Pairs\\n   - ### Objection\\nintegration with existing systems\\n### Resolution\\nWe've worked with many organizations with custom-built applications, and we've developed a robust integration framework that allows us to integrate with a wide range of systems. We can also provide custom API integrations if needed.\\n   - ### Objection\\ncustomization options\\n### Resolution\\nWe offer a high degree of customization to meet the unique needs of our customers. Our platform allows you to tailor the user experience to your specific brand and requirements.\\n   - ### Objection\\ncost and implementation timeline\\n### Resolution\\nOur implementation timeline typically ranges from 6-12 weeks, depending on the complexity of the implementation. As for cost, we offer a custom pricing model that takes into account the specific needs and requirements of our customers.\\n# Insights\\n   - Shell is facing challenges in maximizing technology investments and driving user adoption\\n   - Shell is struggling to balance oil demand with climate goals\\n   - Shell's users are not adopting new tools quickly enough, impacting productivity and efficiency\\n   - Shell is concerned about integration with existing systems\\n   - Shell needs a high degree of customization to meet their unique requirements\\n   - Shell is concerned about the cost and implementation timeline of a digital adoption platform\\n# Improvements\\n   - The seller could have probed deeper into Shell's pain points and challenges\\n   - The seller could have provided more specific examples of how Whatfix has helped similar organizations\\n   - The seller could have emphasized Whatfix's differentiators from competitors\\n   - The seller could have provided a clearer explanation of the implementation timeline and cost\",\n",
       " \"# Interested_Features\\n   - ### Name\\nin-app guidance feature\\n### Description\\nreal-time, contextual guidance to users as they navigate through an application\\n### Pain_Point\\nimprove user adoption rates and reduce the time it takes for employees to become proficient in new tools\\n   - ### Name\\nanalytics feature\\n### Description\\nprovides insights into user behavior, helping organizations identify areas of improvement and track the effectiveness of their training programs\\n### Pain_Point\\nimprove user adoption rates and reduce the time it takes for employees to become proficient in new tools\\n   - ### Name\\ncustomization options\\n### Description\\ntailor the user experience to the specific brand and requirements\\n### Pain_Point\\nbalance oil demand with climate goals\\n# Skeptical_Features\\n   - ### Name\\nintegration\\n### Description\\nintegration with existing systems\\n### Objection\\nconcern about integrating with existing systems\\n   - ### Name\\ncost and implementation timeline\\n### Description\\ncustom pricing model and implementation timeline\\n### Objection\\nconcern about cost and implementation timeline\\n# Objections_Raised\\n   - concern about integrating with existing systems\\n   - concern about cost and implementation timeline\\n# Stakeholder_Engagement\\n   - ### Stakeholder\\nWael Sawan (CEO)\\n### Engagement_Level\\nhigh\\n   - ### Stakeholder\\nMark (Shell icon)\\n### Engagement_Level\\nhigh\\n   - ### Stakeholder\\nIT\\n### Engagement_Level\\nmedium\\n   - ### Stakeholder\\nOperations\\n### Engagement_Level\\nmedium\\n# Feedback\\nThank you for the demo. We'll be in touch soon to discuss next steps.\\n\\n# Demo_Features\\n   - ### Name\\nin-app guidance feature\\n### Description\\nreal-time, contextual guidance to users as they navigate through an application\\n   - ### Name\\nanalytics feature\\n### Description\\nprovides insights into user behavior, helping organizations identify areas of improvement and track the effectiveness of their training programs\\n   - ### Name\\ncustomization options\\n### Description\\ntailor the user experience to the specific brand and requirements\\n# Objection_Handling\\n   - ### Objection\\nconcern about integrating with existing systems\\n### Resolution\\nWe've developed a robust integration framework that allows us to integrate with a wide range of systems. We can also provide custom API integrations if needed.\\n### Status\\nTrue\\n   - ### Objection\\nconcern about cost and implementation timeline\\n### Resolution\\nOur implementation timeline typically ranges from 6-12 weeks, depending on the complexity of the implementation. As for cost, we offer a custom pricing model that takes into account the specific needs and requirements of our customers.\\n### Status\\nTrue\\n# Success_Stories\\n   - British Petroleum, who saw a significant increase in user adoption rates after implementing our platform\\n# Assets_Used\\n   - case studies\\n   - ROI analysis\\n# Customizations\\n   - custom API integrations\\n   - tailor the user experience to the specific brand and requirements\\n# Engagement_Questions\\n   - Can you tell me a little bit about what you're hoping to get out of this demo today?\",\n",
       " \"# Pain_Points\\n   - low user engagement\\n   - inefficient use of technology investments\\n   - steep learning curve\\n   - limited customization options\\n# Objections\\n   - concerns about the steep learning curve\\n   - limited customization options\\n# Time_Lines\\n   - within the next 24 hours\\n# Success_Indicators\\n   - improve user adoption rates\\n   - reduce support requests\\n   - amplify human potential and create the next opportunity for people, businesses, and society\\n# Budget_Constraints\\n# Competition\\n   - WalkMe\\n   - Pendo\\n   - Userpilot\\n# Decision_Committee\\n   - Ramesh, a Digital Transformation Consultant at Infosys\\n\\n# Discovery_Questions\\n   - Can you start by sharing a little bit about your role and what brings you to this call?\\n   - Can you elaborate on what you mean by improving software experiences for your clients? What specific pain points are you trying to address?\\n   - Have you considered any other digital adoption platforms in the past?\\n   - Can I walk you through a demo of our platform to show you how it can address your specific needs?\\n   - Can you provide more information on your pricing model and what kind of ROI we can expect from implementing Whatfix?\\n# Decision_Making_Process_Questions\\n   - What is the typical process for evaluating and implementing a new digital adoption platform within Infosys?\\n   - Who else will be involved in the decision-making process for this purchase?\\n# Objection_Resolution_Pairs\\n   - ### Objection\\nconcerns about the steep learning curve\\n### Resolution\\nWhatfix is designed to be highly customizable and scalable to meet the needs of large enterprises like Infosys. Our platform can integrate with a wide range of systems and tools, and our support team is dedicated to ensuring a smooth implementation process.\\n   - ### Objection\\nlimited customization options\\n### Resolution\\nWhatfix provides a range of features that can help you improve user adoption, streamline software adoption processes, and enhance your clients' overall software experiences. Our platform is highly customizable to meet the specific needs of your business.\\n# Insights\\n   - Infosys is looking for a digital adoption platform that can help them improve their clients' software experiences and enhance their own digital transformation capabilities.\\n   - Whatfix's platform can provide personalized onboarding, contextual help, and analytics to help Infosys better understand user behavior.\\n   - Infosys has evaluated other digital adoption platforms in the past, including WalkMe, Pendo, and Userpilot, but has concerns about the steep learning curve and limited customization options.\\n# Improvements\\n   - The seller could have asked more questions about Infosys's current software adoption processes and pain points to better understand their needs.\\n   - The seller could have provided more specific examples of how Whatfix's platform has helped similar companies in the past.\\n   - The seller could have emphasized Whatfix's differentiators, such as advanced analytics and AI-powered guidance, to further differentiate themselves from competitors.\",\n",
       " \"# Interested_Features\\n   - ### Name\\nIn-App Guidance\\n### Description\\nProvides step-by-step guidance to users within software applications\\n### Pain_Point\\nImproving user adoption rates\\n   - ### Name\\nContextual Messages\\n### Description\\nDelivers personalized messages to users based on their actions and behavior within the application\\n### Pain_Point\\nReducing support requests and improving user engagement\\n   - ### Name\\nAdvanced Analytics\\n### Description\\nProvides robust insights into user behavior, allowing for identification of areas for improvement and optimization of application performance\\n### Pain_Point\\nImproving user adoption rates and reducing support requests\\n   - ### Name\\nAI-Powered Guidance\\n### Description\\nUses artificial intelligence to provide intelligent and contextual guidance to users, even in complex workflows\\n### Pain_Point\\nAddressing complex software applications with multiple workflows\\n# Skeptical_Features\\n   - ### Name\\nCustomization Options\\n### Description\\nAbility to customize the platform to meet specific business needs\\n### Objection\\nLimited customization options\\n   - ### Name\\nImplementation\\n### Description\\nEase of implementation and scalability of the platform\\n### Objection\\nSteep learning curve\\n# Objections_Raised\\n   - Limited customization options\\n   - Steep learning curve\\n# Stakeholder_Engagement\\n   - ### Stakeholder\\nRamesh\\n### Engagement_Level\\nHigh\\n# Feedback\\nThank you for the comprehensive demo. We'll review the information and discuss next steps internally.\\n\\n# Demo_Features\\n   - ### Name\\nIn-App Guidance\\n### Description\\nProvides step-by-step guidance to users within software applications\\n   - ### Name\\nContextual Messages\\n### Description\\nDelivers personalized messages to users based on their actions and behavior within the application\\n   - ### Name\\nAdvanced Analytics\\n### Description\\nProvides robust insights into user behavior, allowing for identification of areas for improvement and optimization of application performance\\n   - ### Name\\nAI-Powered Guidance\\n### Description\\nUses artificial intelligence to provide intelligent and contextual guidance to users, even in complex workflows\\n   - ### Name\\nDigital Adoption Platform\\n### Description\\nProvides in-app guidance, training, and performance support for web applications and software\\n# Objection_Handling\\n   - ### Objection\\nHow do you handle complex software applications with multiple workflows?\\n### Resolution\\nWe've worked with numerous clients who have complex software applications. Our AI-Powered Guidance feature uses artificial intelligence to provide intelligent and contextual guidance to users, even in the most complex workflows.\\n### Status\\nTrue\\n   - ### Objection\\nWe've tried similar features with other digital adoption platforms, but they didn't quite meet our needs. How do you ensure that your platform can meet our specific requirements?\\n### Resolution\\nAt Whatfix, we pride ourselves on our ability to customize our platform to meet the unique needs of our clients. We've worked with numerous enterprises, including those in the IT consulting space, and have a proven track record of delivering tailored solutions.\\n### Status\\nTrue\\n# Success_Stories\\n   - One of our clients, a large IT consulting firm, saw a 30% reduction in support requests and a 25% increase in user adoption rates within the first six months of implementation\\n# Assets_Used\\n   - Presentation\\n# Customizations\\n   - Customization options to meet specific business needs\\n# Engagement_Questions\\n   - Before we dive in, I just want to confirm that we have Ramesh, our primary decision-maker, on the call.\",\n",
       " \"# Pain_Points\\n   - Getting employees to adopt new digital tools and systems\\n   - Providing a seamless customer experience across all touchpoints\\n   - Inefficient customer support processes\\n   - Lack of automation and streamlining of processes\\n   - Inefficient use of data and analytics to understand customers\\n# Objections\\n   - Need to understand how Whatfix's platform works\\n   - Need to understand the ROI of Whatfix's platform\\n   - Concerns about integration with existing systems and tools\\n# Time_Lines\\n   - Implementing a new digital adoption platform within the next 6-12 months\\n# Success_Indicators\\n   - Improving customer satisfaction\\n   - Reducing costs\\n   - Providing a more seamless customer experience\\n# Budget_Constraints\\n# Competition\\n# Decision_Committee\\n   - CEO\\n   - Board of Management\\n   - Other senior leaders\\n\\n# Discovery_Questions\\n   - Can you please introduce yourself and tell me a little bit about your role and what you're hoping to achieve from our conversation today?\\n   - What are some of the specific issues you're facing in terms of digital transformation, and how do you think Whatfix's platform can help address those challenges?\\n   - Can you tell me a little bit more about your current customer experience strategy and how you're measuring success?\\n   - How does Whatfix's platform integrate with existing systems and tools, and can it help us to achieve our customer experience goals?\\n   - Can you tell me a little bit more about your existing technology stack and what kind of integrations you would need?\\n   - Can you tell me a little bit more about your decision-making process and timeline for implementing a new digital adoption platform?\\n# Decision_Making_Process_Questions\\n   - Can you tell me a little bit more about your decision-making process and timeline for implementing a new digital adoption platform?\\n   - Are there any other stakeholders or team members who would need to be involved in the decision-making process?\\n# Objection_Resolution_Pairs\\n   - ### Objection\\nNeed to understand how Whatfix's platform works\\n### Resolution\\nWhatfix's platform is designed to provide personalized guidance and support to users, helping them to adopt new systems and tools quickly and efficiently.\\n   - ### Objection\\nNeed to understand the ROI of Whatfix's platform\\n### Resolution\\nWhatfix's platform can help you to track user behavior, identify areas for improvement, and measure the success of your customer experience initiatives.\\n   - ### Objection\\nConcerns about integration with existing systems and tools\\n### Resolution\\nWhatfix's platform is designed to integrate seamlessly with existing systems and tools, so we can work with your current technology stack to provide a customized solution.\\n# Insights\\n   - Mercedes Benz is facing increasing competition in the automotive market\\n   - Mercedes Benz is looking to accelerate their digital transformation journey\\n   - Mercedes Benz is struggling to provide a seamless customer experience across all touchpoints\\n   - Mercedes Benz is looking to automate and streamline their processes to reduce costs and improve customer satisfaction\\n# Improvements\\n   - The seller could have provided more specific examples of how Whatfix's platform has helped other companies in the automotive industry to accelerate their digital transformation journeys\\n   - The seller could have asked more questions to understand Mercedes Benz's current technology stack and integration requirements\\n   - The seller could have provided more information about Whatfix's implementation timelines and resource requirements\",\n",
       " \"# Interested_Features\\n   - ### Name\\nIn-app guidance\\n### Description\\nProvides step-by-step guidance to users within the application, helping them to complete tasks efficiently and effectively.\\n### Pain_Point\\n difficulty in completing tasks efficiently\\n   - ### Name\\nAnalytics\\n### Description\\nProvides real-time insights into user behavior, allowing companies to identify areas for improvement and measure the success of customer experience initiatives.\\n### Pain_Point\\ndifficulty in tracking user behavior and identifying areas for improvement\\n   - ### Name\\nCustomization and personalization\\n### Description\\nOffers a high degree of customization and personalization for clients, providing personalized guidance and support to users based on their role, location, and other factors.\\n### Pain_Point\\nneed for customization and personalization\\n# Skeptical_Features\\n   - ### Name\\nIntegration\\n### Description\\nIntegrates seamlessly with existing systems and tools.\\n### Objection\\nuncertainty about how the platform integrates with existing systems and tools\\n   - ### Name\\nTracking user behavior\\n### Description\\nProvides real-time insights into user behavior.\\n### Objection\\nuncertainty about how the platform tracks user behavior\\n# Objections_Raised\\n   - Uncertainty about how the platform integrates with existing systems and tools\\n   - Uncertainty about how the platform tracks user behavior\\n   - Need for customization and personalization\\n# Stakeholder_Engagement\\n   - ### Stakeholder\\nCEO\\n### Engagement_Level\\nhigh\\n   - ### Stakeholder\\nBoard of Management\\n### Engagement_Level\\nhigh\\n   - ### Stakeholder\\nSenior Leaders\\n### Engagement_Level\\nhigh\\n# Feedback\\nThe demo was impressive, and we're interested in seeing how Whatfix's platform can help us improve customer satisfaction and reduce costs.\\n\\n# Demo_Features\\n   - ### Name\\nIn-app guidance\\n### Description\\nProvides step-by-step guidance to users within the application, helping them to complete tasks efficiently and effectively.\\n   - ### Name\\nAnalytics\\n### Description\\nProvides real-time insights into user behavior, allowing companies to identify areas for improvement and measure the success of customer experience initiatives.\\n   - ### Name\\nCustomization and personalization\\n### Description\\nOffers a high degree of customization and personalization for clients, providing personalized guidance and support to users based on their role, location, and other factors.\\n   - ### Name\\nIntegration\\n### Description\\nIntegrates seamlessly with existing systems and tools.\\n# Objection_Handling\\n   - ### Objection\\nUncertainty about how the platform integrates with existing systems and tools\\n### Resolution\\nOur platform is designed to integrate seamlessly with existing systems and tools.\\n### Status\\nTrue\\n   - ### Objection\\nUncertainty about how the platform tracks user behavior\\n### Resolution\\nOur analytics feature provides real-time insights into user behavior, allowing companies to identify areas for improvement and measure the success of customer experience initiatives.\\n### Status\\nTrue\\n   - ### Objection\\nNeed for customization and personalization\\n### Resolution\\nWe offer a high degree of customization and personalization for our clients, providing personalized guidance and support to users based on their role, location, and other factors.\\n### Status\\nTrue\\n# Success_Stories\\n   - One of our clients in the automotive industry saw a 30% reduction in support costs and a 25% increase in customer satisfaction after implementing our platform.\\n# Assets_Used\\n   - Presentation\\n   - Demo\\n# Customizations\\n   - Custom content and integrations\\n   - Personalized guidance and support based on role, location, and other factors\\n# Engagement_Questions\\n   - How does Whatfix's platform integrate with your existing systems and tools?\\n   - How can Whatfix's platform help you to track user behavior and identify areas for improvement?\\n   - How can Whatfix's platform be customized to meet your specific needs and requirements?\",\n",
       " \"# Pain_Points\\n   - maintaining customer loyalty\\n   - staying ahead of the competition\\n   - ensuring customers have the best possible experience across various channels\\n   - change management\\n   - training\\n# Objections\\n   - unsure about which digital adoption platform to choose\\n   - need to ensure tangible business outcomes\\n   - concerns about implementation and adoption\\n# Time_Lines\\n# Success_Indicators\\n   - tangible business outcomes\\n# Budget_Constraints\\n# Competition\\n   - WalkMe\\n   - Pendo\\n   - Userpilot\\n# Decision_Committee\\n\\n# Discovery_Questions\\n   - Can you tell me a bit more about your current challenges and goals?\\n   - Have you considered how digital adoption platforms like Whatfix can help you achieve your goals?\\n# Decision_Making_Process_Questions\\n   - What are the next steps?\\n   - Is there a specific timeline you're working with for implementing a digital adoption platform?\\n# Objection_Resolution_Pairs\\n   - ### Objection\\nunsure about which digital adoption platform to choose\\n### Resolution\\nI'd be happy to walk you through a demo and show you how Whatfix can help address your specific pain points.\\n   - ### Objection\\nneed to ensure tangible business outcomes\\n### Resolution\\nWe've seen our customers achieve significant ROI from using Whatfix. For example, [similar organization] saw a 30% increase in user adoption and a 25% reduction in support requests after implementing our platform. We'd be happy to work with you to develop a customized ROI model based on your specific needs and goals.\\n   - ### Objection\\nconcerns about implementation and adoption\\n### Resolution\\nWe understand the importance of proper implementation and adoption. That's why we offer a comprehensive onboarding process, including dedicated customer success managers, training, and support resources. We'll work closely with your team to ensure a smooth transition and provide ongoing support to guarantee your success.\\n# Insights\\n   - Marks and Spencer is struggling to maintain customer loyalty and stay ahead of the competition\\n   - They are looking for a digital adoption platform to help them achieve their goals\\n   - They are interested in seeing a demo and understanding the ROI of implementing Whatfix\\n   - They have concerns about implementation and adoption\\n# Improvements\\n   - Whatfix should emphasize the benefits of their solution in terms of tangible business outcomes\\n   - Whatfix should provide more information on their implementation and adoption process to alleviate concerns\\n   - Whatfix should be prepared to address questions about how they differ from competitors\",\n",
       " \"# Interested_Features\\n   - ### Name\\nIn-app Guidance\\n### Description\\nSimplifies complex user interfaces and reduces the time it takes for customers to achieve their desired outcomes\\n### Pain_Point\\nMaintaining customer loyalty and staying ahead of the competition\\n   - ### Name\\nInteractive Guides\\n### Description\\nProvides step-by-step instructions to help users complete tasks efficiently\\n### Pain_Point\\nComplex workflows or onboarding processes\\n   - ### Name\\nAnalytics Module\\n### Description\\nProvides insights on user behavior to optimize the application experience\\n### Pain_Point\\nIdentifying areas of friction and opportunity to improve the overall user experience\\n# Skeptical_Features\\n   - ### Name\\nChange Management\\n### Description\\nComprehensive onboarding process, including dedicated customer success managers, training, and support resources\\n### Objection\\nConcerns about adoption rates in the past\\n   - ### Name\\nCompetitive Advantage\\n### Description\\nAbility to provide a seamless, 100% native in-app experience\\n### Objection\\nDifferentiation from competitors like WalkMe and Pendo\\n# Objections_Raised\\n   - How do you address the concern of change management?\\n   - How do you differentiate yourselves from competitors like WalkMe and Pendo?\\n# Stakeholder_Engagement\\n   - ### Stakeholder\\nJohn, IT Director\\n### Engagement_Level\\nHigh\\n   - ### Stakeholder\\nRachel, Customer Experience Manager\\n### Engagement_Level\\nMedium\\n   - ### Stakeholder\\nMichael, Training and Development Manager\\n### Engagement_Level\\nMedium\\n# Feedback\\nImpressed with the features and capabilities demonstrated during the sales demo\\n\\n# Demo_Features\\n   - ### Name\\nIn-app Guidance\\n### Description\\nSimplifies complex user interfaces and reduces the time it takes for customers to achieve their desired outcomes\\n   - ### Name\\nInteractive Guides\\n### Description\\nProvides step-by-step instructions to help users complete tasks efficiently\\n   - ### Name\\nAnalytics Module\\n### Description\\nProvides insights on user behavior to optimize the application experience\\n# Objection_Handling\\n   - ### Objection\\nHow do you address the concern of change management?\\n### Resolution\\nComprehensive onboarding process, including dedicated customer success managers, training, and support resources\\n### Status\\nTrue\\n   - ### Objection\\nHow do you differentiate yourselves from competitors like WalkMe and Pendo?\\n### Resolution\\nAbility to provide a seamless, 100% native in-app experience\\n### Status\\nTrue\\n# Success_Stories\\n   - similar organization which saw a 30% increase in user adoption and a 25% reduction in support requests\\n# Assets_Used\\n# Customizations\\n   - highly customizable and can be tailored to fit your brand's look and feel\\n# Engagement_Questions\\n   - Can you please introduce yourselves?\\n   - Are there any other questions or areas you'd like to discuss further?\",\n",
       " \"# Pain_Points\\n   - struggling to provide a seamless onboarding experience for students\\n   - faculty members are overwhelmed with different systems and applications\\n   - limited funding for research and programs\\n   - current onboarding process is not scalable\\n   - current onboarding process is not providing the level of support needed\\n# Objections\\n# Time_Lines\\n   - next 6-9 months\\n# Success_Indicators\\n   - improving student satisfaction and retention rates\\n# Budget_Constraints\\n   - limited funding for research and programs\\n   - need to ensure a strong ROI\\n# Competition\\n   - WalkMe\\n   - Pendo\\n# Decision_Committee\\n   - IT\\n   - academic affairs\\n   - student affairs\\n\\n# Discovery_Questions\\n   - Can you start by telling me a little bit about your role and what brings you here today?\\n   - What specific challenges are you facing that you're hoping a digital adoption platform can help with?\\n   - Can you tell me a little bit more about what you're hoping to achieve with a digital adoption platform?\\n   - Are there any specific metrics or KPIs that you're trying to improve?\\n   - Can you tell me a little bit more about your current onboarding process for students and faculty members?\\n   - What do you currently use to support them?\\n   - Have you considered any other digital adoption platforms besides Whatfix?\\n   - Are there any other solutions that you're evaluating right now?\\n   - What's the timeline looking like for this project?\\n# Decision_Making_Process_Questions\\n   - Can you tell me a little bit more about your decision-making process for this project?\\n   - Who else is involved, and what are the key factors that you'll be considering when making a decision?\\n# Objection_Resolution_Pairs\\n   - ### Objection\\nlimited funding for research and programs\\n### Resolution\\nWe'll make sure to provide you with a customized proposal that outlines how our solution can help you achieve your goals while also being mindful of your budget constraints.\\n# Insights\\n   - The University of Illinois is struggling to provide a seamless onboarding experience for students and faculty members.\\n   - They are facing challenges with limited funding for research and programs.\\n   - They are looking for a digital adoption platform that can provide a strong ROI and help them achieve their goals.\\n   - They are evaluating multiple solutions, including WalkMe and Pendo.\\n# Improvements\\n   - The seller could have asked more specific questions about the University's current onboarding process and pain points.\\n   - The seller could have provided more detailed information about Whatfix's pricing model and how it can meet the University's budget constraints.\",\n",
       " \"# Interested_Features\\n   - ### Name\\nIn-app guidance feature\\n### Description\\nProvides step-by-step guidance to users within the application, helping them navigate and complete tasks efficiently.\\n### Pain_Point\\nOnboarding challenges and difficulties faced by students and faculty members.\\n   - ### Name\\nNo-code editor\\n### Description\\nEmpowers the team to create in-app guidance without requiring extensive coding knowledge, reducing development time and costs.\\n### Pain_Point\\nCustomization requirements for onboarding process and reducing development time and costs.\\n# Skeptical_Features\\n   - ### Name\\nScalability\\n### Description\\nThe platform's ability to adapt to the growing needs of the University of Illinois.\\n### Objection\\nConcerns about the platform's scalability to meet the growing needs of the university.\\n   - ### Name\\nPricing model\\n### Description\\nCustomized pricing model tailored to the university's specific needs, ensuring a strong ROI.\\n### Objection\\nLimited funding for research and programs, requiring a strong ROI.\\n# Objections_Raised\\n   - Scalability concerns\\n   - Pricing model concerns\\n# Stakeholder_Engagement\\n   - ### Stakeholder\\nUniversity of Illinois - IT\\n### Engagement_Level\\nHigh\\n   - ### Stakeholder\\nUniversity of Illinois - Academic Affairs\\n### Engagement_Level\\nHigh\\n   - ### Stakeholder\\nUniversity of Illinois - Student Affairs\\n### Engagement_Level\\nMedium\\n# Feedback\\nPositive feedback, interested in moving forward with the next steps, and looking forward to reviewing the proposal and discussing further.\\n\\n# Demo_Features\\n   - ### Name\\nIn-app guidance feature\\n### Description\\nProvides step-by-step guidance to users within the application, helping them navigate and complete tasks efficiently.\\n   - ### Name\\nNo-code editor\\n### Description\\nEmpowers the team to create in-app guidance without requiring extensive coding knowledge, reducing development time and costs.\\n# Objection_Handling\\n   - ### Objection\\nScalability concerns\\n### Resolution\\nOur platform is designed to be scalable, so it can adapt to your growing needs and ensure a seamless experience for users.\\n### Status\\nTrue\\n   - ### Objection\\nPricing model concerns\\n### Resolution\\nWe offer customized pricing that is tailored to your specific needs, ensuring a strong ROI and meeting your budget constraints.\\n### Status\\nTrue\\n# Success_Stories\\n   - XYZ University, who have seen a significant improvement in their onboarding process and user adoption rates.\\n# Assets_Used\\n# Customizations\\n   - No-code editor for customization\\n# Engagement_Questions\\n   - Have you all had a chance to review the agenda we sent over prior to this call?\\n   - Is that correct?\",\n",
       " \"# Pain_Points\\n   - customers having trouble navigating software\\n   - high churn rate\\n   - struggling to reduce carbon footprint\\n   - meeting sustainability goals\\n# Objections\\n   - pricing model concerns\\n   - customization and implementation process\\n# Time_Lines\\n# Success_Indicators\\n# Budget_Constraints\\n   - large-scale enterprise budget\\n# Competition\\n# Decision_Committee\\n   - John, the Head of Digital Transformation at Schneider Electric\\n\\n# Discovery_Questions\\n   - Can you start by telling me a little bit about your role and what brings you to this call?\\n   - Can you tell me more about what you mean by improving customer experience and increasing energy efficiency? What specific pain points are you trying to address?\\n# Decision_Making_Process_Questions\\n# Objection_Resolution_Pairs\\n   - ### Objection\\npricing model concerns\\n### Resolution\\nOur pricing model is based on the number of users and the level of customization you need. We have a tiered pricing structure, with discounts for larger enterprises. We also offer a free trial and a pilot program to help you test our platform and see the ROI for yourself.\\n   - ### Objection\\ncustomization and implementation process\\n### Resolution\\nWe'll provide you with a customized proposal outlining the scope of work, timeline, and pricing. You'll have a dedicated customer success manager to ensure a smooth implementation and to provide ongoing support.\\n# Insights\\n   - Improving customer experience and increasing energy efficiency are key goals for Schneider Electric\\n   - Schneider Electric is struggling with high churn rates and reducing carbon footprint\\n   - Schneider Electric is interested in exploring digital adoption platforms to achieve their goals\\n# Improvements\\n   - Provide more clarity on pricing and customization options\\n   - Offer a more personalized demo to address specific pain points\\n   - Emphasize the ROI and benefits of implementing Whatfix's digital adoption platform\",\n",
       " \"# Interested_Features\\n   - ### Name\\nInteractive Guides\\n### Description\\nenable users to learn and adapt to new software applications and features through interactive and immersive experiences\\n### Pain_Point\\nhigh churn rates\\n   - ### Name\\nAnalytics\\n### Description\\nprovide insights and analytics to help organizations measure the effectiveness of their digital adoption strategy and identify areas for improvement\\n### Pain_Point\\nimproving customer experience and increasing energy efficiency\\n   - ### Name\\nTraining\\n### Description\\noffers personalized and interactive training experiences to help users develop skills and proficiency in using software applications\\n### Pain_Point\\nimproving customer experience and increasing energy efficiency\\n   - ### Name\\nPerformance Support\\n### Description\\nprovides real-time support and feedback to users within the software application to help them complete tasks efficiently and effectively\\n### Pain_Point\\nimproving customer experience and increasing energy efficiency\\n# Skeptical_Features\\n   - ### Name\\nCustomization and Implementation\\n### Description\\ncustomized proposal outlining the scope of work, timeline, and pricing\\n### Objection\\nconcerns about the time and resources required to implement the platform\\n# Objections_Raised\\n   - concerns about the time and resources required to implement the platform\\n   - ROI expectations\\n# Stakeholder_Engagement\\n   - ### Stakeholder\\nJohn, Head of Digital Transformation at Schneider Electric\\n### Engagement_Level\\nhigh\\n# Feedback\\nThank you for the demo and for addressing our concerns.\\n\\n# Demo_Features\\n   - ### Name\\nInteractive Guides\\n### Description\\nenable users to learn and adapt to new software applications and features through interactive and immersive experiences\\n   - ### Name\\nAnalytics\\n### Description\\nprovide insights and analytics to help organizations measure the effectiveness of their digital adoption strategy and identify areas for improvement\\n   - ### Name\\nTraining\\n### Description\\noffers personalized and interactive training experiences to help users develop skills and proficiency in using software applications\\n   - ### Name\\nPerformance Support\\n### Description\\nprovides real-time support and feedback to users within the software application to help them complete tasks efficiently and effectively\\n# Objection_Handling\\n   - ### Objection\\nconcerns about the time and resources required to implement the platform\\n### Resolution\\ncustomized proposal outlining the scope of work, timeline, and pricing\\n### Status\\nTrue\\n   - ### Objection\\nROI expectations\\n### Resolution\\ncustomized ROI calculation based on the buyer's specific needs and goals\\n### Status\\nTrue\\n# Success_Stories\\n   - one of our clients in the energy sector saw a 30% reduction in churn rates and a 25% increase in customer satisfaction\\n# Assets_Used\\n   - presentation outlining the features and benefits of our digital adoption platform\\n   - video showcasing our Interactive Guides feature\\n   - document highlighting our success stories and case studies\\n# Customizations\\n   - customized proposal outlining the scope of work, timeline, and pricing\\n# Engagement_Questions\\n   - Can you tell me a little bit more about what you mean by these challenges and how they're impacting your business?\",\n",
       " \"# Pain_Points\\n   - adapting to changing customer behavior and preferences\\n   - risk and compliance management\\n   - low user adoption rates\\n   - ensuring employees are effectively using digital banking platforms and tools\\n# Objections\\n   - pricing model\\n   - implementation costs\\n# Time_Lines\\n   - implementation timelines\\n# Success_Indicators\\n   - measure the effectiveness of digital banking initiatives\\n   - identify opportunities for improvement\\n   - optimize the user experience and improve engagement\\n# Budget_Constraints\\n   - $15,500.00 per month\\n# Competition\\n# Decision_Committee\\n   - other stakeholders involved in the decision-making process\\n\\n# Discovery_Questions\\n   - Can you tell me a little bit about your current digital banking initiatives and what you're hoping to achieve?\\n   - Can you tell me more about your current approach to employee training and onboarding for your digital banking platforms? How do you currently support your employees in terms of guidance and performance?\\n   - What are the timelines for implementation?\\n# Decision_Making_Process_Questions\\n   - Who else is involved in the decision-making process for this type of solution?\\n   - What are the timelines for implementation?\\n# Objection_Resolution_Pairs\\n   - ### Objection\\npricing model\\n### Resolution\\nWhatfix pricing is based on two components: a flat per-application fee, plus user license fees. We also offer a free trial and premium subscription plans starting at $15,500.00 per month.\\n   - ### Objection\\nimplementation costs\\n### Resolution\\nWe can discuss the implementation timelines and process in more detail.\\n# Insights\\n   - ICICI Bank is facing challenges in adapting to changing customer behavior and preferences\\n   - Risk and compliance management is a concern for ICICI Bank\\n   - Low user adoption rates of digital banking platforms and tools are a challenge for ICICI Bank\\n   - ICICI Bank wants to measure the effectiveness of their digital banking initiatives and identify opportunities for improvement\\n   - ICICI Bank wants to optimize the user experience and improve engagement\\n# Improvements\\n   - The seller could have asked more specific questions about the current digital banking initiatives and their goals\\n   - The seller could have provided more information about the implementation process and timelines\\n   - The seller could have addressed the pricing model objection more effectively\",\n",
       " \"# Interested_Features\\n   - ### Name\\nInteractive guides\\n### Description\\nProvides step-by-step walkthroughs and contextualized guidance to support employees\\n### Pain_Point\\nLow user adoption rates\\n   - ### Name\\nFlows\\n### Description\\nEnables creation of customized workflows and automation of tasks\\n### Pain_Point\\nRisk and compliance management\\n# Skeptical_Features\\n   - ### Name\\nScalability and integration\\n### Description\\nEnsures seamless integration with existing systems\\n### Objection\\nHow does the solution ensure scalability and integration with our existing systems?\\n   - ### Name\\nPricing model and implementation costs\\n### Description\\nBased on a flat per-application fee, plus user license fees\\n### Objection\\nWhat is the pricing model and implementation costs?\\n# Objections_Raised\\n   - How does the solution ensure scalability and integration with our existing systems?\\n   - What is the pricing model and implementation costs?\\n# Stakeholder_Engagement\\n   - ### Stakeholder\\nPiyush\\n### Engagement_Level\\nHigh\\n   - ### Stakeholder\\nRohan\\n### Engagement_Level\\nMedium\\n# Feedback\\nThank you for the demo, it was very informative.\\n\\n# Demo_Features\\n   - ### Name\\nInteractive guides\\n### Description\\nProvides step-by-step walkthroughs and contextualized guidance to support employees\\n   - ### Name\\nFlows\\n### Description\\nEnables creation of customized workflows and automation of tasks\\n# Objection_Handling\\n   - ### Objection\\nHow does this feature address our risk and compliance management concerns?\\n### Resolution\\nOur flows feature is designed to reduce risk and compliance management concerns by enabling you to create customized workflows and automate tasks\\n### Status\\nTrue\\n   - ### Objection\\nHow do you ensure that your solution is scalable and can integrate with our existing systems?\\n### Resolution\\nOur digital adoption platform is designed to be scalable and can integrate with your existing systems\\n### Status\\nTrue\\n   - ### Objection\\nWhat is the pricing model and implementation costs?\\n### Resolution\\nOur pricing model is based on two components: a flat per-application fee, plus user license fees. We also offer a free trial and premium subscription plans starting at $15,500.00 per month\\n### Status\\nTrue\\n# Success_Stories\\n   - HDFC Bank\\n# Assets_Used\\n# Customizations\\n# Engagement_Questions\\n   - Before I summarize the demo, I'd like to ask if you have any other questions or concerns about our digital adoption platform?\",\n",
       " \"# Pain_Points\\n   - maximizing technology investments\\n   - driving user adoption\\n   - balancing oil demand with climate goals\\n   - not seeing ROI on technology investments\\n   - users not adopting new tools quickly enough\\n   - impacting productivity and efficiency\\n# Objections\\n   - integration with existing systems\\n   - customization options\\n   - cost and implementation timeline\\n# Time_Lines\\n   - 2-3 months for making a decision on a digital adoption platform\\n   - 6-12 weeks for implementation\\n# Success_Indicators\\n   - user adoption rates\\n   - time to proficiency\\n   - ROI of the digital adoption platform\\n# Budget_Constraints\\n# Competition\\n# Decision_Committee\\n   - IT\\n   - operations\\n   - business leaders\\n   - Wael Sawan (CEO)\\n   - Mark (Shell icon)\\n   - Shareholders\\n\\n# Discovery_Questions\\n   - Can you tell me more about what you mean by 'maximizing technology investments'?\\n   - What specific challenges are you facing in this area?\\n   - What kind of customization options do you offer?\\n   - What's the typical implementation timeline and cost for a organization of our size?\\n   - Who else would need to be involved in this decision?\\n   - What kind of success indicators do you typically track for a digital adoption platform like Whatfix?\\n   - What's the timeline for making a decision on a digital adoption platform like Whatfix?\\n# Decision_Making_Process_Questions\\n   - Who else would need to be involved in this decision?\\n   - What's the decision-making process like for implementing a digital adoption platform like Whatfix?\\n# Objection_Resolution_Pairs\\n   - ### Objection\\nintegration with existing systems\\n### Resolution\\nWe've worked with many organizations with custom-built applications, and we've developed a robust integration framework that allows us to integrate with a wide range of systems. We can also provide custom API integrations if needed.\\n   - ### Objection\\ncustomization options\\n### Resolution\\nWe offer a high degree of customization to meet the unique needs of our customers. Our platform allows you to tailor the user experience to your specific brand and requirements.\\n   - ### Objection\\ncost and implementation timeline\\n### Resolution\\nOur implementation timeline typically ranges from 6-12 weeks, depending on the complexity of the implementation. As for cost, we offer a custom pricing model that takes into account the specific needs and requirements of our customers.\\n# Insights\\n   - Shell is facing challenges in maximizing technology investments and driving user adoption\\n   - Shell is struggling to balance oil demand with climate goals\\n   - Shell's users are not adopting new tools quickly enough, impacting productivity and efficiency\\n   - Shell is concerned about integration with existing systems\\n   - Shell needs a high degree of customization to meet their unique requirements\\n   - Shell is concerned about the cost and implementation timeline of a digital adoption platform\\n# Improvements\\n   - The seller could have probed deeper into Shell's pain points and challenges\\n   - The seller could have provided more specific examples of how Whatfix has helped similar organizations\\n   - The seller could have emphasized Whatfix's differentiators from competitors\\n   - The seller could have provided a clearer explanation of the implementation timeline and cost\",\n",
       " \"# Interested_Features\\n   - ### Name\\nin-app guidance feature\\n### Description\\nreal-time, contextual guidance to users as they navigate through an application\\n### Pain_Point\\nimprove user adoption rates and reduce the time it takes for employees to become proficient in new tools\\n   - ### Name\\nanalytics feature\\n### Description\\nprovides insights into user behavior, helping organizations identify areas of improvement and track the effectiveness of their training programs\\n### Pain_Point\\nimprove user adoption rates and reduce the time it takes for employees to become proficient in new tools\\n   - ### Name\\ncustomization options\\n### Description\\ntailor the user experience to the specific brand and requirements\\n### Pain_Point\\nbalance oil demand with climate goals\\n# Skeptical_Features\\n   - ### Name\\nintegration\\n### Description\\nintegration with existing systems\\n### Objection\\nconcern about integrating with existing systems\\n   - ### Name\\ncost and implementation timeline\\n### Description\\ncustom pricing model and implementation timeline\\n### Objection\\nconcern about cost and implementation timeline\\n# Objections_Raised\\n   - concern about integrating with existing systems\\n   - concern about cost and implementation timeline\\n# Stakeholder_Engagement\\n   - ### Stakeholder\\nWael Sawan (CEO)\\n### Engagement_Level\\nhigh\\n   - ### Stakeholder\\nMark (Shell icon)\\n### Engagement_Level\\nhigh\\n   - ### Stakeholder\\nIT\\n### Engagement_Level\\nmedium\\n   - ### Stakeholder\\nOperations\\n### Engagement_Level\\nmedium\\n# Feedback\\nThank you for the demo. We'll be in touch soon to discuss next steps.\\n\\n# Demo_Features\\n   - ### Name\\nin-app guidance feature\\n### Description\\nreal-time, contextual guidance to users as they navigate through an application\\n   - ### Name\\nanalytics feature\\n### Description\\nprovides insights into user behavior, helping organizations identify areas of improvement and track the effectiveness of their training programs\\n   - ### Name\\ncustomization options\\n### Description\\ntailor the user experience to the specific brand and requirements\\n# Objection_Handling\\n   - ### Objection\\nconcern about integrating with existing systems\\n### Resolution\\nWe've developed a robust integration framework that allows us to integrate with a wide range of systems. We can also provide custom API integrations if needed.\\n### Status\\nTrue\\n   - ### Objection\\nconcern about cost and implementation timeline\\n### Resolution\\nOur implementation timeline typically ranges from 6-12 weeks, depending on the complexity of the implementation. As for cost, we offer a custom pricing model that takes into account the specific needs and requirements of our customers.\\n### Status\\nTrue\\n# Success_Stories\\n   - British Petroleum, who saw a significant increase in user adoption rates after implementing our platform\\n# Assets_Used\\n   - case studies\\n   - ROI analysis\\n# Customizations\\n   - custom API integrations\\n   - tailor the user experience to the specific brand and requirements\\n# Engagement_Questions\\n   - Can you tell me a little bit about what you're hoping to get out of this demo today?\",\n",
       " \"# Pain_Points\\n   - low user engagement\\n   - inefficient use of technology investments\\n   - steep learning curve\\n   - limited customization options\\n# Objections\\n   - concerns about the steep learning curve\\n   - limited customization options\\n# Time_Lines\\n   - within the next 24 hours\\n# Success_Indicators\\n   - improve user adoption rates\\n   - reduce support requests\\n   - amplify human potential and create the next opportunity for people, businesses, and society\\n# Budget_Constraints\\n# Competition\\n   - WalkMe\\n   - Pendo\\n   - Userpilot\\n# Decision_Committee\\n   - Ramesh, a Digital Transformation Consultant at Infosys\\n\\n# Discovery_Questions\\n   - Can you start by sharing a little bit about your role and what brings you to this call?\\n   - Can you elaborate on what you mean by improving software experiences for your clients? What specific pain points are you trying to address?\\n   - Have you considered any other digital adoption platforms in the past?\\n   - Can I walk you through a demo of our platform to show you how it can address your specific needs?\\n   - Can you provide more information on your pricing model and what kind of ROI we can expect from implementing Whatfix?\\n# Decision_Making_Process_Questions\\n   - What is the typical process for evaluating and implementing a new digital adoption platform within Infosys?\\n   - Who else will be involved in the decision-making process for this purchase?\\n# Objection_Resolution_Pairs\\n   - ### Objection\\nconcerns about the steep learning curve\\n### Resolution\\nWhatfix is designed to be highly customizable and scalable to meet the needs of large enterprises like Infosys. Our platform can integrate with a wide range of systems and tools, and our support team is dedicated to ensuring a smooth implementation process.\\n   - ### Objection\\nlimited customization options\\n### Resolution\\nWhatfix provides a range of features that can help you improve user adoption, streamline software adoption processes, and enhance your clients' overall software experiences. Our platform is highly customizable to meet the specific needs of your business.\\n# Insights\\n   - Infosys is looking for a digital adoption platform that can help them improve their clients' software experiences and enhance their own digital transformation capabilities.\\n   - Whatfix's platform can provide personalized onboarding, contextual help, and analytics to help Infosys better understand user behavior.\\n   - Infosys has evaluated other digital adoption platforms in the past, including WalkMe, Pendo, and Userpilot, but has concerns about the steep learning curve and limited customization options.\\n# Improvements\\n   - The seller could have asked more questions about Infosys's current software adoption processes and pain points to better understand their needs.\\n   - The seller could have provided more specific examples of how Whatfix's platform has helped similar companies in the past.\\n   - The seller could have emphasized Whatfix's differentiators, such as advanced analytics and AI-powered guidance, to further differentiate themselves from competitors.\",\n",
       " \"# Interested_Features\\n   - ### Name\\nIn-App Guidance\\n### Description\\nProvides step-by-step guidance to users within software applications\\n### Pain_Point\\nImproving user adoption rates\\n   - ### Name\\nContextual Messages\\n### Description\\nDelivers personalized messages to users based on their actions and behavior within the application\\n### Pain_Point\\nReducing support requests and improving user engagement\\n   - ### Name\\nAdvanced Analytics\\n### Description\\nProvides robust insights into user behavior, allowing for identification of areas for improvement and optimization of application performance\\n### Pain_Point\\nImproving user adoption rates and reducing support requests\\n   - ### Name\\nAI-Powered Guidance\\n### Description\\nUses artificial intelligence to provide intelligent and contextual guidance to users, even in complex workflows\\n### Pain_Point\\nAddressing complex software applications with multiple workflows\\n# Skeptical_Features\\n   - ### Name\\nCustomization Options\\n### Description\\nAbility to customize the platform to meet specific business needs\\n### Objection\\nLimited customization options\\n   - ### Name\\nImplementation\\n### Description\\nEase of implementation and scalability of the platform\\n### Objection\\nSteep learning curve\\n# Objections_Raised\\n   - Limited customization options\\n   - Steep learning curve\\n# Stakeholder_Engagement\\n   - ### Stakeholder\\nRamesh\\n### Engagement_Level\\nHigh\\n# Feedback\\nThank you for the comprehensive demo. We'll review the information and discuss next steps internally.\\n\\n# Demo_Features\\n   - ### Name\\nIn-App Guidance\\n### Description\\nProvides step-by-step guidance to users within software applications\\n   - ### Name\\nContextual Messages\\n### Description\\nDelivers personalized messages to users based on their actions and behavior within the application\\n   - ### Name\\nAdvanced Analytics\\n### Description\\nProvides robust insights into user behavior, allowing for identification of areas for improvement and optimization of application performance\\n   - ### Name\\nAI-Powered Guidance\\n### Description\\nUses artificial intelligence to provide intelligent and contextual guidance to users, even in complex workflows\\n   - ### Name\\nDigital Adoption Platform\\n### Description\\nProvides in-app guidance, training, and performance support for web applications and software\\n# Objection_Handling\\n   - ### Objection\\nHow do you handle complex software applications with multiple workflows?\\n### Resolution\\nWe've worked with numerous clients who have complex software applications. Our AI-Powered Guidance feature uses artificial intelligence to provide intelligent and contextual guidance to users, even in the most complex workflows.\\n### Status\\nTrue\\n   - ### Objection\\nWe've tried similar features with other digital adoption platforms, but they didn't quite meet our needs. How do you ensure that your platform can meet our specific requirements?\\n### Resolution\\nAt Whatfix, we pride ourselves on our ability to customize our platform to meet the unique needs of our clients. We've worked with numerous enterprises, including those in the IT consulting space, and have a proven track record of delivering tailored solutions.\\n### Status\\nTrue\\n# Success_Stories\\n   - One of our clients, a large IT consulting firm, saw a 30% reduction in support requests and a 25% increase in user adoption rates within the first six months of implementation\\n# Assets_Used\\n   - Presentation\\n# Customizations\\n   - Customization options to meet specific business needs\\n# Engagement_Questions\\n   - Before we dive in, I just want to confirm that we have Ramesh, our primary decision-maker, on the call.\",\n",
       " \"# Pain_Points\\n   - Getting employees to adopt new digital tools and systems\\n   - Providing a seamless customer experience across all touchpoints\\n   - Inefficient customer support processes\\n   - Lack of automation and streamlining of processes\\n   - Inefficient use of data and analytics to understand customers\\n# Objections\\n   - Need to understand how Whatfix's platform works\\n   - Need to understand the ROI of Whatfix's platform\\n   - Concerns about integration with existing systems and tools\\n# Time_Lines\\n   - Implementing a new digital adoption platform within the next 6-12 months\\n# Success_Indicators\\n   - Improving customer satisfaction\\n   - Reducing costs\\n   - Providing a more seamless customer experience\\n# Budget_Constraints\\n# Competition\\n# Decision_Committee\\n   - CEO\\n   - Board of Management\\n   - Other senior leaders\\n\\n# Discovery_Questions\\n   - Can you please introduce yourself and tell me a little bit about your role and what you're hoping to achieve from our conversation today?\\n   - What are some of the specific issues you're facing in terms of digital transformation, and how do you think Whatfix's platform can help address those challenges?\\n   - Can you tell me a little bit more about your current customer experience strategy and how you're measuring success?\\n   - How does Whatfix's platform integrate with existing systems and tools, and can it help us to achieve our customer experience goals?\\n   - Can you tell me a little bit more about your existing technology stack and what kind of integrations you would need?\\n   - Can you tell me a little bit more about your decision-making process and timeline for implementing a new digital adoption platform?\\n# Decision_Making_Process_Questions\\n   - Can you tell me a little bit more about your decision-making process and timeline for implementing a new digital adoption platform?\\n   - Are there any other stakeholders or team members who would need to be involved in the decision-making process?\\n# Objection_Resolution_Pairs\\n   - ### Objection\\nNeed to understand how Whatfix's platform works\\n### Resolution\\nWhatfix's platform is designed to provide personalized guidance and support to users, helping them to adopt new systems and tools quickly and efficiently.\\n   - ### Objection\\nNeed to understand the ROI of Whatfix's platform\\n### Resolution\\nWhatfix's platform can help you to track user behavior, identify areas for improvement, and measure the success of your customer experience initiatives.\\n   - ### Objection\\nConcerns about integration with existing systems and tools\\n### Resolution\\nWhatfix's platform is designed to integrate seamlessly with existing systems and tools, so we can work with your current technology stack to provide a customized solution.\\n# Insights\\n   - Mercedes Benz is facing increasing competition in the automotive market\\n   - Mercedes Benz is looking to accelerate their digital transformation journey\\n   - Mercedes Benz is struggling to provide a seamless customer experience across all touchpoints\\n   - Mercedes Benz is looking to automate and streamline their processes to reduce costs and improve customer satisfaction\\n# Improvements\\n   - The seller could have provided more specific examples of how Whatfix's platform has helped other companies in the automotive industry to accelerate their digital transformation journeys\\n   - The seller could have asked more questions to understand Mercedes Benz's current technology stack and integration requirements\\n   - The seller could have provided more information about Whatfix's implementation timelines and resource requirements\",\n",
       " \"# Interested_Features\\n   - ### Name\\nIn-app guidance\\n### Description\\nProvides step-by-step guidance to users within the application, helping them to complete tasks efficiently and effectively.\\n### Pain_Point\\n difficulty in completing tasks efficiently\\n   - ### Name\\nAnalytics\\n### Description\\nProvides real-time insights into user behavior, allowing companies to identify areas for improvement and measure the success of customer experience initiatives.\\n### Pain_Point\\ndifficulty in tracking user behavior and identifying areas for improvement\\n   - ### Name\\nCustomization and personalization\\n### Description\\nOffers a high degree of customization and personalization for clients, providing personalized guidance and support to users based on their role, location, and other factors.\\n### Pain_Point\\nneed for customization and personalization\\n# Skeptical_Features\\n   - ### Name\\nIntegration\\n### Description\\nIntegrates seamlessly with existing systems and tools.\\n### Objection\\nuncertainty about how the platform integrates with existing systems and tools\\n   - ### Name\\nTracking user behavior\\n### Description\\nProvides real-time insights into user behavior.\\n### Objection\\nuncertainty about how the platform tracks user behavior\\n# Objections_Raised\\n   - Uncertainty about how the platform integrates with existing systems and tools\\n   - Uncertainty about how the platform tracks user behavior\\n   - Need for customization and personalization\\n# Stakeholder_Engagement\\n   - ### Stakeholder\\nCEO\\n### Engagement_Level\\nhigh\\n   - ### Stakeholder\\nBoard of Management\\n### Engagement_Level\\nhigh\\n   - ### Stakeholder\\nSenior Leaders\\n### Engagement_Level\\nhigh\\n# Feedback\\nThe demo was impressive, and we're interested in seeing how Whatfix's platform can help us improve customer satisfaction and reduce costs.\\n\\n# Demo_Features\\n   - ### Name\\nIn-app guidance\\n### Description\\nProvides step-by-step guidance to users within the application, helping them to complete tasks efficiently and effectively.\\n   - ### Name\\nAnalytics\\n### Description\\nProvides real-time insights into user behavior, allowing companies to identify areas for improvement and measure the success of customer experience initiatives.\\n   - ### Name\\nCustomization and personalization\\n### Description\\nOffers a high degree of customization and personalization for clients, providing personalized guidance and support to users based on their role, location, and other factors.\\n   - ### Name\\nIntegration\\n### Description\\nIntegrates seamlessly with existing systems and tools.\\n# Objection_Handling\\n   - ### Objection\\nUncertainty about how the platform integrates with existing systems and tools\\n### Resolution\\nOur platform is designed to integrate seamlessly with existing systems and tools.\\n### Status\\nTrue\\n   - ### Objection\\nUncertainty about how the platform tracks user behavior\\n### Resolution\\nOur analytics feature provides real-time insights into user behavior, allowing companies to identify areas for improvement and measure the success of customer experience initiatives.\\n### Status\\nTrue\\n   - ### Objection\\nNeed for customization and personalization\\n### Resolution\\nWe offer a high degree of customization and personalization for our clients, providing personalized guidance and support to users based on their role, location, and other factors.\\n### Status\\nTrue\\n# Success_Stories\\n   - One of our clients in the automotive industry saw a 30% reduction in support costs and a 25% increase in customer satisfaction after implementing our platform.\\n# Assets_Used\\n   - Presentation\\n   - Demo\\n# Customizations\\n   - Custom content and integrations\\n   - Personalized guidance and support based on role, location, and other factors\\n# Engagement_Questions\\n   - How does Whatfix's platform integrate with your existing systems and tools?\\n   - How can Whatfix's platform help you to track user behavior and identify areas for improvement?\\n   - How can Whatfix's platform be customized to meet your specific needs and requirements?\",\n",
       " \"# Pain_Points\\n   - maintaining customer loyalty\\n   - staying ahead of the competition\\n   - ensuring customers have the best possible experience across various channels\\n   - change management\\n   - training\\n# Objections\\n   - unsure about which digital adoption platform to choose\\n   - need to ensure tangible business outcomes\\n   - concerns about implementation and adoption\\n# Time_Lines\\n# Success_Indicators\\n   - tangible business outcomes\\n# Budget_Constraints\\n# Competition\\n   - WalkMe\\n   - Pendo\\n   - Userpilot\\n# Decision_Committee\\n\\n# Discovery_Questions\\n   - Can you tell me a bit more about your current challenges and goals?\\n   - Have you considered how digital adoption platforms like Whatfix can help you achieve your goals?\\n# Decision_Making_Process_Questions\\n   - What are the next steps?\\n   - Is there a specific timeline you're working with for implementing a digital adoption platform?\\n# Objection_Resolution_Pairs\\n   - ### Objection\\nunsure about which digital adoption platform to choose\\n### Resolution\\nI'd be happy to walk you through a demo and show you how Whatfix can help address your specific pain points.\\n   - ### Objection\\nneed to ensure tangible business outcomes\\n### Resolution\\nWe've seen our customers achieve significant ROI from using Whatfix. For example, [similar organization] saw a 30% increase in user adoption and a 25% reduction in support requests after implementing our platform. We'd be happy to work with you to develop a customized ROI model based on your specific needs and goals.\\n   - ### Objection\\nconcerns about implementation and adoption\\n### Resolution\\nWe understand the importance of proper implementation and adoption. That's why we offer a comprehensive onboarding process, including dedicated customer success managers, training, and support resources. We'll work closely with your team to ensure a smooth transition and provide ongoing support to guarantee your success.\\n# Insights\\n   - Marks and Spencer is struggling to maintain customer loyalty and stay ahead of the competition\\n   - They are looking for a digital adoption platform to help them achieve their goals\\n   - They are interested in seeing a demo and understanding the ROI of implementing Whatfix\\n   - They have concerns about implementation and adoption\\n# Improvements\\n   - Whatfix should emphasize the benefits of their solution in terms of tangible business outcomes\\n   - Whatfix should provide more information on their implementation and adoption process to alleviate concerns\\n   - Whatfix should be prepared to address questions about how they differ from competitors\",\n",
       " \"# Interested_Features\\n   - ### Name\\nIn-app Guidance\\n### Description\\nSimplifies complex user interfaces and reduces the time it takes for customers to achieve their desired outcomes\\n### Pain_Point\\nMaintaining customer loyalty and staying ahead of the competition\\n   - ### Name\\nInteractive Guides\\n### Description\\nProvides step-by-step instructions to help users complete tasks efficiently\\n### Pain_Point\\nComplex workflows or onboarding processes\\n   - ### Name\\nAnalytics Module\\n### Description\\nProvides insights on user behavior to optimize the application experience\\n### Pain_Point\\nIdentifying areas of friction and opportunity to improve the overall user experience\\n# Skeptical_Features\\n   - ### Name\\nChange Management\\n### Description\\nComprehensive onboarding process, including dedicated customer success managers, training, and support resources\\n### Objection\\nConcerns about adoption rates in the past\\n   - ### Name\\nCompetitive Advantage\\n### Description\\nAbility to provide a seamless, 100% native in-app experience\\n### Objection\\nDifferentiation from competitors like WalkMe and Pendo\\n# Objections_Raised\\n   - How do you address the concern of change management?\\n   - How do you differentiate yourselves from competitors like WalkMe and Pendo?\\n# Stakeholder_Engagement\\n   - ### Stakeholder\\nJohn, IT Director\\n### Engagement_Level\\nHigh\\n   - ### Stakeholder\\nRachel, Customer Experience Manager\\n### Engagement_Level\\nMedium\\n   - ### Stakeholder\\nMichael, Training and Development Manager\\n### Engagement_Level\\nMedium\\n# Feedback\\nImpressed with the features and capabilities demonstrated during the sales demo\\n\\n# Demo_Features\\n   - ### Name\\nIn-app Guidance\\n### Description\\nSimplifies complex user interfaces and reduces the time it takes for customers to achieve their desired outcomes\\n   - ### Name\\nInteractive Guides\\n### Description\\nProvides step-by-step instructions to help users complete tasks efficiently\\n   - ### Name\\nAnalytics Module\\n### Description\\nProvides insights on user behavior to optimize the application experience\\n# Objection_Handling\\n   - ### Objection\\nHow do you address the concern of change management?\\n### Resolution\\nComprehensive onboarding process, including dedicated customer success managers, training, and support resources\\n### Status\\nTrue\\n   - ### Objection\\nHow do you differentiate yourselves from competitors like WalkMe and Pendo?\\n### Resolution\\nAbility to provide a seamless, 100% native in-app experience\\n### Status\\nTrue\\n# Success_Stories\\n   - similar organization which saw a 30% increase in user adoption and a 25% reduction in support requests\\n# Assets_Used\\n# Customizations\\n   - highly customizable and can be tailored to fit your brand's look and feel\\n# Engagement_Questions\\n   - Can you please introduce yourselves?\\n   - Are there any other questions or areas you'd like to discuss further?\"]"
      ]
     },
     "execution_count": 14,
     "metadata": {},
     "output_type": "execute_result"
    }
   ],
   "source": [
    "index.vector_store._collection.get()['documents']"
   ]
  },
  {
   "cell_type": "code",
   "execution_count": 9,
   "metadata": {},
   "outputs": [],
   "source": [
    "# from pydantic import BaseModel, Field\n",
    "# from typing import List\n",
    "# import ast\n",
    "# from tqdm import tqdm\n",
    "# import json\n",
    "# import os\n",
    "\n",
    "\n",
    "\n",
    "# class SellerInfo(BaseModel):\n",
    "# \tname: str = Field(..., title=\"Seller's Name\", description=\"The name of the seller.\")\n",
    "# \twebsite: str = Field(..., title=\"Seller's Website\", description=\"The website of the seller.\")\n",
    "# \tdescription: str = Field(..., title=\"Seller's Description\", description=\"A description of the seller.\")\n",
    "# \tindustry: str = Field(..., title=\"Seller's Industry\", description=\"The industry that the seller belongs to.\")\n",
    "# \tproducts: List[str] = Field(..., title=\"Seller's Products\", description=\"The products offered by the seller.\")\n",
    "# \tsolutions: List[str] = Field(..., title=\"Seller's Solutions\", description=\"The solutions offered by the seller.\")\n",
    "# \tuse_cases: List[str] = Field(..., title=\"Seller's Use Cases\", description=\"The use cases of the seller's products.\")\n",
    "\n",
    "# class SellerPricingModel(BaseModel):\n",
    "# \ttype: str = Field(..., title=\"Seller's Pricing Models\", description=\"The pricing models offered by the seller, such free, subscription, premium, etc.\")\n",
    "# \tdescription: str = Field(..., title=\"Seller's Pricing Description\", description=\"A description of the pricing model.\")\n",
    "# \tprice: str = Field(..., title=\"Seller's Pricing numbers\", description=\"The pricing (NUMBERS) of the seller's products.\")\n",
    "# \tduration: str = Field(..., title=\"Seller's Pricing Duration\", description=\"The duration of the pricing model.\")\n",
    " \n",
    "\n",
    "# class SellerPricingModels(BaseModel):\n",
    "# \tpricing_models: List[SellerPricingModel] = Field(..., title=\"Seller's Pricing Models\", description=\"The pricing models offered by the seller.\")\n",
    "\n",
    "\n",
    "# class ClientResearchResponse(BaseModel):\n",
    "# \tname: str = Field(..., title=\"Buyer's Name\", description=\"The name of the client.\")\n",
    "# \twebsite: str = Field(..., title=\"Buyer's Website\", description=\"The website of the buyer.\")\n",
    "# \tdescription: str = Field(..., title=\"Buyer's Description\", description=\"A description of the buyer.\")\n",
    "# \tindustry: str = Field(..., title=\"Buyer's Industry\", description=\"The industry that the buyer belongs to.\")\n",
    "# \tcompany_size: str = Field(..., title=\"Buyer's Company Size\", description=\"The size of the buyer's company as one of the types - smb, mid-market, enterprise.\")\n",
    "# \tgoals: List[str] = Field(..., title=\"Buyer's Goals\", description=\"The goals of the buyer.\")\n",
    "# \tuse_cases: List[str] = Field(..., title=\"Buyer's Use Cases\", description=\"The use cases of the buyer.\")\n",
    "# \tchallenges: List[str] = Field(..., title=\"Buyer's Challenges\", description=\"The challenges faced by the buyer.\")\n",
    "# \tstakeholders: List[str] = Field(..., title=\"Buyer's Stakeholders\", description=\"The stakeholders of the buyer.\")\n",
    "\n",
    "\n",
    "# class CompetitorComparison(BaseModel):\n",
    "# \tname: str = Field(..., title=\"Competitor's Name\", description=\"The name of the competitor.\")\n",
    "# \tpros: List[str] = Field(..., title=\"Competitor's Pros\", description=\"The pros of the competitor.\")\n",
    "# \tcons: List[str] = Field(..., title=\"Competitor's Cons\", description=\"The cons of the competitor.\")\n",
    "# \tdifferentiators: List[str] = Field(..., title=\"Competitor's Differentiators\", description=\"The differentiators of the seller against the competitor.\")\n",
    "\n",
    "\n",
    "# class SellerCompetitorAnalysisResponse(BaseModel):\n",
    "# \tcompetitors: List[CompetitorComparison] = Field(..., title=\"Competitor Analysis\", description=\"The list of competitors of the seller.\")\n",
    "\n",
    "\n",
    "# class BuyerDataExtracted(BaseModel):\n",
    "#     pain_points: List[str] = Field(..., title=\"Pain Points\", description=\"The pain points identified in the call.\")\n",
    "#     objections: List[str] = Field(..., title=\"Objections\", description=\"The objections identified in the call.\")\n",
    "#     time_lines: List[str] = Field(..., title=\"Time Lines\", description=\"The time lines identified in the call.\")\n",
    "#     success_indicators: List[str] = Field(..., title=\"Success Indicators\", description=\"The success indicators identified in the call.\")\n",
    "#     budget_constraints: List[str] = Field(..., title=\"Budget Constraints\", description=\"The budget constraints identified in the call.\")\n",
    "#     competition: List[str] = Field(..., title=\"Competitors\", description=\"The competitors identified in the call.\")\n",
    "#     decision_committee: List[str] = Field(..., title=\"Decision Committee Members\", description=\"The members of the decision committee identified in the call.\")\n",
    "\n",
    "\n",
    "# class ObjectionResolutionPair(BaseModel):\n",
    "#     objection: str = Field(..., title=\"Objection\", description=\"The objection raised by the buyer.\")\n",
    "#     resolution: str = Field(..., title=\"Resolution\", description=\"The resolution provided by the seller.\")\n",
    "\n",
    "\n",
    "# class SellerDataExtracted(BaseModel):\n",
    "#     discovery_questions: List[str] = Field(..., title=\"Discovery Questions\", description=\"The discovery questions asked by the seller.\")\n",
    "#     decision_making_process_questions: List[str] = Field(..., title=\"Decision Making Process Questions\", description=\"The decision making process questions asked by the seller.\")\n",
    "#     objection_resolution_pairs: List[ObjectionResolutionPair] = Field(..., title=\"Objection Resolution Pairs\", description=\"The objection resolution pairs identified in the call.\")\n",
    "#     insights: List[str] = Field(..., title=\"Insights\", description=\"The insights identified in the call.\")\n",
    "#     improvements: List[str] = Field(..., title=\"Areas of Improvement\", description=\"The areas of improvement identified in the call.\")\n",
    "\n",
    "\n",
    "# class Feature(BaseModel):\n",
    "# \tname: str = Field(..., title=\"Feature Name\", description=\"The name of the feature of the product or service.\")\n",
    "# \tdescription: str = Field(..., title=\"Feature Description\", description=\"A description of the feature.\")\n",
    "\n",
    "# class FeatureWithPainPoint(BaseModel):\n",
    "#     name: str = Field(..., title=\"Feature Name\", description=\"The name of the feature of the product or service.\")\n",
    "#     description: str = Field(..., title=\"Feature Description\", description=\"A description of the feature.\")\n",
    "#     pain_point: str = Field(..., title=\"Pain Point\", description=\"The pain point or challenge that the feature addresses.\")\n",
    "\n",
    "# class FeaturesAnticipated(BaseModel):\n",
    "# \tfeatures: List[Feature] = Field(..., title=\"Features\", description=\"A list of features of the product or service that will be demonstrated during the sales demo.\")\n",
    "\n",
    "# class SkepticalFeature(BaseModel):\n",
    "#     name: str = Field(..., title=\"Feature Name\", description=\"The name of the feature of the product or service.\")\n",
    "#     description: str = Field(..., title=\"Feature Description\", description=\"A description of the feature.\")\n",
    "#     objection: str = Field(..., title=\"Objection\", description=\"The objection or concern raised by the buyer.\")\n",
    " \n",
    "# class ObjectionResolution(BaseModel):\n",
    "#     objection: str = Field(..., title=\"Objection\", description=\"The objection raised by the buyer.\")\n",
    "#     resolution: str = Field(..., title=\"Resolution\", description=\"The resolution provided by the seller.\")\n",
    "#     status: bool = Field(..., title=\"Status\", description=\"The status of the resolution, True if resolved, False if not resolved.\")\n",
    "    \n",
    "\n",
    "\n",
    "# class DemoSellerDataExtracted(BaseModel):\n",
    "# \tdemo_features: List[Feature] = Field(..., title=\"Features\", description=\"A list of features of the product or service that will be demonstrated during the sales demo.\")\n",
    "# \tobjection_handling: List[ObjectionResolution] = Field(..., title=\"Objections\", description=\"The objections raised by the buyer and their status.\")\n",
    "# \tsuccess_stories: List[str] = Field(..., title=\"Success Stories\", description=\"A list of success stories or case studies related to the product or service.\")\n",
    "# \tassets_used: List[str] = Field(..., title=\"Assets Used\", description=\"A list of assets used during the sales demo, such as presentations, videos, or documents.\")\n",
    "# \tcustomizations: List[str] = Field(..., title=\"Customizations\", description=\"A list of customizations or personalized features offered to the buyer.\")\n",
    "# \tengagement_questions: List[str] = Field(..., title=\"Engagement Questions\", description=\"A list of questions to engage the buyer during the sales demo.\")\n",
    "\n",
    "# # ------------------------------------------------------------------------------------------------ #\n",
    "# ## Buyer Data\n",
    "# # ------------------------------------------------------------------------------------------------ #\n",
    "\n",
    "\n",
    "# class StakeholderEngagement(BaseModel):\n",
    "# \tstakeholder : str = Field(..., title=\"Stakeholder\", description=\"The stakeholder's name.\")\n",
    "# \tengagement_level: str = Field(..., title=\"Engagement Level\", description=\"The engagement level of the stakeholder during the sales demo - high, medium, or low.\")\n",
    "\n",
    "\n",
    "# class DemoBuyerDataExtracted(BaseModel):\n",
    "# \tinterested_features: List[FeatureWithPainPoint] = Field(..., title=\"Interested Features\", description=\"The features of the product or service that stakeholders from the buyer are interested in.\")\n",
    "# \tskeptical_features: List[SkepticalFeature] = Field(..., title=\"Skeptical Features\", description=\"The features of the product or service that stakeholders from the buyer are skeptical or have objections, concerns about.\")\n",
    "# \tobjections_raised: List[str] = Field(..., title=\"Objections\", description=\"A list of objections raised by the buyer.\")\n",
    "# \tstakeholder_engagement: List[StakeholderEngagement] = Field(..., title=\"Stakeholders' Engagement\", description=\"The engagement level of the stakeholders during the sales demo.\")\n",
    "# \tfeedback: str = Field(..., title=\"Feedback\", description=\"The feedback provided by the buyer after the sales demo.\")\t\n",
    "\n",
    "\n",
    "# class Message(BaseModel):\n",
    "# \tuser: str\n",
    "# \tcontent: str\n",
    "\n",
    "# class Transcript(BaseModel):\n",
    "# \tmessages: List[Message]\n",
    " \n",
    "# class AnticipatedPainsAndObjections(BaseModel):\n",
    "#     pains: List[str] = Field(..., title=\"Pain Points\", description=\"The pain points identified in the call.\")\n",
    "#     objections: List[str] = Field(..., title=\"Objections\", description=\"The objections identified in the call.\")\n",
    "\n",
    "\n",
    "\n",
    "# def extract_dict(string):\n",
    "#     try:\n",
    "#         return json.loads(string)\n",
    "#     except json.JSONDecodeError:\n",
    "#         try:\n",
    "#             return ast.literal_eval(string)\n",
    "#         except:\n",
    "#             raise ValueError(f\"Invalid string: {string}\")\n",
    "\n",
    "\n",
    "# all_data = {\n",
    "#     client.split('.')[0]: json.load(open('runs/' + client))\n",
    "#     for client in os.listdir('runs')    \n",
    "# }\n",
    "\n",
    "\n",
    "# for client in tqdm(all_data):\n",
    "    # all_data[client]['seller_research'] = SellerInfo(**json.loads(all_data[client]['seller_research'])).model_dump()\n",
    "    # all_data[client]['seller_pricing'] = SellerPricingModels(**json.loads(all_data[client]['seller_pricing'])).model_dump()\n",
    "    # all_data[client]['buyer_research'] = ClientResearchResponse(**json.loads(all_data[client]['buyer_research'])).model_dump()\n",
    "    # all_data[client]['competitive_info'] = SellerCompetitorAnalysisResponse(**json.loads(all_data[client]['competitive_info'])).model_dump()\n",
    "    # all_data[client]['discovery_analysis_buyer_data'] = BuyerDataExtracted(**json.loads(all_data[client]['discovery_analysis_buyer_data'])).model_dump()\n",
    "    # all_data[client]['discovery_analysis_seller_data'] = SellerDataExtracted(**json.loads(all_data[client]['discovery_analysis_seller_data'])).model_dump()\n",
    "    # all_data[client]['demo_features'] = FeaturesAnticipated(**json.loads(all_data[client]['demo_features'])).model_dump()\n",
    "    # all_data[client]['demo_analysis_buyer_data'] = DemoBuyerDataExtracted(**extract_dict(all_data[client]['demo_analysis_buyer_data'])).model_dump()\n",
    "    # all_data[client]['demo_analysis_seller_data'] = DemoSellerDataExtracted(**extract_dict(all_data[client]['demo_analysis_seller_data'])).model_dump()\n",
    "    \n",
    "    # all_data[client]['discovery_transcript'] = Transcript(**extract_dict(all_data[client]['discovery_transcript'])).model_dump()\n",
    "    # all_data[client]['demo_transcript'] = Transcript(**extract_dict(all_data[client]['demo_transcript'])).model_dump()\n",
    "    # all_data[client]['anticipated_qopcs'] = AnticipatedPainsAndObjections(**extract_dict(all_data[client]['anticipated_qopcs'])).model_dump()\n",
    "    \n",
    "    \n",
    "    \n",
    "# for client in all_data:\n",
    "#     with open(f'runs/{client}.json', 'w') as f:\n",
    "#         json.dump(all_data[client], f, indent=2)"
   ]
  },
  {
   "cell_type": "code",
   "execution_count": null,
   "metadata": {},
   "outputs": [],
   "source": []
  }
 ],
 "metadata": {
  "kernelspec": {
   "display_name": "ML",
   "language": "python",
   "name": "python3"
  },
  "language_info": {
   "codemirror_mode": {
    "name": "ipython",
    "version": 3
   },
   "file_extension": ".py",
   "mimetype": "text/x-python",
   "name": "python",
   "nbconvert_exporter": "python",
   "pygments_lexer": "ipython3",
   "version": "3.10.14"
  }
 },
 "nbformat": 4,
 "nbformat_minor": 2
}

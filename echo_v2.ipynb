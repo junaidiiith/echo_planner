{
 "cells": [
  {
   "cell_type": "code",
   "execution_count": 13,
   "metadata": {},
   "outputs": [],
   "source": [
    "import nest_asyncio\n",
    "from crewai import LLM\n",
    "from dotenv import load_dotenv\n",
    "import os\n",
    "import asyncio\n",
    "from echo.constants import (\n",
    "    DISCOVERY,\n",
    "    DEMO,\n",
    "    PRICING,\n",
    "    NEGOTIATION\n",
    ")\n",
    "\n",
    "\n",
    "nest_asyncio.apply()\n",
    "\n",
    "load_dotenv()\n",
    "\n",
    "llm = LLM(\n",
    "    model=os.getenv(\"FIREWORKS_MODEL_NAME\"),\n",
    "    base_url=\"https://api.fireworks.ai/inference/v1\",\n",
    "    api_key=os.getenv(\"FIREWORKS_API_KEY\"),\n",
    ")"
   ]
  },
  {
   "cell_type": "code",
   "execution_count": 18,
   "metadata": {},
   "outputs": [
    {
     "name": "stdout",
     "output_type": "stream",
     "text": [
      "Creating seller for foundit.in\n",
      "Adding Seller: foundit.in Data\n"
     ]
    }
   ],
   "source": [
    "from echo.runner import create_or_get_seller\n",
    "\n",
    "inputs = {\n",
    "    \"seller\": \"foundit.in\",\n",
    "    \"num_buyers\": 10,\n",
    "}\n",
    "\n",
    "seller = asyncio.run(create_or_get_seller(inputs))"
   ]
  },
  {
   "cell_type": "code",
   "execution_count": 19,
   "metadata": {},
   "outputs": [],
   "source": [
    "from echo.runner import make_call\n",
    "\n",
    "\n",
    "buyer_inputs = {\n",
    "    **inputs,\n",
    "    **seller,\n",
    "    'n_competitors': 10,\n",
    "}\n",
    "\n",
    "clients = seller['seller_clients']['clients']"
   ]
  },
  {
   "cell_type": "code",
   "execution_count": 20,
   "metadata": {},
   "outputs": [
    {
     "data": {
      "text/plain": [
       "['manipaltechnologies.com',\n",
       " 'Monster India',\n",
       " 'Quess Corp',\n",
       " 'Third Bridge Group Limited']"
      ]
     },
     "execution_count": 20,
     "metadata": {},
     "output_type": "execute_result"
    }
   ],
   "source": [
    "seller['seller_clients']['clients']"
   ]
  },
  {
   "cell_type": "code",
   "execution_count": 21,
   "metadata": {},
   "outputs": [
    {
     "name": "stdout",
     "output_type": "stream",
     "text": [
      "Making discovery call for ['manipaltechnologies.com', 'Monster India', 'Quess Corp', 'Third Bridge Group Limited']\n",
      "Getting analysis Data\n",
      "Number of Clients:  4\n"
     ]
    },
    {
     "name": "stderr",
     "output_type": "stream",
     "text": [
      "Getting Data:   0%|          | 0/4 [00:00<?, ?it/s]2025-02-18 15:47:23,069 - 8645349184 - __init__.py-__init__:537 - WARNING: Overriding of current TracerProvider is not allowed\n"
     ]
    },
    {
     "name": "stdout",
     "output_type": "stream",
     "text": [
      "Getting Data for manipaltechnologies.com\n",
      "Data not found for client: manipaltechnologies.com\n",
      "Data not found for client: manipaltechnologies.com\n",
      "Adding Buyer: manipaltechnologies.com Data\n"
     ]
    },
    {
     "name": "stderr",
     "output_type": "stream",
     "text": [
      "2025-02-18 15:47:38,683 - 8645349184 - __init__.py-__init__:537 - WARNING: Overriding of current TracerProvider is not allowed\n"
     ]
    },
    {
     "name": "stdout",
     "output_type": "stream",
     "text": [
      "Adding discovery Transcript Data to Vector Store\n"
     ]
    },
    {
     "name": "stderr",
     "output_type": "stream",
     "text": [
      "2025-02-18 15:47:44,569 - 8645349184 - __init__.py-__init__:537 - WARNING: Overriding of current TracerProvider is not allowed\n"
     ]
    },
    {
     "name": "stdout",
     "output_type": "stream",
     "text": [
      "Adding Analysis Data to Vector Store\n"
     ]
    },
    {
     "name": "stderr",
     "output_type": "stream",
     "text": [
      "Getting Data:  25%|██▌       | 1/4 [00:26<01:18, 26.17s/it]2025-02-18 15:47:49,236 - 8645349184 - __init__.py-__init__:537 - WARNING: Overriding of current TracerProvider is not allowed\n"
     ]
    },
    {
     "name": "stdout",
     "output_type": "stream",
     "text": [
      "Getting Data for Monster India\n",
      "Data not found for client: Monster India\n",
      "Data not found for client: Monster India\n",
      "\n",
      "\n",
      "LiteLLM.Info: If you need to debug this error, use `litellm.set_verbose=True'.\n",
      "\n",
      "\n",
      "\u001b[1;31mProvider List: https://docs.litellm.ai/docs/providers\u001b[0m\n",
      "\n",
      "\u001b[91m Error during LLM call: litellm.BadRequestError: Fireworks_aiException - Error code: 400 - {'error': {'object': 'error', 'type': 'invalid_request_error', 'message': 'The prompt is too long: 8893, model maximum context length: 8191'}}\u001b[00m\n",
      "Retrying due to error: litellm.BadRequestError: Fireworks_aiException - Error code: 400 - {'error': {'object': 'error', 'type': 'invalid_request_error', 'message': 'The prompt is too long: 8893, model maximum context length: 8191'}}\n",
      "Adding Buyer: Monster India Data\n"
     ]
    },
    {
     "name": "stderr",
     "output_type": "stream",
     "text": [
      "2025-02-18 15:48:17,708 - 8645349184 - __init__.py-__init__:537 - WARNING: Overriding of current TracerProvider is not allowed\n"
     ]
    },
    {
     "name": "stdout",
     "output_type": "stream",
     "text": [
      "Adding discovery Transcript Data to Vector Store\n"
     ]
    },
    {
     "name": "stderr",
     "output_type": "stream",
     "text": [
      "2025-02-18 15:48:22,740 - 8645349184 - __init__.py-__init__:537 - WARNING: Overriding of current TracerProvider is not allowed\n"
     ]
    },
    {
     "name": "stdout",
     "output_type": "stream",
     "text": [
      "Adding Analysis Data to Vector Store\n"
     ]
    },
    {
     "name": "stderr",
     "output_type": "stream",
     "text": [
      "Getting Data:  50%|█████     | 2/4 [01:03<01:05, 32.74s/it]2025-02-18 15:48:26,576 - 8645349184 - __init__.py-__init__:537 - WARNING: Overriding of current TracerProvider is not allowed\n"
     ]
    },
    {
     "name": "stdout",
     "output_type": "stream",
     "text": [
      "Getting Data for Quess Corp\n",
      "Data not found for client: Quess Corp\n",
      "Data not found for client: Quess Corp\n",
      "Adding Buyer: Quess Corp Data\n"
     ]
    },
    {
     "name": "stderr",
     "output_type": "stream",
     "text": [
      "2025-02-18 15:48:40,398 - 8645349184 - __init__.py-__init__:537 - WARNING: Overriding of current TracerProvider is not allowed\n"
     ]
    },
    {
     "name": "stdout",
     "output_type": "stream",
     "text": [
      "Adding discovery Transcript Data to Vector Store\n"
     ]
    },
    {
     "name": "stderr",
     "output_type": "stream",
     "text": [
      "2025-02-18 15:48:47,608 - 8645349184 - __init__.py-__init__:537 - WARNING: Overriding of current TracerProvider is not allowed\n"
     ]
    },
    {
     "name": "stdout",
     "output_type": "stream",
     "text": [
      "Adding Analysis Data to Vector Store\n"
     ]
    },
    {
     "name": "stderr",
     "output_type": "stream",
     "text": [
      "Getting Data:  75%|███████▌  | 3/4 [01:29<00:29, 29.65s/it]2025-02-18 15:48:52,551 - 8645349184 - __init__.py-__init__:537 - WARNING: Overriding of current TracerProvider is not allowed\n"
     ]
    },
    {
     "name": "stdout",
     "output_type": "stream",
     "text": [
      "Getting Data for Third Bridge Group Limited\n",
      "Data not found for client: Third Bridge Group Limited\n",
      "Data not found for client: Third Bridge Group Limited\n",
      "Adding Buyer: Third Bridge Group Limited Data\n"
     ]
    },
    {
     "name": "stderr",
     "output_type": "stream",
     "text": [
      "2025-02-18 15:49:14,929 - 8645349184 - __init__.py-__init__:537 - WARNING: Overriding of current TracerProvider is not allowed\n"
     ]
    },
    {
     "name": "stdout",
     "output_type": "stream",
     "text": [
      "Adding discovery Transcript Data to Vector Store\n"
     ]
    },
    {
     "name": "stderr",
     "output_type": "stream",
     "text": [
      "2025-02-18 15:49:20,502 - 8645349184 - __init__.py-__init__:537 - WARNING: Overriding of current TracerProvider is not allowed\n"
     ]
    },
    {
     "name": "stdout",
     "output_type": "stream",
     "text": [
      "Adding Analysis Data to Vector Store\n"
     ]
    },
    {
     "name": "stderr",
     "output_type": "stream",
     "text": [
      "Getting Data: 100%|██████████| 4/4 [02:03<00:00, 30.86s/it]\n"
     ]
    }
   ],
   "source": [
    "discovery_calls_data = asyncio.run(make_call(DISCOVERY, seller['seller_clients']['clients'], buyer_inputs))"
   ]
  },
  {
   "cell_type": "code",
   "execution_count": 6,
   "metadata": {},
   "outputs": [
    {
     "name": "stdout",
     "output_type": "stream",
     "text": [
      "Making demo call for ['Cardinal Health', 'BMC Software', 'Grant Thornton', 'Coca Cola', 'Equinix', 'Caterpillar, Inc.']\n",
      "Getting analysis Data\n",
      "Number of Clients:  6\n"
     ]
    },
    {
     "name": "stderr",
     "output_type": "stream",
     "text": [
      "Getting Data:   0%|          | 0/6 [00:00<?, ?it/s]2025-02-17 13:08:16,467 - 8645349184 - __init__.py-__init__:537 - WARNING: Overriding of current TracerProvider is not allowed\n"
     ]
    },
    {
     "name": "stdout",
     "output_type": "stream",
     "text": [
      "Getting Data for Cardinal Health\n",
      "Adding Research Data to Vector Store\n"
     ]
    },
    {
     "name": "stderr",
     "output_type": "stream",
     "text": [
      "2025-02-17 13:08:19,429 - 8645349184 - __init__.py-__init__:537 - WARNING: Overriding of current TracerProvider is not allowed\n"
     ]
    },
    {
     "name": "stdout",
     "output_type": "stream",
     "text": [
      "Adding demo Transcript Data to Vector Store\n"
     ]
    },
    {
     "name": "stderr",
     "output_type": "stream",
     "text": [
      "2025-02-17 13:08:26,756 - 8645349184 - __init__.py-__init__:537 - WARNING: Overriding of current TracerProvider is not allowed\n"
     ]
    },
    {
     "name": "stdout",
     "output_type": "stream",
     "text": [
      "Adding Analysis Data to Vector Store\n"
     ]
    },
    {
     "name": "stderr",
     "output_type": "stream",
     "text": [
      "Getting Data:  17%|█▋        | 1/6 [00:15<01:15, 15.17s/it]2025-02-17 13:08:31,639 - 8645349184 - __init__.py-__init__:537 - WARNING: Overriding of current TracerProvider is not allowed\n"
     ]
    },
    {
     "name": "stdout",
     "output_type": "stream",
     "text": [
      "Getting Data for BMC Software\n",
      "Adding Research Data to Vector Store\n"
     ]
    },
    {
     "name": "stderr",
     "output_type": "stream",
     "text": [
      "2025-02-17 13:08:34,920 - 8645349184 - __init__.py-__init__:537 - WARNING: Overriding of current TracerProvider is not allowed\n"
     ]
    },
    {
     "name": "stdout",
     "output_type": "stream",
     "text": [
      "Adding demo Transcript Data to Vector Store\n"
     ]
    },
    {
     "name": "stderr",
     "output_type": "stream",
     "text": [
      "2025-02-17 13:08:40,423 - 8645349184 - __init__.py-__init__:537 - WARNING: Overriding of current TracerProvider is not allowed\n"
     ]
    },
    {
     "name": "stdout",
     "output_type": "stream",
     "text": [
      "Retrying due to error: Failed to convert text into a Pydantic model due to the following error: Instructor does not support multiple tool calls, use List[Model] instead\n",
      "Adding Analysis Data to Vector Store\n"
     ]
    },
    {
     "name": "stderr",
     "output_type": "stream",
     "text": [
      "Getting Data:  33%|███▎      | 2/6 [00:55<01:59, 29.78s/it]2025-02-17 13:09:11,640 - 8645349184 - __init__.py-__init__:537 - WARNING: Overriding of current TracerProvider is not allowed\n"
     ]
    },
    {
     "name": "stdout",
     "output_type": "stream",
     "text": [
      "Getting Data for Grant Thornton\n",
      "Adding Research Data to Vector Store\n"
     ]
    },
    {
     "name": "stderr",
     "output_type": "stream",
     "text": [
      "2025-02-17 13:09:13,806 - 8645349184 - __init__.py-__init__:537 - WARNING: Overriding of current TracerProvider is not allowed\n"
     ]
    },
    {
     "name": "stdout",
     "output_type": "stream",
     "text": [
      "Adding demo Transcript Data to Vector Store\n"
     ]
    },
    {
     "name": "stderr",
     "output_type": "stream",
     "text": [
      "2025-02-17 13:09:20,643 - 8645349184 - __init__.py-__init__:537 - WARNING: Overriding of current TracerProvider is not allowed\n"
     ]
    },
    {
     "name": "stdout",
     "output_type": "stream",
     "text": [
      "Retrying due to error: Failed to convert text into a Pydantic model due to the following error: Instructor does not support multiple tool calls, use List[Model] instead\n",
      "Adding Analysis Data to Vector Store\n"
     ]
    },
    {
     "name": "stderr",
     "output_type": "stream",
     "text": [
      "Getting Data:  50%|█████     | 3/6 [01:30<01:37, 32.46s/it]2025-02-17 13:09:47,295 - 8645349184 - __init__.py-__init__:537 - WARNING: Overriding of current TracerProvider is not allowed\n"
     ]
    },
    {
     "name": "stdout",
     "output_type": "stream",
     "text": [
      "Getting Data for Coca Cola\n",
      "Adding Research Data to Vector Store\n"
     ]
    },
    {
     "name": "stderr",
     "output_type": "stream",
     "text": [
      "2025-02-17 13:09:50,097 - 8645349184 - __init__.py-__init__:537 - WARNING: Overriding of current TracerProvider is not allowed\n"
     ]
    },
    {
     "name": "stdout",
     "output_type": "stream",
     "text": [
      "Adding demo Transcript Data to Vector Store\n"
     ]
    },
    {
     "name": "stderr",
     "output_type": "stream",
     "text": [
      "2025-02-17 13:09:56,579 - 8645349184 - __init__.py-__init__:537 - WARNING: Overriding of current TracerProvider is not allowed\n"
     ]
    },
    {
     "name": "stdout",
     "output_type": "stream",
     "text": [
      "Adding Analysis Data to Vector Store\n"
     ]
    },
    {
     "name": "stderr",
     "output_type": "stream",
     "text": [
      "Getting Data:  67%|██████▋   | 4/6 [01:44<00:49, 24.97s/it]2025-02-17 13:10:00,786 - 8645349184 - __init__.py-__init__:537 - WARNING: Overriding of current TracerProvider is not allowed\n"
     ]
    },
    {
     "name": "stdout",
     "output_type": "stream",
     "text": [
      "Getting Data for Equinix\n",
      "Adding Research Data to Vector Store\n"
     ]
    },
    {
     "name": "stderr",
     "output_type": "stream",
     "text": [
      "2025-02-17 13:10:03,353 - 8645349184 - __init__.py-__init__:537 - WARNING: Overriding of current TracerProvider is not allowed\n"
     ]
    },
    {
     "name": "stdout",
     "output_type": "stream",
     "text": [
      "Adding demo Transcript Data to Vector Store\n"
     ]
    },
    {
     "name": "stderr",
     "output_type": "stream",
     "text": [
      "2025-02-17 13:10:10,031 - 8645349184 - __init__.py-__init__:537 - WARNING: Overriding of current TracerProvider is not allowed\n"
     ]
    },
    {
     "name": "stdout",
     "output_type": "stream",
     "text": [
      "Retrying due to error: Failed to convert text into a Pydantic model due to the following error: Instructor does not support multiple tool calls, use List[Model] instead\n",
      "Adding Analysis Data to Vector Store\n"
     ]
    },
    {
     "name": "stderr",
     "output_type": "stream",
     "text": [
      "Getting Data:  83%|████████▎ | 5/6 [02:21<00:29, 29.33s/it]2025-02-17 13:10:37,833 - 8645349184 - __init__.py-__init__:537 - WARNING: Overriding of current TracerProvider is not allowed\n"
     ]
    },
    {
     "name": "stdout",
     "output_type": "stream",
     "text": [
      "Getting Data for Caterpillar, Inc.\n",
      "Adding Research Data to Vector Store\n"
     ]
    },
    {
     "name": "stderr",
     "output_type": "stream",
     "text": [
      "2025-02-17 13:10:41,188 - 8645349184 - __init__.py-__init__:537 - WARNING: Overriding of current TracerProvider is not allowed\n"
     ]
    },
    {
     "name": "stdout",
     "output_type": "stream",
     "text": [
      "Adding demo Transcript Data to Vector Store\n"
     ]
    },
    {
     "name": "stderr",
     "output_type": "stream",
     "text": [
      "2025-02-17 13:10:47,537 - 8645349184 - __init__.py-__init__:537 - WARNING: Overriding of current TracerProvider is not allowed\n"
     ]
    },
    {
     "name": "stdout",
     "output_type": "stream",
     "text": [
      "Retrying due to error: Failed to convert text into a Pydantic model due to the following error: Instructor does not support multiple tool calls, use List[Model] instead\n",
      "Retrying due to error: Failed to convert text into a Pydantic model due to the following error: Instructor does not support multiple tool calls, use List[Model] instead\n",
      "Adding Analysis Data to Vector Store\n"
     ]
    },
    {
     "name": "stderr",
     "output_type": "stream",
     "text": [
      "Getting Data: 100%|██████████| 6/6 [03:22<00:00, 33.72s/it]\n"
     ]
    }
   ],
   "source": [
    "demo_calls_data = asyncio.run(make_call(DEMO, clients, buyer_inputs))"
   ]
  },
  {
   "cell_type": "code",
   "execution_count": 7,
   "metadata": {},
   "outputs": [
    {
     "name": "stdout",
     "output_type": "stream",
     "text": [
      "Making pricing call for ['Cardinal Health', 'BMC Software', 'Grant Thornton', 'Coca Cola', 'Equinix', 'Caterpillar, Inc.']\n",
      "Getting analysis Data\n",
      "Number of Clients:  6\n"
     ]
    },
    {
     "name": "stderr",
     "output_type": "stream",
     "text": [
      "Getting Data:   0%|          | 0/6 [00:00<?, ?it/s]2025-02-17 13:11:38,780 - 8645349184 - __init__.py-__init__:537 - WARNING: Overriding of current TracerProvider is not allowed\n"
     ]
    },
    {
     "name": "stdout",
     "output_type": "stream",
     "text": [
      "Getting Data for Cardinal Health\n",
      "Data exists but pricing transcript not found\n",
      "Adding pricing Transcript Data to Vector Store\n"
     ]
    },
    {
     "name": "stderr",
     "output_type": "stream",
     "text": [
      "2025-02-17 13:11:45,513 - 8645349184 - __init__.py-__init__:537 - WARNING: Overriding of current TracerProvider is not allowed\n"
     ]
    },
    {
     "name": "stdout",
     "output_type": "stream",
     "text": [
      "Adding Analysis Data to Vector Store\n"
     ]
    },
    {
     "name": "stderr",
     "output_type": "stream",
     "text": [
      "Getting Data:  17%|█▋        | 1/6 [00:10<00:51, 10.34s/it]2025-02-17 13:11:49,115 - 8645349184 - __init__.py-__init__:537 - WARNING: Overriding of current TracerProvider is not allowed\n"
     ]
    },
    {
     "name": "stdout",
     "output_type": "stream",
     "text": [
      "Getting Data for BMC Software\n",
      "Data exists but pricing transcript not found\n",
      "Adding pricing Transcript Data to Vector Store\n"
     ]
    },
    {
     "name": "stderr",
     "output_type": "stream",
     "text": [
      "2025-02-17 13:11:55,270 - 8645349184 - __init__.py-__init__:537 - WARNING: Overriding of current TracerProvider is not allowed\n"
     ]
    },
    {
     "name": "stdout",
     "output_type": "stream",
     "text": [
      "Adding Analysis Data to Vector Store\n"
     ]
    },
    {
     "name": "stderr",
     "output_type": "stream",
     "text": [
      "Getting Data:  33%|███▎      | 2/6 [00:20<00:40, 10.12s/it]2025-02-17 13:11:59,084 - 8645349184 - __init__.py-__init__:537 - WARNING: Overriding of current TracerProvider is not allowed\n"
     ]
    },
    {
     "name": "stdout",
     "output_type": "stream",
     "text": [
      "Getting Data for Grant Thornton\n",
      "Data exists but pricing transcript not found\n",
      "Adding pricing Transcript Data to Vector Store\n"
     ]
    },
    {
     "name": "stderr",
     "output_type": "stream",
     "text": [
      "2025-02-17 13:12:05,931 - 8645349184 - __init__.py-__init__:537 - WARNING: Overriding of current TracerProvider is not allowed\n"
     ]
    },
    {
     "name": "stdout",
     "output_type": "stream",
     "text": [
      "Adding Analysis Data to Vector Store\n"
     ]
    },
    {
     "name": "stderr",
     "output_type": "stream",
     "text": [
      "Getting Data:  50%|█████     | 3/6 [00:31<00:31, 10.54s/it]2025-02-17 13:12:10,132 - 8645349184 - __init__.py-__init__:537 - WARNING: Overriding of current TracerProvider is not allowed\n"
     ]
    },
    {
     "name": "stdout",
     "output_type": "stream",
     "text": [
      "Getting Data for Coca Cola\n",
      "Data exists but pricing transcript not found\n",
      "Adding pricing Transcript Data to Vector Store\n"
     ]
    },
    {
     "name": "stderr",
     "output_type": "stream",
     "text": [
      "2025-02-17 13:12:15,670 - 8645349184 - __init__.py-__init__:537 - WARNING: Overriding of current TracerProvider is not allowed\n"
     ]
    },
    {
     "name": "stdout",
     "output_type": "stream",
     "text": [
      "Adding Analysis Data to Vector Store\n"
     ]
    },
    {
     "name": "stderr",
     "output_type": "stream",
     "text": [
      "Getting Data:  67%|██████▋   | 4/6 [00:40<00:19,  9.95s/it]2025-02-17 13:12:19,182 - 8645349184 - __init__.py-__init__:537 - WARNING: Overriding of current TracerProvider is not allowed\n"
     ]
    },
    {
     "name": "stdout",
     "output_type": "stream",
     "text": [
      "Getting Data for Equinix\n",
      "Data exists but pricing transcript not found\n",
      "Adding pricing Transcript Data to Vector Store\n"
     ]
    },
    {
     "name": "stderr",
     "output_type": "stream",
     "text": [
      "2025-02-17 13:12:24,571 - 8645349184 - __init__.py-__init__:537 - WARNING: Overriding of current TracerProvider is not allowed\n"
     ]
    },
    {
     "name": "stdout",
     "output_type": "stream",
     "text": [
      "Adding Analysis Data to Vector Store\n"
     ]
    },
    {
     "name": "stderr",
     "output_type": "stream",
     "text": [
      "Getting Data:  83%|████████▎ | 5/6 [00:49<00:09,  9.53s/it]2025-02-17 13:12:27,964 - 8645349184 - __init__.py-__init__:537 - WARNING: Overriding of current TracerProvider is not allowed\n"
     ]
    },
    {
     "name": "stdout",
     "output_type": "stream",
     "text": [
      "Getting Data for Caterpillar, Inc.\n",
      "Data exists but pricing transcript not found\n",
      "Adding pricing Transcript Data to Vector Store\n"
     ]
    },
    {
     "name": "stderr",
     "output_type": "stream",
     "text": [
      "2025-02-17 13:12:32,611 - 8645349184 - __init__.py-__init__:537 - WARNING: Overriding of current TracerProvider is not allowed\n"
     ]
    },
    {
     "name": "stdout",
     "output_type": "stream",
     "text": [
      "Adding Analysis Data to Vector Store\n"
     ]
    },
    {
     "name": "stderr",
     "output_type": "stream",
     "text": [
      "Getting Data: 100%|██████████| 6/6 [00:57<00:00,  9.52s/it]\n"
     ]
    }
   ],
   "source": [
    "pricing_call_data = asyncio.run(make_call(PRICING, clients, buyer_inputs))"
   ]
  },
  {
   "cell_type": "code",
   "execution_count": 8,
   "metadata": {},
   "outputs": [
    {
     "name": "stdout",
     "output_type": "stream",
     "text": [
      "Making negotiation call for ['Cardinal Health', 'BMC Software', 'Grant Thornton', 'Coca Cola', 'Equinix', 'Caterpillar, Inc.']\n",
      "Getting analysis Data\n",
      "Number of Clients:  6\n"
     ]
    },
    {
     "name": "stderr",
     "output_type": "stream",
     "text": [
      "Getting Data:   0%|          | 0/6 [00:00<?, ?it/s]2025-02-17 13:12:35,921 - 8645349184 - __init__.py-__init__:537 - WARNING: Overriding of current TracerProvider is not allowed\n"
     ]
    },
    {
     "name": "stdout",
     "output_type": "stream",
     "text": [
      "Getting Data for Cardinal Health\n",
      "Data exists but pricing transcript not found\n",
      "Adding negotiation Transcript Data to Vector Store\n"
     ]
    },
    {
     "name": "stderr",
     "output_type": "stream",
     "text": [
      "2025-02-17 13:12:40,906 - 8645349184 - __init__.py-__init__:537 - WARNING: Overriding of current TracerProvider is not allowed\n"
     ]
    },
    {
     "name": "stdout",
     "output_type": "stream",
     "text": [
      "Adding Analysis Data to Vector Store\n"
     ]
    },
    {
     "name": "stderr",
     "output_type": "stream",
     "text": [
      "Getting Data:  17%|█▋        | 1/6 [00:08<00:44,  8.87s/it]2025-02-17 13:12:44,793 - 8645349184 - __init__.py-__init__:537 - WARNING: Overriding of current TracerProvider is not allowed\n"
     ]
    },
    {
     "name": "stdout",
     "output_type": "stream",
     "text": [
      "Getting Data for BMC Software\n",
      "Data exists but pricing transcript not found\n",
      "Adding negotiation Transcript Data to Vector Store\n"
     ]
    },
    {
     "name": "stderr",
     "output_type": "stream",
     "text": [
      "2025-02-17 13:12:49,816 - 8645349184 - __init__.py-__init__:537 - WARNING: Overriding of current TracerProvider is not allowed\n"
     ]
    },
    {
     "name": "stdout",
     "output_type": "stream",
     "text": [
      "Adding Analysis Data to Vector Store\n"
     ]
    },
    {
     "name": "stderr",
     "output_type": "stream",
     "text": [
      "Getting Data:  33%|███▎      | 2/6 [00:17<00:34,  8.66s/it]2025-02-17 13:12:53,309 - 8645349184 - __init__.py-__init__:537 - WARNING: Overriding of current TracerProvider is not allowed\n"
     ]
    },
    {
     "name": "stdout",
     "output_type": "stream",
     "text": [
      "Getting Data for Grant Thornton\n",
      "Data exists but pricing transcript not found\n",
      "Adding negotiation Transcript Data to Vector Store\n"
     ]
    },
    {
     "name": "stderr",
     "output_type": "stream",
     "text": [
      "2025-02-17 13:12:57,674 - 8645349184 - __init__.py-__init__:537 - WARNING: Overriding of current TracerProvider is not allowed\n"
     ]
    },
    {
     "name": "stdout",
     "output_type": "stream",
     "text": [
      "Adding Analysis Data to Vector Store\n"
     ]
    },
    {
     "name": "stderr",
     "output_type": "stream",
     "text": [
      "Getting Data:  50%|█████     | 3/6 [00:25<00:25,  8.56s/it]2025-02-17 13:13:01,754 - 8645349184 - __init__.py-__init__:537 - WARNING: Overriding of current TracerProvider is not allowed\n"
     ]
    },
    {
     "name": "stdout",
     "output_type": "stream",
     "text": [
      "Getting Data for Coca Cola\n",
      "Data exists but pricing transcript not found\n",
      "Adding negotiation Transcript Data to Vector Store\n"
     ]
    },
    {
     "name": "stderr",
     "output_type": "stream",
     "text": [
      "2025-02-17 13:13:07,019 - 8645349184 - __init__.py-__init__:537 - WARNING: Overriding of current TracerProvider is not allowed\n"
     ]
    },
    {
     "name": "stdout",
     "output_type": "stream",
     "text": [
      "Adding Analysis Data to Vector Store\n"
     ]
    },
    {
     "name": "stderr",
     "output_type": "stream",
     "text": [
      "Getting Data:  67%|██████▋   | 4/6 [00:35<00:17,  8.87s/it]2025-02-17 13:13:11,098 - 8645349184 - __init__.py-__init__:537 - WARNING: Overriding of current TracerProvider is not allowed\n"
     ]
    },
    {
     "name": "stdout",
     "output_type": "stream",
     "text": [
      "Getting Data for Equinix\n",
      "Data exists but pricing transcript not found\n",
      "Adding negotiation Transcript Data to Vector Store\n"
     ]
    },
    {
     "name": "stderr",
     "output_type": "stream",
     "text": [
      "2025-02-17 13:13:17,512 - 8645349184 - __init__.py-__init__:537 - WARNING: Overriding of current TracerProvider is not allowed\n"
     ]
    },
    {
     "name": "stdout",
     "output_type": "stream",
     "text": [
      "Adding Analysis Data to Vector Store\n"
     ]
    },
    {
     "name": "stderr",
     "output_type": "stream",
     "text": [
      "Getting Data:  83%|████████▎ | 5/6 [00:44<00:08,  8.99s/it]2025-02-17 13:13:20,315 - 8645349184 - __init__.py-__init__:537 - WARNING: Overriding of current TracerProvider is not allowed\n"
     ]
    },
    {
     "name": "stdout",
     "output_type": "stream",
     "text": [
      "Getting Data for Caterpillar, Inc.\n",
      "Data exists but pricing transcript not found\n",
      "Adding negotiation Transcript Data to Vector Store\n"
     ]
    },
    {
     "name": "stderr",
     "output_type": "stream",
     "text": [
      "2025-02-17 13:13:26,756 - 8645349184 - __init__.py-__init__:537 - WARNING: Overriding of current TracerProvider is not allowed\n"
     ]
    },
    {
     "name": "stdout",
     "output_type": "stream",
     "text": [
      "Adding Analysis Data to Vector Store\n"
     ]
    },
    {
     "name": "stderr",
     "output_type": "stream",
     "text": [
      "Getting Data: 100%|██████████| 6/6 [00:54<00:00,  9.15s/it]\n"
     ]
    }
   ],
   "source": [
    "negotiation_call_data = asyncio.run(make_call(NEGOTIATION, clients, buyer_inputs))"
   ]
  },
  {
   "cell_type": "markdown",
   "metadata": {},
   "source": [
    "## Queries"
   ]
  },
  {
   "cell_type": "code",
   "execution_count": 9,
   "metadata": {},
   "outputs": [],
   "source": [
    "# len(index._storage_context.vector_store._collection.get()['metadatas'])"
   ]
  },
  {
   "cell_type": "code",
   "execution_count": 10,
   "metadata": {},
   "outputs": [],
   "source": [
    "from echo.queries import get_queries\n",
    "\n",
    "seller = \"Whatfix\"\n",
    "queries = get_queries(seller)"
   ]
  },
  {
   "cell_type": "code",
   "execution_count": 11,
   "metadata": {},
   "outputs": [
    {
     "name": "stdout",
     "output_type": "stream",
     "text": [
      "Total queries:  4\n"
     ]
    }
   ],
   "source": [
    "print(\"Total queries: \", len(queries))"
   ]
  },
  {
   "cell_type": "code",
   "execution_count": 12,
   "metadata": {},
   "outputs": [
    {
     "data": {
      "text/plain": [
       "dict_keys(['discovery', 'demo', 'pricing', 'negotiation'])"
      ]
     },
     "execution_count": 12,
     "metadata": {},
     "output_type": "execute_result"
    }
   ],
   "source": [
    "queries.keys()"
   ]
  },
  {
   "cell_type": "code",
   "execution_count": 13,
   "metadata": {},
   "outputs": [],
   "source": [
    "# vector_index.storage_context.vector_store._collection.get()['metadatas']"
   ]
  },
  {
   "cell_type": "code",
   "execution_count": 14,
   "metadata": {},
   "outputs": [
    {
     "name": "stdout",
     "output_type": "stream",
     "text": [
      "Running queries for call type discovery\n"
     ]
    },
    {
     "name": "stderr",
     "output_type": "stream",
     "text": [
      "Running Queries:   0%|          | 0/8 [00:00<?, ?it/s]"
     ]
    },
    {
     "name": "stdout",
     "output_type": "stream",
     "text": [
      "Running sub query What all pieces of information about the buyer are uncovered in discovery calls of successful deals?\n",
      "Sub query context {'query': 'What all pieces of information about the buyer are uncovered in discovery calls of successful deals?', 'context': 'Relevant Context:\\nThe pain points, objections, time lines, success indicators, budget constraints, competition, and decision committee members of the buyer are uncovered in discovery calls of successful deals.'}\n",
      "Running sub query What all piece of information have we learnt about the buyer from discovery till now?\n"
     ]
    },
    {
     "name": "stderr",
     "output_type": "stream",
     "text": [
      "2025-02-17 13:13:35,707 - 8645349184 - __init__.py-__init__:537 - WARNING: Overriding of current TracerProvider is not allowed\n"
     ]
    },
    {
     "name": "stdout",
     "output_type": "stream",
     "text": [
      "Sub query context {'query': 'What all piece of information have we learnt about the buyer from discovery till now?', 'context': 'Relevant Context:\\nThe buyer, BMC Software, is dealing with complex IT problems that hinder their ability to minimize cost and effort. They are struggling with remote monitoring and management of host systems. BMC Software is unsure if digital adoption platforms can meet their specific requirements and they need a customized solution that can integrate with existing systems and provide advanced analytics and performance support. They are open to exploring different pricing models and have not set a specific budget yet. The decision committee includes Ayman Sayed (CEO), John Moores (Founder), and IT department stakeholders. The buyer is looking for a digital adoption platform that can provide a significant reduction in cost and effort, as well as an improvement in user adoption and satisfaction. They have a timeline of 6-12 months for implementing a digital adoption platform and are considering competitors like WalkMe, Pendo, and Userpilot.'}\n",
      "Running final query Given all the information needed to uncover and the current information uncovered till now - What all pieces of information are missing that should be uner and the current information uncovered till nowWhat all pieces of information are missing that should be uncovered in upcoming calls?\n"
     ]
    },
    {
     "name": "stderr",
     "output_type": "stream",
     "text": [
      "Running Queries:  12%|█▎        | 1/8 [00:08<01:01,  8.79s/it]"
     ]
    },
    {
     "name": "stdout",
     "output_type": "stream",
     "text": [
      "Trying to parse with Ast...\n",
      "Running sub query What are the top priorities for the account to solve for?\n"
     ]
    },
    {
     "name": "stderr",
     "output_type": "stream",
     "text": [
      "2025-02-17 13:13:40,887 - 8645349184 - __init__.py-__init__:537 - WARNING: Overriding of current TracerProvider is not allowed\n"
     ]
    },
    {
     "name": "stdout",
     "output_type": "stream",
     "text": [
      "Sub query context {'query': 'What are the top priorities for the account to solve for?', 'context': 'Relevant Context:\\nThe top priorities for the account to solve for are digital transformation, IT modernization, and mainframe optimization.'}\n",
      "Running final query What are the top priorities this quarter for the account to solve for?\n"
     ]
    },
    {
     "name": "stderr",
     "output_type": "stream",
     "text": [
      "Running Queries:  25%|██▌       | 2/8 [00:12<00:35,  5.93s/it]"
     ]
    },
    {
     "name": "stdout",
     "output_type": "stream",
     "text": [
      "Trying to parse with Ast...\n",
      "Running sub query What are the top priorities and possible pains for my prospect in the upcoming quarters?\n",
      "Sub query context {'query': 'What are the top priorities and possible pains for my prospect in the upcoming quarters?', 'context': 'Relevant Context:\\nThe top priorities for your prospect in the upcoming quarters are digital transformation, IT modernization, and mainframe optimization. Possible pains they may face include complex IT environments affecting digital transformation, lack of visibility into IT operations hindering IT modernization, difficulty in scaling IT resources for mainframe optimization, inefficient user onboarding and training processes, inadequate performance support for software adoption, high costs associated with user support and training, the need for a customized digital adoption platform, requirement for a scalable solution to support large user bases, desire for a user-friendly interface and good user experience, and the importance of strong analytics capabilities for IT operations.'}\n",
      "Running sub query What are the historical ways to present the product value prop to similar buyers\n"
     ]
    },
    {
     "name": "stderr",
     "output_type": "stream",
     "text": [
      "2025-02-17 13:13:47,440 - 8645349184 - __init__.py-__init__:537 - WARNING: Overriding of current TracerProvider is not allowed\n"
     ]
    },
    {
     "name": "stdout",
     "output_type": "stream",
     "text": [
      "Sub query context {'query': 'What are the historical ways to present the product value prop to similar buyers', 'context': \"Relevant Context:\\nHistorically, the ways to present the product value proposition to similar buyers have included highlighting how the product can address specific pain points identified during the discovery call, showcasing success indicators that align with the buyer's objectives, providing insights into how the product can improve efficiency or reduce costs, offering objection resolutions that address concerns raised by the buyer, and emphasizing the unique selling points that differentiate the product from competitors in the industry.\"}\n",
      "Running final query Given stakeholder priorities and historical ways we've presented product to similar buyers - How can I present the value proposition of this product that aligns with my prospects industry and current stakeholders priorities?\n"
     ]
    },
    {
     "name": "stderr",
     "output_type": "stream",
     "text": [
      "Running Queries:  38%|███▊      | 3/8 [00:19<00:31,  6.37s/it]"
     ]
    },
    {
     "name": "stdout",
     "output_type": "stream",
     "text": [
      "Trying to parse with Ast...\n",
      "Running sub query What are the top relevant discovery questions that have been successful for similar buyers and the respective stakeholder?\n"
     ]
    },
    {
     "name": "stderr",
     "output_type": "stream",
     "text": [
      "2025-02-17 13:13:52,598 - 8645349184 - __init__.py-__init__:537 - WARNING: Overriding of current TracerProvider is not allowed\n"
     ]
    },
    {
     "name": "stdout",
     "output_type": "stream",
     "text": [
      "Sub query context {'query': 'What are the top relevant discovery questions that have been successful for similar buyers and the respective stakeholder?', 'context': \"Relevant Context:\\nCan you please introduce yourself and tell me a little bit about your role within the organization?\\nCan you tell me more about the current challenges you're facing when it comes to employee training and support?\\nWhat are some of the pain points you're experiencing?\\nCan you tell me more about your current software landscape and what systems you're currently using?\\nCan you tell me more about your decision-making process and what the timeline looks like for implementing a new solution?\\nWhat are you hoping to achieve with a new solution in terms of metrics or KPIs?\\nWhat are the next steps if we're interested in moving forward with Whatfix?\"}\n",
      "Running final query What are the top relevant discovery questions that have been successful for similar buyers and the respective stakeholder?\n"
     ]
    },
    {
     "name": "stderr",
     "output_type": "stream",
     "text": [
      "Running Queries:  50%|█████     | 4/8 [00:25<00:24,  6.12s/it]"
     ]
    },
    {
     "name": "stdout",
     "output_type": "stream",
     "text": [
      "Trying to parse with Ast...\n",
      "Running sub query What are the top competitors for the account and what are the key differentiators?\n",
      "Sub query context {'query': 'What are the top competitors for the account and what are the key differentiators?', 'context': 'Relevant Context:\\nThe top competitors for the account are WalkMe, Pendo, Userpilot, VisualSP, and Appcues. The key differentiators for these competitors are as follows:\\n\\n- WalkMe: AI-powered guidance and real-time analytics.\\n- Pendo: Product experience platform and in-app guidance.\\n- Userpilot: Code-free implementation and real-time feedback.\\n- VisualSP: Customizable digital adoption platform and focus on small to medium-sized businesses.\\n- Appcues: No-code workflow builder and emphasis on user onboarding.'}\n",
      "Running sub query Who are my top competitors and how do i differentiate ourselves compared to each of them to better solve the buyers issues?\n"
     ]
    },
    {
     "name": "stderr",
     "output_type": "stream",
     "text": [
      "2025-02-17 13:14:00,126 - 8645349184 - __init__.py-__init__:537 - WARNING: Overriding of current TracerProvider is not allowed\n"
     ]
    },
    {
     "name": "stdout",
     "output_type": "stream",
     "text": [
      "Sub query context {'query': 'Who are my top competitors and how do i differentiate ourselves compared to each of them to better solve the buyers issues?', 'context': \"Relevant Context:\\nYour top competitor mentioned in the context is WalkMe. To differentiate yourself from WalkMe, you can highlight Whatfix's ability to provide advanced analytics capabilities, integrate seamlessly with existing systems, reduce training time and costs, improve overall employee productivity, and ensure a sufficient ROI. Emphasizing these strengths can help address the buyer's pain points such as difficulty in onboarding new users to enterprise software, limited analytics capabilities, and budget constraints while showcasing the unique value proposition of Whatfix compared to WalkMe.\"}\n",
      "Running final query What are my top competitors and our differentiation?\n"
     ]
    },
    {
     "name": "stderr",
     "output_type": "stream",
     "text": [
      "Running Queries:  62%|██████▎   | 5/8 [00:32<00:19,  6.46s/it]"
     ]
    },
    {
     "name": "stdout",
     "output_type": "stream",
     "text": [
      "Trying to parse with Ast...\n",
      "Running sub query What all questions and information about the decision making process do i need to gather from the buyer?\n",
      "Sub query context {'query': 'What all questions and information about the decision making process do i need to gather from the buyer?', 'context': \"Relevant Context:\\nYou need to gather information about the buyer's decision-making process by asking questions such as:\\n- Can you tell me more about your decision-making process and what the timeline looks like for implementing a new solution?\\n- Who else is involved in the decision-making process for this purchase?\\n- We'll need to discuss this further internally and review our budget constraints before making a decision.\"}\n",
      "Running sub query What all pieces of information do i already have about the decision makers and buying committee?\n"
     ]
    },
    {
     "name": "stderr",
     "output_type": "stream",
     "text": [
      "2025-02-17 13:14:06,464 - 8645349184 - __init__.py-__init__:537 - WARNING: Overriding of current TracerProvider is not allowed\n"
     ]
    },
    {
     "name": "stdout",
     "output_type": "stream",
     "text": [
      "Sub query context {'query': 'What all pieces of information do i already have about the decision makers and buying committee?', 'context': 'Relevant Context:\\nThe members of the decision committee identified in the calls are John, the Director of IT Operations at BMC Software, Ayman Sayed (CEO), John Moores (Founder), and stakeholders from the IT department.'}\n",
      "Running final query What all pieces of information about the decision making committee is pending given the current information I have?\n"
     ]
    },
    {
     "name": "stderr",
     "output_type": "stream",
     "text": [
      "Running Queries:  75%|███████▌  | 6/8 [00:37<00:12,  6.05s/it]"
     ]
    },
    {
     "name": "stdout",
     "output_type": "stream",
     "text": [
      "Trying to parse with Ast...\n",
      "Running sub query Based on the historical calls with the buyer, what are some ways or topics to build rapport?\n",
      "Sub query context {'query': 'Based on the historical calls with the buyer, what are some ways or topics to build rapport?', 'context': \"Relevant Context:\\nSome ways or topics to build rapport based on the historical calls with the buyer could include discussing the buyer's role and challenges they are facing, understanding their specific pain points and objectives, showing insights into their business goals and challenges, addressing objections raised by the buyer, providing tailored resolutions to their concerns, discussing the decision-making process and key decision-makers involved, sharing success indicators and timelines, and offering examples of how your solution can help improve their current situation.\"}\n",
      "Running sub query Based on similar buyers, what kind of talking points about the industry could help build rapport?\n",
      "Sub query context {'query': 'Based on similar buyers, what kind of talking points about the industry could help build rapport?', 'context': 'Relevant Context:\\nTalking points about the industry such as challenges faced by other buyers in the beverage industry, changing consumer preferences, competition within the industry, and the need to adapt to evolving business landscapes could help build rapport with similar buyers. Additionally, discussing common pain points like inefficient training processes, limited visibility into software adoption, and the importance of improving employee productivity and efficiency could also resonate with buyers in the industry.'}\n",
      "Running sub query Based on the external research of the buyer, what kind of talking points could help build rapport?\n"
     ]
    },
    {
     "name": "stderr",
     "output_type": "stream",
     "text": [
      "2025-02-17 13:14:13,916 - 8645349184 - __init__.py-__init__:537 - WARNING: Overriding of current TracerProvider is not allowed\n"
     ]
    },
    {
     "name": "stdout",
     "output_type": "stream",
     "text": [
      "Sub query context {'query': 'Based on the external research of the buyer, what kind of talking points could help build rapport?', 'context': \"Relevant Context:\\nTalking points that could help build rapport include discussing BMC Software's goals of digital transformation, IT modernization, and mainframe optimization. Additionally, highlighting their challenges with complex IT environments, lack of visibility into IT operations, and difficulty in scaling IT resources could show understanding and empathy towards their current situation. Bringing up the importance of advanced analytics, performance support, and the need for a customizable digital adoption platform tailored to their specific requirements could also resonate well with BMC Software.\"}\n",
      "Running final query what are some rapport building cues I could use with the prospect?\n"
     ]
    },
    {
     "name": "stderr",
     "output_type": "stream",
     "text": [
      "Running Queries:  88%|████████▊ | 7/8 [00:46<00:06,  6.88s/it]"
     ]
    },
    {
     "name": "stdout",
     "output_type": "stream",
     "text": [
      "Trying to parse with Ast...\n",
      "Running sub query What are some possible objections the prospect could raise regarding our offering based on similar buyers in the past. Also provide how to handle them?\n",
      "Sub query context {'query': 'What are some possible objections the prospect could raise regarding our offering based on similar buyers in the past. Also provide how to handle them?', 'context': 'Relevant Context:\\nPossible objections the prospect could raise regarding the offering based on similar buyers in the past are concerns about potential disruption to current workflows and operations, the need for customization and flexibility in the solution, and concerns about the cost of implementing the solution.\\n\\nTo handle these objections:\\n1. Concerns about potential disruption to current workflows and operations:\\nResolution: Highlight that the solution is highly customizable and flexible to meet the unique needs of the organization. Emphasize that the implementation process is designed to minimize disruptions and ensure a smooth transition.\\n\\n2. Need for customization and flexibility in the solution:\\nResolution: Reassure the prospect that the offering is designed to be highly customizable and flexible to adapt to their specific requirements. Provide examples of how the solution has successfully met the unique needs of other similar buyers.\\n\\n3. Concerns about the cost of implementing the solution:\\nResolution: Work with the prospect to understand their budget constraints and develop a customized pricing plan that aligns with their financial requirements. Emphasize the value and return on investment that the solution can provide to justify the cost.'}\n",
      "Running sub query What are some possible objections the buyer could raise given their details and pains?\n"
     ]
    },
    {
     "name": "stderr",
     "output_type": "stream",
     "text": [
      "2025-02-17 13:14:22,040 - 8645349184 - __init__.py-__init__:537 - WARNING: Overriding of current TracerProvider is not allowed\n"
     ]
    },
    {
     "name": "stdout",
     "output_type": "stream",
     "text": [
      "Sub query context {'query': 'What are some possible objections the buyer could raise given their details and pains?', 'context': 'Relevant Context:\\nThe possible objections the buyer could raise given their details and pains are related to concerns about the pricing model being too expensive for their enterprise, integration of the solution with their existing IT infrastructure, scalability of the digital adoption platform for their large user base, complexity of setting up and using the solution, comparison of features and pricing with competitors, level of customization provided, measurement of ROI, past experiences with digital adoption platforms, and suitability of the solution for their specific industry or use case.'}\n",
      "Running final query What are some possible objections the prospect could raise regarding our offering based on similar buyers in the past. Also provide how to handle them?\n"
     ]
    },
    {
     "name": "stderr",
     "output_type": "stream",
     "text": [
      "Running Queries: 100%|██████████| 8/8 [00:54<00:00,  6.81s/it]\n"
     ]
    },
    {
     "name": "stdout",
     "output_type": "stream",
     "text": [
      "Trying to parse with Ast...\n",
      "Running queries for call type demo\n"
     ]
    },
    {
     "name": "stderr",
     "output_type": "stream",
     "text": [
      "Running Queries:   0%|          | 0/4 [00:00<?, ?it/s]"
     ]
    },
    {
     "name": "stdout",
     "output_type": "stream",
     "text": [
      "Running sub query What are the top pains identified for the buyer in the past?\n"
     ]
    },
    {
     "name": "stderr",
     "output_type": "stream",
     "text": [
      "2025-02-17 13:14:26,916 - 8645349184 - __init__.py-__init__:537 - WARNING: Overriding of current TracerProvider is not allowed\n"
     ]
    },
    {
     "name": "stdout",
     "output_type": "stream",
     "text": [
      "Sub query context {'query': 'What are the top pains identified for the buyer in the past?', 'context': 'Relevant Context:\\nThe top pains identified for the buyer in the past were dealing with complex IT environments, lack of visibility into IT operations, manual processes leading to errors and inefficiencies, struggling with remote monitoring and management of host systems, and dealing with complex IT problems that hinder the ability to minimize cost and effort.'}\n",
      "Running final query What are the top pains identified for this account from discovery?\n"
     ]
    },
    {
     "name": "stderr",
     "output_type": "stream",
     "text": [
      "Running Queries:  25%|██▌       | 1/4 [00:03<00:11,  3.86s/it]"
     ]
    },
    {
     "name": "stdout",
     "output_type": "stream",
     "text": [
      "Trying to parse with Ast...\n",
      "Running sub query What are the top pains identified from the discovery phase?\n",
      "Sub query context {'query': 'What are the top pains identified from the discovery phase?', 'context': 'Relevant Context:\\nThe top pains identified from the discovery phase are dealing with complex IT environments, lack of visibility into IT operations, manual processes leading to errors and inefficiencies, struggling with remote monitoring and management of host systems, and dealing with complex IT problems that hinder the ability to minimize cost and effort.'}\n",
      "Running sub query What features align best with the pains identified?\n"
     ]
    },
    {
     "name": "stderr",
     "output_type": "stream",
     "text": [
      "2025-02-17 13:14:31,080 - 8645349184 - local_persistent_hnsw.py-local_persistent_hnsw:423 - WARNING: Number of requested results 3 is greater than number of elements in index 2, updating n_results = 2\n"
     ]
    },
    {
     "name": "stdout",
     "output_type": "stream",
     "text": [
      "Sub query context {'query': \"What features align best with the pains identified?\\nContext: \\nBuyer Research Fields Description: class ClientResearchResponse(BaseModel):\\n\\n\\tname: str # The name of the client.\\n\\twebsite: str # The website of the buyer.\\n\\tdescription: str # A description of the buyer.\\n\\tindustry: str # The industry that the buyer belongs to.\\n\\tcompany_size: str # The type of company size as: SMB, Mid-Market, Enterprise.\\n\\tgoals: List[str] # The goals of the buyer.\\n\\tuse_cases: List[str] # The use cases of the buyer.\\n\\tchallenges: List[str] # The challenges faced by the buyer.\\n\\tstakeholders: List[str] # The stakeholders of the buyer.\\n\\n# Name\\nBMC Software\\n# Website\\nhttps://www.bmc.com/\\n# Description\\nBMC helps customers run and reinvent their businesses with open, scalable, and modular solutions to complex IT problems.\\n# Industry\\nSoftware as a Service (SaaS)\\n# Company_Size\\nEnterprise\\n# Goals\\n   - Digital transformation\\n   - IT modernization\\n   - Mainframe optimization\\n# Use_Cases\\n   - Automating IT workflows\\n   - Managing IT resources\\n   - Optimizing IT infrastructure\\n# Challenges\\n   - Complex IT environments\\n   - Lack of visibility into IT operations\\n   - Difficulty in scaling IT resources\\n# Stakeholders\\n   - CIOs\\n   - CTOs\\n   - IT operations teams\\n   - DevOps teams\\n\\nCompetitive Info Fields Description: class CompetitorComparison(BaseModel):\\n\\n\\tname: str # The name of the competitor.\\n\\tpros: List[str] # The pros of the competitor.\\n\\tcons: List[str] # The cons of the competitor.\\n\\tdifferentiators: List[str] # The differentiators of the seller against the competitor.\\n\\n# Competitors\\n   - ### Name\\nWalkMe\\n### Pros\\n       - Leading digital adoption platform\\n       - Personalized guidance and automation\\n       - Enterprise-ready\\n### Cons\\n       - May be complex to set up\\n       - Pricing can be steep for large enterprises\\n### Differentiators\\n       - Overlays on any application\\n       - Identifies where workflows break\\n   - ### Name\\nPendo\\n### Pros\\n       - User-friendly interface\\n       - Strong analytics capabilities\\n       - Good for user onboarding\\n### Cons\\n       - Limited support for complex workflows\\n       - Pricing can be high for large enterprises\\n### Differentiators\\n       - AI-powered digital adoption platform\\n       - Creates happier customers\\n   - ### Name\\nUserpilot\\n### Pros\\n       - Highest user satisfaction\\n       - Easy to use\\n       - Good for small to medium-sized businesses\\n### Cons\\n       - Limited scalability\\n       - Limited support for complex workflows\\n### Differentiators\\n       - Highest user satisfaction\\n       - Easy to set up\\n   - ### Name\\nVisualSP\\n### Pros\\n       - Good for small to medium-sized businesses\\n       - Easy to use\\n       - Good support\\n### Cons\\n       - Limited scalability\\n       - Limited support for complex workflows\\n### Differentiators\\n       - Customizable digital adoption platform\\n       - Good for small to medium-sized businesses\\n   - ### Name\\nAppcues\\n### Pros\\n       - Easy to use\\n       - Good for user onboarding\\n       - Good support\\n### Cons\\n       - Limited scalability\\n       - Limited support for complex workflows\\n### Differentiators\\n       - Flows, a no-code workflow builder\\n       - Good for user onboarding\\n\\nAnticipated Qopcs Fields Description: class AnticipatedPainsAndObjections(BaseModel):\\n\\n\\tpains: List[str] # The pain points identified in the call.\\n\\tobjections: List[str] # The objections identified in the call.\\n\\n# Pains\\n   - Complex IT environments affecting digital transformation\\n   - Lack of visibility into IT operations hindering IT modernization\\n   - Difficulty in scaling IT resources for mainframe optimization\\n   - Inefficient user onboarding and training processes\\n   - Inadequate performance support for software adoption\\n   - High costs associated with user support and training\\n   - Need for a customized digital adoption platform\\n   - Requirement for a scalable solution to support large user bases\\n   - Desire for a user-friendly interface and good user experience\\n   - Importance of strong analytics capabilities for IT operations\\n# Objections\\n   - Whatfix's pricing model may be too expensive for our enterprise\\n   - How does Whatfix's solution integrate with our existing IT infrastructure?\\n   - Whatfix's digital adoption platform may not be scalable enough for our large user base\\n   - We're concerned about the complexity of setting up and using Whatfix's solution\\n   - How does Whatfix's solution compare to its competitors in terms of features and pricing?\\n   - We're not sure if Whatfix's solution can provide the level of customization we need\\n   - How does Whatfix measure the ROI of its digital adoption platform?\\n   - We have had bad experiences with digital adoption platforms in the past\\n   - Whatfix's solution may not be suitable for our specific industry or use case\", 'context': 'Relevant Context:\\nThe features that align best with the identified pains include providing in-app guidance, training, and performance support for software adoption, enhancing software experiences across various platforms, and improving user adoption of enterprise software.'}\n",
      "Running sub query What features best align with the pains identified for similar buyers?\n"
     ]
    },
    {
     "name": "stderr",
     "output_type": "stream",
     "text": [
      "2025-02-17 13:14:35,202 - 8645349184 - __init__.py-__init__:537 - WARNING: Overriding of current TracerProvider is not allowed\n"
     ]
    },
    {
     "name": "stdout",
     "output_type": "stream",
     "text": [
      "Sub query context {'query': \"What features best align with the pains identified for similar buyers?\\nContext: \\nBuyer Research Fields Description: class ClientResearchResponse(BaseModel):\\n\\n\\tname: str # The name of the client.\\n\\twebsite: str # The website of the buyer.\\n\\tdescription: str # A description of the buyer.\\n\\tindustry: str # The industry that the buyer belongs to.\\n\\tcompany_size: str # The type of company size as: SMB, Mid-Market, Enterprise.\\n\\tgoals: List[str] # The goals of the buyer.\\n\\tuse_cases: List[str] # The use cases of the buyer.\\n\\tchallenges: List[str] # The challenges faced by the buyer.\\n\\tstakeholders: List[str] # The stakeholders of the buyer.\\n\\n# Name\\nBMC Software\\n# Website\\nhttps://www.bmc.com/\\n# Description\\nBMC helps customers run and reinvent their businesses with open, scalable, and modular solutions to complex IT problems.\\n# Industry\\nSoftware as a Service (SaaS)\\n# Company_Size\\nEnterprise\\n# Goals\\n   - Digital transformation\\n   - IT modernization\\n   - Mainframe optimization\\n# Use_Cases\\n   - Automating IT workflows\\n   - Managing IT resources\\n   - Optimizing IT infrastructure\\n# Challenges\\n   - Complex IT environments\\n   - Lack of visibility into IT operations\\n   - Difficulty in scaling IT resources\\n# Stakeholders\\n   - CIOs\\n   - CTOs\\n   - IT operations teams\\n   - DevOps teams\\n\\nCompetitive Info Fields Description: class CompetitorComparison(BaseModel):\\n\\n\\tname: str # The name of the competitor.\\n\\tpros: List[str] # The pros of the competitor.\\n\\tcons: List[str] # The cons of the competitor.\\n\\tdifferentiators: List[str] # The differentiators of the seller against the competitor.\\n\\n# Competitors\\n   - ### Name\\nWalkMe\\n### Pros\\n       - Leading digital adoption platform\\n       - Personalized guidance and automation\\n       - Enterprise-ready\\n### Cons\\n       - May be complex to set up\\n       - Pricing can be steep for large enterprises\\n### Differentiators\\n       - Overlays on any application\\n       - Identifies where workflows break\\n   - ### Name\\nPendo\\n### Pros\\n       - User-friendly interface\\n       - Strong analytics capabilities\\n       - Good for user onboarding\\n### Cons\\n       - Limited support for complex workflows\\n       - Pricing can be high for large enterprises\\n### Differentiators\\n       - AI-powered digital adoption platform\\n       - Creates happier customers\\n   - ### Name\\nUserpilot\\n### Pros\\n       - Highest user satisfaction\\n       - Easy to use\\n       - Good for small to medium-sized businesses\\n### Cons\\n       - Limited scalability\\n       - Limited support for complex workflows\\n### Differentiators\\n       - Highest user satisfaction\\n       - Easy to set up\\n   - ### Name\\nVisualSP\\n### Pros\\n       - Good for small to medium-sized businesses\\n       - Easy to use\\n       - Good support\\n### Cons\\n       - Limited scalability\\n       - Limited support for complex workflows\\n### Differentiators\\n       - Customizable digital adoption platform\\n       - Good for small to medium-sized businesses\\n   - ### Name\\nAppcues\\n### Pros\\n       - Easy to use\\n       - Good for user onboarding\\n       - Good support\\n### Cons\\n       - Limited scalability\\n       - Limited support for complex workflows\\n### Differentiators\\n       - Flows, a no-code workflow builder\\n       - Good for user onboarding\\n\\nAnticipated Qopcs Fields Description: class AnticipatedPainsAndObjections(BaseModel):\\n\\n\\tpains: List[str] # The pain points identified in the call.\\n\\tobjections: List[str] # The objections identified in the call.\\n\\n# Pains\\n   - Complex IT environments affecting digital transformation\\n   - Lack of visibility into IT operations hindering IT modernization\\n   - Difficulty in scaling IT resources for mainframe optimization\\n   - Inefficient user onboarding and training processes\\n   - Inadequate performance support for software adoption\\n   - High costs associated with user support and training\\n   - Need for a customized digital adoption platform\\n   - Requirement for a scalable solution to support large user bases\\n   - Desire for a user-friendly interface and good user experience\\n   - Importance of strong analytics capabilities for IT operations\\n# Objections\\n   - Whatfix's pricing model may be too expensive for our enterprise\\n   - How does Whatfix's solution integrate with our existing IT infrastructure?\\n   - Whatfix's digital adoption platform may not be scalable enough for our large user base\\n   - We're concerned about the complexity of setting up and using Whatfix's solution\\n   - How does Whatfix's solution compare to its competitors in terms of features and pricing?\\n   - We're not sure if Whatfix's solution can provide the level of customization we need\\n   - How does Whatfix measure the ROI of its digital adoption platform?\\n   - We have had bad experiences with digital adoption platforms in the past\\n   - Whatfix's solution may not be suitable for our specific industry or use case\", 'context': 'Relevant Context:\\nThe features that best align with the pains identified for similar buyers include:\\n- In-app Guidance: Provides step-by-step guidance to users within the application, enhancing their software experience and addressing the pain point of struggling to find an effective way to train employees and customers.\\n- Digital Adoption Platform: Ensures seamless user onboarding and software adoption, addressing the pain point of struggling to find an effective way to train employees and customers.\\n- Employee Training: Provides an effective and scalable way to train employees, ensuring they can efficiently use digital infrastructure, addressing the pain point of struggling to find an effective way to train employees and customers.\\n- User Onboarding: Streamlines the onboarding process for new employees and customers, reducing time and costs associated with traditional training methods, addressing the pain point of struggling to find an effective way to train employees and customers.\\n- Implementation and Integration: Ensures seamless integration with existing systems and applications, addressing concerns about integration with existing systems and applications.'}\n",
      "Running final query Based on historical call features presented and the features identified from the product info, collate responses on what features to present based on pains identified\n"
     ]
    },
    {
     "name": "stderr",
     "output_type": "stream",
     "text": [
      "Running Queries:  50%|█████     | 2/4 [00:16<00:18,  9.00s/it]"
     ]
    },
    {
     "name": "stdout",
     "output_type": "stream",
     "text": [
      "Trying to parse with Ast...\n",
      "Running sub query What are the top objections that came up in discovery?\n",
      "Sub query context {'query': 'What are the top objections that came up in discovery?', 'context': 'Relevant Context:\\nThe top objections that came up in the discovery calls were related to pricing, integration with existing IT infrastructure, unsure if digital adoption platforms can meet specific requirements, and the need for a customized solution that can integrate with existing systems and provide advanced analytics and performance support.'}\n",
      "Running sub query What are the top objections that come up in demo calls for similar buyers?\n",
      "Sub query context {'query': 'What are the top objections that come up in demo calls for similar buyers?', 'context': 'Relevant Context:\\nThe top objections that come up in demo calls for similar buyers are related to budget constraints, handling integrations with existing enterprise web applications, complexity of implementing and maintaining a new solution, and concerns about customization and flexibility.'}\n",
      "Running sub query Given objections from current deal and historical deals below, how have these objections been handled successfully before in discovery and demo callsDisplay output in pairs of objection and their successful response \n"
     ]
    },
    {
     "name": "stderr",
     "output_type": "stream",
     "text": [
      "2025-02-17 13:14:50,292 - 8645349184 - __init__.py-__init__:537 - WARNING: Overriding of current TracerProvider is not allowed\n"
     ]
    },
    {
     "name": "stdout",
     "output_type": "stream",
     "text": [
      "Sub query context {'query': \"Given objections from current deal and historical deals below, how have these objections been handled successfully before in discovery and demo callsDisplay output in pairs of objection and their successful response \\nContext: \\nBuyer Research Fields Description: class ClientResearchResponse(BaseModel):\\n\\n\\tname: str # The name of the client.\\n\\twebsite: str # The website of the buyer.\\n\\tdescription: str # A description of the buyer.\\n\\tindustry: str # The industry that the buyer belongs to.\\n\\tcompany_size: str # The type of company size as: SMB, Mid-Market, Enterprise.\\n\\tgoals: List[str] # The goals of the buyer.\\n\\tuse_cases: List[str] # The use cases of the buyer.\\n\\tchallenges: List[str] # The challenges faced by the buyer.\\n\\tstakeholders: List[str] # The stakeholders of the buyer.\\n\\n# Name\\nBMC Software\\n# Website\\nhttps://www.bmc.com/\\n# Description\\nBMC helps customers run and reinvent their businesses with open, scalable, and modular solutions to complex IT problems.\\n# Industry\\nSoftware as a Service (SaaS)\\n# Company_Size\\nEnterprise\\n# Goals\\n   - Digital transformation\\n   - IT modernization\\n   - Mainframe optimization\\n# Use_Cases\\n   - Automating IT workflows\\n   - Managing IT resources\\n   - Optimizing IT infrastructure\\n# Challenges\\n   - Complex IT environments\\n   - Lack of visibility into IT operations\\n   - Difficulty in scaling IT resources\\n# Stakeholders\\n   - CIOs\\n   - CTOs\\n   - IT operations teams\\n   - DevOps teams\\n\\nCompetitive Info Fields Description: class CompetitorComparison(BaseModel):\\n\\n\\tname: str # The name of the competitor.\\n\\tpros: List[str] # The pros of the competitor.\\n\\tcons: List[str] # The cons of the competitor.\\n\\tdifferentiators: List[str] # The differentiators of the seller against the competitor.\\n\\n# Competitors\\n   - ### Name\\nWalkMe\\n### Pros\\n       - Leading digital adoption platform\\n       - Personalized guidance and automation\\n       - Enterprise-ready\\n### Cons\\n       - May be complex to set up\\n       - Pricing can be steep for large enterprises\\n### Differentiators\\n       - Overlays on any application\\n       - Identifies where workflows break\\n   - ### Name\\nPendo\\n### Pros\\n       - User-friendly interface\\n       - Strong analytics capabilities\\n       - Good for user onboarding\\n### Cons\\n       - Limited support for complex workflows\\n       - Pricing can be high for large enterprises\\n### Differentiators\\n       - AI-powered digital adoption platform\\n       - Creates happier customers\\n   - ### Name\\nUserpilot\\n### Pros\\n       - Highest user satisfaction\\n       - Easy to use\\n       - Good for small to medium-sized businesses\\n### Cons\\n       - Limited scalability\\n       - Limited support for complex workflows\\n### Differentiators\\n       - Highest user satisfaction\\n       - Easy to set up\\n   - ### Name\\nVisualSP\\n### Pros\\n       - Good for small to medium-sized businesses\\n       - Easy to use\\n       - Good support\\n### Cons\\n       - Limited scalability\\n       - Limited support for complex workflows\\n### Differentiators\\n       - Customizable digital adoption platform\\n       - Good for small to medium-sized businesses\\n   - ### Name\\nAppcues\\n### Pros\\n       - Easy to use\\n       - Good for user onboarding\\n       - Good support\\n### Cons\\n       - Limited scalability\\n       - Limited support for complex workflows\\n### Differentiators\\n       - Flows, a no-code workflow builder\\n       - Good for user onboarding\\n\\nAnticipated Qopcs Fields Description: class AnticipatedPainsAndObjections(BaseModel):\\n\\n\\tpains: List[str] # The pain points identified in the call.\\n\\tobjections: List[str] # The objections identified in the call.\\n\\n# Pains\\n   - Complex IT environments affecting digital transformation\\n   - Lack of visibility into IT operations hindering IT modernization\\n   - Difficulty in scaling IT resources for mainframe optimization\\n   - Inefficient user onboarding and training processes\\n   - Inadequate performance support for software adoption\\n   - High costs associated with user support and training\\n   - Need for a customized digital adoption platform\\n   - Requirement for a scalable solution to support large user bases\\n   - Desire for a user-friendly interface and good user experience\\n   - Importance of strong analytics capabilities for IT operations\\n# Objections\\n   - Whatfix's pricing model may be too expensive for our enterprise\\n   - How does Whatfix's solution integrate with our existing IT infrastructure?\\n   - Whatfix's digital adoption platform may not be scalable enough for our large user base\\n   - We're concerned about the complexity of setting up and using Whatfix's solution\\n   - How does Whatfix's solution compare to its competitors in terms of features and pricing?\\n   - We're not sure if Whatfix's solution can provide the level of customization we need\\n   - How does Whatfix measure the ROI of its digital adoption platform?\\n   - We have had bad experiences with digital adoption platforms in the past\\n   - Whatfix's solution may not be suitable for our specific industry or use case\\nRelevant Context:\\nThe top objections that came up in the discovery calls were related to pricing, integration with existing IT infrastructure, unsure if digital adoption platforms can meet specific requirements, and the need for a customized solution that can integrate with existing systems and provide advanced analytics and performance support.\", 'context': \"Relevant Context:\\n- Objection: Whatfix's pricing model may be too expensive for our enterprise\\n  - Resolution: We can work with you to understand your budget constraints and develop a customized pricing plan that meets your needs.\\n- Objection: How does Whatfix's solution integrate with our existing IT infrastructure?\\n  - Resolution: Whatfix integrates seamlessly with a wide range of software and systems, including CRM, ERP, and custom applications.\\n- Objection: Whatfix's digital adoption platform may not be scalable enough for our large user base\\n  - Resolution: Whatfix is designed to be highly customizable and flexible to meet the unique needs of our customers.\\n- Objection: We're concerned about the complexity of setting up and using Whatfix's solution\\n  - Resolution: Whatfix is designed to be highly customizable and flexible to meet the unique needs of our customers.\\n- Objection: How does Whatfix's solution compare to its competitors in terms of features and pricing?\\n  - Resolution: Whatfix takes the security and compliance of our customers' data very seriously. We are SOC 2 compliant, and our platform meets the highest standards for data security and encryption.\\n- Objection: We're not sure if Whatfix's solution can provide the level of customization we need\\n  - Resolution: Whatfix is designed to be highly customizable and flexible to meet the unique needs of our customers.\\n- Objection: How does Whatfix measure the ROI of its digital adoption platform?\\n  - Resolution: Our customers typically see a significant ROI from implementing Whatfix, including increased user adoption rates, improved user experience, and reduced time and effort spent on employee training and onboarding.\\n- Objection: We have had bad experiences with digital adoption platforms in the past\\n  - Resolution: Whatfix is designed to be highly customizable and flexible to meet the unique needs of our customers.\\n- Objection: Whatfix's solution may not be suitable for our specific industry or use case\\n  - Resolution: Whatfix is designed to be highly customizable and flexible to meet the unique needs of our customers.\"}\n",
      "Running final query Given objections from current deal and historical deals, How have these objections been handled successfully before in discovery and demo calls. Display output in pairs of objection and their successful response?\n"
     ]
    },
    {
     "name": "stderr",
     "output_type": "stream",
     "text": [
      "Running Queries:  75%|███████▌  | 3/4 [00:27<00:10, 10.07s/it]"
     ]
    },
    {
     "name": "stdout",
     "output_type": "stream",
     "text": [
      "Trying to parse with Ast...\n",
      "Running sub query What all pieces of information regarding pricing needs to be uncovered during pricing calls from similar buyers?\n",
      "Sub query context {'query': 'What all pieces of information regarding pricing needs to be uncovered during pricing calls from similar buyers?', 'context': \"Relevant Context:\\nThe concerns raised by the buyer, budget constraints, preferred pricing models, Key Performance Indicators (KPIs), company's financial priorities, pricing options presented by the seller, pricing levers used by the seller to sell value, negotiation tactics used by the seller, assets used by the seller to make their pitch, ROI calculators used by the seller, and historical case studies used by the seller to sell their product or service.\"}\n",
      "Running sub query What all pieces of information regarding pricing needs to be uncovered during discovery calls from similar buyers?\n",
      "Sub query context {'query': 'What all pieces of information regarding pricing needs to be uncovered during discovery calls from similar buyers?', 'context': 'Relevant Context:\\nDuring discovery calls with similar buyers, it is important to uncover information regarding the budget constraints and the need to ensure that any new solution will provide a sufficient return on investment. Additionally, understanding the potential benefits and return on investment, as well as justifying the cost of a digital adoption platform are crucial pieces of information that should be uncovered during these calls.'}\n",
      "Running sub query What all pieces of information regarding pricing needs to be uncovered during demo calls from similar buyers?\n",
      "Sub query context {'query': 'What all pieces of information regarding pricing needs to be uncovered during demo calls from similar buyers?', 'context': 'Relevant Context:\\nDuring demo calls from similar buyers, the following pieces of information regarding pricing need to be uncovered:\\n1. The cost of the solution and any budget constraints or concerns raised by the buyer.\\n2. Any objections related to the pricing or budget constraints and how they can be addressed.\\n3. Customizations or personalized features offered that may impact pricing.\\n4. Success stories or case studies related to the product or service that highlight the value proposition in relation to pricing.\\n5. Any specific questions or concerns from the buyer related to pricing, such as scalability and sustainability of the pricing model.'}\n",
      "Running sub query what all pieces of information have we uncovered about the buyer in the current deal across discovery, demo and pricing stages?\n"
     ]
    },
    {
     "name": "stderr",
     "output_type": "stream",
     "text": [
      "2025-02-17 13:15:00,430 - 8645349184 - __init__.py-__init__:537 - WARNING: Overriding of current TracerProvider is not allowed\n"
     ]
    },
    {
     "name": "stdout",
     "output_type": "stream",
     "text": [
      "Sub query context {'query': 'what all pieces of information have we uncovered about the buyer in the current deal across discovery, demo and pricing stages?', 'context': 'Relevant Context:\\nThe buyer in the current deal has revealed several key pieces of information across the discovery, demo, and pricing stages. They have identified pain points related to complex IT environments, lack of visibility into IT operations, and manual processes leading to errors and inefficiencies. Additionally, objections raised by the buyer include concerns about pricing and integration with existing IT infrastructure. The buyer has also shared a timeline for the next week for a demo, and the decision committee includes John, the Director of IT Operations at BMC Software. Furthermore, insights gathered indicate that BMC Software is undergoing a digital transformation and facing challenges with IT environments and operations.'}\n",
      "Running final query Given pieces of information we need to uncover and the information we have till now - what pending information do I need to uncover?\n"
     ]
    },
    {
     "name": "stderr",
     "output_type": "stream",
     "text": [
      "Running Queries: 100%|██████████| 4/4 [00:38<00:00,  9.57s/it]\n"
     ]
    },
    {
     "name": "stdout",
     "output_type": "stream",
     "text": [
      "Trying to parse with Ast...\n",
      "Running queries for call type pricing\n"
     ]
    },
    {
     "name": "stderr",
     "output_type": "stream",
     "text": [
      "Running Queries:   0%|          | 0/3 [00:00<?, ?it/s]"
     ]
    },
    {
     "name": "stdout",
     "output_type": "stream",
     "text": [
      "Running sub query What pricing levers have been successful in the past for similar buyers?\n",
      "Sub query context {'query': 'What pricing levers have been successful in the past for similar buyers?', 'context': 'Relevant Context:\\nPricing levers that have been successful in the past for similar buyers include emphasizing customization and flexibility, showcasing strong ROI potential, offering customized pricing plans, providing options for phased implementation, and highlighting scalability and sustainability in the business model.'}\n",
      "Running sub query What features and product offerings were received positively in discovery calls?\n",
      "Sub query context {'query': 'What features and product offerings were received positively in discovery calls?', 'context': \"Relevant Context:\\nThe features and product offerings that were received positively in the discovery calls include:\\n- Whatfix's pricing model based on a flat per-application fee and user license fees, along with free and basic plan options.\\n- Whatfix's platform being highly flexible, scalable, and capable of seamless integration with a wide range of IT infrastructures.\\n- Whatfix's digital adoption platform being highly customizable and tailored to meet specific requirements.\\n- Whatfix's ability to provide advanced analytics, performance support, AI-powered guidance, and real-time analytics.\\n- Whatfix's differentiation through its customizable platform, AI-powered guidance, and real-time analytics.\"}\n",
      "Running sub query What features and product offerings were received positively in demo calls?\n",
      "Sub query context {'query': 'What features and product offerings were received positively in demo calls?', 'context': 'Relevant Context:\\nThe features and product offerings that were received positively in the demo calls were the Digital Adoption Platform, Contextual User Experiences, Simulated Application Environments, Mirror Feature, Guidance Feature, Analytics Feature, Customizable Integration, and Implementation and Integration.'}\n",
      "Running sub query What are the top pains identified for the buyer in the past?\n"
     ]
    },
    {
     "name": "stderr",
     "output_type": "stream",
     "text": [
      "2025-02-17 13:15:10,483 - 8645349184 - __init__.py-__init__:537 - WARNING: Overriding of current TracerProvider is not allowed\n"
     ]
    },
    {
     "name": "stdout",
     "output_type": "stream",
     "text": [
      "Sub query context {'query': 'What are the top pains identified for the buyer in the past?', 'context': 'Relevant Context:\\nThe top pains identified for the buyer in the past were dealing with complex IT environments, lack of visibility into IT operations, manual processes leading to errors and inefficiencies, struggling with remote monitoring and management of host systems, and dealing with complex IT problems that hinder the ability to minimize cost and effort.'}\n",
      "Running final query Summarize the various pricing levers that will be used in a pricing call we have given the historical justifications used for similar buyers, the features that excited the buyer, and the pains mentioned by the buyer.\n"
     ]
    },
    {
     "name": "stderr",
     "output_type": "stream",
     "text": [
      "Running Queries:  33%|███▎      | 1/3 [00:10<00:20, 10.34s/it]"
     ]
    },
    {
     "name": "stdout",
     "output_type": "stream",
     "text": [
      "Trying to parse with Ast...\n",
      "Running sub query What are the top concerns and priorities of the buyer?\n",
      "Sub query context {'query': 'What are the top concerns and priorities of the buyer?', 'context': \"Relevant Context:\\nThe top concerns of the buyer are scalability, integration process, and the level of support offered for implementation and integration. The buyer's priorities include reducing costs and improving efficiency.\"}\n",
      "Running sub query what are the top objections till now around the product ROI and value?\n",
      "Sub query context {'query': 'what are the top objections till now around the product ROI and value?', 'context': 'Relevant Context:\\nThe top objections around the product ROI and value have been related to concerns about pricing, integration complexity, cost of implementation, scalability, level of support offered for implementation and integration, and ensuring that the pricing model can adapt to growing needs.'}\n",
      "Running sub query What pricing plans are relevant to buyers with pain points and priotities and top concerns around the product?\n",
      "Sub query context {'query': \"What pricing plans are relevant to buyers with pain points and priotities and top concerns around the product?\\nContext: \\nBuyer Research Fields Description: class ClientResearchResponse(BaseModel):\\n\\n\\tname: str # The name of the client.\\n\\twebsite: str # The website of the buyer.\\n\\tdescription: str # A description of the buyer.\\n\\tindustry: str # The industry that the buyer belongs to.\\n\\tcompany_size: str # The type of company size as: SMB, Mid-Market, Enterprise.\\n\\tgoals: List[str] # The goals of the buyer.\\n\\tuse_cases: List[str] # The use cases of the buyer.\\n\\tchallenges: List[str] # The challenges faced by the buyer.\\n\\tstakeholders: List[str] # The stakeholders of the buyer.\\n\\n# Name\\nBMC Software\\n# Website\\nhttps://www.bmc.com/\\n# Description\\nBMC helps customers run and reinvent their businesses with open, scalable, and modular solutions to complex IT problems.\\n# Industry\\nSoftware as a Service (SaaS)\\n# Company_Size\\nEnterprise\\n# Goals\\n   - Digital transformation\\n   - IT modernization\\n   - Mainframe optimization\\n# Use_Cases\\n   - Automating IT workflows\\n   - Managing IT resources\\n   - Optimizing IT infrastructure\\n# Challenges\\n   - Complex IT environments\\n   - Lack of visibility into IT operations\\n   - Difficulty in scaling IT resources\\n# Stakeholders\\n   - CIOs\\n   - CTOs\\n   - IT operations teams\\n   - DevOps teams\\n\\nCompetitive Info Fields Description: class CompetitorComparison(BaseModel):\\n\\n\\tname: str # The name of the competitor.\\n\\tpros: List[str] # The pros of the competitor.\\n\\tcons: List[str] # The cons of the competitor.\\n\\tdifferentiators: List[str] # The differentiators of the seller against the competitor.\\n\\n# Competitors\\n   - ### Name\\nWalkMe\\n### Pros\\n       - Leading digital adoption platform\\n       - Personalized guidance and automation\\n       - Enterprise-ready\\n### Cons\\n       - May be complex to set up\\n       - Pricing can be steep for large enterprises\\n### Differentiators\\n       - Overlays on any application\\n       - Identifies where workflows break\\n   - ### Name\\nPendo\\n### Pros\\n       - User-friendly interface\\n       - Strong analytics capabilities\\n       - Good for user onboarding\\n### Cons\\n       - Limited support for complex workflows\\n       - Pricing can be high for large enterprises\\n### Differentiators\\n       - AI-powered digital adoption platform\\n       - Creates happier customers\\n   - ### Name\\nUserpilot\\n### Pros\\n       - Highest user satisfaction\\n       - Easy to use\\n       - Good for small to medium-sized businesses\\n### Cons\\n       - Limited scalability\\n       - Limited support for complex workflows\\n### Differentiators\\n       - Highest user satisfaction\\n       - Easy to set up\\n   - ### Name\\nVisualSP\\n### Pros\\n       - Good for small to medium-sized businesses\\n       - Easy to use\\n       - Good support\\n### Cons\\n       - Limited scalability\\n       - Limited support for complex workflows\\n### Differentiators\\n       - Customizable digital adoption platform\\n       - Good for small to medium-sized businesses\\n   - ### Name\\nAppcues\\n### Pros\\n       - Easy to use\\n       - Good for user onboarding\\n       - Good support\\n### Cons\\n       - Limited scalability\\n       - Limited support for complex workflows\\n### Differentiators\\n       - Flows, a no-code workflow builder\\n       - Good for user onboarding\\n\\nAnticipated Qopcs Fields Description: class AnticipatedPainsAndObjections(BaseModel):\\n\\n\\tpains: List[str] # The pain points identified in the call.\\n\\tobjections: List[str] # The objections identified in the call.\\n\\n# Pains\\n   - Complex IT environments affecting digital transformation\\n   - Lack of visibility into IT operations hindering IT modernization\\n   - Difficulty in scaling IT resources for mainframe optimization\\n   - Inefficient user onboarding and training processes\\n   - Inadequate performance support for software adoption\\n   - High costs associated with user support and training\\n   - Need for a customized digital adoption platform\\n   - Requirement for a scalable solution to support large user bases\\n   - Desire for a user-friendly interface and good user experience\\n   - Importance of strong analytics capabilities for IT operations\\n# Objections\\n   - Whatfix's pricing model may be too expensive for our enterprise\\n   - How does Whatfix's solution integrate with our existing IT infrastructure?\\n   - Whatfix's digital adoption platform may not be scalable enough for our large user base\\n   - We're concerned about the complexity of setting up and using Whatfix's solution\\n   - How does Whatfix's solution compare to its competitors in terms of features and pricing?\\n   - We're not sure if Whatfix's solution can provide the level of customization we need\\n   - How does Whatfix measure the ROI of its digital adoption platform?\\n   - We have had bad experiences with digital adoption platforms in the past\\n   - Whatfix's solution may not be suitable for our specific industry or use case\\nRelevant Context:\\nThe top concerns of the buyer are scalability, integration process, and the level of support offered for implementation and integration. The buyer's priorities include reducing costs and improving efficiency.\", 'context': \"Relevant Context:\\nThe relevant pricing plans for buyers with pain points and priorities around the product would include custom plans, free plans, and basic plans. These pricing options cater to the buyer's concerns about high costs associated with user support and training, the need for a customized digital adoption platform, and the desire for a scalable solution to support large user bases. Additionally, the pricing levers such as flat per-application fees and user license fees align with the buyer's priorities of reducing costs and improving efficiency.\"}\n",
      "Running sub query What pricing plans are relevant to buyers with pain points and priotities and top concerns around the product?\n"
     ]
    },
    {
     "name": "stderr",
     "output_type": "stream",
     "text": [
      "2025-02-17 13:15:18,986 - 8645349184 - local_persistent_hnsw.py-local_persistent_hnsw:423 - WARNING: Number of requested results 3 is greater than number of elements in index 2, updating n_results = 2\n",
      "2025-02-17 13:15:19,948 - 8645349184 - __init__.py-__init__:537 - WARNING: Overriding of current TracerProvider is not allowed\n"
     ]
    },
    {
     "name": "stdout",
     "output_type": "stream",
     "text": [
      "Sub query context {'query': \"What pricing plans are relevant to buyers with pain points and priotities and top concerns around the product?\\nContext: \\nBuyer Research Fields Description: class ClientResearchResponse(BaseModel):\\n\\n\\tname: str # The name of the client.\\n\\twebsite: str # The website of the buyer.\\n\\tdescription: str # A description of the buyer.\\n\\tindustry: str # The industry that the buyer belongs to.\\n\\tcompany_size: str # The type of company size as: SMB, Mid-Market, Enterprise.\\n\\tgoals: List[str] # The goals of the buyer.\\n\\tuse_cases: List[str] # The use cases of the buyer.\\n\\tchallenges: List[str] # The challenges faced by the buyer.\\n\\tstakeholders: List[str] # The stakeholders of the buyer.\\n\\n# Name\\nBMC Software\\n# Website\\nhttps://www.bmc.com/\\n# Description\\nBMC helps customers run and reinvent their businesses with open, scalable, and modular solutions to complex IT problems.\\n# Industry\\nSoftware as a Service (SaaS)\\n# Company_Size\\nEnterprise\\n# Goals\\n   - Digital transformation\\n   - IT modernization\\n   - Mainframe optimization\\n# Use_Cases\\n   - Automating IT workflows\\n   - Managing IT resources\\n   - Optimizing IT infrastructure\\n# Challenges\\n   - Complex IT environments\\n   - Lack of visibility into IT operations\\n   - Difficulty in scaling IT resources\\n# Stakeholders\\n   - CIOs\\n   - CTOs\\n   - IT operations teams\\n   - DevOps teams\\n\\nCompetitive Info Fields Description: class CompetitorComparison(BaseModel):\\n\\n\\tname: str # The name of the competitor.\\n\\tpros: List[str] # The pros of the competitor.\\n\\tcons: List[str] # The cons of the competitor.\\n\\tdifferentiators: List[str] # The differentiators of the seller against the competitor.\\n\\n# Competitors\\n   - ### Name\\nWalkMe\\n### Pros\\n       - Leading digital adoption platform\\n       - Personalized guidance and automation\\n       - Enterprise-ready\\n### Cons\\n       - May be complex to set up\\n       - Pricing can be steep for large enterprises\\n### Differentiators\\n       - Overlays on any application\\n       - Identifies where workflows break\\n   - ### Name\\nPendo\\n### Pros\\n       - User-friendly interface\\n       - Strong analytics capabilities\\n       - Good for user onboarding\\n### Cons\\n       - Limited support for complex workflows\\n       - Pricing can be high for large enterprises\\n### Differentiators\\n       - AI-powered digital adoption platform\\n       - Creates happier customers\\n   - ### Name\\nUserpilot\\n### Pros\\n       - Highest user satisfaction\\n       - Easy to use\\n       - Good for small to medium-sized businesses\\n### Cons\\n       - Limited scalability\\n       - Limited support for complex workflows\\n### Differentiators\\n       - Highest user satisfaction\\n       - Easy to set up\\n   - ### Name\\nVisualSP\\n### Pros\\n       - Good for small to medium-sized businesses\\n       - Easy to use\\n       - Good support\\n### Cons\\n       - Limited scalability\\n       - Limited support for complex workflows\\n### Differentiators\\n       - Customizable digital adoption platform\\n       - Good for small to medium-sized businesses\\n   - ### Name\\nAppcues\\n### Pros\\n       - Easy to use\\n       - Good for user onboarding\\n       - Good support\\n### Cons\\n       - Limited scalability\\n       - Limited support for complex workflows\\n### Differentiators\\n       - Flows, a no-code workflow builder\\n       - Good for user onboarding\\n\\nAnticipated Qopcs Fields Description: class AnticipatedPainsAndObjections(BaseModel):\\n\\n\\tpains: List[str] # The pain points identified in the call.\\n\\tobjections: List[str] # The objections identified in the call.\\n\\n# Pains\\n   - Complex IT environments affecting digital transformation\\n   - Lack of visibility into IT operations hindering IT modernization\\n   - Difficulty in scaling IT resources for mainframe optimization\\n   - Inefficient user onboarding and training processes\\n   - Inadequate performance support for software adoption\\n   - High costs associated with user support and training\\n   - Need for a customized digital adoption platform\\n   - Requirement for a scalable solution to support large user bases\\n   - Desire for a user-friendly interface and good user experience\\n   - Importance of strong analytics capabilities for IT operations\\n# Objections\\n   - Whatfix's pricing model may be too expensive for our enterprise\\n   - How does Whatfix's solution integrate with our existing IT infrastructure?\\n   - Whatfix's digital adoption platform may not be scalable enough for our large user base\\n   - We're concerned about the complexity of setting up and using Whatfix's solution\\n   - How does Whatfix's solution compare to its competitors in terms of features and pricing?\\n   - We're not sure if Whatfix's solution can provide the level of customization we need\\n   - How does Whatfix measure the ROI of its digital adoption platform?\\n   - We have had bad experiences with digital adoption platforms in the past\\n   - Whatfix's solution may not be suitable for our specific industry or use case\\nRelevant Context:\\nThe top concerns of the buyer are scalability, integration process, and the level of support offered for implementation and integration. The buyer's priorities include reducing costs and improving efficiency.\", 'context': 'Relevant Context:\\nThe pricing plans that are relevant to buyers with pain points and priorities around the product include a custom pricing model based on the needs and scale of each organization, a free plan with 30 credits, and a basic plan starting at $39 per month for up to 2,500 unique users.'}\n",
      "Running final query Summarize the two responses around pricing plans relevant to the buyer that woukd be presented in a pricing sales call?\n"
     ]
    },
    {
     "name": "stderr",
     "output_type": "stream",
     "text": [
      "Running Queries:  67%|██████▋   | 2/3 [00:18<00:09,  9.26s/it]"
     ]
    },
    {
     "name": "stdout",
     "output_type": "stream",
     "text": [
      "Trying to parse with Ast...\n",
      "Running sub query What are the top concerns and priorities of the buyer?\n",
      "Sub query context {'query': 'What are the top concerns and priorities of the buyer?', 'context': \"Relevant Context:\\nThe top concerns of the buyer are scalability, integration process, and the level of support offered for implementation and integration. The buyer's priorities include reducing costs and improving efficiency.\"}\n",
      "Running sub query What are the top objections till now around the product ROI and value?\n"
     ]
    },
    {
     "name": "stderr",
     "output_type": "stream",
     "text": [
      "2025-02-17 13:15:25,023 - 8645349184 - __init__.py-__init__:537 - WARNING: Overriding of current TracerProvider is not allowed\n"
     ]
    },
    {
     "name": "stdout",
     "output_type": "stream",
     "text": [
      "Sub query context {'query': 'What are the top objections till now around the product ROI and value?', 'context': 'Relevant Context:\\nThe top objections around the product ROI and value have been related to concerns about pricing, integration complexity, cost of implementation, scalability, level of support offered for implementation and integration, and ensuring that the pricing model can adapt to growing needs.'}\n",
      "Running final query Given the pains and objections of the buyer, What are the top ways to make a business case and ROI justification to the buyer?\n"
     ]
    },
    {
     "name": "stderr",
     "output_type": "stream",
     "text": [
      "Running Queries: 100%|██████████| 3/3 [00:24<00:00,  8.18s/it]\n"
     ]
    },
    {
     "name": "stdout",
     "output_type": "stream",
     "text": [
      "Trying to parse with Ast...\n",
      "Running queries for call type negotiation\n"
     ]
    },
    {
     "name": "stderr",
     "output_type": "stream",
     "text": [
      "Running Queries:   0%|          | 0/4 [00:00<?, ?it/s]"
     ]
    },
    {
     "name": "stdout",
     "output_type": "stream",
     "text": [
      "Running sub query What are pending concerns to be addressed before close?\n"
     ]
    },
    {
     "name": "stderr",
     "output_type": "stream",
     "text": [
      "2025-02-17 13:15:29,676 - 8645349184 - __init__.py-__init__:537 - WARNING: Overriding of current TracerProvider is not allowed\n"
     ]
    },
    {
     "name": "stdout",
     "output_type": "stream",
     "text": [
      "Sub query context {'query': 'What are pending concerns to be addressed before close?', 'context': 'Relevant Context:\\nThe pending concerns to be addressed before close include:\\n- Fit into budget\\n- Integration complexity\\n- Achieving KPIs\\n- Custom pricing model\\n- Level of support offered\\n- Implementation and integration timeline'}\n",
      "Running final query What are pending concerns to be addressed before close?\n"
     ]
    },
    {
     "name": "stderr",
     "output_type": "stream",
     "text": [
      "Running Queries:  25%|██▌       | 1/4 [00:03<00:09,  3.21s/it]"
     ]
    },
    {
     "name": "stdout",
     "output_type": "stream",
     "text": [
      "Trying to parse with Ast...\n",
      "Running sub query What discounts and concessions can and have been offered during pricing calls?\n",
      "Sub query context {'query': 'What discounts and concessions can and have been offered during pricing calls?', 'context': 'Relevant Context:\\nDiscounts and concessions that can and have been offered during pricing calls include customized pricing plans, free options, basic plans, phased implementation approaches, and flexible pricing structures. Sellers have also used negotiation tactics such as addressing concerns, providing case studies, and offering options tailored to specific needs and budget constraints. Additionally, historical case studies showcasing improvements in user adoption rates, reduction in training time, and cost savings have been used to demonstrate value and potentially offer discounts or concessions during pricing calls.'}\n",
      "Running sub query What discounts and concessions can and have been offered during negotiation calls?\n"
     ]
    },
    {
     "name": "stderr",
     "output_type": "stream",
     "text": [
      "2025-02-17 13:15:34,840 - 8645349184 - __init__.py-__init__:537 - WARNING: Overriding of current TracerProvider is not allowed\n"
     ]
    },
    {
     "name": "stdout",
     "output_type": "stream",
     "text": [
      "Sub query context {'query': 'What discounts and concessions can and have been offered during negotiation calls?', 'context': 'Relevant Context:\\nThe concessions and discounts offered during negotiation calls include a customized plan that includes a flat per-application fee of $10,000 plus user license fees of $5 per user per month. Additionally, discounts and concessions have been provided by addressing concerns such as customization and flexibility, implementation timeline, ROI goals alignment, integration with custom applications, security and compliance, and budget constraints.'}\n",
      "Running final query What discounts and concessions can and have been offered?\n"
     ]
    },
    {
     "name": "stderr",
     "output_type": "stream",
     "text": [
      "Running Queries:  50%|█████     | 2/4 [00:08<00:08,  4.34s/it]"
     ]
    },
    {
     "name": "stdout",
     "output_type": "stream",
     "text": [
      "Trying to parse with Ast...\n",
      "Running sub query What are the procurement and legal concerns possible?\n"
     ]
    },
    {
     "name": "stderr",
     "output_type": "stream",
     "text": [
      "2025-02-17 13:15:38,246 - 8645349184 - __init__.py-__init__:537 - WARNING: Overriding of current TracerProvider is not allowed\n"
     ]
    },
    {
     "name": "stdout",
     "output_type": "stream",
     "text": [
      "Sub query context {'query': 'What are the procurement and legal concerns possible?', 'context': \"Relevant Context:\\nPossible procurement concerns could include budget constraints and the complexity of implementing and maintaining a new solution. Legal concerns might involve ensuring that the customized pricing plan aligns with the buyer's budget and that the contract terms, such as the implementation timeline and training, are clearly defined and agreed upon by both parties.\"}\n",
      "Running final query What are the possible legal concerns that could come up during negotiation?\n"
     ]
    },
    {
     "name": "stderr",
     "output_type": "stream",
     "text": [
      "Running Queries:  75%|███████▌  | 3/4 [00:12<00:04,  4.23s/it]"
     ]
    },
    {
     "name": "stdout",
     "output_type": "stream",
     "text": [
      "Trying to parse with Ast...\n",
      "Running sub query What are the closing tactics that have been successful in the past?\n"
     ]
    },
    {
     "name": "stderr",
     "output_type": "stream",
     "text": [
      "2025-02-17 13:15:42,007 - 8645349184 - __init__.py-__init__:537 - WARNING: Overriding of current TracerProvider is not allowed\n"
     ]
    },
    {
     "name": "stdout",
     "output_type": "stream",
     "text": [
      "Sub query context {'query': 'What are the closing tactics that have been successful in the past?', 'context': 'Relevant Context:\\nThe closing tactics that have been successful in the past include finalizing the pricing and implementation plan, sending over a proposal within the next 24 hours, offering a detailed quote, scheduling a follow-up call, assigning a customer success manager, providing a clear next step, and sending a formal proposal.'}\n",
      "Running final query What final closing tactics can be used for their account?\n"
     ]
    },
    {
     "name": "stderr",
     "output_type": "stream",
     "text": [
      "Running Queries: 100%|██████████| 4/4 [00:16<00:00,  4.06s/it]"
     ]
    },
    {
     "name": "stdout",
     "output_type": "stream",
     "text": [
      "Trying to parse with Ast...\n"
     ]
    },
    {
     "name": "stderr",
     "output_type": "stream",
     "text": [
      "\n"
     ]
    }
   ],
   "source": [
    "from echo.query_executor import arun_queries\n",
    "from echo.query_executor import ResponseFormat\n",
    "from echo.query_executor import ContextExtractionMode\n",
    "import nest_asyncio\n",
    "import asyncio\n",
    "\n",
    "nest_asyncio.apply()\n",
    "\n",
    "\n",
    "inputs = {\"buyer\": \"BMC Software\", \"company_size\": \"Enterprise\"}\n",
    "\n",
    "responses = asyncio.run(\n",
    "    arun_queries(\n",
    "        queries,\n",
    "        inputs=inputs,\n",
    "        response_format=ResponseFormat.MARKDOWN,\n",
    "        context_extraction_mode=ContextExtractionMode.QUERY_ENGINE,\n",
    "    )\n",
    ")"
   ]
  },
  {
   "cell_type": "code",
   "execution_count": 15,
   "metadata": {},
   "outputs": [
    {
     "data": {
      "text/plain": [
       "19"
      ]
     },
     "execution_count": 15,
     "metadata": {},
     "output_type": "execute_result"
    }
   ],
   "source": [
    "len(responses.keys())"
   ]
  },
  {
   "cell_type": "code",
   "execution_count": 16,
   "metadata": {},
   "outputs": [
    {
     "data": {
      "text/plain": [
       "{'response': \"**Missing Information to Uncover in Upcoming Calls**\\n==============================================\\n\\n### Section 1: Buyer's Current Challenges and Pain Points\\n\\n* More details on the specific challenges faced by BMC Software's IT operations team and how they affect digital transformation\\n* Quantification of the costs associated with user support and training, and the impact on their business\\n* Additional pain points related to remote monitoring and management of host systems\\n\\n### Section 2: Budget and Pricing\\n\\n* A clear understanding of the budget allocated for the digital adoption platform\\n* Details on the preferred pricing model and any flexibility in terms of pricing structure\\n* Comparison of Whatfix's pricing model with competitors like WalkMe, Pendo, and Userpilot\\n\\n### Section 3: Decision Committee and Timeline\\n\\n* More information on the decision-making process and the roles of each stakeholder (Ayman Sayed, John Moores, and IT department stakeholders)\\n* Clarification on the 6-12 month timeline for implementing a digital adoption platform and potential milestones\\n\\n### Section 4: Technical Requirements and Integration\\n\\n* Specific technical requirements for integrating Whatfix's solution with BMC Software's existing IT infrastructure\\n* Details on the customization needed to meet BMC Software's unique requirements\\n* Discussion on the feasibility of integrating Whatfix's solution with other tools and systems used by BMC Software\\n\\n### Section 5: Competitor Comparison and Differentiation\\n\\n* More information on how BMC Software perceives Whatfix's solution compared to competitors (WalkMe, Pendo, and Userpilot)\\n* Gaps in features, pricing, and customization that Whatfix can fill\\n* Unique selling points and differentiators that set Whatfix apart from competitors\",\n",
       " 'sub_queries_context': [{'query': 'Buyer Research Information',\n",
       "   'context': \"Buyer Research Fields Description: class ClientResearchResponse(BaseModel):\\n\\n\\tname: str # The name of the client.\\n\\twebsite: str # The website of the buyer.\\n\\tdescription: str # A description of the buyer.\\n\\tindustry: str # The industry that the buyer belongs to.\\n\\tcompany_size: str # The type of company size as: SMB, Mid-Market, Enterprise.\\n\\tgoals: List[str] # The goals of the buyer.\\n\\tuse_cases: List[str] # The use cases of the buyer.\\n\\tchallenges: List[str] # The challenges faced by the buyer.\\n\\tstakeholders: List[str] # The stakeholders of the buyer.\\n\\n# Name\\nBMC Software\\n# Website\\nhttps://www.bmc.com/\\n# Description\\nBMC helps customers run and reinvent their businesses with open, scalable, and modular solutions to complex IT problems.\\n# Industry\\nSoftware as a Service (SaaS)\\n# Company_Size\\nEnterprise\\n# Goals\\n   - Digital transformation\\n   - IT modernization\\n   - Mainframe optimization\\n# Use_Cases\\n   - Automating IT workflows\\n   - Managing IT resources\\n   - Optimizing IT infrastructure\\n# Challenges\\n   - Complex IT environments\\n   - Lack of visibility into IT operations\\n   - Difficulty in scaling IT resources\\n# Stakeholders\\n   - CIOs\\n   - CTOs\\n   - IT operations teams\\n   - DevOps teams\\n\\nCompetitive Info Fields Description: class CompetitorComparison(BaseModel):\\n\\n\\tname: str # The name of the competitor.\\n\\tpros: List[str] # The pros of the competitor.\\n\\tcons: List[str] # The cons of the competitor.\\n\\tdifferentiators: List[str] # The differentiators of the seller against the competitor.\\n\\n# Competitors\\n   - ### Name\\nWalkMe\\n### Pros\\n       - Leading digital adoption platform\\n       - Personalized guidance and automation\\n       - Enterprise-ready\\n### Cons\\n       - May be complex to set up\\n       - Pricing can be steep for large enterprises\\n### Differentiators\\n       - Overlays on any application\\n       - Identifies where workflows break\\n   - ### Name\\nPendo\\n### Pros\\n       - User-friendly interface\\n       - Strong analytics capabilities\\n       - Good for user onboarding\\n### Cons\\n       - Limited support for complex workflows\\n       - Pricing can be high for large enterprises\\n### Differentiators\\n       - AI-powered digital adoption platform\\n       - Creates happier customers\\n   - ### Name\\nUserpilot\\n### Pros\\n       - Highest user satisfaction\\n       - Easy to use\\n       - Good for small to medium-sized businesses\\n### Cons\\n       - Limited scalability\\n       - Limited support for complex workflows\\n### Differentiators\\n       - Highest user satisfaction\\n       - Easy to set up\\n   - ### Name\\nVisualSP\\n### Pros\\n       - Good for small to medium-sized businesses\\n       - Easy to use\\n       - Good support\\n### Cons\\n       - Limited scalability\\n       - Limited support for complex workflows\\n### Differentiators\\n       - Customizable digital adoption platform\\n       - Good for small to medium-sized businesses\\n   - ### Name\\nAppcues\\n### Pros\\n       - Easy to use\\n       - Good for user onboarding\\n       - Good support\\n### Cons\\n       - Limited scalability\\n       - Limited support for complex workflows\\n### Differentiators\\n       - Flows, a no-code workflow builder\\n       - Good for user onboarding\\n\\nAnticipated Qopcs Fields Description: class AnticipatedPainsAndObjections(BaseModel):\\n\\n\\tpains: List[str] # The pain points identified in the call.\\n\\tobjections: List[str] # The objections identified in the call.\\n\\n# Pains\\n   - Complex IT environments affecting digital transformation\\n   - Lack of visibility into IT operations hindering IT modernization\\n   - Difficulty in scaling IT resources for mainframe optimization\\n   - Inefficient user onboarding and training processes\\n   - Inadequate performance support for software adoption\\n   - High costs associated with user support and training\\n   - Need for a customized digital adoption platform\\n   - Requirement for a scalable solution to support large user bases\\n   - Desire for a user-friendly interface and good user experience\\n   - Importance of strong analytics capabilities for IT operations\\n# Objections\\n   - Whatfix's pricing model may be too expensive for our enterprise\\n   - How does Whatfix's solution integrate with our existing IT infrastructure?\\n   - Whatfix's digital adoption platform may not be scalable enough for our large user base\\n   - We're concerned about the complexity of setting up and using Whatfix's solution\\n   - How does Whatfix's solution compare to its competitors in terms of features and pricing?\\n   - We're not sure if Whatfix's solution can provide the level of customization we need\\n   - How does Whatfix measure the ROI of its digital adoption platform?\\n   - We have had bad experiences with digital adoption platforms in the past\\n   - Whatfix's solution may not be suitable for our specific industry or use case\"},\n",
       "  {'query': 'What all pieces of information about the buyer are uncovered in discovery calls of successful deals?',\n",
       "   'context': 'Relevant Context:\\nThe pain points, objections, time lines, success indicators, budget constraints, competition, and decision committee members of the buyer are uncovered in discovery calls of successful deals.'},\n",
       "  {'query': 'What all piece of information have we learnt about the buyer from discovery till now?',\n",
       "   'context': 'Relevant Context:\\nThe buyer, BMC Software, is dealing with complex IT problems that hinder their ability to minimize cost and effort. They are struggling with remote monitoring and management of host systems. BMC Software is unsure if digital adoption platforms can meet their specific requirements and they need a customized solution that can integrate with existing systems and provide advanced analytics and performance support. They are open to exploring different pricing models and have not set a specific budget yet. The decision committee includes Ayman Sayed (CEO), John Moores (Founder), and IT department stakeholders. The buyer is looking for a digital adoption platform that can provide a significant reduction in cost and effort, as well as an improvement in user adoption and satisfaction. They have a timeline of 6-12 months for implementing a digital adoption platform and are considering competitors like WalkMe, Pendo, and Userpilot.'}]}"
      ]
     },
     "execution_count": 16,
     "metadata": {},
     "output_type": "execute_result"
    }
   ],
   "source": [
    "responses[\"Info To Cover\"]"
   ]
  },
  {
   "cell_type": "markdown",
   "metadata": {},
   "source": [
    "## Dynamic Research"
   ]
  },
  {
   "cell_type": "code",
   "execution_count": 1,
   "metadata": {},
   "outputs": [],
   "source": [
    "import asyncio\n",
    "import nest_asyncio\n",
    "nest_asyncio.apply()"
   ]
  },
  {
   "cell_type": "code",
   "execution_count": 3,
   "metadata": {},
   "outputs": [
    {
     "name": "stderr",
     "output_type": "stream",
     "text": [
      "2025-02-18 15:26:58,585 - 8645349184 - __init__.py-__init__:537 - WARNING: Overriding of current TracerProvider is not allowed\n"
     ]
    },
    {
     "name": "stdout",
     "output_type": "stream",
     "text": [
      "Creating seller for foundit.in\n",
      "Adding Seller: foundit.in Data\n"
     ]
    }
   ],
   "source": [
    "from echo.runner import create_or_get_seller\n",
    "\n",
    "inputs = {\n",
    "    \"seller\": \"foundit.in\",\n",
    "    \"num_buyers\": 10,\n",
    "}\n",
    "\n",
    "seller = asyncio.run(create_or_get_seller(inputs))"
   ]
  },
  {
   "cell_type": "code",
   "execution_count": 22,
   "metadata": {},
   "outputs": [],
   "source": [
    "import json\n",
    "\n",
    "\n",
    "buyer_research = json.load(open(\".echo_storage/runs/foundit.in/manipaltechnologies.com.json\"))"
   ]
  },
  {
   "cell_type": "code",
   "execution_count": 24,
   "metadata": {},
   "outputs": [
    {
     "data": {
      "text/plain": [
       "\"India's leading job portal that helps businesses find and hire freelancers, temporary staff, and other talent faster.\""
      ]
     },
     "execution_count": 24,
     "metadata": {},
     "output_type": "execute_result"
    }
   ],
   "source": [
    "buyer_research['seller_research']['description']"
   ]
  },
  {
   "cell_type": "code",
   "execution_count": 27,
   "metadata": {},
   "outputs": [
    {
     "name": "stderr",
     "output_type": "stream",
     "text": [
      "2025-02-18 15:59:45,130 - 8645349184 - __init__.py-__init__:537 - WARNING: Overriding of current TracerProvider is not allowed\n"
     ]
    }
   ],
   "source": [
    "from echo.utils import get_crew, add_pydantic_structure\n",
    "from pydantic import BaseModel, Field\n",
    "from typing import List\n",
    "\n",
    "\n",
    "class Query(BaseModel):\n",
    "    name: str = Field(..., title=\"What is the topic of the research information to be extracted about a client?\")\n",
    "    description: str = Field(..., title=\"Purpose of the research query. Why do we need this research information about a client?\")\n",
    "    questions: List[str] = Field(..., title=\"What all questions need to be answered to get the required information about this research topic about the client?\")\n",
    "\n",
    "\n",
    "class Queries(BaseModel):\n",
    "    queries: List[Query] = Field(..., title=\"List of research queries to be executed to gather information about a client\")\n",
    "\n",
    "\n",
    "agent_templates = {\n",
    "    \"Account Executive\": dict(\n",
    "        role=\"Account Executive\",\n",
    "        goal=\"In-depth research about a company to understand their needs and challenges\",\n",
    "        backstory=(\n",
    "            \"You are an Account Executive at {seller}, {seller_description}\"\n",
    "            \"You are responsible to do account research and prepare a discovery checklist before the first discovery call.\\n\"\n",
    "            \"Your goal is to discover research and align value prop specific to the product you're selling so that you can align value proposition better to the account you're targeting\"\n",
    "        ),\n",
    "    ),\n",
    "}\n",
    "\n",
    "task_templates = {\n",
    "    \"Research Query Planning\": dict(\n",
    "        name=\"Research Query Planning\", \n",
    "        description=(\n",
    "            \"You need to plan the research queries to be executed to gather information about {buyer} based on the {seller} research information.\"\n",
    "            \"Below is the information about {seller}:\\n\\n{seller_info}\"\n",
    "            \"Based on the information about {seller}, you need to plan the research queries that need to be extracted for the Account Executive of {seller} to do the following the order of priority - \\n\"\n",
    "            \"1. Align the value proposition of the products with the needs and challenges of the client\\n\"\n",
    "            \"2. Help {seller} maximize their business goals as a company\\n\"\n",
    "            \"3. Understand the needs and challenges of the {buyer}\\n\"\n",
    "            \n",
    "            \"Below is the information about {buyer}:\\n\\n{buyer_info}\\n\"\n",
    "            \"Extract the research queries that need to be executed to gather information about {buyer} based on the {seller} research information that will help the Account Executive of {seller} to understand the needs and challenges of the client, align the value proposition of the products with the needs and challenges of the client, and help {seller} maximize their business goals as a company.\"\n",
    "            \n",
    "        ), \n",
    "        expected_output=(\n",
    "            \"The research queries to be executed to gather information about a client based on the {seller} research information.\"\n",
    "            \"The response should conform to the provided schema.\\n\"\n",
    "            \"You need to extract the following information in the following pydantic structure -\\n\"\n",
    "            \"{pydantic_structure}\\n\"\n",
    "            \"Make sure there are no comments in the response JSON and it should be a valid JSON.\"\n",
    "        ),\n",
    "        output_pydantic=Queries,\n",
    "        agent='Account Executive', \n",
    "    )\n",
    "}\n",
    "\n",
    "inputs = {\n",
    "    \"seller\": \"Whatfix\",\n",
    "    \"seller_description\": seller['seller_research']['description'],\n",
    "    \"seller_info\": seller['seller_research'],\n",
    "    \"buyer\": \"Manipal Technologies\",\n",
    "    \"buyer_info\": json.dumps(buyer_research['buyer_research'], indent=2) + \"\\nPains and Objections:\\n\" + json.dumps(buyer_research['anticipated_qopcs'], indent=2),\n",
    "}\n",
    "\n",
    "crew = get_crew(\n",
    "    agent_templates=agent_templates, \n",
    "    task_templates=task_templates\n",
    ")\n",
    "add_pydantic_structure(crew, inputs)"
   ]
  },
  {
   "cell_type": "code",
   "execution_count": 28,
   "metadata": {},
   "outputs": [],
   "source": [
    "response = asyncio.run(crew.kickoff_async(\n",
    "    inputs=inputs\n",
    "))"
   ]
  },
  {
   "cell_type": "markdown",
   "metadata": {},
   "source": [
    "## Stakeholder Specific Modeling"
   ]
  },
  {
   "cell_type": "code",
   "execution_count": 10,
   "metadata": {},
   "outputs": [
    {
     "name": "stdout",
     "output_type": "stream",
     "text": [
      "Tables Created Successfully\n",
      "Creating seller for foundit.in\n",
      "Seller Research Data Found\n",
      "Adding Seller: foundit.in Research Data\n",
      "Node already exists in index: {'seller': 'foundit.in', 'industry': 'Recruitment and Job Search', 'data': '{\"seller_research\": {\"name\": \"Foundit.in\", \"website\": \"https://www.foundit.in/\", \"description\": \"India\\'s leading job portal helping job seekers to find jobs and employers to find talent\", \"industry\": \"Recruitment and Job Search\", \"value_propositions\": [{\"product\": \"Talent Search\", \"solution\": \"A tool to navigate an ocean of profiles\", \"use_cases\": [\"Helps you locate talent that\\'s a perfect fit\", \"Streamlines your recruitment process\"]}, {\"product\": \"Resume Search\", \"solution\": \"A platform to search and filter resumes\", \"use_cases\": [\"Helps recruiters to find the right candidate\", \"Saves time in the recruitment process\"]}, {\"product\": \"Magic Search\", \"solution\": \"An AI-driven recruitment solution\", \"use_cases\": [\"Transforms your hiring process\", \"Helps you find the best fit for your organization\"]}]}, \"seller_pricing\": {\"pricing_models\": [{\"type\": \"Free\", \"description\": \"Basic services are free for users\", \"price\": \"0\", \"duration\": \"N/A\"}, {\"type\": \"Premium\", \"description\": \"Enhanced services for users to enhance their job search journey\", \"price\": \"Varies depending on the service\", \"duration\": \"60 days or 180 days depending on the service package\"}, {\"type\": \"Career Booster\", \"description\": \"Experience the best of our services with top recruiter search results\", \"price\": \"Unbeatable price\", \"duration\": \"N/A\"}, {\"type\": \"Featured Profile\", \"description\": \"Get your profile featured on top for a specified duration\", \"price\": \"Varies depending on the service package\", \"duration\": \"60 days or 180 days depending on the service package\"}]}, \"seller_clients\": {\"clients\": [\"Capgemini\", \"TATA Consultancy Services\", \"LTI\", \"American book writer\", \"State Street Corporation\", \"Epiq Hyderabad\", \"ZUNO_PROD-AZ\"]}}'}\n"
     ]
    }
   ],
   "source": [
    "from echo import setup_db_tables\n",
    "import nest_asyncio\n",
    "from dotenv import load_dotenv\n",
    "import asyncio\n",
    "from echo.constants import (\n",
    "    DISCOVERY,\n",
    "    DEMO,\n",
    "    PRICING,\n",
    "    NEGOTIATION\n",
    ")\n",
    "from echo.runner import create_or_get_seller\n",
    "\n",
    "nest_asyncio.apply()\n",
    "\n",
    "load_dotenv()\n",
    "\n",
    "\n",
    "setup_db_tables()\n",
    "\n",
    "NUM_BUYERS = 10\n",
    "\n",
    "inputs = {\n",
    "    \"seller\": \"foundit.in\",\n",
    "    \"num_buyers\": NUM_BUYERS,\n",
    "}\n",
    "\n",
    "seller = asyncio.run(create_or_get_seller(inputs))"
   ]
  },
  {
   "cell_type": "code",
   "execution_count": 11,
   "metadata": {},
   "outputs": [
    {
     "data": {
      "text/plain": [
       "['Capgemini',\n",
       " 'TATA Consultancy Services',\n",
       " 'LTI',\n",
       " 'American book writer',\n",
       " 'State Street Corporation',\n",
       " 'Epiq Hyderabad',\n",
       " 'ZUNO_PROD-AZ']"
      ]
     },
     "execution_count": 11,
     "metadata": {},
     "output_type": "execute_result"
    }
   ],
   "source": [
    "from echo.runner import make_call\n",
    "\n",
    "\n",
    "buyer_inputs = {\n",
    "    **inputs,\n",
    "    **seller,\n",
    "    'n_competitors': 10,\n",
    "    'call_id': 1,\n",
    "    'stakeholders': [\n",
    "        \"Product Manager\",\n",
    "        \"CFO\",\n",
    "        \"VP of Product\",\n",
    "        \"VP of Sales\"\n",
    "    ]\n",
    "}\n",
    "\n",
    "clients = seller['seller_clients']['clients']\n",
    "seller['seller_clients']['clients']"
   ]
  },
  {
   "cell_type": "code",
   "execution_count": 12,
   "metadata": {},
   "outputs": [
    {
     "name": "stdout",
     "output_type": "stream",
     "text": [
      "Making discovery call for ['Capgemini']\n",
      "Getting analysis Data\n",
      "Number of Clients:  1\n"
     ]
    },
    {
     "name": "stderr",
     "output_type": "stream",
     "text": [
      "Getting Data: 100%|██████████| 1/1 [00:00<00:00,  8.91it/s]"
     ]
    },
    {
     "name": "stdout",
     "output_type": "stream",
     "text": [
      "Getting Data for Capgemini\n",
      "Seller Research Data Found\n",
      "Adding Seller: foundit.in Research Data\n",
      "Node already exists in index: {'seller': 'foundit.in', 'industry': 'Recruitment and Job Search', 'data': '{\"seller_research\": {\"name\": \"Foundit.in\", \"website\": \"https://www.foundit.in/\", \"description\": \"India\\'s leading job portal helping job seekers to find jobs and employers to find talent\", \"industry\": \"Recruitment and Job Search\", \"value_propositions\": [{\"product\": \"Talent Search\", \"solution\": \"A tool to navigate an ocean of profiles\", \"use_cases\": [\"Helps you locate talent that\\'s a perfect fit\", \"Streamlines your recruitment process\"]}, {\"product\": \"Resume Search\", \"solution\": \"A platform to search and filter resumes\", \"use_cases\": [\"Helps recruiters to find the right candidate\", \"Saves time in the recruitment process\"]}, {\"product\": \"Magic Search\", \"solution\": \"An AI-driven recruitment solution\", \"use_cases\": [\"Transforms your hiring process\", \"Helps you find the best fit for your organization\"]}]}, \"seller_pricing\": {\"pricing_models\": [{\"type\": \"Free\", \"description\": \"Basic services are free for users\", \"price\": \"0\", \"duration\": \"N/A\"}, {\"type\": \"Premium\", \"description\": \"Enhanced services for users to enhance their job search journey\", \"price\": \"Varies depending on the service\", \"duration\": \"60 days or 180 days depending on the service package\"}, {\"type\": \"Career Booster\", \"description\": \"Experience the best of our services with top recruiter search results\", \"price\": \"Unbeatable price\", \"duration\": \"N/A\"}, {\"type\": \"Featured Profile\", \"description\": \"Get your profile featured on top for a specified duration\", \"price\": \"Varies depending on the service package\", \"duration\": \"60 days or 180 days depending on the service package\"}]}, \"seller_clients\": {\"clients\": [\"Capgemini\", \"TATA Consultancy Services\", \"LTI\", \"American book writer\", \"State Street Corporation\", \"Epiq Hyderabad\", \"ZUNO_PROD-AZ\"]}}'}\n",
      "Buyer Research Data Found\n",
      "Adding Buyer: Capgemini Data\n",
      "Adding Buyer: Capgemini Research Data\n",
      "Node already exists in index: {'buyer': 'Capgemini', 'seller': 'foundit.in', 'industry': 'IT Services and IT Consulting', 'company_size': 'Enterprise (10,001+ employees)', 'data': '{\"buyer_research\": {\"name\": \"Capgemini\", \"website\": \"https://www.capgemini.com/\", \"description\": \"A global leader in consulting, technology services and digital transformation\", \"industry\": \"IT Services and IT Consulting\", \"company_size\": \"Enterprise (10,001+ employees)\", \"goals\": [\"Accelerate business transformation\", \"Unlock innovation and drive business growth\", \"Deliver exceptional experiences\"], \"use_cases\": [\"Digital transformation\", \"Innovation and growth\", \"Operational efficiency\"], \"challenges\": [\"Staying ahead of the competition\", \"Adapting to changing market conditions\", \"Meeting customer expectations\"], \"stakeholders\": [\"Business leaders\", \"IT professionals\", \"Customers\"]}, \"competitive_info\": {\"competitors\": [{\"name\": \"Naukri\", \"pros\": [\"Large database of job postings\", \"Trusted name in the Indian market\"], \"cons\": [\"Limited international job postings\", \"Some users have reported issues with customer support\"], \"differentiators\": [\"Large user base\", \"Established brand\"]}, {\"name\": \"LinkedIn\", \"pros\": [\"Global job postings\", \"Networking opportunities\", \"Established brand\"], \"cons\": [\"Paid features can be expensive\", \"Some users have reported issues with job posting quality\"], \"differentiators\": [\"Global reach\", \"Networking capabilities\"]}, {\"name\": \"Indeed\", \"pros\": [\"Global job postings\", \"Easy job search functionality\", \"Established brand\"], \"cons\": [\"Some users have reported issues with job posting quality\", \"Limited features for employers\"], \"differentiators\": [\"Global reach\", \"Easy job search functionality\"]}, {\"name\": \"Glassdoor\", \"pros\": [\"Global job postings\", \"Salary information and company reviews\", \"Established brand\"], \"cons\": [\"Some users have reported issues with job posting quality\", \"Limited features for employers\"], \"differentiators\": [\"Salary information and company reviews\", \"Established brand\"]}, {\"name\": \"Shine\", \"pros\": [\"Large database of job postings\", \"Easy job search functionality\"], \"cons\": [\"Limited international job postings\", \"Some users have reported issues with customer support\"], \"differentiators\": [\"Large user base\", \"Easy job search functionality\"]}]}, \"anticipated_qopcs\": {\"pains\": [\"How can foundit.in\\'s services help us accelerate business transformation?\", \"We are struggling to find the right talent, can foundit.in\\'s Talent Search solution help us?\", \"Our current recruitment process is time-consuming, can foundit.in\\'s Resume Search platform streamline it?\", \"We are finding it difficult to adapt to changing market conditions, can foundit.in\\'s Magic Search solution help us stay ahead of the competition?\", \"How can foundit.in\\'s services help us unlock innovation and drive business growth?\", \"We are facing challenges in meeting customer expectations, can foundit.in\\'s services help us deliver exceptional experiences?\"], \"objections\": [\"How does foundit.in\\'s pricing model compare to its competitors?\", \"We are hesitant to invest in a new recruitment solution, what makes foundit.in\\'s services worth the cost?\", \"We\\'ve had issues with job posting quality in the past, how does foundit.in ensure the quality of its job postings?\", \"Our current recruitment process is already established, what would be the ROI of switching to foundit.in\\'s services?\", \"How does foundit.in\\'s Magic Search solution differ from other AI-driven recruitment solutions in the market?\", \"What kind of customer support does foundit.in offer, and how does it compare to its competitors?\"]}}'}\n",
      "Embedding Simulation Data for Client: Capgemini\n",
      "Node already exists in index: {'seller': 'foundit.in', 'buyer': 'Capgemini', 'call_type': 'discovery', 'call_id': 1, 'transcript': '{\"messages\": [{\"user\": \"Product Manager\", \"content\": \"Hi, I\\'m the Product Manager from Capgemini. We\\'re interested in learning more about foundit.in\\'s services and how they can help us accelerate our business transformation. Can you tell us a bit about your company and what you offer?\"}, {\"user\": \"foundit.in\", \"content\": \"Hi, thank you for considering foundit.in. We\\'re India\\'s leading job portal, and we offer a range of services to help employers like Capgemini find the right talent. Our Talent Search solution is a powerful tool that helps you navigate an ocean of profiles to find the perfect fit for your organization. We also offer Resume Search, which is a platform to search and filter resumes, and Magic Search, which is an AI-driven recruitment solution that can transform your hiring process. Can you tell me a bit more about your current recruitment process and what challenges you\\'re facing?\"}, {\"user\": \"CFO\", \"content\": \"We\\'re currently using a combination of job boards and recruitment agencies to find talent, but we\\'re finding it difficult to get the right candidates. Our current process is time-consuming and expensive. We\\'re looking for a solution that can help us streamline our recruitment process and reduce costs.\"}, {\"user\": \"foundit.in\", \"content\": \"I understand your challenges. Our Resume Search platform can help you streamline your recruitment process and reduce costs. With our platform, you can search and filter resumes quickly and easily, and find the right candidates for your organization. We also offer a free trial period, so you can try out our services before committing to a purchase. Can you tell me more about your budget constraints and what kind of ROI you\\'re looking for from a recruitment solution?\"}, {\"user\": \"VP of Product\", \"content\": \"We\\'re interested in learning more about your Magic Search solution. Can you tell us more about how it works and how it can help us stay ahead of the competition?\"}, {\"user\": \"foundit.in\", \"content\": \"Our Magic Search solution is an AI-driven recruitment solution that uses machine learning algorithms to match job seekers with job openings. It\\'s a powerful tool that can help you find the best fit for your organization quickly and easily. We\\'ve had success with clients in the IT services and consulting industry, and we believe it can help you stay ahead of the competition. Can you tell me more about your goals for using a recruitment solution and what kind of success indicators you\\'re looking for?\"}, {\"user\": \"VP of Sales\", \"content\": \"We\\'re concerned about the quality of job postings on your platform. Can you tell us more about how you ensure the quality of your job postings?\"}, {\"user\": \"foundit.in\", \"content\": \"We take the quality of our job postings very seriously. We have a team of moderators who review each job posting to ensure it meets our quality standards. We also offer a range of tools and features to help employers create high-quality job postings, such as our job posting template and guidance on writing effective job descriptions. Additionally, we have a feedback system in place, so if an employer has a bad experience with a job posting, we can take action to address the issue. We\\'re committed to providing the best possible experience for our users.\"}, {\"user\": \"Product Manager\", \"content\": \"That\\'s great to hear. We\\'re also interested in learning more about your pricing model. Can you tell us more about how it works and how it compares to your competitors?\"}, {\"user\": \"foundit.in\", \"content\": \"Our pricing model is designed to be flexible and affordable for employers of all sizes. We offer a range of pricing plans, including a free plan, premium plan, and career booster plan. Our pricing is competitive with our competitors, and we believe it offers the best value for the services we provide. We also offer discounts for long-term commitments and bulk purchasing, so if you\\'re interested in using our services for an extended period, we can work out a customized pricing plan that meets your needs.\"}, {\"user\": \"CFO\", \"content\": \"That sounds reasonable. Can you tell us more about your customer support and what kind of ROI we can expect from using your services?\"}, {\"user\": \"foundit.in\", \"content\": \"We\\'re committed to providing the best possible customer support to our users. We offer a range of support options, including phone, email, and chat support. We also have a comprehensive knowledge base and FAQs section on our website, so you can find answers to common questions quickly and easily. In terms of ROI, our clients have seen significant returns on their investment, including reductions in time-to-hire and cost-per-hire. We can provide you with case studies and testimonials from our clients if you\\'re interested.\"}, {\"user\": \"VP of Product\", \"content\": \"That sounds great. We\\'re interested in moving forward with a free trial of your Resume Search platform. Can you tell us more about the next steps and what we need to do to get started?\"}, {\"user\": \"foundit.in\", \"content\": \"I\\'d be happy to help you get started with a free trial. I\\'ll send you a follow-up email with the necessary information and instructions. We\\'ll also schedule a training session to ensure you get the most out of our platform. If you have any questions or need any support during the trial, please don\\'t hesitate to reach out. We\\'re committed to your success and look forward to working with you.\"}]}'}\n",
      "Adding Analysis Data for Stakeholder: Product Manager\n",
      "Node already exists in index: {'seller': 'foundit.in', 'buyer': 'Capgemini', 'call_type': 'discovery', 'company_size': 'Enterprise (10,001+ employees)', 'industry': 'IT Services and IT Consulting', 'description': 'A global leader in consulting, technology services and digital transformation', 'call_id': 1, 'stakeholder': 'Product Manager', 'transcript': '{\"messages\": [{\"user\": \"Product Manager\", \"content\": \"Hi, I\\'m the Product Manager from Capgemini. We\\'re interested in learning more about foundit.in\\'s services and how they can help us accelerate our business transformation. Can you tell us a bit about your company and what you offer?\"}, {\"user\": \"foundit.in\", \"content\": \"Hi, thank you for considering foundit.in. We\\'re India\\'s leading job portal, and we offer a range of services to help employers like Capgemini find the right talent. Our Talent Search solution is a powerful tool that helps you navigate an ocean of profiles to find the perfect fit for your organization. We also offer Resume Search, which is a platform to search and filter resumes, and Magic Search, which is an AI-driven recruitment solution that can transform your hiring process. Can you tell me a bit more about your current recruitment process and what challenges you\\'re facing?\"}, {\"user\": \"CFO\", \"content\": \"We\\'re currently using a combination of job boards and recruitment agencies to find talent, but we\\'re finding it difficult to get the right candidates. Our current process is time-consuming and expensive. We\\'re looking for a solution that can help us streamline our recruitment process and reduce costs.\"}, {\"user\": \"foundit.in\", \"content\": \"I understand your challenges. Our Resume Search platform can help you streamline your recruitment process and reduce costs. With our platform, you can search and filter resumes quickly and easily, and find the right candidates for your organization. We also offer a free trial period, so you can try out our services before committing to a purchase. Can you tell me more about your budget constraints and what kind of ROI you\\'re looking for from a recruitment solution?\"}, {\"user\": \"VP of Product\", \"content\": \"We\\'re interested in learning more about your Magic Search solution. Can you tell us more about how it works and how it can help us stay ahead of the competition?\"}, {\"user\": \"foundit.in\", \"content\": \"Our Magic Search solution is an AI-driven recruitment solution that uses machine learning algorithms to match job seekers with job openings. It\\'s a powerful tool that can help you find the best fit for your organization quickly and easily. We\\'ve had success with clients in the IT services and consulting industry, and we believe it can help you stay ahead of the competition. Can you tell me more about your goals for using a recruitment solution and what kind of success indicators you\\'re looking for?\"}, {\"user\": \"VP of Sales\", \"content\": \"We\\'re concerned about the quality of job postings on your platform. Can you tell us more about how you ensure the quality of your job postings?\"}, {\"user\": \"foundit.in\", \"content\": \"We take the quality of our job postings very seriously. We have a team of moderators who review each job posting to ensure it meets our quality standards. We also offer a range of tools and features to help employers create high-quality job postings, such as our job posting template and guidance on writing effective job descriptions. Additionally, we have a feedback system in place, so if an employer has a bad experience with a job posting, we can take action to address the issue. We\\'re committed to providing the best possible experience for our users.\"}, {\"user\": \"Product Manager\", \"content\": \"That\\'s great to hear. We\\'re also interested in learning more about your pricing model. Can you tell us more about how it works and how it compares to your competitors?\"}, {\"user\": \"foundit.in\", \"content\": \"Our pricing model is designed to be flexible and affordable for employers of all sizes. We offer a range of pricing plans, including a free plan, premium plan, and career booster plan. Our pricing is competitive with our competitors, and we believe it offers the best value for the services we provide. We also offer discounts for long-term commitments and bulk purchasing, so if you\\'re interested in using our services for an extended period, we can work out a customized pricing plan that meets your needs.\"}, {\"user\": \"CFO\", \"content\": \"That sounds reasonable. Can you tell us more about your customer support and what kind of ROI we can expect from using your services?\"}, {\"user\": \"foundit.in\", \"content\": \"We\\'re committed to providing the best possible customer support to our users. We offer a range of support options, including phone, email, and chat support. We also have a comprehensive knowledge base and FAQs section on our website, so you can find answers to common questions quickly and easily. In terms of ROI, our clients have seen significant returns on their investment, including reductions in time-to-hire and cost-per-hire. We can provide you with case studies and testimonials from our clients if you\\'re interested.\"}, {\"user\": \"VP of Product\", \"content\": \"That sounds great. We\\'re interested in moving forward with a free trial of your Resume Search platform. Can you tell us more about the next steps and what we need to do to get started?\"}, {\"user\": \"foundit.in\", \"content\": \"I\\'d be happy to help you get started with a free trial. I\\'ll send you a follow-up email with the necessary information and instructions. We\\'ll also schedule a training session to ensure you get the most out of our platform. If you have any questions or need any support during the trial, please don\\'t hesitate to reach out. We\\'re committed to your success and look forward to working with you.\"}]}', 'data': '{\"discovery_analysis_buyer_data\": {\"pain_points\": [\"difficult to get the right candidates\", \"current process is time-consuming and expensive\"], \"objections\": [\"quality of job postings on the platform\", \"pricing model and ROI\"], \"time_lines\": [\"getting a free trial of the Resume Search platform\", \"moving forward with implementing a recruitment solution\"], \"success_indicators\": [\"reductions in time-to-hire and cost-per-hire\"], \"budget_constraints\": [\"looking for a solution that can reduce costs\"], \"competition\": [\"Naukri\", \"LinkedIn\", \"Indeed\", \"Glassdoor\", \"Shine\"], \"decision_committee\": [\"Product Manager\", \"CFO\", \"VP of Product\", \"VP of Sales\"]}, \"discovery_analysis_seller_data\": {\"discovery_questions\": [\"Can you tell me a bit more about your current recruitment process and what challenges you\\'re facing?\", \"Can you tell me more about your budget constraints and what kind of ROI you\\'re looking for from a recruitment solution?\", \"We\\'re interested in learning more about your Magic Search solution. Can you tell us more about how it works and how it can help us stay ahead of the competition?\", \"We\\'re interested in learning more about your pricing model. Can you tell us more about how it works and how it compares to your competitors?\"], \"decision_making_process_questions\": [\"What\\'s your current process for finding the right candidates?\", \"What kind of ROI are you looking for from a recruitment solution?\", \"What\\'s your timeline for implementing a new recruitment solution?\", \"What are your goals for using a recruitment solution and what kind of success indicators are you looking for?\"], \"objection_resolution_pairs\": [{\"objection\": \"quality of job postings on the platform\", \"resolution\": \"We take the quality of our job postings very seriously. We have a team of moderators who review each job posting to ensure it meets our quality standards. We also offer a range of tools and features to help employers create high-quality job postings, such as our job posting template and guidance on writing effective job descriptions. Additionally, we have a feedback system in place, so if an employer has a bad experience with a job posting, we can take action to address the issue.\"}, {\"objection\": \"pricing model and ROI\", \"resolution\": \"Our pricing model is designed to be flexible and affordable for employers of all sizes. We offer a range of pricing plans, including a free plan, premium plan, and career booster plan. Our pricing is competitive with our competitors, and we believe it offers the best value for the services we provide. We also offer discounts for long-term commitments and bulk purchasing, so if you\\'re interested in using our services for an extended period, we can work out a customized pricing plan that meets your needs.\"}], \"insights\": [\"The current recruitment process is time-consuming and expensive\", \"The company is looking for a solution that can help them streamline their recruitment process and reduce costs\", \"The company is interested in using an AI-driven recruitment solution to stay ahead of the competition\", \"The company is looking for a solution that can provide a strong ROI\"], \"improvements\": [\"The seller could have provided more detailed information about the pricing model and ROI\", \"The seller could have asked more questions about the company\\'s current recruitment process and challenges\", \"The seller could have provided more examples of success stories from previous clients\"]}}'}\n",
      "Adding Analysis Data for Stakeholder: CFO\n",
      "Node already exists in index: {'seller': 'foundit.in', 'buyer': 'Capgemini', 'call_type': 'discovery', 'company_size': 'Enterprise (10,001+ employees)', 'industry': 'IT Services and IT Consulting', 'description': 'A global leader in consulting, technology services and digital transformation', 'call_id': 1, 'stakeholder': 'CFO', 'transcript': '{\"messages\": [{\"user\": \"Product Manager\", \"content\": \"Hi, I\\'m the Product Manager from Capgemini. We\\'re interested in learning more about foundit.in\\'s services and how they can help us accelerate our business transformation. Can you tell us a bit about your company and what you offer?\"}, {\"user\": \"foundit.in\", \"content\": \"Hi, thank you for considering foundit.in. We\\'re India\\'s leading job portal, and we offer a range of services to help employers like Capgemini find the right talent. Our Talent Search solution is a powerful tool that helps you navigate an ocean of profiles to find the perfect fit for your organization. We also offer Resume Search, which is a platform to search and filter resumes, and Magic Search, which is an AI-driven recruitment solution that can transform your hiring process. Can you tell me a bit more about your current recruitment process and what challenges you\\'re facing?\"}, {\"user\": \"CFO\", \"content\": \"We\\'re currently using a combination of job boards and recruitment agencies to find talent, but we\\'re finding it difficult to get the right candidates. Our current process is time-consuming and expensive. We\\'re looking for a solution that can help us streamline our recruitment process and reduce costs.\"}, {\"user\": \"foundit.in\", \"content\": \"I understand your challenges. Our Resume Search platform can help you streamline your recruitment process and reduce costs. With our platform, you can search and filter resumes quickly and easily, and find the right candidates for your organization. We also offer a free trial period, so you can try out our services before committing to a purchase. Can you tell me more about your budget constraints and what kind of ROI you\\'re looking for from a recruitment solution?\"}, {\"user\": \"VP of Product\", \"content\": \"We\\'re interested in learning more about your Magic Search solution. Can you tell us more about how it works and how it can help us stay ahead of the competition?\"}, {\"user\": \"foundit.in\", \"content\": \"Our Magic Search solution is an AI-driven recruitment solution that uses machine learning algorithms to match job seekers with job openings. It\\'s a powerful tool that can help you find the best fit for your organization quickly and easily. We\\'ve had success with clients in the IT services and consulting industry, and we believe it can help you stay ahead of the competition. Can you tell me more about your goals for using a recruitment solution and what kind of success indicators you\\'re looking for?\"}, {\"user\": \"VP of Sales\", \"content\": \"We\\'re concerned about the quality of job postings on your platform. Can you tell us more about how you ensure the quality of your job postings?\"}, {\"user\": \"foundit.in\", \"content\": \"We take the quality of our job postings very seriously. We have a team of moderators who review each job posting to ensure it meets our quality standards. We also offer a range of tools and features to help employers create high-quality job postings, such as our job posting template and guidance on writing effective job descriptions. Additionally, we have a feedback system in place, so if an employer has a bad experience with a job posting, we can take action to address the issue. We\\'re committed to providing the best possible experience for our users.\"}, {\"user\": \"Product Manager\", \"content\": \"That\\'s great to hear. We\\'re also interested in learning more about your pricing model. Can you tell us more about how it works and how it compares to your competitors?\"}, {\"user\": \"foundit.in\", \"content\": \"Our pricing model is designed to be flexible and affordable for employers of all sizes. We offer a range of pricing plans, including a free plan, premium plan, and career booster plan. Our pricing is competitive with our competitors, and we believe it offers the best value for the services we provide. We also offer discounts for long-term commitments and bulk purchasing, so if you\\'re interested in using our services for an extended period, we can work out a customized pricing plan that meets your needs.\"}, {\"user\": \"CFO\", \"content\": \"That sounds reasonable. Can you tell us more about your customer support and what kind of ROI we can expect from using your services?\"}, {\"user\": \"foundit.in\", \"content\": \"We\\'re committed to providing the best possible customer support to our users. We offer a range of support options, including phone, email, and chat support. We also have a comprehensive knowledge base and FAQs section on our website, so you can find answers to common questions quickly and easily. In terms of ROI, our clients have seen significant returns on their investment, including reductions in time-to-hire and cost-per-hire. We can provide you with case studies and testimonials from our clients if you\\'re interested.\"}, {\"user\": \"VP of Product\", \"content\": \"That sounds great. We\\'re interested in moving forward with a free trial of your Resume Search platform. Can you tell us more about the next steps and what we need to do to get started?\"}, {\"user\": \"foundit.in\", \"content\": \"I\\'d be happy to help you get started with a free trial. I\\'ll send you a follow-up email with the necessary information and instructions. We\\'ll also schedule a training session to ensure you get the most out of our platform. If you have any questions or need any support during the trial, please don\\'t hesitate to reach out. We\\'re committed to your success and look forward to working with you.\"}]}', 'data': '{\"discovery_analysis_buyer_data\": {\"pain_points\": [\"Difficulty in finding right candidates\", \"Time-consuming and expensive recruitment process\"], \"objections\": [\"Concerns about the quality of job postings on the platform\"], \"time_lines\": [\"No specific time lines mentioned\"], \"success_indicators\": [\"Streamline recruitment process\", \"Reduce costs\", \"Stay ahead of the competition\"], \"budget_constraints\": [\"No specific budget constraints mentioned\"], \"competition\": [\"Naukri\", \"LinkedIn\", \"Indeed\", \"Glassdoor\", \"Shine\"], \"decision_committee\": [\"CFO\", \"VP of Product\", \"VP of Sales\", \"Product Manager\"]}, \"discovery_analysis_seller_data\": {\"discovery_questions\": [\"Can you tell me a bit more about your current recruitment process and what challenges you\\'re facing?\", \"Can you tell me more about your budget constraints and what kind of ROI you\\'re looking for from a recruitment solution?\", \"Can you tell us more about your goals for using a recruitment solution and what kind of success indicators you\\'re looking for?\"], \"decision_making_process_questions\": [\"What kind of ROI you\\'re looking for from a recruitment solution?\", \"What kind of success indicators you\\'re looking for from a recruitment solution?\"], \"objection_resolution_pairs\": [{\"objection\": \"Concerns about the quality of job postings on the platform\", \"resolution\": \"We take the quality of our job postings very seriously. We have a team of moderators who review each job posting to ensure it meets our quality standards. We also offer a range of tools and features to help employers create high-quality job postings, such as our job posting template and guidance on writing effective job descriptions. Additionally, we have a feedback system in place, so if an employer has a bad experience with a job posting, we can take action to address the issue.\"}], \"insights\": [\"Capgemini is facing difficulty in finding the right candidates and has a time-consuming and expensive recruitment process.\", \"Capgemini is looking for a solution that can streamline their recruitment process and reduce costs.\", \"Capgemini wants to stay ahead of the competition and is interested in learning more about the Magic Search solution.\"], \"improvements\": [\"Foundit.in could provide more information about the ROI of their services and how it compares to their competitors.\", \"Foundit.in could provide more customized solutions to address the specific pain points of Capgemini.\", \"Foundit.in could emphasize the benefits of their AI-driven recruitment solution, Magic Search, to stay ahead of the competition.\"]}}'}\n",
      "Adding Analysis Data for Stakeholder: VP of Product\n",
      "Node already exists in index: {'seller': 'foundit.in', 'buyer': 'Capgemini', 'call_type': 'discovery', 'company_size': 'Enterprise (10,001+ employees)', 'industry': 'IT Services and IT Consulting', 'description': 'A global leader in consulting, technology services and digital transformation', 'call_id': 1, 'stakeholder': 'VP of Product', 'transcript': '{\"messages\": [{\"user\": \"Product Manager\", \"content\": \"Hi, I\\'m the Product Manager from Capgemini. We\\'re interested in learning more about foundit.in\\'s services and how they can help us accelerate our business transformation. Can you tell us a bit about your company and what you offer?\"}, {\"user\": \"foundit.in\", \"content\": \"Hi, thank you for considering foundit.in. We\\'re India\\'s leading job portal, and we offer a range of services to help employers like Capgemini find the right talent. Our Talent Search solution is a powerful tool that helps you navigate an ocean of profiles to find the perfect fit for your organization. We also offer Resume Search, which is a platform to search and filter resumes, and Magic Search, which is an AI-driven recruitment solution that can transform your hiring process. Can you tell me a bit more about your current recruitment process and what challenges you\\'re facing?\"}, {\"user\": \"CFO\", \"content\": \"We\\'re currently using a combination of job boards and recruitment agencies to find talent, but we\\'re finding it difficult to get the right candidates. Our current process is time-consuming and expensive. We\\'re looking for a solution that can help us streamline our recruitment process and reduce costs.\"}, {\"user\": \"foundit.in\", \"content\": \"I understand your challenges. Our Resume Search platform can help you streamline your recruitment process and reduce costs. With our platform, you can search and filter resumes quickly and easily, and find the right candidates for your organization. We also offer a free trial period, so you can try out our services before committing to a purchase. Can you tell me more about your budget constraints and what kind of ROI you\\'re looking for from a recruitment solution?\"}, {\"user\": \"VP of Product\", \"content\": \"We\\'re interested in learning more about your Magic Search solution. Can you tell us more about how it works and how it can help us stay ahead of the competition?\"}, {\"user\": \"foundit.in\", \"content\": \"Our Magic Search solution is an AI-driven recruitment solution that uses machine learning algorithms to match job seekers with job openings. It\\'s a powerful tool that can help you find the best fit for your organization quickly and easily. We\\'ve had success with clients in the IT services and consulting industry, and we believe it can help you stay ahead of the competition. Can you tell me more about your goals for using a recruitment solution and what kind of success indicators you\\'re looking for?\"}, {\"user\": \"VP of Sales\", \"content\": \"We\\'re concerned about the quality of job postings on your platform. Can you tell us more about how you ensure the quality of your job postings?\"}, {\"user\": \"foundit.in\", \"content\": \"We take the quality of our job postings very seriously. We have a team of moderators who review each job posting to ensure it meets our quality standards. We also offer a range of tools and features to help employers create high-quality job postings, such as our job posting template and guidance on writing effective job descriptions. Additionally, we have a feedback system in place, so if an employer has a bad experience with a job posting, we can take action to address the issue. We\\'re committed to providing the best possible experience for our users.\"}, {\"user\": \"Product Manager\", \"content\": \"That\\'s great to hear. We\\'re also interested in learning more about your pricing model. Can you tell us more about how it works and how it compares to your competitors?\"}, {\"user\": \"foundit.in\", \"content\": \"Our pricing model is designed to be flexible and affordable for employers of all sizes. We offer a range of pricing plans, including a free plan, premium plan, and career booster plan. Our pricing is competitive with our competitors, and we believe it offers the best value for the services we provide. We also offer discounts for long-term commitments and bulk purchasing, so if you\\'re interested in using our services for an extended period, we can work out a customized pricing plan that meets your needs.\"}, {\"user\": \"CFO\", \"content\": \"That sounds reasonable. Can you tell us more about your customer support and what kind of ROI we can expect from using your services?\"}, {\"user\": \"foundit.in\", \"content\": \"We\\'re committed to providing the best possible customer support to our users. We offer a range of support options, including phone, email, and chat support. We also have a comprehensive knowledge base and FAQs section on our website, so you can find answers to common questions quickly and easily. In terms of ROI, our clients have seen significant returns on their investment, including reductions in time-to-hire and cost-per-hire. We can provide you with case studies and testimonials from our clients if you\\'re interested.\"}, {\"user\": \"VP of Product\", \"content\": \"That sounds great. We\\'re interested in moving forward with a free trial of your Resume Search platform. Can you tell us more about the next steps and what we need to do to get started?\"}, {\"user\": \"foundit.in\", \"content\": \"I\\'d be happy to help you get started with a free trial. I\\'ll send you a follow-up email with the necessary information and instructions. We\\'ll also schedule a training session to ensure you get the most out of our platform. If you have any questions or need any support during the trial, please don\\'t hesitate to reach out. We\\'re committed to your success and look forward to working with you.\"}]}', 'data': '{\"discovery_analysis_buyer_data\": {\"pain_points\": [\"Difficult to get the right candidates\", \"Current process is time-consuming and expensive\"], \"objections\": [\"Concern about the quality of job postings on the platform\"], \"time_lines\": [], \"success_indicators\": [\"ROI from a recruitment solution\", \"Reductions in time-to-hire and cost-per-hire\"], \"budget_constraints\": [\"Budget constraints expressed but no specific amount mentioned\"], \"competition\": [\"No direct competitors mentioned but implied in the VP of Product\\'s question about staying ahead of the competition\"], \"decision_committee\": [\"CFO\", \"VP of Product\", \"Product Manager\", \"VP of Sales\"]}, \"discovery_analysis_seller_data\": {\"discovery_questions\": [\"Can you tell me a bit more about your current recruitment process and what challenges you\\'re facing?\", \"Can you tell me more about your budget constraints and what kind of ROI you\\'re looking for from a recruitment solution?\", \"We\\'re interested in learning more about your Magic Search solution. Can you tell us more about how it works and how it can help us stay ahead of the competition?\", \"Can you tell us more about your goals for using a recruitment solution and what kind of success indicators you\\'re looking for?\"], \"decision_making_process_questions\": [\"Can you tell me more about your budget constraints and what kind of ROI you\\'re looking for from a recruitment solution?\", \"Can you tell us more about your goals for using a recruitment solution and what kind of success indicators you\\'re looking for?\"], \"objection_resolution_pairs\": [{\"objection\": \"Concern about the quality of job postings on the platform\", \"resolution\": \"We take the quality of our job postings very seriously. We have a team of moderators who review each job posting to ensure it meets our quality standards.\"}], \"insights\": [\"Capgemini is struggling to find the right candidates and wants to streamline their recruitment process\", \"They are looking for a solution that can provide a significant ROI\", \"They are interested in using AI-driven recruitment solutions to stay ahead of the competition\"], \"improvements\": [\"Foundit.in could provide more information about their Magic Search solution and how it can help Capgemini achieve its goals\", \"Foundit.in could offer more customized solutions to address Capgemini\\'s specific pain points\", \"Foundit.in could provide more case studies or testimonials from similar clients to build credibility\"]}}'}\n",
      "Adding Analysis Data for Stakeholder: VP of Sales\n",
      "Node already exists in index: {'seller': 'foundit.in', 'buyer': 'Capgemini', 'call_type': 'discovery', 'company_size': 'Enterprise (10,001+ employees)', 'industry': 'IT Services and IT Consulting', 'description': 'A global leader in consulting, technology services and digital transformation', 'call_id': 1, 'stakeholder': 'VP of Sales', 'transcript': '{\"messages\": [{\"user\": \"Product Manager\", \"content\": \"Hi, I\\'m the Product Manager from Capgemini. We\\'re interested in learning more about foundit.in\\'s services and how they can help us accelerate our business transformation. Can you tell us a bit about your company and what you offer?\"}, {\"user\": \"foundit.in\", \"content\": \"Hi, thank you for considering foundit.in. We\\'re India\\'s leading job portal, and we offer a range of services to help employers like Capgemini find the right talent. Our Talent Search solution is a powerful tool that helps you navigate an ocean of profiles to find the perfect fit for your organization. We also offer Resume Search, which is a platform to search and filter resumes, and Magic Search, which is an AI-driven recruitment solution that can transform your hiring process. Can you tell me a bit more about your current recruitment process and what challenges you\\'re facing?\"}, {\"user\": \"CFO\", \"content\": \"We\\'re currently using a combination of job boards and recruitment agencies to find talent, but we\\'re finding it difficult to get the right candidates. Our current process is time-consuming and expensive. We\\'re looking for a solution that can help us streamline our recruitment process and reduce costs.\"}, {\"user\": \"foundit.in\", \"content\": \"I understand your challenges. Our Resume Search platform can help you streamline your recruitment process and reduce costs. With our platform, you can search and filter resumes quickly and easily, and find the right candidates for your organization. We also offer a free trial period, so you can try out our services before committing to a purchase. Can you tell me more about your budget constraints and what kind of ROI you\\'re looking for from a recruitment solution?\"}, {\"user\": \"VP of Product\", \"content\": \"We\\'re interested in learning more about your Magic Search solution. Can you tell us more about how it works and how it can help us stay ahead of the competition?\"}, {\"user\": \"foundit.in\", \"content\": \"Our Magic Search solution is an AI-driven recruitment solution that uses machine learning algorithms to match job seekers with job openings. It\\'s a powerful tool that can help you find the best fit for your organization quickly and easily. We\\'ve had success with clients in the IT services and consulting industry, and we believe it can help you stay ahead of the competition. Can you tell me more about your goals for using a recruitment solution and what kind of success indicators you\\'re looking for?\"}, {\"user\": \"VP of Sales\", \"content\": \"We\\'re concerned about the quality of job postings on your platform. Can you tell us more about how you ensure the quality of your job postings?\"}, {\"user\": \"foundit.in\", \"content\": \"We take the quality of our job postings very seriously. We have a team of moderators who review each job posting to ensure it meets our quality standards. We also offer a range of tools and features to help employers create high-quality job postings, such as our job posting template and guidance on writing effective job descriptions. Additionally, we have a feedback system in place, so if an employer has a bad experience with a job posting, we can take action to address the issue. We\\'re committed to providing the best possible experience for our users.\"}, {\"user\": \"Product Manager\", \"content\": \"That\\'s great to hear. We\\'re also interested in learning more about your pricing model. Can you tell us more about how it works and how it compares to your competitors?\"}, {\"user\": \"foundit.in\", \"content\": \"Our pricing model is designed to be flexible and affordable for employers of all sizes. We offer a range of pricing plans, including a free plan, premium plan, and career booster plan. Our pricing is competitive with our competitors, and we believe it offers the best value for the services we provide. We also offer discounts for long-term commitments and bulk purchasing, so if you\\'re interested in using our services for an extended period, we can work out a customized pricing plan that meets your needs.\"}, {\"user\": \"CFO\", \"content\": \"That sounds reasonable. Can you tell us more about your customer support and what kind of ROI we can expect from using your services?\"}, {\"user\": \"foundit.in\", \"content\": \"We\\'re committed to providing the best possible customer support to our users. We offer a range of support options, including phone, email, and chat support. We also have a comprehensive knowledge base and FAQs section on our website, so you can find answers to common questions quickly and easily. In terms of ROI, our clients have seen significant returns on their investment, including reductions in time-to-hire and cost-per-hire. We can provide you with case studies and testimonials from our clients if you\\'re interested.\"}, {\"user\": \"VP of Product\", \"content\": \"That sounds great. We\\'re interested in moving forward with a free trial of your Resume Search platform. Can you tell us more about the next steps and what we need to do to get started?\"}, {\"user\": \"foundit.in\", \"content\": \"I\\'d be happy to help you get started with a free trial. I\\'ll send you a follow-up email with the necessary information and instructions. We\\'ll also schedule a training session to ensure you get the most out of our platform. If you have any questions or need any support during the trial, please don\\'t hesitate to reach out. We\\'re committed to your success and look forward to working with you.\"}]}', 'data': '{\"discovery_analysis_buyer_data\": {\"pain_points\": [\"difficult to get the right candidates\", \"current process is time-consuming and expensive\", \"concerned about the quality of job postings\"], \"objections\": [\"No specific objections raised by the buyer during the call\"], \"time_lines\": [\"No specific time lines mentioned by the buyer during the call\"], \"success_indicators\": [\"reductions in time-to-hire and cost-per-hire\"], \"budget_constraints\": [\"budget constraints mentioned, but no specific numbers given\"], \"competition\": [\"No specific competitors mentioned by the buyer during the call\"], \"decision_committee\": [\"VP of Sales, CFO, Product Manager, and other stakeholders from Capgemini\"]}, \"discovery_analysis_seller_data\": {\"discovery_questions\": [\"Can you tell me a bit more about your current recruitment process and what challenges you\\'re facing?\", \"Can you tell me more about your budget constraints and what kind of ROI you\\'re looking for from a recruitment solution?\", \"Can you tell us more about your goals for using a recruitment solution and what kind of success indicators you\\'re looking for?\", \"We\\'re also interested in learning more about your pricing model. Can you tell us more about how it works and how it compares to your competitors?\", \"Can you tell us more about your customer support and what kind of ROI we can expect from using your services?\"], \"decision_making_process_questions\": [\"Can you tell me more about your budget constraints and what kind of ROI you\\'re looking for from a recruitment solution?\", \"Can you tell us more about your goals for using a recruitment solution and what kind of success indicators you\\'re looking for?\", \"Can you tell us more about your customer support and what kind of ROI we can expect from using your services?\"], \"objection_resolution_pairs\": [{\"objection\": \"We\\'re concerned about the quality of job postings on your platform.\", \"resolution\": \"We take the quality of our job postings very seriously. We have a team of moderators who review each job posting to ensure it meets our quality standards.\"}], \"insights\": [\"Capgemini is struggling with their current recruitment process, which is time-consuming and expensive\", \"They\\'re looking for a solution that can help them streamline their recruitment process and reduce costs\", \"They\\'re interested in learning more about foundit.in\\'s services and how they can help them stay ahead of the competition\"], \"improvements\": [\"foundit.in could provide more specific examples of how their services have helped other clients in the IT services and consulting industry\", \"foundit.in could offer a more tailored solution to address Capgemini\\'s specific pain points and challenges\", \"foundit.in could provide more detailed information about their pricing model and how it compares to their competitors\"]}}'}\n"
     ]
    },
    {
     "name": "stderr",
     "output_type": "stream",
     "text": [
      "\n"
     ]
    }
   ],
   "source": [
    "discovery_calls_data = asyncio.run(make_call(DISCOVERY, seller['seller_clients']['clients'][:1], buyer_inputs))"
   ]
  },
  {
   "cell_type": "code",
   "execution_count": 14,
   "metadata": {},
   "outputs": [
    {
     "name": "stdout",
     "output_type": "stream",
     "text": [
      "Making demo call for ['Capgemini']\n",
      "Getting analysis Data\n",
      "Number of Clients:  1\n"
     ]
    },
    {
     "name": "stderr",
     "output_type": "stream",
     "text": [
      "Getting Data: 100%|██████████| 1/1 [00:00<00:00, 16.89it/s]"
     ]
    },
    {
     "name": "stdout",
     "output_type": "stream",
     "text": [
      "Getting Data for Capgemini\n",
      "Adding Buyer: Capgemini Data\n",
      "Node already exists in index: {'buyer': 'Capgemini', 'seller': 'foundit.in', 'industry': 'IT Services and IT Consulting', 'company_size': 'Enterprise (10,001+ employees)', 'data': '{\"demo_features\": {\"features\": [{\"name\": \"Talent Search\", \"description\": \"A tool to navigate an ocean of profiles, helps you locate talent that\\'s a perfect fit and streamlines your recruitment process\"}, {\"name\": \"Resume Search\", \"description\": \"A platform to search and filter resumes, helps recruiters to find the right candidate and saves time in the recruitment process\"}, {\"name\": \"Magic Search\", \"description\": \"An AI-driven recruitment solution that transforms your hiring process and helps you find the best fit for your organization\"}, {\"name\": \"Job Posting Template\", \"description\": \"A tool to help employers create high-quality job postings\"}, {\"name\": \"Guidance on Writing Effective Job Descriptions\", \"description\": \"A feature to help employers write effective job descriptions\"}, {\"name\": \"Feedback System\", \"description\": \"A system that allows employers to provide feedback on job postings and enables Foundit.in to take action to address any issues\"}, {\"name\": \"Pricing Model\", \"description\": \"A flexible and affordable pricing model with options for free, premium, and career booster plans\"}, {\"name\": \"Discounts for Long-term Commitments and Bulk Purchasing\", \"description\": \"A feature that offers discounts for employers who commit to using Foundit.in\\'s services for an extended period or purchase in bulk\"}]}, \"buyer_research\": {\"name\": \"Capgemini\", \"website\": \"https://www.capgemini.com/\", \"description\": \"A global leader in consulting, technology services and digital transformation\", \"industry\": \"IT Services and IT Consulting\", \"company_size\": \"Enterprise (10,001+ employees)\", \"goals\": [\"Accelerate business transformation\", \"Unlock innovation and drive business growth\", \"Deliver exceptional experiences\"], \"use_cases\": [\"Digital transformation\", \"Innovation and growth\", \"Operational efficiency\"], \"challenges\": [\"Staying ahead of the competition\", \"Adapting to changing market conditions\", \"Meeting customer expectations\"], \"stakeholders\": [\"Business leaders\", \"IT professionals\", \"Customers\"]}, \"competitive_info\": {\"competitors\": [{\"name\": \"Naukri\", \"pros\": [\"Large database of job postings\", \"Trusted name in the Indian market\"], \"cons\": [\"Limited international job postings\", \"Some users have reported issues with customer support\"], \"differentiators\": [\"Large user base\", \"Established brand\"]}, {\"name\": \"LinkedIn\", \"pros\": [\"Global job postings\", \"Networking opportunities\", \"Established brand\"], \"cons\": [\"Paid features can be expensive\", \"Some users have reported issues with job posting quality\"], \"differentiators\": [\"Global reach\", \"Networking capabilities\"]}, {\"name\": \"Indeed\", \"pros\": [\"Global job postings\", \"Easy job search functionality\", \"Established brand\"], \"cons\": [\"Some users have reported issues with job posting quality\", \"Limited features for employers\"], \"differentiators\": [\"Global reach\", \"Easy job search functionality\"]}, {\"name\": \"Glassdoor\", \"pros\": [\"Global job postings\", \"Salary information and company reviews\", \"Established brand\"], \"cons\": [\"Some users have reported issues with job posting quality\", \"Limited features for employers\"], \"differentiators\": [\"Salary information and company reviews\", \"Established brand\"]}, {\"name\": \"Shine\", \"pros\": [\"Large database of job postings\", \"Easy job search functionality\"], \"cons\": [\"Limited international job postings\", \"Some users have reported issues with customer support\"], \"differentiators\": [\"Large user base\", \"Easy job search functionality\"]}]}, \"anticipated_qopcs\": {\"pains\": [\"How can foundit.in\\'s services help us accelerate business transformation?\", \"We are struggling to find the right talent, can foundit.in\\'s Talent Search solution help us?\", \"Our current recruitment process is time-consuming, can foundit.in\\'s Resume Search platform streamline it?\", \"We are finding it difficult to adapt to changing market conditions, can foundit.in\\'s Magic Search solution help us stay ahead of the competition?\", \"How can foundit.in\\'s services help us unlock innovation and drive business growth?\", \"We are facing challenges in meeting customer expectations, can foundit.in\\'s services help us deliver exceptional experiences?\"], \"objections\": [\"How does foundit.in\\'s pricing model compare to its competitors?\", \"We are hesitant to invest in a new recruitment solution, what makes foundit.in\\'s services worth the cost?\", \"We\\'ve had issues with job posting quality in the past, how does foundit.in ensure the quality of its job postings?\", \"Our current recruitment process is already established, what would be the ROI of switching to foundit.in\\'s services?\", \"How does foundit.in\\'s Magic Search solution differ from other AI-driven recruitment solutions in the market?\", \"What kind of customer support does foundit.in offer, and how does it compare to its competitors?\"]}}'}\n",
      "Embedding Simulation Data for Client: Capgemini\n",
      "Node already exists in index: {'seller': 'foundit.in', 'buyer': 'Capgemini', 'call_type': 'demo', 'call_id': 2, 'transcript': '{\"messages\": [{\"user\": \"Foundit.in Sales Rep\", \"content\": \"Hello everyone, thank you for taking the time to join this demo call today. I\\'m excited to show you how Foundit.in can help Capgemini streamline your recruitment process and reduce costs. Before we begin, I just want to confirm that we have all the stakeholders on the call, including the VP of Product, CFO, VP of Sales, and Product Manager. Is that correct?\"}, {\"user\": \"VP of Product\", \"content\": \"Yes, that\\'s correct. We\\'re all here. We\\'re interested in learning more about your Magic Search solution and how it can help us stay ahead of the competition.\"}, {\"user\": \"Foundit.in Sales Rep\", \"content\": \"Excellent! Magic Search is our AI-driven recruitment solution that can help you find the best fit for your organization. It uses machine learning algorithms to match candidates with job openings based on their skills, experience, and preferences. We\\'ve had great success with this solution in the past, and I believe it can make a significant impact on your recruitment process.\"}, {\"user\": \"CFO\", \"content\": \"That sounds interesting. Can you tell us more about the ROI we can expect from using your services? We\\'re looking for a solution that can provide a significant return on investment.\"}, {\"user\": \"Foundit.in Sales Rep\", \"content\": \"Absolutely. Our pricing model is designed to be flexible and affordable for employers of all sizes. We offer a range of pricing plans, including a free plan, premium plan, and career booster plan. We\\'ve found that our services can provide a significant ROI for our clients, with some seeing a reduction in time-to-hire of up to 50% and cost savings of up to 30%. We also offer discounts for long-term commitments and bulk purchasing, so if you\\'re interested in using our services for an extended period, we can work out a customized pricing plan that meets your needs.\"}, {\"user\": \"Product Manager\", \"content\": \"I\\'d like to know more about your Resume Search platform. How does it work, and how can it help us streamline our recruitment process?\"}, {\"user\": \"Foundit.in Sales Rep\", \"content\": \"Our Resume Search platform is a powerful tool that allows you to search and filter resumes quickly and easily. You can use keywords, location, and other criteria to find the most qualified candidates for your job openings. It\\'s a highly efficient way to find the right candidates, and it can save you a significant amount of time in the recruitment process. We\\'ve found that our clients are able to reduce their time-to-hire by up to 70% using our Resume Search platform.\"}, {\"user\": \"VP of Sales\", \"content\": \"I\\'m concerned about the quality of job postings on your platform. Can you tell us more about how you ensure the quality of job postings?\"}, {\"user\": \"Foundit.in Sales Rep\", \"content\": \"We take the quality of our job postings very seriously. We have a team of moderators who review each job posting to ensure it meets our quality standards. We also offer a range of tools and features to help employers create high-quality job postings, such as our job posting template and guidance on writing effective job descriptions. Additionally, we have a feedback system in place, so if an employer has a bad experience with a job posting, we can take action to address the issue.\"}, {\"user\": \"CFO\", \"content\": \"I\\'d like to see a demo of your Magic Search solution. Can you show us how it works?\"}, {\"user\": \"Foundit.in Sales Rep\", \"content\": \"I\\'d be happy to give you a demo of Magic Search. (Shares screen and begins demo) As you can see, Magic Search uses machine learning algorithms to match candidates with job openings based on their skills, experience, and preferences. It\\'s a highly efficient way to find the right candidates, and it can save you a significant amount of time in the recruitment process.\"}, {\"user\": \"VP of Product\", \"content\": \"That\\'s impressive. Can you tell us more about how you handle customization requests from clients?\"}, {\"user\": \"Foundit.in Sales Rep\", \"content\": \"We offer a high degree of customization to meet the specific needs of our clients. We understand that every organization is unique, and we work closely with our clients to understand their requirements and tailor our services to meet their needs. We\\'ve worked with clients in the IT services and consulting industry before, and we\\'re confident that we can provide a customized solution that meets your needs.\"}, {\"user\": \"Product Manager\", \"content\": \"I think we\\'ve seen enough for today. What are the next steps?\"}, {\"user\": \"Foundit.in Sales Rep\", \"content\": \"Thank you for your time today. The next steps would be to discuss the specifics of our proposal and answer any additional questions you may have. We can also provide a customized trial of our services to give you a hands-on experience of how they can benefit your organization. Would that be something you\\'re interested in?\"}]}'}\n",
      "Adding Analysis Data for Stakeholder: Product Manager\n",
      "Node already exists in index: {'seller': 'foundit.in', 'buyer': 'Capgemini', 'call_type': 'demo', 'company_size': 'Enterprise (10,001+ employees)', 'industry': 'IT Services and IT Consulting', 'description': 'A global leader in consulting, technology services and digital transformation', 'call_id': 2, 'stakeholder': 'Product Manager', 'transcript': '{\"messages\": [{\"user\": \"Foundit.in Sales Rep\", \"content\": \"Hello everyone, thank you for taking the time to join this demo call today. I\\'m excited to show you how Foundit.in can help Capgemini streamline your recruitment process and reduce costs. Before we begin, I just want to confirm that we have all the stakeholders on the call, including the VP of Product, CFO, VP of Sales, and Product Manager. Is that correct?\"}, {\"user\": \"VP of Product\", \"content\": \"Yes, that\\'s correct. We\\'re all here. We\\'re interested in learning more about your Magic Search solution and how it can help us stay ahead of the competition.\"}, {\"user\": \"Foundit.in Sales Rep\", \"content\": \"Excellent! Magic Search is our AI-driven recruitment solution that can help you find the best fit for your organization. It uses machine learning algorithms to match candidates with job openings based on their skills, experience, and preferences. We\\'ve had great success with this solution in the past, and I believe it can make a significant impact on your recruitment process.\"}, {\"user\": \"CFO\", \"content\": \"That sounds interesting. Can you tell us more about the ROI we can expect from using your services? We\\'re looking for a solution that can provide a significant return on investment.\"}, {\"user\": \"Foundit.in Sales Rep\", \"content\": \"Absolutely. Our pricing model is designed to be flexible and affordable for employers of all sizes. We offer a range of pricing plans, including a free plan, premium plan, and career booster plan. We\\'ve found that our services can provide a significant ROI for our clients, with some seeing a reduction in time-to-hire of up to 50% and cost savings of up to 30%. We also offer discounts for long-term commitments and bulk purchasing, so if you\\'re interested in using our services for an extended period, we can work out a customized pricing plan that meets your needs.\"}, {\"user\": \"Product Manager\", \"content\": \"I\\'d like to know more about your Resume Search platform. How does it work, and how can it help us streamline our recruitment process?\"}, {\"user\": \"Foundit.in Sales Rep\", \"content\": \"Our Resume Search platform is a powerful tool that allows you to search and filter resumes quickly and easily. You can use keywords, location, and other criteria to find the most qualified candidates for your job openings. It\\'s a highly efficient way to find the right candidates, and it can save you a significant amount of time in the recruitment process. We\\'ve found that our clients are able to reduce their time-to-hire by up to 70% using our Resume Search platform.\"}, {\"user\": \"VP of Sales\", \"content\": \"I\\'m concerned about the quality of job postings on your platform. Can you tell us more about how you ensure the quality of job postings?\"}, {\"user\": \"Foundit.in Sales Rep\", \"content\": \"We take the quality of our job postings very seriously. We have a team of moderators who review each job posting to ensure it meets our quality standards. We also offer a range of tools and features to help employers create high-quality job postings, such as our job posting template and guidance on writing effective job descriptions. Additionally, we have a feedback system in place, so if an employer has a bad experience with a job posting, we can take action to address the issue.\"}, {\"user\": \"CFO\", \"content\": \"I\\'d like to see a demo of your Magic Search solution. Can you show us how it works?\"}, {\"user\": \"Foundit.in Sales Rep\", \"content\": \"I\\'d be happy to give you a demo of Magic Search. (Shares screen and begins demo) As you can see, Magic Search uses machine learning algorithms to match candidates with job openings based on their skills, experience, and preferences. It\\'s a highly efficient way to find the right candidates, and it can save you a significant amount of time in the recruitment process.\"}, {\"user\": \"VP of Product\", \"content\": \"That\\'s impressive. Can you tell us more about how you handle customization requests from clients?\"}, {\"user\": \"Foundit.in Sales Rep\", \"content\": \"We offer a high degree of customization to meet the specific needs of our clients. We understand that every organization is unique, and we work closely with our clients to understand their requirements and tailor our services to meet their needs. We\\'ve worked with clients in the IT services and consulting industry before, and we\\'re confident that we can provide a customized solution that meets your needs.\"}, {\"user\": \"Product Manager\", \"content\": \"I think we\\'ve seen enough for today. What are the next steps?\"}, {\"user\": \"Foundit.in Sales Rep\", \"content\": \"Thank you for your time today. The next steps would be to discuss the specifics of our proposal and answer any additional questions you may have. We can also provide a customized trial of our services to give you a hands-on experience of how they can benefit your organization. Would that be something you\\'re interested in?\"}]}', 'data': '{\"demo_analysis_buyer_data\": {\"interested_features\": [{\"name\": \"Magic Search\", \"description\": \"AI-driven recruitment solution that can help find the best fit for the organization\", \"pain_point\": \"Streamlining recruitment process and reducing costs\"}, {\"name\": \"Resume Search platform\", \"description\": \"Powerful tool that allows searching and filtering resumes quickly and easily\", \"pain_point\": \"Streamlining recruitment process and reducing costs\"}], \"skeptical_features\": [{\"name\": \"Job Postings\", \"description\": \"Quality of job postings on the platform\", \"objection\": \"Concern about the quality of job postings\"}], \"objections_raised\": [\"Concern about the quality of job postings\", \"Need for customization\"], \"stakeholder_engagement\": [{\"stakeholder\": \"CFO\", \"engagement_level\": \"high\"}, {\"stakeholder\": \"VP of Product\", \"engagement_level\": \"high\"}, {\"stakeholder\": \"VP of Sales\", \"engagement_level\": \"medium\"}, {\"stakeholder\": \"Product Manager\", \"engagement_level\": \"medium\"}], \"feedback\": \"No explicit feedback provided, but stakeholders showed interest in understanding the features and benefits of the product.\"}, \"demo_analysis_seller_data\": {\"demo_features\": [{\"name\": \"Magic Search\", \"description\": \"AI-driven recruitment solution that can help find the best fit for the organization\"}, {\"name\": \"Resume Search platform\", \"description\": \"Powerful tool that allows searching and filtering resumes quickly and easily\"}], \"objection_handling\": [{\"objection\": \"Concern about the quality of job postings\", \"resolution\": \"We take the quality of our job postings very seriously. We have a team of moderators who review each job posting to ensure it meets our quality standards.\", \"status\": true}, {\"objection\": \"Need for customization\", \"resolution\": \"We offer a high degree of customization to meet the specific needs of our clients. We understand that every organization is unique, and we work closely with our clients to understand their requirements and tailor our services to meet their needs.\", \"status\": true}], \"success_stories\": [], \"assets_used\": [\"Presentation\", \"Screen Share\"], \"customizations\": [\"Customized pricing plans\", \"Discounts for long-term commitments and bulk purchasing\", \"Customized trial of our services\"], \"engagement_questions\": [\"Is that correct?\", \"We\\'re interested in learning more about your Magic Search solution and how it can help us stay ahead of the competition.\", \"I\\'d like to know more about your Resume Search platform. How does it work, and how can it help us streamline our recruitment process?\", \"I\\'d like to see a demo of your Magic Search solution. Can you show us how it works?\", \"Can you tell us more about how you handle customization requests from clients?\", \"What are the next steps?\"]}}'}\n",
      "Adding Analysis Data for Stakeholder: CFO\n",
      "Node already exists in index: {'seller': 'foundit.in', 'buyer': 'Capgemini', 'call_type': 'demo', 'company_size': 'Enterprise (10,001+ employees)', 'industry': 'IT Services and IT Consulting', 'description': 'A global leader in consulting, technology services and digital transformation', 'call_id': 2, 'stakeholder': 'CFO', 'transcript': '{\"messages\": [{\"user\": \"Foundit.in Sales Rep\", \"content\": \"Hello everyone, thank you for taking the time to join this demo call today. I\\'m excited to show you how Foundit.in can help Capgemini streamline your recruitment process and reduce costs. Before we begin, I just want to confirm that we have all the stakeholders on the call, including the VP of Product, CFO, VP of Sales, and Product Manager. Is that correct?\"}, {\"user\": \"VP of Product\", \"content\": \"Yes, that\\'s correct. We\\'re all here. We\\'re interested in learning more about your Magic Search solution and how it can help us stay ahead of the competition.\"}, {\"user\": \"Foundit.in Sales Rep\", \"content\": \"Excellent! Magic Search is our AI-driven recruitment solution that can help you find the best fit for your organization. It uses machine learning algorithms to match candidates with job openings based on their skills, experience, and preferences. We\\'ve had great success with this solution in the past, and I believe it can make a significant impact on your recruitment process.\"}, {\"user\": \"CFO\", \"content\": \"That sounds interesting. Can you tell us more about the ROI we can expect from using your services? We\\'re looking for a solution that can provide a significant return on investment.\"}, {\"user\": \"Foundit.in Sales Rep\", \"content\": \"Absolutely. Our pricing model is designed to be flexible and affordable for employers of all sizes. We offer a range of pricing plans, including a free plan, premium plan, and career booster plan. We\\'ve found that our services can provide a significant ROI for our clients, with some seeing a reduction in time-to-hire of up to 50% and cost savings of up to 30%. We also offer discounts for long-term commitments and bulk purchasing, so if you\\'re interested in using our services for an extended period, we can work out a customized pricing plan that meets your needs.\"}, {\"user\": \"Product Manager\", \"content\": \"I\\'d like to know more about your Resume Search platform. How does it work, and how can it help us streamline our recruitment process?\"}, {\"user\": \"Foundit.in Sales Rep\", \"content\": \"Our Resume Search platform is a powerful tool that allows you to search and filter resumes quickly and easily. You can use keywords, location, and other criteria to find the most qualified candidates for your job openings. It\\'s a highly efficient way to find the right candidates, and it can save you a significant amount of time in the recruitment process. We\\'ve found that our clients are able to reduce their time-to-hire by up to 70% using our Resume Search platform.\"}, {\"user\": \"VP of Sales\", \"content\": \"I\\'m concerned about the quality of job postings on your platform. Can you tell us more about how you ensure the quality of job postings?\"}, {\"user\": \"Foundit.in Sales Rep\", \"content\": \"We take the quality of our job postings very seriously. We have a team of moderators who review each job posting to ensure it meets our quality standards. We also offer a range of tools and features to help employers create high-quality job postings, such as our job posting template and guidance on writing effective job descriptions. Additionally, we have a feedback system in place, so if an employer has a bad experience with a job posting, we can take action to address the issue.\"}, {\"user\": \"CFO\", \"content\": \"I\\'d like to see a demo of your Magic Search solution. Can you show us how it works?\"}, {\"user\": \"Foundit.in Sales Rep\", \"content\": \"I\\'d be happy to give you a demo of Magic Search. (Shares screen and begins demo) As you can see, Magic Search uses machine learning algorithms to match candidates with job openings based on their skills, experience, and preferences. It\\'s a highly efficient way to find the right candidates, and it can save you a significant amount of time in the recruitment process.\"}, {\"user\": \"VP of Product\", \"content\": \"That\\'s impressive. Can you tell us more about how you handle customization requests from clients?\"}, {\"user\": \"Foundit.in Sales Rep\", \"content\": \"We offer a high degree of customization to meet the specific needs of our clients. We understand that every organization is unique, and we work closely with our clients to understand their requirements and tailor our services to meet their needs. We\\'ve worked with clients in the IT services and consulting industry before, and we\\'re confident that we can provide a customized solution that meets your needs.\"}, {\"user\": \"Product Manager\", \"content\": \"I think we\\'ve seen enough for today. What are the next steps?\"}, {\"user\": \"Foundit.in Sales Rep\", \"content\": \"Thank you for your time today. The next steps would be to discuss the specifics of our proposal and answer any additional questions you may have. We can also provide a customized trial of our services to give you a hands-on experience of how they can benefit your organization. Would that be something you\\'re interested in?\"}]}', 'data': '{\"demo_analysis_buyer_data\": {\"interested_features\": [{\"name\": \"Magic Search\", \"description\": \"AI-driven recruitment solution that uses machine learning algorithms to match candidates with job openings based on their skills, experience, and preferences.\", \"pain_point\": \"Streamlining recruitment process and reducing costs\"}, {\"name\": \"Resume Search platform\", \"description\": \"A powerful tool that allows you to search and filter resumes quickly and easily.\", \"pain_point\": \"Reducing time-to-hire and finding the right candidates\"}], \"skeptical_features\": [{\"name\": \"Job postings quality\", \"description\": \"Ensuring the quality of job postings on the platform.\", \"objection\": \"Concern about the quality of job postings\"}], \"objections_raised\": [\"Concern about the quality of job postings\", \"ROI and cost savings\"], \"stakeholder_engagement\": [{\"stakeholder\": \"CFO\", \"engagement_level\": \"High\"}, {\"stakeholder\": \"VP of Product\", \"engagement_level\": \"Medium\"}, {\"stakeholder\": \"Product Manager\", \"engagement_level\": \"Medium\"}, {\"stakeholder\": \"VP of Sales\", \"engagement_level\": \"Low\"}], \"feedback\": \"No explicit feedback was provided by the buyer after the sales demo.\"}, \"demo_analysis_seller_data\": {\"demo_features\": [{\"name\": \"Magic Search\", \"description\": \"AI-driven recruitment solution that uses machine learning algorithms to match candidates with job openings based on their skills, experience, and preferences.\"}, {\"name\": \"Resume Search platform\", \"description\": \"A powerful tool that allows you to search and filter resumes quickly and easily.\"}], \"objection_handling\": [{\"objection\": \"ROI and cost savings\", \"resolution\": \"Our pricing model is designed to be flexible and affordable for employers of all sizes. We offer a range of pricing plans, including a free plan, premium plan, and career booster plan. We\\'ve found that our services can provide a significant ROI for our clients, with some seeing a reduction in time-to-hire of up to 50% and cost savings of up to 30%.\", \"status\": true}, {\"objection\": \"Concern about the quality of job postings\", \"resolution\": \"We take the quality of our job postings very seriously. We have a team of moderators who review each job posting to ensure it meets our quality standards. We also offer a range of tools and features to help employers create high-quality job postings, such as our job posting template and guidance on writing effective job descriptions.\", \"status\": true}], \"success_stories\": [], \"assets_used\": [\"Magic Search demo\", \"Resume Search platform demo\", \"Job posting template\"], \"customizations\": [\"Customized pricing plans\", \"Bulk purchasing discounts\"], \"engagement_questions\": [\"What specific recruitment challenges are you currently facing?\", \"How do you currently handle job postings and candidate matching?\", \"What ROI are you expecting from a recruitment solution?\"]}}'}\n",
      "Adding Analysis Data for Stakeholder: VP of Product\n",
      "Node already exists in index: {'seller': 'foundit.in', 'buyer': 'Capgemini', 'call_type': 'demo', 'company_size': 'Enterprise (10,001+ employees)', 'industry': 'IT Services and IT Consulting', 'description': 'A global leader in consulting, technology services and digital transformation', 'call_id': 2, 'stakeholder': 'VP of Product', 'transcript': '{\"messages\": [{\"user\": \"Foundit.in Sales Rep\", \"content\": \"Hello everyone, thank you for taking the time to join this demo call today. I\\'m excited to show you how Foundit.in can help Capgemini streamline your recruitment process and reduce costs. Before we begin, I just want to confirm that we have all the stakeholders on the call, including the VP of Product, CFO, VP of Sales, and Product Manager. Is that correct?\"}, {\"user\": \"VP of Product\", \"content\": \"Yes, that\\'s correct. We\\'re all here. We\\'re interested in learning more about your Magic Search solution and how it can help us stay ahead of the competition.\"}, {\"user\": \"Foundit.in Sales Rep\", \"content\": \"Excellent! Magic Search is our AI-driven recruitment solution that can help you find the best fit for your organization. It uses machine learning algorithms to match candidates with job openings based on their skills, experience, and preferences. We\\'ve had great success with this solution in the past, and I believe it can make a significant impact on your recruitment process.\"}, {\"user\": \"CFO\", \"content\": \"That sounds interesting. Can you tell us more about the ROI we can expect from using your services? We\\'re looking for a solution that can provide a significant return on investment.\"}, {\"user\": \"Foundit.in Sales Rep\", \"content\": \"Absolutely. Our pricing model is designed to be flexible and affordable for employers of all sizes. We offer a range of pricing plans, including a free plan, premium plan, and career booster plan. We\\'ve found that our services can provide a significant ROI for our clients, with some seeing a reduction in time-to-hire of up to 50% and cost savings of up to 30%. We also offer discounts for long-term commitments and bulk purchasing, so if you\\'re interested in using our services for an extended period, we can work out a customized pricing plan that meets your needs.\"}, {\"user\": \"Product Manager\", \"content\": \"I\\'d like to know more about your Resume Search platform. How does it work, and how can it help us streamline our recruitment process?\"}, {\"user\": \"Foundit.in Sales Rep\", \"content\": \"Our Resume Search platform is a powerful tool that allows you to search and filter resumes quickly and easily. You can use keywords, location, and other criteria to find the most qualified candidates for your job openings. It\\'s a highly efficient way to find the right candidates, and it can save you a significant amount of time in the recruitment process. We\\'ve found that our clients are able to reduce their time-to-hire by up to 70% using our Resume Search platform.\"}, {\"user\": \"VP of Sales\", \"content\": \"I\\'m concerned about the quality of job postings on your platform. Can you tell us more about how you ensure the quality of job postings?\"}, {\"user\": \"Foundit.in Sales Rep\", \"content\": \"We take the quality of our job postings very seriously. We have a team of moderators who review each job posting to ensure it meets our quality standards. We also offer a range of tools and features to help employers create high-quality job postings, such as our job posting template and guidance on writing effective job descriptions. Additionally, we have a feedback system in place, so if an employer has a bad experience with a job posting, we can take action to address the issue.\"}, {\"user\": \"CFO\", \"content\": \"I\\'d like to see a demo of your Magic Search solution. Can you show us how it works?\"}, {\"user\": \"Foundit.in Sales Rep\", \"content\": \"I\\'d be happy to give you a demo of Magic Search. (Shares screen and begins demo) As you can see, Magic Search uses machine learning algorithms to match candidates with job openings based on their skills, experience, and preferences. It\\'s a highly efficient way to find the right candidates, and it can save you a significant amount of time in the recruitment process.\"}, {\"user\": \"VP of Product\", \"content\": \"That\\'s impressive. Can you tell us more about how you handle customization requests from clients?\"}, {\"user\": \"Foundit.in Sales Rep\", \"content\": \"We offer a high degree of customization to meet the specific needs of our clients. We understand that every organization is unique, and we work closely with our clients to understand their requirements and tailor our services to meet their needs. We\\'ve worked with clients in the IT services and consulting industry before, and we\\'re confident that we can provide a customized solution that meets your needs.\"}, {\"user\": \"Product Manager\", \"content\": \"I think we\\'ve seen enough for today. What are the next steps?\"}, {\"user\": \"Foundit.in Sales Rep\", \"content\": \"Thank you for your time today. The next steps would be to discuss the specifics of our proposal and answer any additional questions you may have. We can also provide a customized trial of our services to give you a hands-on experience of how they can benefit your organization. Would that be something you\\'re interested in?\"}]}', 'data': '{\"demo_analysis_buyer_data\": {\"interested_features\": [{\"name\": \"Magic Search\", \"description\": \"AI-driven recruitment solution that uses machine learning algorithms to match candidates with job openings based on their skills, experience, and preferences\", \"pain_point\": \"staying ahead of the competition\"}, {\"name\": \"Resume Search\", \"description\": \"a powerful tool that allows searching and filtering resumes quickly and easily\", \"pain_point\": \"streamlining the recruitment process\"}], \"skeptical_features\": [{\"name\": \"Job Postings\", \"description\": \"quality of job postings on the platform\", \"objection\": \"concern about the quality of job postings\"}], \"objections_raised\": [\"concern about the quality of job postings\", \"need to understand ROI\"], \"stakeholder_engagement\": [{\"stakeholder\": \"VP of Product\", \"engagement_level\": \"high\"}, {\"stakeholder\": \"CFO\", \"engagement_level\": \"medium\"}, {\"stakeholder\": \"VP of Sales\", \"engagement_level\": \"medium\"}, {\"stakeholder\": \"Product Manager\", \"engagement_level\": \"medium\"}], \"feedback\": \"No specific feedback provided\"}, \"demo_analysis_seller_data\": {\"demo_features\": [{\"name\": \"Magic Search\", \"description\": \"AI-driven recruitment solution that uses machine learning algorithms to match candidates with job openings based on their skills, experience, and preferences\"}, {\"name\": \"Resume Search\", \"description\": \"a powerful tool that allows searching and filtering resumes quickly and easily\"}], \"objection_handling\": [{\"objection\": \"concern about the quality of job postings\", \"resolution\": \"We take the quality of our job postings very seriously. We have a team of moderators who review each job posting to ensure it meets our quality standards. We also offer a range of tools and features to help employers create high-quality job postings, such as our job posting template and guidance on writing effective job descriptions. Additionally, we have a feedback system in place, so if an employer has a bad experience with a job posting, we can take action to address the issue.\", \"status\": true}, {\"objection\": \"need to understand ROI\", \"resolution\": \"Our pricing model is designed to be flexible and affordable for employers of all sizes. We offer a range of pricing plans, including a free plan, premium plan, and career booster plan. We\\'ve found that our services can provide a significant ROI for our clients, with some seeing a reduction in time-to-hire of up to 50% and cost savings of up to 30%. We also offer discounts for long-term commitments and bulk purchasing, so if you\\'re interested in using our services for an extended period, we can work out a customized pricing plan that meets your needs.\", \"status\": true}], \"success_stories\": [\"We\\'ve had great success with this solution in the past, and I believe it can make a significant impact on your recruitment process.\"], \"assets_used\": [\"Job posting template\", \"Guidance on writing effective job descriptions\"], \"customizations\": [\"We offer a high degree of customization to meet the specific needs of our clients. We understand that every organization is unique, and we work closely with our clients to understand their requirements and tailor our services to meet their needs.\"], \"engagement_questions\": [\"Before we begin, I just want to confirm that we have all the stakeholders on the call, including the VP of Product, CFO, VP of Sales, and Product Manager. Is that correct?\"]}}'}\n",
      "Adding Analysis Data for Stakeholder: VP of Sales\n",
      "Node already exists in index: {'seller': 'foundit.in', 'buyer': 'Capgemini', 'call_type': 'demo', 'company_size': 'Enterprise (10,001+ employees)', 'industry': 'IT Services and IT Consulting', 'description': 'A global leader in consulting, technology services and digital transformation', 'call_id': 2, 'stakeholder': 'VP of Sales', 'transcript': '{\"messages\": [{\"user\": \"Foundit.in Sales Rep\", \"content\": \"Hello everyone, thank you for taking the time to join this demo call today. I\\'m excited to show you how Foundit.in can help Capgemini streamline your recruitment process and reduce costs. Before we begin, I just want to confirm that we have all the stakeholders on the call, including the VP of Product, CFO, VP of Sales, and Product Manager. Is that correct?\"}, {\"user\": \"VP of Product\", \"content\": \"Yes, that\\'s correct. We\\'re all here. We\\'re interested in learning more about your Magic Search solution and how it can help us stay ahead of the competition.\"}, {\"user\": \"Foundit.in Sales Rep\", \"content\": \"Excellent! Magic Search is our AI-driven recruitment solution that can help you find the best fit for your organization. It uses machine learning algorithms to match candidates with job openings based on their skills, experience, and preferences. We\\'ve had great success with this solution in the past, and I believe it can make a significant impact on your recruitment process.\"}, {\"user\": \"CFO\", \"content\": \"That sounds interesting. Can you tell us more about the ROI we can expect from using your services? We\\'re looking for a solution that can provide a significant return on investment.\"}, {\"user\": \"Foundit.in Sales Rep\", \"content\": \"Absolutely. Our pricing model is designed to be flexible and affordable for employers of all sizes. We offer a range of pricing plans, including a free plan, premium plan, and career booster plan. We\\'ve found that our services can provide a significant ROI for our clients, with some seeing a reduction in time-to-hire of up to 50% and cost savings of up to 30%. We also offer discounts for long-term commitments and bulk purchasing, so if you\\'re interested in using our services for an extended period, we can work out a customized pricing plan that meets your needs.\"}, {\"user\": \"Product Manager\", \"content\": \"I\\'d like to know more about your Resume Search platform. How does it work, and how can it help us streamline our recruitment process?\"}, {\"user\": \"Foundit.in Sales Rep\", \"content\": \"Our Resume Search platform is a powerful tool that allows you to search and filter resumes quickly and easily. You can use keywords, location, and other criteria to find the most qualified candidates for your job openings. It\\'s a highly efficient way to find the right candidates, and it can save you a significant amount of time in the recruitment process. We\\'ve found that our clients are able to reduce their time-to-hire by up to 70% using our Resume Search platform.\"}, {\"user\": \"VP of Sales\", \"content\": \"I\\'m concerned about the quality of job postings on your platform. Can you tell us more about how you ensure the quality of job postings?\"}, {\"user\": \"Foundit.in Sales Rep\", \"content\": \"We take the quality of our job postings very seriously. We have a team of moderators who review each job posting to ensure it meets our quality standards. We also offer a range of tools and features to help employers create high-quality job postings, such as our job posting template and guidance on writing effective job descriptions. Additionally, we have a feedback system in place, so if an employer has a bad experience with a job posting, we can take action to address the issue.\"}, {\"user\": \"CFO\", \"content\": \"I\\'d like to see a demo of your Magic Search solution. Can you show us how it works?\"}, {\"user\": \"Foundit.in Sales Rep\", \"content\": \"I\\'d be happy to give you a demo of Magic Search. (Shares screen and begins demo) As you can see, Magic Search uses machine learning algorithms to match candidates with job openings based on their skills, experience, and preferences. It\\'s a highly efficient way to find the right candidates, and it can save you a significant amount of time in the recruitment process.\"}, {\"user\": \"VP of Product\", \"content\": \"That\\'s impressive. Can you tell us more about how you handle customization requests from clients?\"}, {\"user\": \"Foundit.in Sales Rep\", \"content\": \"We offer a high degree of customization to meet the specific needs of our clients. We understand that every organization is unique, and we work closely with our clients to understand their requirements and tailor our services to meet their needs. We\\'ve worked with clients in the IT services and consulting industry before, and we\\'re confident that we can provide a customized solution that meets your needs.\"}, {\"user\": \"Product Manager\", \"content\": \"I think we\\'ve seen enough for today. What are the next steps?\"}, {\"user\": \"Foundit.in Sales Rep\", \"content\": \"Thank you for your time today. The next steps would be to discuss the specifics of our proposal and answer any additional questions you may have. We can also provide a customized trial of our services to give you a hands-on experience of how they can benefit your organization. Would that be something you\\'re interested in?\"}]}', 'data': '{\"demo_analysis_buyer_data\": {\"interested_features\": [{\"name\": \"Magic Search\", \"description\": \"AI-driven recruitment solution that uses machine learning algorithms to match candidates with job openings based on their skills, experience, and preferences.\", \"pain_point\": \"Streamlining recruitment process and reducing costs\"}, {\"name\": \"Resume Search\", \"description\": \"A powerful tool that allows searching and filtering resumes quickly and easily using keywords, location, and other criteria.\", \"pain_point\": \"Streamlining recruitment process and reducing costs\"}], \"skeptical_features\": [{\"name\": \"Job Postings\", \"description\": \"The quality of job postings on the platform.\", \"objection\": \"Concern about the quality of job postings\"}], \"objections_raised\": [\"Concern about the quality of job postings\"], \"stakeholder_engagement\": [{\"stakeholder\": \"VP of Product\", \"engagement_level\": \"high\"}, {\"stakeholder\": \"CFO\", \"engagement_level\": \"high\"}, {\"stakeholder\": \"Product Manager\", \"engagement_level\": \"medium\"}, {\"stakeholder\": \"VP of Sales\", \"engagement_level\": \"medium\"}], \"feedback\": \"\"}, \"demo_analysis_seller_data\": {\"demo_features\": [{\"name\": \"Magic Search\", \"description\": \"AI-driven recruitment solution that uses machine learning algorithms to match candidates with job openings based on their skills, experience, and preferences.\"}, {\"name\": \"Resume Search\", \"description\": \"A powerful tool that allows searching and filtering resumes quickly and easily using keywords, location, and other criteria.\"}], \"objection_handling\": [{\"objection\": \"Concern about the quality of job postings\", \"resolution\": \"We take the quality of our job postings very seriously. We have a team of moderators who review each job posting to ensure it meets our quality standards.\", \"status\": true}], \"success_stories\": [], \"assets_used\": [\"Job posting template\", \"Guidance on writing effective job descriptions\"], \"customizations\": [\"Customized pricing plans for long-term commitments and bulk purchasing\"], \"engagement_questions\": [\"Before we begin, I just want to confirm that we have all the stakeholders on the call, including the VP of Product, CFO, VP of Sales, and Product Manager. Is that correct?\", \"Would that be something you\\'re interested in?\"]}}'}\n"
     ]
    },
    {
     "name": "stderr",
     "output_type": "stream",
     "text": [
      "\n"
     ]
    }
   ],
   "source": [
    "buyer_inputs['call_id'] = 2\n",
    "demo_calls_data = asyncio.run(make_call(DEMO, seller['seller_clients']['clients'][:1], buyer_inputs))"
   ]
  },
  {
   "cell_type": "code",
   "execution_count": 15,
   "metadata": {},
   "outputs": [
    {
     "data": {
      "text/plain": [
       "[{'id': 1,\n",
       "  'timestamp': '2025-03-02 14:04:41',\n",
       "  'seller': 'foundit.in',\n",
       "  'buyer': 'Capgemini',\n",
       "  'industry': 'IT Services and IT Consulting',\n",
       "  'company_size': 'Enterprise (10,001+ employees)',\n",
       "  'data': {'demo_features': {'features': [{'name': 'Talent Search',\n",
       "      'description': \"A tool to navigate an ocean of profiles, helps you locate talent that's a perfect fit and streamlines your recruitment process\"},\n",
       "     {'name': 'Resume Search',\n",
       "      'description': 'A platform to search and filter resumes, helps recruiters to find the right candidate and saves time in the recruitment process'},\n",
       "     {'name': 'Magic Search',\n",
       "      'description': 'An AI-driven recruitment solution that transforms your hiring process and helps you find the best fit for your organization'},\n",
       "     {'name': 'Job Posting Template',\n",
       "      'description': 'A tool to help employers create high-quality job postings'},\n",
       "     {'name': 'Guidance on Writing Effective Job Descriptions',\n",
       "      'description': 'A feature to help employers write effective job descriptions'},\n",
       "     {'name': 'Feedback System',\n",
       "      'description': 'A system that allows employers to provide feedback on job postings and enables Foundit.in to take action to address any issues'},\n",
       "     {'name': 'Pricing Model',\n",
       "      'description': 'A flexible and affordable pricing model with options for free, premium, and career booster plans'},\n",
       "     {'name': 'Discounts for Long-term Commitments and Bulk Purchasing',\n",
       "      'description': \"A feature that offers discounts for employers who commit to using Foundit.in's services for an extended period or purchase in bulk\"}]},\n",
       "   'buyer_research': {'name': 'Capgemini',\n",
       "    'website': 'https://www.capgemini.com/',\n",
       "    'description': 'A global leader in consulting, technology services and digital transformation',\n",
       "    'industry': 'IT Services and IT Consulting',\n",
       "    'company_size': 'Enterprise (10,001+ employees)',\n",
       "    'goals': ['Accelerate business transformation',\n",
       "     'Unlock innovation and drive business growth',\n",
       "     'Deliver exceptional experiences'],\n",
       "    'use_cases': ['Digital transformation',\n",
       "     'Innovation and growth',\n",
       "     'Operational efficiency'],\n",
       "    'challenges': ['Staying ahead of the competition',\n",
       "     'Adapting to changing market conditions',\n",
       "     'Meeting customer expectations'],\n",
       "    'stakeholders': ['Business leaders', 'IT professionals', 'Customers']},\n",
       "   'competitive_info': {'competitors': [{'name': 'Naukri',\n",
       "      'pros': ['Large database of job postings',\n",
       "       'Trusted name in the Indian market'],\n",
       "      'cons': ['Limited international job postings',\n",
       "       'Some users have reported issues with customer support'],\n",
       "      'differentiators': ['Large user base', 'Established brand']},\n",
       "     {'name': 'LinkedIn',\n",
       "      'pros': ['Global job postings',\n",
       "       'Networking opportunities',\n",
       "       'Established brand'],\n",
       "      'cons': ['Paid features can be expensive',\n",
       "       'Some users have reported issues with job posting quality'],\n",
       "      'differentiators': ['Global reach', 'Networking capabilities']},\n",
       "     {'name': 'Indeed',\n",
       "      'pros': ['Global job postings',\n",
       "       'Easy job search functionality',\n",
       "       'Established brand'],\n",
       "      'cons': ['Some users have reported issues with job posting quality',\n",
       "       'Limited features for employers'],\n",
       "      'differentiators': ['Global reach', 'Easy job search functionality']},\n",
       "     {'name': 'Glassdoor',\n",
       "      'pros': ['Global job postings',\n",
       "       'Salary information and company reviews',\n",
       "       'Established brand'],\n",
       "      'cons': ['Some users have reported issues with job posting quality',\n",
       "       'Limited features for employers'],\n",
       "      'differentiators': ['Salary information and company reviews',\n",
       "       'Established brand']},\n",
       "     {'name': 'Shine',\n",
       "      'pros': ['Large database of job postings',\n",
       "       'Easy job search functionality'],\n",
       "      'cons': ['Limited international job postings',\n",
       "       'Some users have reported issues with customer support'],\n",
       "      'differentiators': ['Large user base',\n",
       "       'Easy job search functionality']}]},\n",
       "   'anticipated_qopcs': {'pains': [\"How can foundit.in's services help us accelerate business transformation?\",\n",
       "     \"We are struggling to find the right talent, can foundit.in's Talent Search solution help us?\",\n",
       "     \"Our current recruitment process is time-consuming, can foundit.in's Resume Search platform streamline it?\",\n",
       "     \"We are finding it difficult to adapt to changing market conditions, can foundit.in's Magic Search solution help us stay ahead of the competition?\",\n",
       "     \"How can foundit.in's services help us unlock innovation and drive business growth?\",\n",
       "     \"We are facing challenges in meeting customer expectations, can foundit.in's services help us deliver exceptional experiences?\"],\n",
       "    'objections': [\"How does foundit.in's pricing model compare to its competitors?\",\n",
       "     \"We are hesitant to invest in a new recruitment solution, what makes foundit.in's services worth the cost?\",\n",
       "     \"We've had issues with job posting quality in the past, how does foundit.in ensure the quality of its job postings?\",\n",
       "     \"Our current recruitment process is already established, what would be the ROI of switching to foundit.in's services?\",\n",
       "     \"How does foundit.in's Magic Search solution differ from other AI-driven recruitment solutions in the market?\",\n",
       "     'What kind of customer support does foundit.in offer, and how does it compare to its competitors?']}}}]"
      ]
     },
     "execution_count": 15,
     "metadata": {},
     "output_type": "execute_result"
    }
   ],
   "source": [
    "from echo import sqldb\n",
    "from echo.indexing import IndexType\n",
    "\n",
    "sqldb.query_records(\n",
    "    IndexType.BUYER_RESEARCH.value,\n",
    ")"
   ]
  },
  {
   "cell_type": "code",
   "execution_count": 16,
   "metadata": {},
   "outputs": [
    {
     "name": "stdout",
     "output_type": "stream",
     "text": [
      "Making pricing call for ['Capgemini']\n",
      "Getting analysis Data\n",
      "Number of Clients:  1\n"
     ]
    },
    {
     "name": "stderr",
     "output_type": "stream",
     "text": [
      "Getting Data: 100%|██████████| 1/1 [00:00<00:00, 17.77it/s]"
     ]
    },
    {
     "name": "stdout",
     "output_type": "stream",
     "text": [
      "Getting Data for Capgemini\n",
      "Embedding Simulation Data for Client: Capgemini\n",
      "Node already exists in index: {'seller': 'foundit.in', 'buyer': 'Capgemini', 'call_type': 'pricing', 'call_id': 3, 'transcript': '{\"messages\": [{\"user\": \"Sales Person\", \"content\": \"Good morning, everyone. Thank you for taking the time to discuss our pricing models today. I have all the stakeholders on the call, including the VP of Product, CFO, VP of Sales, and Product Manager. Is that correct?\"}, {\"user\": \"VP of Product\", \"content\": \"Yes, that\\'s correct. We\\'re all here.\"}, {\"user\": \"Sales Person\", \"content\": \"Great. Before we dive into our pricing models, I want to confirm that you\\'ve all had a chance to review the demo we presented earlier this week. Do you have any questions about the features and benefits of our Magic Search and Resume Search platform?\"}, {\"user\": \"Product Manager\", \"content\": \"Actually, yes. I did have a question about the quality of job postings on your platform. How do you ensure that the job postings meet your quality standards?\"}, {\"user\": \"Sales Person\", \"content\": \"We take the quality of our job postings very seriously. We have a team of moderators who review each job posting to ensure it meets our quality standards. We also offer a range of tools and features to help employers create high-quality job postings, such as our job posting template and guidance on writing effective job descriptions.\"}, {\"user\": \"CFO\", \"content\": \"That\\'s great to hear. Can you walk us through your pricing models? We\\'re interested in understanding how your services can provide a ROI for us.\"}, {\"user\": \"Sales Person\", \"content\": \"Absolutely. We offer four pricing models: Free, Premium, Career Booster, and Featured Profile. Our Free plan is ideal for users who want to access basic services, while our Premium plan provides enhanced services to enhance the job search journey. Our Career Booster plan offers the best of our services with top recruiter search results, and our Featured Profile plan allows users to get their profile featured on top for a specified duration.\"}, {\"user\": \"VP of Sales\", \"content\": \"Can you provide more details about the Premium plan? What services are included, and how much does it cost?\"}, {\"user\": \"Sales Person\", \"content\": \"Our Premium plan includes features such as AI-driven resume matching, priority customer support, and access to our recruitment analytics platform. The price varies depending on the service package, but we offer discounts for long-term commitments and bulk purchasing.\"}, {\"user\": \"CFO\", \"content\": \"We\\'re interested in understanding how your services can provide a ROI for us. Can you provide some case studies or data to support your pricing models?\"}, {\"user\": \"Sales Person\", \"content\": \"We\\'ve had great success with our services in the past, and I believe they can make a significant impact on your recruitment process. We\\'ve seen clients reduce their time-to-hire by up to 50% and cost savings of up to 30%. We\\'d be happy to provide a customized pricing plan that meets your needs and provides a strong ROI.\"}, {\"user\": \"Product Manager\", \"content\": \"We\\'re interested in moving forward with a Premium plan, but we need to discuss some timelines. Can you provide us with a proposal outlining the next steps and timelines for implementation?\"}, {\"user\": \"Sales Person\", \"content\": \"I\\'d be happy to provide a proposal outlining the next steps and timelines for implementation. We can work closely with your team to ensure a smooth implementation process that meets your needs. Shall I send over a proposal by the end of the week?\"}]}'}\n",
      "Adding Analysis Data for Stakeholder: Product Manager\n",
      "Node already exists in index: {'seller': 'foundit.in', 'buyer': 'Capgemini', 'call_type': 'pricing', 'company_size': 'Enterprise (10,001+ employees)', 'industry': 'IT Services and IT Consulting', 'description': 'A global leader in consulting, technology services and digital transformation', 'call_id': 3, 'stakeholder': 'Product Manager', 'transcript': '{\"messages\": [{\"user\": \"Sales Person\", \"content\": \"Good morning, everyone. Thank you for taking the time to discuss our pricing models today. I have all the stakeholders on the call, including the VP of Product, CFO, VP of Sales, and Product Manager. Is that correct?\"}, {\"user\": \"VP of Product\", \"content\": \"Yes, that\\'s correct. We\\'re all here.\"}, {\"user\": \"Sales Person\", \"content\": \"Great. Before we dive into our pricing models, I want to confirm that you\\'ve all had a chance to review the demo we presented earlier this week. Do you have any questions about the features and benefits of our Magic Search and Resume Search platform?\"}, {\"user\": \"Product Manager\", \"content\": \"Actually, yes. I did have a question about the quality of job postings on your platform. How do you ensure that the job postings meet your quality standards?\"}, {\"user\": \"Sales Person\", \"content\": \"We take the quality of our job postings very seriously. We have a team of moderators who review each job posting to ensure it meets our quality standards. We also offer a range of tools and features to help employers create high-quality job postings, such as our job posting template and guidance on writing effective job descriptions.\"}, {\"user\": \"CFO\", \"content\": \"That\\'s great to hear. Can you walk us through your pricing models? We\\'re interested in understanding how your services can provide a ROI for us.\"}, {\"user\": \"Sales Person\", \"content\": \"Absolutely. We offer four pricing models: Free, Premium, Career Booster, and Featured Profile. Our Free plan is ideal for users who want to access basic services, while our Premium plan provides enhanced services to enhance the job search journey. Our Career Booster plan offers the best of our services with top recruiter search results, and our Featured Profile plan allows users to get their profile featured on top for a specified duration.\"}, {\"user\": \"VP of Sales\", \"content\": \"Can you provide more details about the Premium plan? What services are included, and how much does it cost?\"}, {\"user\": \"Sales Person\", \"content\": \"Our Premium plan includes features such as AI-driven resume matching, priority customer support, and access to our recruitment analytics platform. The price varies depending on the service package, but we offer discounts for long-term commitments and bulk purchasing.\"}, {\"user\": \"CFO\", \"content\": \"We\\'re interested in understanding how your services can provide a ROI for us. Can you provide some case studies or data to support your pricing models?\"}, {\"user\": \"Sales Person\", \"content\": \"We\\'ve had great success with our services in the past, and I believe they can make a significant impact on your recruitment process. We\\'ve seen clients reduce their time-to-hire by up to 50% and cost savings of up to 30%. We\\'d be happy to provide a customized pricing plan that meets your needs and provides a strong ROI.\"}, {\"user\": \"Product Manager\", \"content\": \"We\\'re interested in moving forward with a Premium plan, but we need to discuss some timelines. Can you provide us with a proposal outlining the next steps and timelines for implementation?\"}, {\"user\": \"Sales Person\", \"content\": \"I\\'d be happy to provide a proposal outlining the next steps and timelines for implementation. We can work closely with your team to ensure a smooth implementation process that meets your needs. Shall I send over a proposal by the end of the week?\"}]}', 'data': '{\"pricing_analysis_buyer_data\": {\"concerns\": [\"quality of job postings on the platform\"], \"budget_constraints\": [\"interested in understanding how the services can provide a ROI\"], \"timelines_to_close\": [\"need to discuss some timelines\", \"can you provide us with a proposal outlining the next steps and timelines for implementation?\"], \"preferred_pricing_models\": [\"Premium plan\"], \"KPIs\": [\"reduce their time-to-hire by up to 50%\", \"cost savings of up to 30%\"], \"company_financial_priorities\": [\"interested in understanding how the services can provide a ROI\"]}, \"pricing_analysis_seller_data\": {\"pricing_options\": [\"Free\", \"Premium\", \"Career Booster\", \"Featured Profile\"], \"pricing_levers\": [\"enhanced services to enhance the job search journey\", \"AI-driven resume matching\", \"priority customer support\", \"access to our recruitment analytics platform\"], \"negotiation_tactics\": [\"discounts for long-term commitments and bulk purchasing\"], \"assets_used\": [\"job posting template\", \"guidance on writing effective job descriptions\", \"moderators who review each job posting\"], \"ROI_calculators\": [\"reduce their time-to-hire by up to 50%\", \"cost savings of up to 30%\"], \"historical_case_studies\": [\"clients reduce their time-to-hire by up to 50% and cost savings of up to 30%\"]}}'}\n",
      "Adding Analysis Data for Stakeholder: CFO\n",
      "Node already exists in index: {'seller': 'foundit.in', 'buyer': 'Capgemini', 'call_type': 'pricing', 'company_size': 'Enterprise (10,001+ employees)', 'industry': 'IT Services and IT Consulting', 'description': 'A global leader in consulting, technology services and digital transformation', 'call_id': 3, 'stakeholder': 'CFO', 'transcript': '{\"messages\": [{\"user\": \"Sales Person\", \"content\": \"Good morning, everyone. Thank you for taking the time to discuss our pricing models today. I have all the stakeholders on the call, including the VP of Product, CFO, VP of Sales, and Product Manager. Is that correct?\"}, {\"user\": \"VP of Product\", \"content\": \"Yes, that\\'s correct. We\\'re all here.\"}, {\"user\": \"Sales Person\", \"content\": \"Great. Before we dive into our pricing models, I want to confirm that you\\'ve all had a chance to review the demo we presented earlier this week. Do you have any questions about the features and benefits of our Magic Search and Resume Search platform?\"}, {\"user\": \"Product Manager\", \"content\": \"Actually, yes. I did have a question about the quality of job postings on your platform. How do you ensure that the job postings meet your quality standards?\"}, {\"user\": \"Sales Person\", \"content\": \"We take the quality of our job postings very seriously. We have a team of moderators who review each job posting to ensure it meets our quality standards. We also offer a range of tools and features to help employers create high-quality job postings, such as our job posting template and guidance on writing effective job descriptions.\"}, {\"user\": \"CFO\", \"content\": \"That\\'s great to hear. Can you walk us through your pricing models? We\\'re interested in understanding how your services can provide a ROI for us.\"}, {\"user\": \"Sales Person\", \"content\": \"Absolutely. We offer four pricing models: Free, Premium, Career Booster, and Featured Profile. Our Free plan is ideal for users who want to access basic services, while our Premium plan provides enhanced services to enhance the job search journey. Our Career Booster plan offers the best of our services with top recruiter search results, and our Featured Profile plan allows users to get their profile featured on top for a specified duration.\"}, {\"user\": \"VP of Sales\", \"content\": \"Can you provide more details about the Premium plan? What services are included, and how much does it cost?\"}, {\"user\": \"Sales Person\", \"content\": \"Our Premium plan includes features such as AI-driven resume matching, priority customer support, and access to our recruitment analytics platform. The price varies depending on the service package, but we offer discounts for long-term commitments and bulk purchasing.\"}, {\"user\": \"CFO\", \"content\": \"We\\'re interested in understanding how your services can provide a ROI for us. Can you provide some case studies or data to support your pricing models?\"}, {\"user\": \"Sales Person\", \"content\": \"We\\'ve had great success with our services in the past, and I believe they can make a significant impact on your recruitment process. We\\'ve seen clients reduce their time-to-hire by up to 50% and cost savings of up to 30%. We\\'d be happy to provide a customized pricing plan that meets your needs and provides a strong ROI.\"}, {\"user\": \"Product Manager\", \"content\": \"We\\'re interested in moving forward with a Premium plan, but we need to discuss some timelines. Can you provide us with a proposal outlining the next steps and timelines for implementation?\"}, {\"user\": \"Sales Person\", \"content\": \"I\\'d be happy to provide a proposal outlining the next steps and timelines for implementation. We can work closely with your team to ensure a smooth implementation process that meets your needs. Shall I send over a proposal by the end of the week?\"}]}', 'data': '{\"pricing_analysis_buyer_data\": {\"concerns\": [\"quality of job postings\", \"ROI\", \"case studies or data to support pricing models\"], \"budget_constraints\": [], \"timelines_to_close\": [\"need to discuss some timelines\", \"implementation timeline\"], \"preferred_pricing_models\": [\"Premium plan\"], \"KPIs\": [\"ROI\", \"time-to-hire\", \"cost savings\"], \"company_financial_priorities\": [\"ROI\", \"cost savings\"]}, \"pricing_analysis_seller_data\": {\"pricing_options\": [\"Free\", \"Premium\", \"Career Booster\", \"Featured Profile\"], \"pricing_levers\": [\"discounts for long-term commitments\", \"bulk purchasing\"], \"negotiation_tactics\": [\"customized pricing plan\", \"smooth implementation process\"], \"assets_used\": [\"job posting template\", \"guidance on writing effective job descriptions\", \"moderators to review job postings\"], \"ROI_calculators\": [], \"historical_case_studies\": [\"clients reduce time-to-hire by up to 50% and cost savings of up to 30%\"]}}'}\n",
      "Adding Analysis Data for Stakeholder: VP of Product\n",
      "Node already exists in index: {'seller': 'foundit.in', 'buyer': 'Capgemini', 'call_type': 'pricing', 'company_size': 'Enterprise (10,001+ employees)', 'industry': 'IT Services and IT Consulting', 'description': 'A global leader in consulting, technology services and digital transformation', 'call_id': 3, 'stakeholder': 'VP of Product', 'transcript': '{\"messages\": [{\"user\": \"Sales Person\", \"content\": \"Good morning, everyone. Thank you for taking the time to discuss our pricing models today. I have all the stakeholders on the call, including the VP of Product, CFO, VP of Sales, and Product Manager. Is that correct?\"}, {\"user\": \"VP of Product\", \"content\": \"Yes, that\\'s correct. We\\'re all here.\"}, {\"user\": \"Sales Person\", \"content\": \"Great. Before we dive into our pricing models, I want to confirm that you\\'ve all had a chance to review the demo we presented earlier this week. Do you have any questions about the features and benefits of our Magic Search and Resume Search platform?\"}, {\"user\": \"Product Manager\", \"content\": \"Actually, yes. I did have a question about the quality of job postings on your platform. How do you ensure that the job postings meet your quality standards?\"}, {\"user\": \"Sales Person\", \"content\": \"We take the quality of our job postings very seriously. We have a team of moderators who review each job posting to ensure it meets our quality standards. We also offer a range of tools and features to help employers create high-quality job postings, such as our job posting template and guidance on writing effective job descriptions.\"}, {\"user\": \"CFO\", \"content\": \"That\\'s great to hear. Can you walk us through your pricing models? We\\'re interested in understanding how your services can provide a ROI for us.\"}, {\"user\": \"Sales Person\", \"content\": \"Absolutely. We offer four pricing models: Free, Premium, Career Booster, and Featured Profile. Our Free plan is ideal for users who want to access basic services, while our Premium plan provides enhanced services to enhance the job search journey. Our Career Booster plan offers the best of our services with top recruiter search results, and our Featured Profile plan allows users to get their profile featured on top for a specified duration.\"}, {\"user\": \"VP of Sales\", \"content\": \"Can you provide more details about the Premium plan? What services are included, and how much does it cost?\"}, {\"user\": \"Sales Person\", \"content\": \"Our Premium plan includes features such as AI-driven resume matching, priority customer support, and access to our recruitment analytics platform. The price varies depending on the service package, but we offer discounts for long-term commitments and bulk purchasing.\"}, {\"user\": \"CFO\", \"content\": \"We\\'re interested in understanding how your services can provide a ROI for us. Can you provide some case studies or data to support your pricing models?\"}, {\"user\": \"Sales Person\", \"content\": \"We\\'ve had great success with our services in the past, and I believe they can make a significant impact on your recruitment process. We\\'ve seen clients reduce their time-to-hire by up to 50% and cost savings of up to 30%. We\\'d be happy to provide a customized pricing plan that meets your needs and provides a strong ROI.\"}, {\"user\": \"Product Manager\", \"content\": \"We\\'re interested in moving forward with a Premium plan, but we need to discuss some timelines. Can you provide us with a proposal outlining the next steps and timelines for implementation?\"}, {\"user\": \"Sales Person\", \"content\": \"I\\'d be happy to provide a proposal outlining the next steps and timelines for implementation. We can work closely with your team to ensure a smooth implementation process that meets your needs. Shall I send over a proposal by the end of the week?\"}]}', 'data': '{\"pricing_analysis_buyer_data\": {\"concerns\": [\"quality of job postings on the platform\", \"ensuring ROI for the company\"], \"budget_constraints\": [], \"timelines_to_close\": [\"need to discuss some timelines\", \"provide a proposal outlining the next steps and timelines for implementation\"], \"preferred_pricing_models\": [\"Premium plan\"], \"KPIs\": [\"time-to-hire\", \"cost savings\"], \"company_financial_priorities\": [\"ROI\"]}, \"pricing_analysis_seller_data\": {\"pricing_options\": [\"Free plan\", \"Premium plan\", \"Career Booster plan\", \"Featured Profile plan\"], \"pricing_levers\": [\"enhanced services to enhance the job search journey\", \"AI-driven resume matching\", \"priority customer support\", \"access to recruitment analytics platform\"], \"negotiation_tactics\": [\"discounts for long-term commitments and bulk purchasing\"], \"assets_used\": [\"demo of Magic Search and Resume Search platform\", \"job posting template\", \"guidance on writing effective job descriptions\", \"team of moderators who review each job posting\"], \"ROI_calculators\": [\"reduce time-to-hire by up to 50%\", \"cost savings of up to 30%\"], \"historical_case_studies\": [\"clients who reduced their time-to-hire by up to 50% and cost savings of up to 30%\"]}}'}\n",
      "Adding Analysis Data for Stakeholder: VP of Sales\n",
      "Node already exists in index: {'seller': 'foundit.in', 'buyer': 'Capgemini', 'call_type': 'pricing', 'company_size': 'Enterprise (10,001+ employees)', 'industry': 'IT Services and IT Consulting', 'description': 'A global leader in consulting, technology services and digital transformation', 'call_id': 3, 'stakeholder': 'VP of Sales', 'transcript': '{\"messages\": [{\"user\": \"Sales Person\", \"content\": \"Good morning, everyone. Thank you for taking the time to discuss our pricing models today. I have all the stakeholders on the call, including the VP of Product, CFO, VP of Sales, and Product Manager. Is that correct?\"}, {\"user\": \"VP of Product\", \"content\": \"Yes, that\\'s correct. We\\'re all here.\"}, {\"user\": \"Sales Person\", \"content\": \"Great. Before we dive into our pricing models, I want to confirm that you\\'ve all had a chance to review the demo we presented earlier this week. Do you have any questions about the features and benefits of our Magic Search and Resume Search platform?\"}, {\"user\": \"Product Manager\", \"content\": \"Actually, yes. I did have a question about the quality of job postings on your platform. How do you ensure that the job postings meet your quality standards?\"}, {\"user\": \"Sales Person\", \"content\": \"We take the quality of our job postings very seriously. We have a team of moderators who review each job posting to ensure it meets our quality standards. We also offer a range of tools and features to help employers create high-quality job postings, such as our job posting template and guidance on writing effective job descriptions.\"}, {\"user\": \"CFO\", \"content\": \"That\\'s great to hear. Can you walk us through your pricing models? We\\'re interested in understanding how your services can provide a ROI for us.\"}, {\"user\": \"Sales Person\", \"content\": \"Absolutely. We offer four pricing models: Free, Premium, Career Booster, and Featured Profile. Our Free plan is ideal for users who want to access basic services, while our Premium plan provides enhanced services to enhance the job search journey. Our Career Booster plan offers the best of our services with top recruiter search results, and our Featured Profile plan allows users to get their profile featured on top for a specified duration.\"}, {\"user\": \"VP of Sales\", \"content\": \"Can you provide more details about the Premium plan? What services are included, and how much does it cost?\"}, {\"user\": \"Sales Person\", \"content\": \"Our Premium plan includes features such as AI-driven resume matching, priority customer support, and access to our recruitment analytics platform. The price varies depending on the service package, but we offer discounts for long-term commitments and bulk purchasing.\"}, {\"user\": \"CFO\", \"content\": \"We\\'re interested in understanding how your services can provide a ROI for us. Can you provide some case studies or data to support your pricing models?\"}, {\"user\": \"Sales Person\", \"content\": \"We\\'ve had great success with our services in the past, and I believe they can make a significant impact on your recruitment process. We\\'ve seen clients reduce their time-to-hire by up to 50% and cost savings of up to 30%. We\\'d be happy to provide a customized pricing plan that meets your needs and provides a strong ROI.\"}, {\"user\": \"Product Manager\", \"content\": \"We\\'re interested in moving forward with a Premium plan, but we need to discuss some timelines. Can you provide us with a proposal outlining the next steps and timelines for implementation?\"}, {\"user\": \"Sales Person\", \"content\": \"I\\'d be happy to provide a proposal outlining the next steps and timelines for implementation. We can work closely with your team to ensure a smooth implementation process that meets your needs. Shall I send over a proposal by the end of the week?\"}]}', 'data': '{\"pricing_analysis_buyer_data\": {\"concerns\": [\"quality of job postings\", \"ROI for the company\"], \"budget_constraints\": [\"cost savings of up to 30%\"], \"timelines_to_close\": [\"need to discuss some timelines\", \"shall I send over a proposal by the end of the week?\"], \"preferred_pricing_models\": [\"Premium plan\"], \"KPIs\": [\"reduce their time-to-hire by up to 50%\", \"cost savings of up to 30%\"], \"company_financial_priorities\": [\"ROI for the company\", \"cost savings of up to 30%\"]}, \"pricing_analysis_seller_data\": {\"pricing_options\": [\"Free\", \"Premium\", \"Career Booster\", \"Featured Profile\"], \"pricing_levers\": [\"AI-driven resume matching\", \"priority customer support\", \"access to recruitment analytics platform\"], \"negotiation_tactics\": [\"discounts for long-term commitments and bulk purchasing\"], \"assets_used\": [\"demo presented earlier\", \"job posting template\", \"guidance on writing effective job descriptions\"], \"ROI_calculators\": [\"reduce their time-to-hire by up to 50%\", \"cost savings of up to 30%\"], \"historical_case_studies\": [\"clients reduce their time-to-hire by up to 50% and cost savings of up to 30%\"]}}'}\n"
     ]
    },
    {
     "name": "stderr",
     "output_type": "stream",
     "text": [
      "\n"
     ]
    }
   ],
   "source": [
    "buyer_inputs['call_id'] = 3\n",
    "pricing_calls_data = asyncio.run(make_call(PRICING, seller['seller_clients']['clients'][:1], buyer_inputs))"
   ]
  },
  {
   "cell_type": "code",
   "execution_count": 17,
   "metadata": {},
   "outputs": [
    {
     "name": "stdout",
     "output_type": "stream",
     "text": [
      "Making negotiation call for ['Capgemini']\n",
      "Getting analysis Data\n",
      "Number of Clients:  1\n"
     ]
    },
    {
     "name": "stderr",
     "output_type": "stream",
     "text": [
      "Getting Data:   0%|          | 0/1 [00:00<?, ?it/s]"
     ]
    },
    {
     "name": "stdout",
     "output_type": "stream",
     "text": [
      "Getting Data for Capgemini\n",
      "Embedding Simulation Data for Client: Capgemini\n",
      "Node already exists in index: {'seller': 'foundit.in', 'buyer': 'Capgemini', 'call_type': 'negotiation', 'call_id': 4, 'transcript': '{\"messages\": [{\"user\": \"foundit.in\", \"content\": \"Hi everyone, thank you for taking the time to discuss the proposal we sent over. I\\'d like to summarize the key points and address any concerns you may have. As we discussed earlier, our Premium plan would provide Capgemini with enhanced services to enhance the job search journey, AI-driven resume matching, priority customer support, and access to our recruitment analytics platform.\"}, {\"user\": \"VP of Product\", \"content\": \"Yes, I think we\\'re all on the same page in terms of the services. However, we did have some concerns about the quality of job postings on the platform. Can you elaborate on how you\\'ll ensure that the job postings meet our standards?\"}, {\"user\": \"foundit.in\", \"content\": \"Absolutely. We have a team of moderators who review each job posting to ensure they meet our high standards. We also provide guidance on writing effective job descriptions and offer a job posting template to help you get started. Additionally, our AI-driven resume matching ensures that the best candidates are matched with the job postings, which will improve the overall quality of applicants.\"}, {\"user\": \"CFO\", \"content\": \"I appreciate that, but I\\'m still concerned about the ROI of this investment. Can you provide some case studies or data to support the pricing models?\"}, {\"user\": \"foundit.in\", \"content\": \"We\\'ve had numerous clients who have reduced their time-to-hire by up to 50% and realized cost savings of up to 30%. I can provide you with some case studies and data to support the ROI of our services. Would you like me to send those over?\"}, {\"user\": \"VP of Sales\", \"content\": \"That sounds promising. However, we do have some budget constraints. Would you be willing to offer any discounts for long-term commitments or bulk purchasing?\"}, {\"user\": \"foundit.in\", \"content\": \"We can definitely discuss discounts for long-term commitments and bulk purchasing. In fact, we can offer a 10% discount for a 12-month commitment and a 5% discount for bulk purchasing. We\\'re also open to negotiating a customized pricing plan that meets your needs.\"}, {\"user\": \"Product Manager\", \"content\": \"I think we\\'re making good progress. However, can you provide us with a proposal outlining the next steps and timelines for implementation?\"}, {\"user\": \"foundit.in\", \"content\": \"I\\'ll send over a revised proposal by the end of the week that outlines the next steps and timelines for implementation. We\\'ll also include the customized pricing plan and discounts we discussed.\"}, {\"user\": \"CFO\", \"content\": \"Our procurement team will also need to review the contract terms. Can you provide us with a draft contract that outlines the terms and conditions?\"}, {\"user\": \"foundit.in\", \"content\": \"I\\'ll send over a draft contract that outlines the terms and conditions. We\\'re open to negotiating any concerns or issues you may have. Our goal is to ensure a smooth implementation process.\"}, {\"user\": \"VP of Product\", \"content\": \"I think we\\'ve covered everything. The key decision-makers involved in the final decision are myself, the CFO, and the VP of Sales. We\\'ll review the revised proposal and contract terms and get back to you by the end of next week.\"}, {\"user\": \"foundit.in\", \"content\": \"Sounds great. I\\'ll send over the revised proposal and contract terms by the end of the week. We appreciate your time and consideration, and we look forward to the opportunity to work with Capgemini.\"}]}'}\n",
      "Adding Analysis Data for Stakeholder: Product Manager\n"
     ]
    },
    {
     "name": "stderr",
     "output_type": "stream",
     "text": [
      "Getting Data: 100%|██████████| 1/1 [00:00<00:00, 16.75it/s]"
     ]
    },
    {
     "name": "stdout",
     "output_type": "stream",
     "text": [
      "Node already exists in index: {'seller': 'foundit.in', 'buyer': 'Capgemini', 'call_type': 'negotiation', 'company_size': 'Enterprise (10,001+ employees)', 'industry': 'IT Services and IT Consulting', 'description': 'A global leader in consulting, technology services and digital transformation', 'call_id': 4, 'stakeholder': 'Product Manager', 'transcript': '{\"messages\": [{\"user\": \"foundit.in\", \"content\": \"Hi everyone, thank you for taking the time to discuss the proposal we sent over. I\\'d like to summarize the key points and address any concerns you may have. As we discussed earlier, our Premium plan would provide Capgemini with enhanced services to enhance the job search journey, AI-driven resume matching, priority customer support, and access to our recruitment analytics platform.\"}, {\"user\": \"VP of Product\", \"content\": \"Yes, I think we\\'re all on the same page in terms of the services. However, we did have some concerns about the quality of job postings on the platform. Can you elaborate on how you\\'ll ensure that the job postings meet our standards?\"}, {\"user\": \"foundit.in\", \"content\": \"Absolutely. We have a team of moderators who review each job posting to ensure they meet our high standards. We also provide guidance on writing effective job descriptions and offer a job posting template to help you get started. Additionally, our AI-driven resume matching ensures that the best candidates are matched with the job postings, which will improve the overall quality of applicants.\"}, {\"user\": \"CFO\", \"content\": \"I appreciate that, but I\\'m still concerned about the ROI of this investment. Can you provide some case studies or data to support the pricing models?\"}, {\"user\": \"foundit.in\", \"content\": \"We\\'ve had numerous clients who have reduced their time-to-hire by up to 50% and realized cost savings of up to 30%. I can provide you with some case studies and data to support the ROI of our services. Would you like me to send those over?\"}, {\"user\": \"VP of Sales\", \"content\": \"That sounds promising. However, we do have some budget constraints. Would you be willing to offer any discounts for long-term commitments or bulk purchasing?\"}, {\"user\": \"foundit.in\", \"content\": \"We can definitely discuss discounts for long-term commitments and bulk purchasing. In fact, we can offer a 10% discount for a 12-month commitment and a 5% discount for bulk purchasing. We\\'re also open to negotiating a customized pricing plan that meets your needs.\"}, {\"user\": \"Product Manager\", \"content\": \"I think we\\'re making good progress. However, can you provide us with a proposal outlining the next steps and timelines for implementation?\"}, {\"user\": \"foundit.in\", \"content\": \"I\\'ll send over a revised proposal by the end of the week that outlines the next steps and timelines for implementation. We\\'ll also include the customized pricing plan and discounts we discussed.\"}, {\"user\": \"CFO\", \"content\": \"Our procurement team will also need to review the contract terms. Can you provide us with a draft contract that outlines the terms and conditions?\"}, {\"user\": \"foundit.in\", \"content\": \"I\\'ll send over a draft contract that outlines the terms and conditions. We\\'re open to negotiating any concerns or issues you may have. Our goal is to ensure a smooth implementation process.\"}, {\"user\": \"VP of Product\", \"content\": \"I think we\\'ve covered everything. The key decision-makers involved in the final decision are myself, the CFO, and the VP of Sales. We\\'ll review the revised proposal and contract terms and get back to you by the end of next week.\"}, {\"user\": \"foundit.in\", \"content\": \"Sounds great. I\\'ll send over the revised proposal and contract terms by the end of the week. We appreciate your time and consideration, and we look forward to the opportunity to work with Capgemini.\"}]}', 'data': '{\"negotiation_analysis_buyer_data\": {\"final_objections\": [\"quality of job postings\", \"ROI of this investment\", \"budget constraints\"], \"key_decision_makers\": [\"VP of Product\", \"CFO\", \"VP of Sales\"], \"remaining_concerns\": [\"quality of job postings\", \"ROI of this investment\", \"budget constraints\", \"procurement team\\'s review of contract terms\"], \"contract_terms\": [\"draft contract\", \"terms and conditions\", \"negotiating any concerns or issues\"]}, \"negotiation_analysis_seller_data\": {\"concessions_discounts\": [\"10% discount for a 12-month commitment\", \"5% discount for bulk purchasing\", \"customized pricing plan\"], \"objection_handling\": [\"moderators reviewing job postings\", \"AI-driven resume matching\", \"providing case studies and data to support ROI\"], \"stakeholder_consensus\": [\"addressing concerns from VP of Product\", \"handling CFO\\'s ROI concerns\", \"negotiating with VP of Sales\"], \"contract_procurement\": [\"draft contract\", \"terms and conditions\", \"procurement team\\'s review\"], \"closing_tactics\": [\"providing revised proposal\", \"outlining next steps and timelines\", \"expressing appreciation for consideration\"], \"assests_used\": [\"job posting template\", \"AI-driven resume matching\", \"case studies and data to support ROI\"]}}'}\n",
      "Adding Analysis Data for Stakeholder: CFO\n",
      "Node already exists in index: {'seller': 'foundit.in', 'buyer': 'Capgemini', 'call_type': 'negotiation', 'company_size': 'Enterprise (10,001+ employees)', 'industry': 'IT Services and IT Consulting', 'description': 'A global leader in consulting, technology services and digital transformation', 'call_id': 4, 'stakeholder': 'CFO', 'transcript': '{\"messages\": [{\"user\": \"foundit.in\", \"content\": \"Hi everyone, thank you for taking the time to discuss the proposal we sent over. I\\'d like to summarize the key points and address any concerns you may have. As we discussed earlier, our Premium plan would provide Capgemini with enhanced services to enhance the job search journey, AI-driven resume matching, priority customer support, and access to our recruitment analytics platform.\"}, {\"user\": \"VP of Product\", \"content\": \"Yes, I think we\\'re all on the same page in terms of the services. However, we did have some concerns about the quality of job postings on the platform. Can you elaborate on how you\\'ll ensure that the job postings meet our standards?\"}, {\"user\": \"foundit.in\", \"content\": \"Absolutely. We have a team of moderators who review each job posting to ensure they meet our high standards. We also provide guidance on writing effective job descriptions and offer a job posting template to help you get started. Additionally, our AI-driven resume matching ensures that the best candidates are matched with the job postings, which will improve the overall quality of applicants.\"}, {\"user\": \"CFO\", \"content\": \"I appreciate that, but I\\'m still concerned about the ROI of this investment. Can you provide some case studies or data to support the pricing models?\"}, {\"user\": \"foundit.in\", \"content\": \"We\\'ve had numerous clients who have reduced their time-to-hire by up to 50% and realized cost savings of up to 30%. I can provide you with some case studies and data to support the ROI of our services. Would you like me to send those over?\"}, {\"user\": \"VP of Sales\", \"content\": \"That sounds promising. However, we do have some budget constraints. Would you be willing to offer any discounts for long-term commitments or bulk purchasing?\"}, {\"user\": \"foundit.in\", \"content\": \"We can definitely discuss discounts for long-term commitments and bulk purchasing. In fact, we can offer a 10% discount for a 12-month commitment and a 5% discount for bulk purchasing. We\\'re also open to negotiating a customized pricing plan that meets your needs.\"}, {\"user\": \"Product Manager\", \"content\": \"I think we\\'re making good progress. However, can you provide us with a proposal outlining the next steps and timelines for implementation?\"}, {\"user\": \"foundit.in\", \"content\": \"I\\'ll send over a revised proposal by the end of the week that outlines the next steps and timelines for implementation. We\\'ll also include the customized pricing plan and discounts we discussed.\"}, {\"user\": \"CFO\", \"content\": \"Our procurement team will also need to review the contract terms. Can you provide us with a draft contract that outlines the terms and conditions?\"}, {\"user\": \"foundit.in\", \"content\": \"I\\'ll send over a draft contract that outlines the terms and conditions. We\\'re open to negotiating any concerns or issues you may have. Our goal is to ensure a smooth implementation process.\"}, {\"user\": \"VP of Product\", \"content\": \"I think we\\'ve covered everything. The key decision-makers involved in the final decision are myself, the CFO, and the VP of Sales. We\\'ll review the revised proposal and contract terms and get back to you by the end of next week.\"}, {\"user\": \"foundit.in\", \"content\": \"Sounds great. I\\'ll send over the revised proposal and contract terms by the end of the week. We appreciate your time and consideration, and we look forward to the opportunity to work with Capgemini.\"}]}', 'data': '{\"negotiation_analysis_buyer_data\": {\"final_objections\": [\"ROI of the investment\"], \"key_decision_makers\": [\"CFO\", \"VP of Product\", \"VP of Sales\"], \"remaining_concerns\": [\"quality of job postings\", \"budget constraints\", \"ROI of the investment\"], \"contract_terms\": [\"draft contract that outlines the terms and conditions\"]}, \"negotiation_analysis_seller_data\": {\"concessions_discounts\": [\"10% discount for a 12-month commitment\", \"5% discount for bulk purchasing\", \"customized pricing plan that meets the needs\"], \"objection_handling\": [\"addressed quality of job postings concern by explaining the moderation process and AI-driven resume matching\", \"provided case studies and data to support the ROI of the investment\"], \"stakeholder_consensus\": [\"VP of Product\\'s concerns about quality of job postings\", \"CFO\\'s concerns about ROI of the investment\", \"VP of Sales\\' concerns about budget constraints\"], \"contract_procurement\": [\"providing a draft contract that outlines the terms and conditions\", \"open to negotiating any concerns or issues\"], \"closing_tactics\": [\"sending a revised proposal by the end of the week that outlines the next steps and timelines for implementation\", \"including the customized pricing plan and discounts in the revised proposal\"], \"assests_used\": [\"case studies and data to support the ROI of the investment\", \"job posting template\", \"guidance on writing effective job descriptions\"]}}'}\n",
      "Adding Analysis Data for Stakeholder: VP of Product\n",
      "Node already exists in index: {'seller': 'foundit.in', 'buyer': 'Capgemini', 'call_type': 'negotiation', 'company_size': 'Enterprise (10,001+ employees)', 'industry': 'IT Services and IT Consulting', 'description': 'A global leader in consulting, technology services and digital transformation', 'call_id': 4, 'stakeholder': 'VP of Product', 'transcript': '{\"messages\": [{\"user\": \"foundit.in\", \"content\": \"Hi everyone, thank you for taking the time to discuss the proposal we sent over. I\\'d like to summarize the key points and address any concerns you may have. As we discussed earlier, our Premium plan would provide Capgemini with enhanced services to enhance the job search journey, AI-driven resume matching, priority customer support, and access to our recruitment analytics platform.\"}, {\"user\": \"VP of Product\", \"content\": \"Yes, I think we\\'re all on the same page in terms of the services. However, we did have some concerns about the quality of job postings on the platform. Can you elaborate on how you\\'ll ensure that the job postings meet our standards?\"}, {\"user\": \"foundit.in\", \"content\": \"Absolutely. We have a team of moderators who review each job posting to ensure they meet our high standards. We also provide guidance on writing effective job descriptions and offer a job posting template to help you get started. Additionally, our AI-driven resume matching ensures that the best candidates are matched with the job postings, which will improve the overall quality of applicants.\"}, {\"user\": \"CFO\", \"content\": \"I appreciate that, but I\\'m still concerned about the ROI of this investment. Can you provide some case studies or data to support the pricing models?\"}, {\"user\": \"foundit.in\", \"content\": \"We\\'ve had numerous clients who have reduced their time-to-hire by up to 50% and realized cost savings of up to 30%. I can provide you with some case studies and data to support the ROI of our services. Would you like me to send those over?\"}, {\"user\": \"VP of Sales\", \"content\": \"That sounds promising. However, we do have some budget constraints. Would you be willing to offer any discounts for long-term commitments or bulk purchasing?\"}, {\"user\": \"foundit.in\", \"content\": \"We can definitely discuss discounts for long-term commitments and bulk purchasing. In fact, we can offer a 10% discount for a 12-month commitment and a 5% discount for bulk purchasing. We\\'re also open to negotiating a customized pricing plan that meets your needs.\"}, {\"user\": \"Product Manager\", \"content\": \"I think we\\'re making good progress. However, can you provide us with a proposal outlining the next steps and timelines for implementation?\"}, {\"user\": \"foundit.in\", \"content\": \"I\\'ll send over a revised proposal by the end of the week that outlines the next steps and timelines for implementation. We\\'ll also include the customized pricing plan and discounts we discussed.\"}, {\"user\": \"CFO\", \"content\": \"Our procurement team will also need to review the contract terms. Can you provide us with a draft contract that outlines the terms and conditions?\"}, {\"user\": \"foundit.in\", \"content\": \"I\\'ll send over a draft contract that outlines the terms and conditions. We\\'re open to negotiating any concerns or issues you may have. Our goal is to ensure a smooth implementation process.\"}, {\"user\": \"VP of Product\", \"content\": \"I think we\\'ve covered everything. The key decision-makers involved in the final decision are myself, the CFO, and the VP of Sales. We\\'ll review the revised proposal and contract terms and get back to you by the end of next week.\"}, {\"user\": \"foundit.in\", \"content\": \"Sounds great. I\\'ll send over the revised proposal and contract terms by the end of the week. We appreciate your time and consideration, and we look forward to the opportunity to work with Capgemini.\"}]}', 'data': '{\"negotiation_analysis_buyer_data\": {\"final_objections\": [\"quality of job postings\", \"ROI of this investment\", \"budget constraints\"], \"key_decision_makers\": [\"VP of Product\", \"CFO\", \"VP of Sales\"], \"remaining_concerns\": [\"quality of job postings\", \"ROI of this investment\", \"budget constraints\", \"procurement team review of contract terms\"], \"contract_terms\": [\"draft contract outlining terms and conditions\", \"procurement team review\"]}, \"negotiation_analysis_seller_data\": {\"concessions_discounts\": [\"10% discount for a 12-month commitment\", \"5% discount for bulk purchasing\", \"customized pricing plan for long-term commitments and bulk purchasing\"], \"objection_handling\": [\"moderators review job postings to ensure high standards\", \"guidance on writing effective job descriptions\", \"AI-driven resume matching ensures best candidates are matched with job postings\", \"case studies and data to support ROI of services\"], \"stakeholder_consensus\": [\"foundit.in addressed concerns about quality of job postings\", \"foundit.in provided data to support ROI of services\", \"foundit.in offered discounts and customized pricing plan\", \"foundit.in provided revised proposal and contract terms\"], \"contract_procurement\": [\"draft contract outlining terms and conditions\", \"procurement team review of contract terms\"], \"closing_tactics\": [\"foundit.in sent revised proposal and contract terms by end of week\", \"foundit.in followed up for final decision by end of next week\"], \"assests_used\": [\"team of moderators\", \"job posting template\", \"AI-driven resume matching\", \"case studies and data to support ROI\", \"revised proposal and contract terms\"]}}'}\n",
      "Adding Analysis Data for Stakeholder: VP of Sales\n",
      "Node already exists in index: {'seller': 'foundit.in', 'buyer': 'Capgemini', 'call_type': 'negotiation', 'company_size': 'Enterprise (10,001+ employees)', 'industry': 'IT Services and IT Consulting', 'description': 'A global leader in consulting, technology services and digital transformation', 'call_id': 4, 'stakeholder': 'VP of Sales', 'transcript': '{\"messages\": [{\"user\": \"foundit.in\", \"content\": \"Hi everyone, thank you for taking the time to discuss the proposal we sent over. I\\'d like to summarize the key points and address any concerns you may have. As we discussed earlier, our Premium plan would provide Capgemini with enhanced services to enhance the job search journey, AI-driven resume matching, priority customer support, and access to our recruitment analytics platform.\"}, {\"user\": \"VP of Product\", \"content\": \"Yes, I think we\\'re all on the same page in terms of the services. However, we did have some concerns about the quality of job postings on the platform. Can you elaborate on how you\\'ll ensure that the job postings meet our standards?\"}, {\"user\": \"foundit.in\", \"content\": \"Absolutely. We have a team of moderators who review each job posting to ensure they meet our high standards. We also provide guidance on writing effective job descriptions and offer a job posting template to help you get started. Additionally, our AI-driven resume matching ensures that the best candidates are matched with the job postings, which will improve the overall quality of applicants.\"}, {\"user\": \"CFO\", \"content\": \"I appreciate that, but I\\'m still concerned about the ROI of this investment. Can you provide some case studies or data to support the pricing models?\"}, {\"user\": \"foundit.in\", \"content\": \"We\\'ve had numerous clients who have reduced their time-to-hire by up to 50% and realized cost savings of up to 30%. I can provide you with some case studies and data to support the ROI of our services. Would you like me to send those over?\"}, {\"user\": \"VP of Sales\", \"content\": \"That sounds promising. However, we do have some budget constraints. Would you be willing to offer any discounts for long-term commitments or bulk purchasing?\"}, {\"user\": \"foundit.in\", \"content\": \"We can definitely discuss discounts for long-term commitments and bulk purchasing. In fact, we can offer a 10% discount for a 12-month commitment and a 5% discount for bulk purchasing. We\\'re also open to negotiating a customized pricing plan that meets your needs.\"}, {\"user\": \"Product Manager\", \"content\": \"I think we\\'re making good progress. However, can you provide us with a proposal outlining the next steps and timelines for implementation?\"}, {\"user\": \"foundit.in\", \"content\": \"I\\'ll send over a revised proposal by the end of the week that outlines the next steps and timelines for implementation. We\\'ll also include the customized pricing plan and discounts we discussed.\"}, {\"user\": \"CFO\", \"content\": \"Our procurement team will also need to review the contract terms. Can you provide us with a draft contract that outlines the terms and conditions?\"}, {\"user\": \"foundit.in\", \"content\": \"I\\'ll send over a draft contract that outlines the terms and conditions. We\\'re open to negotiating any concerns or issues you may have. Our goal is to ensure a smooth implementation process.\"}, {\"user\": \"VP of Product\", \"content\": \"I think we\\'ve covered everything. The key decision-makers involved in the final decision are myself, the CFO, and the VP of Sales. We\\'ll review the revised proposal and contract terms and get back to you by the end of next week.\"}, {\"user\": \"foundit.in\", \"content\": \"Sounds great. I\\'ll send over the revised proposal and contract terms by the end of the week. We appreciate your time and consideration, and we look forward to the opportunity to work with Capgemini.\"}]}', 'data': '{\"negotiation_analysis_buyer_data\": {\"final_objections\": [\"budget constraints\", \"ROI of this investment\", \"quality of job postings on the platform\"], \"key_decision_makers\": [\"VP of Product\", \"CFO\", \"VP of Sales\"], \"remaining_concerns\": [\"ROI of this investment\", \"budget constraints\"], \"contract_terms\": [\"draft contract that outlines the terms and conditions\", \"procurement team will also need to review the contract terms\"]}, \"negotiation_analysis_seller_data\": {\"concessions_discounts\": [\"10% discount for a 12-month commitment\", \"5% discount for bulk purchasing\", \"customized pricing plan that meets your needs\"], \"objection_handling\": [\"moderators review each job posting to ensure they meet high standards\", \"guidance on writing effective job descriptions and a job posting template\", \"case studies and data to support the ROI of our services\", \"willingness to negotiate a customized pricing plan\"], \"stakeholder_consensus\": [\" VP of Sales, VP of Product, and CFO are key decision-makers involved in the final decision\"], \"contract_procurement\": [\"draft contract that outlines the terms and conditions\", \"open to negotiating any concerns or issues you may have\"], \"closing_tactics\": [\"sending a revised proposal by the end of the week that outlines the next steps and timelines for implementation\", \"including the customized pricing plan and discounts in the revised proposal\"], \"assests_used\": [\"AI-driven resume matching\", \"recruitment analytics platform\", \"job posting template\", \"case studies and data to support the ROI of our services\"]}}'}\n"
     ]
    },
    {
     "name": "stderr",
     "output_type": "stream",
     "text": [
      "\n"
     ]
    }
   ],
   "source": [
    "buyer_inputs['call_id'] = 4\n",
    "negotiations_calls_data = asyncio.run(make_call(NEGOTIATION, seller['seller_clients']['clients'][:1], buyer_inputs))"
   ]
  },
  {
   "cell_type": "code",
   "execution_count": null,
   "metadata": {},
   "outputs": [],
   "source": []
  }
 ],
 "metadata": {
  "kernelspec": {
   "display_name": "Echo",
   "language": "python",
   "name": "python3"
  },
  "language_info": {
   "codemirror_mode": {
    "name": "ipython",
    "version": 3
   },
   "file_extension": ".py",
   "mimetype": "text/x-python",
   "name": "python",
   "nbconvert_exporter": "python",
   "pygments_lexer": "ipython3",
   "version": "undefined.undefined.undefined"
  }
 },
 "nbformat": 4,
 "nbformat_minor": 2
}

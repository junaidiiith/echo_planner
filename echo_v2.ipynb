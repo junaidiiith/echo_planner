{
 "cells": [
  {
   "cell_type": "code",
   "execution_count": 1,
   "metadata": {},
   "outputs": [],
   "source": [
    "import nest_asyncio\n",
    "from crewai import LLM\n",
    "from dotenv import load_dotenv\n",
    "import os\n",
    "import asyncio\n",
    "from echo.constants import (\n",
    "    DISCOVERY,\n",
    "    DEMO,\n",
    "    PRICING,\n",
    "    NEGOTIATION\n",
    ")\n",
    "\n",
    "\n",
    "nest_asyncio.apply()\n",
    "\n",
    "load_dotenv()\n",
    "\n",
    "llm = LLM(\n",
    "    model=os.getenv(\"FIREWORKS_MODEL_NAME\"),\n",
    "    base_url=\"https://api.fireworks.ai/inference/v1\",\n",
    "    api_key=os.getenv(\"FIREWORKS_API_KEY\"),\n",
    ")"
   ]
  },
  {
   "cell_type": "code",
   "execution_count": 2,
   "metadata": {},
   "outputs": [
    {
     "name": "stdout",
     "output_type": "stream",
     "text": [
      "Creating seller for Whatfix\n",
      "Adding Seller: Whatfix Data\n",
      "Node already exists in index: {'seller': 'Whatfix'}\n"
     ]
    }
   ],
   "source": [
    "from echo.runner import create_or_get_seller\n",
    "\n",
    "inputs = {\n",
    "    \"seller\": \"Whatfix\",\n",
    "    \"num_buyers\": 10,\n",
    "}\n",
    "\n",
    "seller = asyncio.run(create_or_get_seller(inputs))"
   ]
  },
  {
   "cell_type": "code",
   "execution_count": 3,
   "metadata": {},
   "outputs": [],
   "source": [
    "from echo.runner import make_call\n",
    "\n",
    "\n",
    "buyer_inputs = {\n",
    "    **inputs,\n",
    "    **seller,\n",
    "    'n_competitors': 10,\n",
    "}\n",
    "\n",
    "clients = seller['seller_clients']['clients']"
   ]
  },
  {
   "cell_type": "code",
   "execution_count": 4,
   "metadata": {},
   "outputs": [
    {
     "data": {
      "text/plain": [
       "['Cardinal Health',\n",
       " 'BMC Software',\n",
       " 'Grant Thornton',\n",
       " 'Coca Cola',\n",
       " 'Equinix',\n",
       " 'Caterpillar, Inc.']"
      ]
     },
     "execution_count": 4,
     "metadata": {},
     "output_type": "execute_result"
    }
   ],
   "source": [
    "seller['seller_clients']['clients']"
   ]
  },
  {
   "cell_type": "code",
   "execution_count": 5,
   "metadata": {},
   "outputs": [
    {
     "name": "stdout",
     "output_type": "stream",
     "text": [
      "Making discovery call for ['Cardinal Health', 'BMC Software', 'Grant Thornton', 'Coca Cola', 'Equinix', 'Caterpillar, Inc.']\n",
      "Getting analysis Data\n",
      "Number of Clients:  6\n"
     ]
    },
    {
     "name": "stderr",
     "output_type": "stream",
     "text": [
      "Getting Data:   0%|          | 0/6 [00:00<?, ?it/s]"
     ]
    },
    {
     "name": "stdout",
     "output_type": "stream",
     "text": [
      "Getting Data for Cardinal Health\n",
      "Data not found for client: Cardinal Health\n",
      "Data not found for client: Cardinal Health\n",
      "Adding Buyer: Cardinal Health Data\n"
     ]
    },
    {
     "name": "stderr",
     "output_type": "stream",
     "text": [
      "2025-02-17 13:05:39,933 - 8645349184 - __init__.py-__init__:537 - WARNING: Overriding of current TracerProvider is not allowed\n"
     ]
    },
    {
     "name": "stdout",
     "output_type": "stream",
     "text": [
      "Adding discovery Transcript Data to Vector Store\n"
     ]
    },
    {
     "name": "stderr",
     "output_type": "stream",
     "text": [
      "2025-02-17 13:05:45,896 - 8645349184 - __init__.py-__init__:537 - WARNING: Overriding of current TracerProvider is not allowed\n"
     ]
    },
    {
     "name": "stdout",
     "output_type": "stream",
     "text": [
      "Adding Analysis Data to Vector Store\n"
     ]
    },
    {
     "name": "stderr",
     "output_type": "stream",
     "text": [
      "Getting Data:  17%|█▋        | 1/6 [00:25<02:06, 25.29s/it]2025-02-17 13:05:50,395 - 8645349184 - __init__.py-__init__:537 - WARNING: Overriding of current TracerProvider is not allowed\n"
     ]
    },
    {
     "name": "stdout",
     "output_type": "stream",
     "text": [
      "Getting Data for BMC Software\n",
      "Data not found for client: BMC Software\n",
      "Data not found for client: BMC Software\n",
      "Adding Buyer: BMC Software Data\n"
     ]
    },
    {
     "name": "stderr",
     "output_type": "stream",
     "text": [
      "2025-02-17 13:06:06,041 - 8645349184 - __init__.py-__init__:537 - WARNING: Overriding of current TracerProvider is not allowed\n"
     ]
    },
    {
     "name": "stdout",
     "output_type": "stream",
     "text": [
      "Adding discovery Transcript Data to Vector Store\n"
     ]
    },
    {
     "name": "stderr",
     "output_type": "stream",
     "text": [
      "2025-02-17 13:06:12,186 - 8645349184 - __init__.py-__init__:537 - WARNING: Overriding of current TracerProvider is not allowed\n"
     ]
    },
    {
     "name": "stdout",
     "output_type": "stream",
     "text": [
      "Adding Analysis Data to Vector Store\n"
     ]
    },
    {
     "name": "stderr",
     "output_type": "stream",
     "text": [
      "Getting Data:  33%|███▎      | 2/6 [00:52<01:46, 26.62s/it]2025-02-17 13:06:17,949 - 8645349184 - __init__.py-__init__:537 - WARNING: Overriding of current TracerProvider is not allowed\n"
     ]
    },
    {
     "name": "stdout",
     "output_type": "stream",
     "text": [
      "Getting Data for Grant Thornton\n",
      "Data not found for client: Grant Thornton\n",
      "Data not found for client: Grant Thornton\n",
      "Adding Buyer: Grant Thornton Data\n"
     ]
    },
    {
     "name": "stderr",
     "output_type": "stream",
     "text": [
      "2025-02-17 13:06:31,725 - 8645349184 - __init__.py-__init__:537 - WARNING: Overriding of current TracerProvider is not allowed\n"
     ]
    },
    {
     "name": "stdout",
     "output_type": "stream",
     "text": [
      "Adding discovery Transcript Data to Vector Store\n"
     ]
    },
    {
     "name": "stderr",
     "output_type": "stream",
     "text": [
      "2025-02-17 13:06:38,546 - 8645349184 - __init__.py-__init__:537 - WARNING: Overriding of current TracerProvider is not allowed\n"
     ]
    },
    {
     "name": "stdout",
     "output_type": "stream",
     "text": [
      "Adding Analysis Data to Vector Store\n"
     ]
    },
    {
     "name": "stderr",
     "output_type": "stream",
     "text": [
      "Getting Data:  50%|█████     | 3/6 [01:18<01:18, 26.05s/it]2025-02-17 13:06:43,325 - 8645349184 - __init__.py-__init__:537 - WARNING: Overriding of current TracerProvider is not allowed\n"
     ]
    },
    {
     "name": "stdout",
     "output_type": "stream",
     "text": [
      "Getting Data for Coca Cola\n",
      "Data not found for client: Coca Cola\n",
      "Data not found for client: Coca Cola\n",
      "Adding Buyer: Coca Cola Data\n"
     ]
    },
    {
     "name": "stderr",
     "output_type": "stream",
     "text": [
      "2025-02-17 13:06:57,248 - 8645349184 - __init__.py-__init__:537 - WARNING: Overriding of current TracerProvider is not allowed\n"
     ]
    },
    {
     "name": "stdout",
     "output_type": "stream",
     "text": [
      "Adding discovery Transcript Data to Vector Store\n"
     ]
    },
    {
     "name": "stderr",
     "output_type": "stream",
     "text": [
      "2025-02-17 13:07:03,648 - 8645349184 - __init__.py-__init__:537 - WARNING: Overriding of current TracerProvider is not allowed\n"
     ]
    },
    {
     "name": "stdout",
     "output_type": "stream",
     "text": [
      "Adding Analysis Data to Vector Store\n"
     ]
    },
    {
     "name": "stderr",
     "output_type": "stream",
     "text": [
      "Getting Data:  67%|██████▋   | 4/6 [01:43<00:51, 25.62s/it]2025-02-17 13:07:08,294 - 8645349184 - __init__.py-__init__:537 - WARNING: Overriding of current TracerProvider is not allowed\n"
     ]
    },
    {
     "name": "stdout",
     "output_type": "stream",
     "text": [
      "Getting Data for Equinix\n",
      "Data not found for client: Equinix\n",
      "Data not found for client: Equinix\n",
      "Adding Buyer: Equinix Data\n"
     ]
    },
    {
     "name": "stderr",
     "output_type": "stream",
     "text": [
      "2025-02-17 13:07:27,919 - 8645349184 - __init__.py-__init__:537 - WARNING: Overriding of current TracerProvider is not allowed\n"
     ]
    },
    {
     "name": "stdout",
     "output_type": "stream",
     "text": [
      "Adding discovery Transcript Data to Vector Store\n"
     ]
    },
    {
     "name": "stderr",
     "output_type": "stream",
     "text": [
      "2025-02-17 13:07:34,049 - 8645349184 - __init__.py-__init__:537 - WARNING: Overriding of current TracerProvider is not allowed\n"
     ]
    },
    {
     "name": "stdout",
     "output_type": "stream",
     "text": [
      "Adding Analysis Data to Vector Store\n"
     ]
    },
    {
     "name": "stderr",
     "output_type": "stream",
     "text": [
      "Getting Data:  83%|████████▎ | 5/6 [02:13<00:27, 27.19s/it]2025-02-17 13:07:38,262 - 8645349184 - __init__.py-__init__:537 - WARNING: Overriding of current TracerProvider is not allowed\n"
     ]
    },
    {
     "name": "stdout",
     "output_type": "stream",
     "text": [
      "Getting Data for Caterpillar, Inc.\n",
      "Data not found for client: Caterpillar, Inc.\n",
      "Data not found for client: Caterpillar, Inc.\n",
      "Adding Buyer: Caterpillar, Inc. Data\n"
     ]
    },
    {
     "name": "stderr",
     "output_type": "stream",
     "text": [
      "2025-02-17 13:08:02,016 - 8645349184 - __init__.py-__init__:537 - WARNING: Overriding of current TracerProvider is not allowed\n"
     ]
    },
    {
     "name": "stdout",
     "output_type": "stream",
     "text": [
      "Adding discovery Transcript Data to Vector Store\n"
     ]
    },
    {
     "name": "stderr",
     "output_type": "stream",
     "text": [
      "2025-02-17 13:08:11,261 - 8645349184 - __init__.py-__init__:537 - WARNING: Overriding of current TracerProvider is not allowed\n"
     ]
    },
    {
     "name": "stdout",
     "output_type": "stream",
     "text": [
      "Adding Analysis Data to Vector Store\n"
     ]
    },
    {
     "name": "stderr",
     "output_type": "stream",
     "text": [
      "Getting Data: 100%|██████████| 6/6 [02:51<00:00, 28.56s/it]\n"
     ]
    }
   ],
   "source": [
    "discovery_calls_data = asyncio.run(make_call(DISCOVERY, seller['seller_clients']['clients'], buyer_inputs))"
   ]
  },
  {
   "cell_type": "code",
   "execution_count": 6,
   "metadata": {},
   "outputs": [
    {
     "name": "stdout",
     "output_type": "stream",
     "text": [
      "Making demo call for ['Cardinal Health', 'BMC Software', 'Grant Thornton', 'Coca Cola', 'Equinix', 'Caterpillar, Inc.']\n",
      "Getting analysis Data\n",
      "Number of Clients:  6\n"
     ]
    },
    {
     "name": "stderr",
     "output_type": "stream",
     "text": [
      "Getting Data:   0%|          | 0/6 [00:00<?, ?it/s]2025-02-17 13:08:16,467 - 8645349184 - __init__.py-__init__:537 - WARNING: Overriding of current TracerProvider is not allowed\n"
     ]
    },
    {
     "name": "stdout",
     "output_type": "stream",
     "text": [
      "Getting Data for Cardinal Health\n",
      "Adding Research Data to Vector Store\n"
     ]
    },
    {
     "name": "stderr",
     "output_type": "stream",
     "text": [
      "2025-02-17 13:08:19,429 - 8645349184 - __init__.py-__init__:537 - WARNING: Overriding of current TracerProvider is not allowed\n"
     ]
    },
    {
     "name": "stdout",
     "output_type": "stream",
     "text": [
      "Adding demo Transcript Data to Vector Store\n"
     ]
    },
    {
     "name": "stderr",
     "output_type": "stream",
     "text": [
      "2025-02-17 13:08:26,756 - 8645349184 - __init__.py-__init__:537 - WARNING: Overriding of current TracerProvider is not allowed\n"
     ]
    },
    {
     "name": "stdout",
     "output_type": "stream",
     "text": [
      "Adding Analysis Data to Vector Store\n"
     ]
    },
    {
     "name": "stderr",
     "output_type": "stream",
     "text": [
      "Getting Data:  17%|█▋        | 1/6 [00:15<01:15, 15.17s/it]2025-02-17 13:08:31,639 - 8645349184 - __init__.py-__init__:537 - WARNING: Overriding of current TracerProvider is not allowed\n"
     ]
    },
    {
     "name": "stdout",
     "output_type": "stream",
     "text": [
      "Getting Data for BMC Software\n",
      "Adding Research Data to Vector Store\n"
     ]
    },
    {
     "name": "stderr",
     "output_type": "stream",
     "text": [
      "2025-02-17 13:08:34,920 - 8645349184 - __init__.py-__init__:537 - WARNING: Overriding of current TracerProvider is not allowed\n"
     ]
    },
    {
     "name": "stdout",
     "output_type": "stream",
     "text": [
      "Adding demo Transcript Data to Vector Store\n"
     ]
    },
    {
     "name": "stderr",
     "output_type": "stream",
     "text": [
      "2025-02-17 13:08:40,423 - 8645349184 - __init__.py-__init__:537 - WARNING: Overriding of current TracerProvider is not allowed\n"
     ]
    },
    {
     "name": "stdout",
     "output_type": "stream",
     "text": [
      "Retrying due to error: Failed to convert text into a Pydantic model due to the following error: Instructor does not support multiple tool calls, use List[Model] instead\n",
      "Adding Analysis Data to Vector Store\n"
     ]
    },
    {
     "name": "stderr",
     "output_type": "stream",
     "text": [
      "Getting Data:  33%|███▎      | 2/6 [00:55<01:59, 29.78s/it]2025-02-17 13:09:11,640 - 8645349184 - __init__.py-__init__:537 - WARNING: Overriding of current TracerProvider is not allowed\n"
     ]
    },
    {
     "name": "stdout",
     "output_type": "stream",
     "text": [
      "Getting Data for Grant Thornton\n",
      "Adding Research Data to Vector Store\n"
     ]
    },
    {
     "name": "stderr",
     "output_type": "stream",
     "text": [
      "2025-02-17 13:09:13,806 - 8645349184 - __init__.py-__init__:537 - WARNING: Overriding of current TracerProvider is not allowed\n"
     ]
    },
    {
     "name": "stdout",
     "output_type": "stream",
     "text": [
      "Adding demo Transcript Data to Vector Store\n"
     ]
    },
    {
     "name": "stderr",
     "output_type": "stream",
     "text": [
      "2025-02-17 13:09:20,643 - 8645349184 - __init__.py-__init__:537 - WARNING: Overriding of current TracerProvider is not allowed\n"
     ]
    },
    {
     "name": "stdout",
     "output_type": "stream",
     "text": [
      "Retrying due to error: Failed to convert text into a Pydantic model due to the following error: Instructor does not support multiple tool calls, use List[Model] instead\n",
      "Adding Analysis Data to Vector Store\n"
     ]
    },
    {
     "name": "stderr",
     "output_type": "stream",
     "text": [
      "Getting Data:  50%|█████     | 3/6 [01:30<01:37, 32.46s/it]2025-02-17 13:09:47,295 - 8645349184 - __init__.py-__init__:537 - WARNING: Overriding of current TracerProvider is not allowed\n"
     ]
    },
    {
     "name": "stdout",
     "output_type": "stream",
     "text": [
      "Getting Data for Coca Cola\n",
      "Adding Research Data to Vector Store\n"
     ]
    },
    {
     "name": "stderr",
     "output_type": "stream",
     "text": [
      "2025-02-17 13:09:50,097 - 8645349184 - __init__.py-__init__:537 - WARNING: Overriding of current TracerProvider is not allowed\n"
     ]
    },
    {
     "name": "stdout",
     "output_type": "stream",
     "text": [
      "Adding demo Transcript Data to Vector Store\n"
     ]
    },
    {
     "name": "stderr",
     "output_type": "stream",
     "text": [
      "2025-02-17 13:09:56,579 - 8645349184 - __init__.py-__init__:537 - WARNING: Overriding of current TracerProvider is not allowed\n"
     ]
    },
    {
     "name": "stdout",
     "output_type": "stream",
     "text": [
      "Adding Analysis Data to Vector Store\n"
     ]
    },
    {
     "name": "stderr",
     "output_type": "stream",
     "text": [
      "Getting Data:  67%|██████▋   | 4/6 [01:44<00:49, 24.97s/it]2025-02-17 13:10:00,786 - 8645349184 - __init__.py-__init__:537 - WARNING: Overriding of current TracerProvider is not allowed\n"
     ]
    },
    {
     "name": "stdout",
     "output_type": "stream",
     "text": [
      "Getting Data for Equinix\n",
      "Adding Research Data to Vector Store\n"
     ]
    },
    {
     "name": "stderr",
     "output_type": "stream",
     "text": [
      "2025-02-17 13:10:03,353 - 8645349184 - __init__.py-__init__:537 - WARNING: Overriding of current TracerProvider is not allowed\n"
     ]
    },
    {
     "name": "stdout",
     "output_type": "stream",
     "text": [
      "Adding demo Transcript Data to Vector Store\n"
     ]
    },
    {
     "name": "stderr",
     "output_type": "stream",
     "text": [
      "2025-02-17 13:10:10,031 - 8645349184 - __init__.py-__init__:537 - WARNING: Overriding of current TracerProvider is not allowed\n"
     ]
    },
    {
     "name": "stdout",
     "output_type": "stream",
     "text": [
      "Retrying due to error: Failed to convert text into a Pydantic model due to the following error: Instructor does not support multiple tool calls, use List[Model] instead\n",
      "Adding Analysis Data to Vector Store\n"
     ]
    },
    {
     "name": "stderr",
     "output_type": "stream",
     "text": [
      "Getting Data:  83%|████████▎ | 5/6 [02:21<00:29, 29.33s/it]2025-02-17 13:10:37,833 - 8645349184 - __init__.py-__init__:537 - WARNING: Overriding of current TracerProvider is not allowed\n"
     ]
    },
    {
     "name": "stdout",
     "output_type": "stream",
     "text": [
      "Getting Data for Caterpillar, Inc.\n",
      "Adding Research Data to Vector Store\n"
     ]
    },
    {
     "name": "stderr",
     "output_type": "stream",
     "text": [
      "2025-02-17 13:10:41,188 - 8645349184 - __init__.py-__init__:537 - WARNING: Overriding of current TracerProvider is not allowed\n"
     ]
    },
    {
     "name": "stdout",
     "output_type": "stream",
     "text": [
      "Adding demo Transcript Data to Vector Store\n"
     ]
    },
    {
     "name": "stderr",
     "output_type": "stream",
     "text": [
      "2025-02-17 13:10:47,537 - 8645349184 - __init__.py-__init__:537 - WARNING: Overriding of current TracerProvider is not allowed\n"
     ]
    },
    {
     "name": "stdout",
     "output_type": "stream",
     "text": [
      "Retrying due to error: Failed to convert text into a Pydantic model due to the following error: Instructor does not support multiple tool calls, use List[Model] instead\n",
      "Retrying due to error: Failed to convert text into a Pydantic model due to the following error: Instructor does not support multiple tool calls, use List[Model] instead\n",
      "Adding Analysis Data to Vector Store\n"
     ]
    },
    {
     "name": "stderr",
     "output_type": "stream",
     "text": [
      "Getting Data: 100%|██████████| 6/6 [03:22<00:00, 33.72s/it]\n"
     ]
    }
   ],
   "source": [
    "demo_calls_data = asyncio.run(make_call(DEMO, clients, buyer_inputs))"
   ]
  },
  {
   "cell_type": "code",
   "execution_count": 7,
   "metadata": {},
   "outputs": [
    {
     "name": "stdout",
     "output_type": "stream",
     "text": [
      "Making pricing call for ['Cardinal Health', 'BMC Software', 'Grant Thornton', 'Coca Cola', 'Equinix', 'Caterpillar, Inc.']\n",
      "Getting analysis Data\n",
      "Number of Clients:  6\n"
     ]
    },
    {
     "name": "stderr",
     "output_type": "stream",
     "text": [
      "Getting Data:   0%|          | 0/6 [00:00<?, ?it/s]2025-02-17 13:11:38,780 - 8645349184 - __init__.py-__init__:537 - WARNING: Overriding of current TracerProvider is not allowed\n"
     ]
    },
    {
     "name": "stdout",
     "output_type": "stream",
     "text": [
      "Getting Data for Cardinal Health\n",
      "Data exists but pricing transcript not found\n",
      "Adding pricing Transcript Data to Vector Store\n"
     ]
    },
    {
     "name": "stderr",
     "output_type": "stream",
     "text": [
      "2025-02-17 13:11:45,513 - 8645349184 - __init__.py-__init__:537 - WARNING: Overriding of current TracerProvider is not allowed\n"
     ]
    },
    {
     "name": "stdout",
     "output_type": "stream",
     "text": [
      "Adding Analysis Data to Vector Store\n"
     ]
    },
    {
     "name": "stderr",
     "output_type": "stream",
     "text": [
      "Getting Data:  17%|█▋        | 1/6 [00:10<00:51, 10.34s/it]2025-02-17 13:11:49,115 - 8645349184 - __init__.py-__init__:537 - WARNING: Overriding of current TracerProvider is not allowed\n"
     ]
    },
    {
     "name": "stdout",
     "output_type": "stream",
     "text": [
      "Getting Data for BMC Software\n",
      "Data exists but pricing transcript not found\n",
      "Adding pricing Transcript Data to Vector Store\n"
     ]
    },
    {
     "name": "stderr",
     "output_type": "stream",
     "text": [
      "2025-02-17 13:11:55,270 - 8645349184 - __init__.py-__init__:537 - WARNING: Overriding of current TracerProvider is not allowed\n"
     ]
    },
    {
     "name": "stdout",
     "output_type": "stream",
     "text": [
      "Adding Analysis Data to Vector Store\n"
     ]
    },
    {
     "name": "stderr",
     "output_type": "stream",
     "text": [
      "Getting Data:  33%|███▎      | 2/6 [00:20<00:40, 10.12s/it]2025-02-17 13:11:59,084 - 8645349184 - __init__.py-__init__:537 - WARNING: Overriding of current TracerProvider is not allowed\n"
     ]
    },
    {
     "name": "stdout",
     "output_type": "stream",
     "text": [
      "Getting Data for Grant Thornton\n",
      "Data exists but pricing transcript not found\n",
      "Adding pricing Transcript Data to Vector Store\n"
     ]
    },
    {
     "name": "stderr",
     "output_type": "stream",
     "text": [
      "2025-02-17 13:12:05,931 - 8645349184 - __init__.py-__init__:537 - WARNING: Overriding of current TracerProvider is not allowed\n"
     ]
    },
    {
     "name": "stdout",
     "output_type": "stream",
     "text": [
      "Adding Analysis Data to Vector Store\n"
     ]
    },
    {
     "name": "stderr",
     "output_type": "stream",
     "text": [
      "Getting Data:  50%|█████     | 3/6 [00:31<00:31, 10.54s/it]2025-02-17 13:12:10,132 - 8645349184 - __init__.py-__init__:537 - WARNING: Overriding of current TracerProvider is not allowed\n"
     ]
    },
    {
     "name": "stdout",
     "output_type": "stream",
     "text": [
      "Getting Data for Coca Cola\n",
      "Data exists but pricing transcript not found\n",
      "Adding pricing Transcript Data to Vector Store\n"
     ]
    },
    {
     "name": "stderr",
     "output_type": "stream",
     "text": [
      "2025-02-17 13:12:15,670 - 8645349184 - __init__.py-__init__:537 - WARNING: Overriding of current TracerProvider is not allowed\n"
     ]
    },
    {
     "name": "stdout",
     "output_type": "stream",
     "text": [
      "Adding Analysis Data to Vector Store\n"
     ]
    },
    {
     "name": "stderr",
     "output_type": "stream",
     "text": [
      "Getting Data:  67%|██████▋   | 4/6 [00:40<00:19,  9.95s/it]2025-02-17 13:12:19,182 - 8645349184 - __init__.py-__init__:537 - WARNING: Overriding of current TracerProvider is not allowed\n"
     ]
    },
    {
     "name": "stdout",
     "output_type": "stream",
     "text": [
      "Getting Data for Equinix\n",
      "Data exists but pricing transcript not found\n",
      "Adding pricing Transcript Data to Vector Store\n"
     ]
    },
    {
     "name": "stderr",
     "output_type": "stream",
     "text": [
      "2025-02-17 13:12:24,571 - 8645349184 - __init__.py-__init__:537 - WARNING: Overriding of current TracerProvider is not allowed\n"
     ]
    },
    {
     "name": "stdout",
     "output_type": "stream",
     "text": [
      "Adding Analysis Data to Vector Store\n"
     ]
    },
    {
     "name": "stderr",
     "output_type": "stream",
     "text": [
      "Getting Data:  83%|████████▎ | 5/6 [00:49<00:09,  9.53s/it]2025-02-17 13:12:27,964 - 8645349184 - __init__.py-__init__:537 - WARNING: Overriding of current TracerProvider is not allowed\n"
     ]
    },
    {
     "name": "stdout",
     "output_type": "stream",
     "text": [
      "Getting Data for Caterpillar, Inc.\n",
      "Data exists but pricing transcript not found\n",
      "Adding pricing Transcript Data to Vector Store\n"
     ]
    },
    {
     "name": "stderr",
     "output_type": "stream",
     "text": [
      "2025-02-17 13:12:32,611 - 8645349184 - __init__.py-__init__:537 - WARNING: Overriding of current TracerProvider is not allowed\n"
     ]
    },
    {
     "name": "stdout",
     "output_type": "stream",
     "text": [
      "Adding Analysis Data to Vector Store\n"
     ]
    },
    {
     "name": "stderr",
     "output_type": "stream",
     "text": [
      "Getting Data: 100%|██████████| 6/6 [00:57<00:00,  9.52s/it]\n"
     ]
    }
   ],
   "source": [
    "pricing_call_data = asyncio.run(make_call(PRICING, clients, buyer_inputs))"
   ]
  },
  {
   "cell_type": "code",
   "execution_count": 8,
   "metadata": {},
   "outputs": [
    {
     "name": "stdout",
     "output_type": "stream",
     "text": [
      "Making negotiation call for ['Cardinal Health', 'BMC Software', 'Grant Thornton', 'Coca Cola', 'Equinix', 'Caterpillar, Inc.']\n",
      "Getting analysis Data\n",
      "Number of Clients:  6\n"
     ]
    },
    {
     "name": "stderr",
     "output_type": "stream",
     "text": [
      "Getting Data:   0%|          | 0/6 [00:00<?, ?it/s]2025-02-17 13:12:35,921 - 8645349184 - __init__.py-__init__:537 - WARNING: Overriding of current TracerProvider is not allowed\n"
     ]
    },
    {
     "name": "stdout",
     "output_type": "stream",
     "text": [
      "Getting Data for Cardinal Health\n",
      "Data exists but pricing transcript not found\n",
      "Adding negotiation Transcript Data to Vector Store\n"
     ]
    },
    {
     "name": "stderr",
     "output_type": "stream",
     "text": [
      "2025-02-17 13:12:40,906 - 8645349184 - __init__.py-__init__:537 - WARNING: Overriding of current TracerProvider is not allowed\n"
     ]
    },
    {
     "name": "stdout",
     "output_type": "stream",
     "text": [
      "Adding Analysis Data to Vector Store\n"
     ]
    },
    {
     "name": "stderr",
     "output_type": "stream",
     "text": [
      "Getting Data:  17%|█▋        | 1/6 [00:08<00:44,  8.87s/it]2025-02-17 13:12:44,793 - 8645349184 - __init__.py-__init__:537 - WARNING: Overriding of current TracerProvider is not allowed\n"
     ]
    },
    {
     "name": "stdout",
     "output_type": "stream",
     "text": [
      "Getting Data for BMC Software\n",
      "Data exists but pricing transcript not found\n",
      "Adding negotiation Transcript Data to Vector Store\n"
     ]
    },
    {
     "name": "stderr",
     "output_type": "stream",
     "text": [
      "2025-02-17 13:12:49,816 - 8645349184 - __init__.py-__init__:537 - WARNING: Overriding of current TracerProvider is not allowed\n"
     ]
    },
    {
     "name": "stdout",
     "output_type": "stream",
     "text": [
      "Adding Analysis Data to Vector Store\n"
     ]
    },
    {
     "name": "stderr",
     "output_type": "stream",
     "text": [
      "Getting Data:  33%|███▎      | 2/6 [00:17<00:34,  8.66s/it]2025-02-17 13:12:53,309 - 8645349184 - __init__.py-__init__:537 - WARNING: Overriding of current TracerProvider is not allowed\n"
     ]
    },
    {
     "name": "stdout",
     "output_type": "stream",
     "text": [
      "Getting Data for Grant Thornton\n",
      "Data exists but pricing transcript not found\n",
      "Adding negotiation Transcript Data to Vector Store\n"
     ]
    },
    {
     "name": "stderr",
     "output_type": "stream",
     "text": [
      "2025-02-17 13:12:57,674 - 8645349184 - __init__.py-__init__:537 - WARNING: Overriding of current TracerProvider is not allowed\n"
     ]
    },
    {
     "name": "stdout",
     "output_type": "stream",
     "text": [
      "Adding Analysis Data to Vector Store\n"
     ]
    },
    {
     "name": "stderr",
     "output_type": "stream",
     "text": [
      "Getting Data:  50%|█████     | 3/6 [00:25<00:25,  8.56s/it]2025-02-17 13:13:01,754 - 8645349184 - __init__.py-__init__:537 - WARNING: Overriding of current TracerProvider is not allowed\n"
     ]
    },
    {
     "name": "stdout",
     "output_type": "stream",
     "text": [
      "Getting Data for Coca Cola\n",
      "Data exists but pricing transcript not found\n",
      "Adding negotiation Transcript Data to Vector Store\n"
     ]
    },
    {
     "name": "stderr",
     "output_type": "stream",
     "text": [
      "2025-02-17 13:13:07,019 - 8645349184 - __init__.py-__init__:537 - WARNING: Overriding of current TracerProvider is not allowed\n"
     ]
    },
    {
     "name": "stdout",
     "output_type": "stream",
     "text": [
      "Adding Analysis Data to Vector Store\n"
     ]
    },
    {
     "name": "stderr",
     "output_type": "stream",
     "text": [
      "Getting Data:  67%|██████▋   | 4/6 [00:35<00:17,  8.87s/it]2025-02-17 13:13:11,098 - 8645349184 - __init__.py-__init__:537 - WARNING: Overriding of current TracerProvider is not allowed\n"
     ]
    },
    {
     "name": "stdout",
     "output_type": "stream",
     "text": [
      "Getting Data for Equinix\n",
      "Data exists but pricing transcript not found\n",
      "Adding negotiation Transcript Data to Vector Store\n"
     ]
    },
    {
     "name": "stderr",
     "output_type": "stream",
     "text": [
      "2025-02-17 13:13:17,512 - 8645349184 - __init__.py-__init__:537 - WARNING: Overriding of current TracerProvider is not allowed\n"
     ]
    },
    {
     "name": "stdout",
     "output_type": "stream",
     "text": [
      "Adding Analysis Data to Vector Store\n"
     ]
    },
    {
     "name": "stderr",
     "output_type": "stream",
     "text": [
      "Getting Data:  83%|████████▎ | 5/6 [00:44<00:08,  8.99s/it]2025-02-17 13:13:20,315 - 8645349184 - __init__.py-__init__:537 - WARNING: Overriding of current TracerProvider is not allowed\n"
     ]
    },
    {
     "name": "stdout",
     "output_type": "stream",
     "text": [
      "Getting Data for Caterpillar, Inc.\n",
      "Data exists but pricing transcript not found\n",
      "Adding negotiation Transcript Data to Vector Store\n"
     ]
    },
    {
     "name": "stderr",
     "output_type": "stream",
     "text": [
      "2025-02-17 13:13:26,756 - 8645349184 - __init__.py-__init__:537 - WARNING: Overriding of current TracerProvider is not allowed\n"
     ]
    },
    {
     "name": "stdout",
     "output_type": "stream",
     "text": [
      "Adding Analysis Data to Vector Store\n"
     ]
    },
    {
     "name": "stderr",
     "output_type": "stream",
     "text": [
      "Getting Data: 100%|██████████| 6/6 [00:54<00:00,  9.15s/it]\n"
     ]
    }
   ],
   "source": [
    "negotiation_call_data = asyncio.run(make_call(NEGOTIATION, clients, buyer_inputs))"
   ]
  },
  {
   "cell_type": "markdown",
   "metadata": {},
   "source": [
    "## Queries"
   ]
  },
  {
   "cell_type": "code",
   "execution_count": 9,
   "metadata": {},
   "outputs": [],
   "source": [
    "# len(index._storage_context.vector_store._collection.get()['metadatas'])"
   ]
  },
  {
   "cell_type": "code",
   "execution_count": 10,
   "metadata": {},
   "outputs": [],
   "source": [
    "from echo.queries import get_queries\n",
    "\n",
    "seller = \"Whatfix\"\n",
    "queries = get_queries(seller)"
   ]
  },
  {
   "cell_type": "code",
   "execution_count": 11,
   "metadata": {},
   "outputs": [
    {
     "name": "stdout",
     "output_type": "stream",
     "text": [
      "Total queries:  4\n"
     ]
    }
   ],
   "source": [
    "print(\"Total queries: \", len(queries))"
   ]
  },
  {
   "cell_type": "code",
   "execution_count": 12,
   "metadata": {},
   "outputs": [
    {
     "data": {
      "text/plain": [
       "dict_keys(['discovery', 'demo', 'pricing', 'negotiation'])"
      ]
     },
     "execution_count": 12,
     "metadata": {},
     "output_type": "execute_result"
    }
   ],
   "source": [
    "queries.keys()"
   ]
  },
  {
   "cell_type": "code",
   "execution_count": 13,
   "metadata": {},
   "outputs": [],
   "source": [
    "# vector_index.storage_context.vector_store._collection.get()['metadatas']"
   ]
  },
  {
   "cell_type": "code",
   "execution_count": 14,
   "metadata": {},
   "outputs": [
    {
     "name": "stdout",
     "output_type": "stream",
     "text": [
      "Running queries for call type discovery\n"
     ]
    },
    {
     "name": "stderr",
     "output_type": "stream",
     "text": [
      "Running Queries:   0%|          | 0/8 [00:00<?, ?it/s]"
     ]
    },
    {
     "name": "stdout",
     "output_type": "stream",
     "text": [
      "Running sub query What all pieces of information about the buyer are uncovered in discovery calls of successful deals?\n",
      "Sub query context {'query': 'What all pieces of information about the buyer are uncovered in discovery calls of successful deals?', 'context': 'Relevant Context:\\nThe pain points, objections, time lines, success indicators, budget constraints, competition, and decision committee members of the buyer are uncovered in discovery calls of successful deals.'}\n",
      "Running sub query What all piece of information have we learnt about the buyer from discovery till now?\n"
     ]
    },
    {
     "name": "stderr",
     "output_type": "stream",
     "text": [
      "2025-02-17 13:13:35,707 - 8645349184 - __init__.py-__init__:537 - WARNING: Overriding of current TracerProvider is not allowed\n"
     ]
    },
    {
     "name": "stdout",
     "output_type": "stream",
     "text": [
      "Sub query context {'query': 'What all piece of information have we learnt about the buyer from discovery till now?', 'context': 'Relevant Context:\\nThe buyer, BMC Software, is dealing with complex IT problems that hinder their ability to minimize cost and effort. They are struggling with remote monitoring and management of host systems. BMC Software is unsure if digital adoption platforms can meet their specific requirements and they need a customized solution that can integrate with existing systems and provide advanced analytics and performance support. They are open to exploring different pricing models and have not set a specific budget yet. The decision committee includes Ayman Sayed (CEO), John Moores (Founder), and IT department stakeholders. The buyer is looking for a digital adoption platform that can provide a significant reduction in cost and effort, as well as an improvement in user adoption and satisfaction. They have a timeline of 6-12 months for implementing a digital adoption platform and are considering competitors like WalkMe, Pendo, and Userpilot.'}\n",
      "Running final query Given all the information needed to uncover and the current information uncovered till now - What all pieces of information are missing that should be uner and the current information uncovered till nowWhat all pieces of information are missing that should be uncovered in upcoming calls?\n"
     ]
    },
    {
     "name": "stderr",
     "output_type": "stream",
     "text": [
      "Running Queries:  12%|█▎        | 1/8 [00:08<01:01,  8.79s/it]"
     ]
    },
    {
     "name": "stdout",
     "output_type": "stream",
     "text": [
      "Trying to parse with Ast...\n",
      "Running sub query What are the top priorities for the account to solve for?\n"
     ]
    },
    {
     "name": "stderr",
     "output_type": "stream",
     "text": [
      "2025-02-17 13:13:40,887 - 8645349184 - __init__.py-__init__:537 - WARNING: Overriding of current TracerProvider is not allowed\n"
     ]
    },
    {
     "name": "stdout",
     "output_type": "stream",
     "text": [
      "Sub query context {'query': 'What are the top priorities for the account to solve for?', 'context': 'Relevant Context:\\nThe top priorities for the account to solve for are digital transformation, IT modernization, and mainframe optimization.'}\n",
      "Running final query What are the top priorities this quarter for the account to solve for?\n"
     ]
    },
    {
     "name": "stderr",
     "output_type": "stream",
     "text": [
      "Running Queries:  25%|██▌       | 2/8 [00:12<00:35,  5.93s/it]"
     ]
    },
    {
     "name": "stdout",
     "output_type": "stream",
     "text": [
      "Trying to parse with Ast...\n",
      "Running sub query What are the top priorities and possible pains for my prospect in the upcoming quarters?\n",
      "Sub query context {'query': 'What are the top priorities and possible pains for my prospect in the upcoming quarters?', 'context': 'Relevant Context:\\nThe top priorities for your prospect in the upcoming quarters are digital transformation, IT modernization, and mainframe optimization. Possible pains they may face include complex IT environments affecting digital transformation, lack of visibility into IT operations hindering IT modernization, difficulty in scaling IT resources for mainframe optimization, inefficient user onboarding and training processes, inadequate performance support for software adoption, high costs associated with user support and training, the need for a customized digital adoption platform, requirement for a scalable solution to support large user bases, desire for a user-friendly interface and good user experience, and the importance of strong analytics capabilities for IT operations.'}\n",
      "Running sub query What are the historical ways to present the product value prop to similar buyers\n"
     ]
    },
    {
     "name": "stderr",
     "output_type": "stream",
     "text": [
      "2025-02-17 13:13:47,440 - 8645349184 - __init__.py-__init__:537 - WARNING: Overriding of current TracerProvider is not allowed\n"
     ]
    },
    {
     "name": "stdout",
     "output_type": "stream",
     "text": [
      "Sub query context {'query': 'What are the historical ways to present the product value prop to similar buyers', 'context': \"Relevant Context:\\nHistorically, the ways to present the product value proposition to similar buyers have included highlighting how the product can address specific pain points identified during the discovery call, showcasing success indicators that align with the buyer's objectives, providing insights into how the product can improve efficiency or reduce costs, offering objection resolutions that address concerns raised by the buyer, and emphasizing the unique selling points that differentiate the product from competitors in the industry.\"}\n",
      "Running final query Given stakeholder priorities and historical ways we've presented product to similar buyers - How can I present the value proposition of this product that aligns with my prospects industry and current stakeholders priorities?\n"
     ]
    },
    {
     "name": "stderr",
     "output_type": "stream",
     "text": [
      "Running Queries:  38%|███▊      | 3/8 [00:19<00:31,  6.37s/it]"
     ]
    },
    {
     "name": "stdout",
     "output_type": "stream",
     "text": [
      "Trying to parse with Ast...\n",
      "Running sub query What are the top relevant discovery questions that have been successful for similar buyers and the respective stakeholder?\n"
     ]
    },
    {
     "name": "stderr",
     "output_type": "stream",
     "text": [
      "2025-02-17 13:13:52,598 - 8645349184 - __init__.py-__init__:537 - WARNING: Overriding of current TracerProvider is not allowed\n"
     ]
    },
    {
     "name": "stdout",
     "output_type": "stream",
     "text": [
      "Sub query context {'query': 'What are the top relevant discovery questions that have been successful for similar buyers and the respective stakeholder?', 'context': \"Relevant Context:\\nCan you please introduce yourself and tell me a little bit about your role within the organization?\\nCan you tell me more about the current challenges you're facing when it comes to employee training and support?\\nWhat are some of the pain points you're experiencing?\\nCan you tell me more about your current software landscape and what systems you're currently using?\\nCan you tell me more about your decision-making process and what the timeline looks like for implementing a new solution?\\nWhat are you hoping to achieve with a new solution in terms of metrics or KPIs?\\nWhat are the next steps if we're interested in moving forward with Whatfix?\"}\n",
      "Running final query What are the top relevant discovery questions that have been successful for similar buyers and the respective stakeholder?\n"
     ]
    },
    {
     "name": "stderr",
     "output_type": "stream",
     "text": [
      "Running Queries:  50%|█████     | 4/8 [00:25<00:24,  6.12s/it]"
     ]
    },
    {
     "name": "stdout",
     "output_type": "stream",
     "text": [
      "Trying to parse with Ast...\n",
      "Running sub query What are the top competitors for the account and what are the key differentiators?\n",
      "Sub query context {'query': 'What are the top competitors for the account and what are the key differentiators?', 'context': 'Relevant Context:\\nThe top competitors for the account are WalkMe, Pendo, Userpilot, VisualSP, and Appcues. The key differentiators for these competitors are as follows:\\n\\n- WalkMe: AI-powered guidance and real-time analytics.\\n- Pendo: Product experience platform and in-app guidance.\\n- Userpilot: Code-free implementation and real-time feedback.\\n- VisualSP: Customizable digital adoption platform and focus on small to medium-sized businesses.\\n- Appcues: No-code workflow builder and emphasis on user onboarding.'}\n",
      "Running sub query Who are my top competitors and how do i differentiate ourselves compared to each of them to better solve the buyers issues?\n"
     ]
    },
    {
     "name": "stderr",
     "output_type": "stream",
     "text": [
      "2025-02-17 13:14:00,126 - 8645349184 - __init__.py-__init__:537 - WARNING: Overriding of current TracerProvider is not allowed\n"
     ]
    },
    {
     "name": "stdout",
     "output_type": "stream",
     "text": [
      "Sub query context {'query': 'Who are my top competitors and how do i differentiate ourselves compared to each of them to better solve the buyers issues?', 'context': \"Relevant Context:\\nYour top competitor mentioned in the context is WalkMe. To differentiate yourself from WalkMe, you can highlight Whatfix's ability to provide advanced analytics capabilities, integrate seamlessly with existing systems, reduce training time and costs, improve overall employee productivity, and ensure a sufficient ROI. Emphasizing these strengths can help address the buyer's pain points such as difficulty in onboarding new users to enterprise software, limited analytics capabilities, and budget constraints while showcasing the unique value proposition of Whatfix compared to WalkMe.\"}\n",
      "Running final query What are my top competitors and our differentiation?\n"
     ]
    },
    {
     "name": "stderr",
     "output_type": "stream",
     "text": [
      "Running Queries:  62%|██████▎   | 5/8 [00:32<00:19,  6.46s/it]"
     ]
    },
    {
     "name": "stdout",
     "output_type": "stream",
     "text": [
      "Trying to parse with Ast...\n",
      "Running sub query What all questions and information about the decision making process do i need to gather from the buyer?\n",
      "Sub query context {'query': 'What all questions and information about the decision making process do i need to gather from the buyer?', 'context': \"Relevant Context:\\nYou need to gather information about the buyer's decision-making process by asking questions such as:\\n- Can you tell me more about your decision-making process and what the timeline looks like for implementing a new solution?\\n- Who else is involved in the decision-making process for this purchase?\\n- We'll need to discuss this further internally and review our budget constraints before making a decision.\"}\n",
      "Running sub query What all pieces of information do i already have about the decision makers and buying committee?\n"
     ]
    },
    {
     "name": "stderr",
     "output_type": "stream",
     "text": [
      "2025-02-17 13:14:06,464 - 8645349184 - __init__.py-__init__:537 - WARNING: Overriding of current TracerProvider is not allowed\n"
     ]
    },
    {
     "name": "stdout",
     "output_type": "stream",
     "text": [
      "Sub query context {'query': 'What all pieces of information do i already have about the decision makers and buying committee?', 'context': 'Relevant Context:\\nThe members of the decision committee identified in the calls are John, the Director of IT Operations at BMC Software, Ayman Sayed (CEO), John Moores (Founder), and stakeholders from the IT department.'}\n",
      "Running final query What all pieces of information about the decision making committee is pending given the current information I have?\n"
     ]
    },
    {
     "name": "stderr",
     "output_type": "stream",
     "text": [
      "Running Queries:  75%|███████▌  | 6/8 [00:37<00:12,  6.05s/it]"
     ]
    },
    {
     "name": "stdout",
     "output_type": "stream",
     "text": [
      "Trying to parse with Ast...\n",
      "Running sub query Based on the historical calls with the buyer, what are some ways or topics to build rapport?\n",
      "Sub query context {'query': 'Based on the historical calls with the buyer, what are some ways or topics to build rapport?', 'context': \"Relevant Context:\\nSome ways or topics to build rapport based on the historical calls with the buyer could include discussing the buyer's role and challenges they are facing, understanding their specific pain points and objectives, showing insights into their business goals and challenges, addressing objections raised by the buyer, providing tailored resolutions to their concerns, discussing the decision-making process and key decision-makers involved, sharing success indicators and timelines, and offering examples of how your solution can help improve their current situation.\"}\n",
      "Running sub query Based on similar buyers, what kind of talking points about the industry could help build rapport?\n",
      "Sub query context {'query': 'Based on similar buyers, what kind of talking points about the industry could help build rapport?', 'context': 'Relevant Context:\\nTalking points about the industry such as challenges faced by other buyers in the beverage industry, changing consumer preferences, competition within the industry, and the need to adapt to evolving business landscapes could help build rapport with similar buyers. Additionally, discussing common pain points like inefficient training processes, limited visibility into software adoption, and the importance of improving employee productivity and efficiency could also resonate with buyers in the industry.'}\n",
      "Running sub query Based on the external research of the buyer, what kind of talking points could help build rapport?\n"
     ]
    },
    {
     "name": "stderr",
     "output_type": "stream",
     "text": [
      "2025-02-17 13:14:13,916 - 8645349184 - __init__.py-__init__:537 - WARNING: Overriding of current TracerProvider is not allowed\n"
     ]
    },
    {
     "name": "stdout",
     "output_type": "stream",
     "text": [
      "Sub query context {'query': 'Based on the external research of the buyer, what kind of talking points could help build rapport?', 'context': \"Relevant Context:\\nTalking points that could help build rapport include discussing BMC Software's goals of digital transformation, IT modernization, and mainframe optimization. Additionally, highlighting their challenges with complex IT environments, lack of visibility into IT operations, and difficulty in scaling IT resources could show understanding and empathy towards their current situation. Bringing up the importance of advanced analytics, performance support, and the need for a customizable digital adoption platform tailored to their specific requirements could also resonate well with BMC Software.\"}\n",
      "Running final query what are some rapport building cues I could use with the prospect?\n"
     ]
    },
    {
     "name": "stderr",
     "output_type": "stream",
     "text": [
      "Running Queries:  88%|████████▊ | 7/8 [00:46<00:06,  6.88s/it]"
     ]
    },
    {
     "name": "stdout",
     "output_type": "stream",
     "text": [
      "Trying to parse with Ast...\n",
      "Running sub query What are some possible objections the prospect could raise regarding our offering based on similar buyers in the past. Also provide how to handle them?\n",
      "Sub query context {'query': 'What are some possible objections the prospect could raise regarding our offering based on similar buyers in the past. Also provide how to handle them?', 'context': 'Relevant Context:\\nPossible objections the prospect could raise regarding the offering based on similar buyers in the past are concerns about potential disruption to current workflows and operations, the need for customization and flexibility in the solution, and concerns about the cost of implementing the solution.\\n\\nTo handle these objections:\\n1. Concerns about potential disruption to current workflows and operations:\\nResolution: Highlight that the solution is highly customizable and flexible to meet the unique needs of the organization. Emphasize that the implementation process is designed to minimize disruptions and ensure a smooth transition.\\n\\n2. Need for customization and flexibility in the solution:\\nResolution: Reassure the prospect that the offering is designed to be highly customizable and flexible to adapt to their specific requirements. Provide examples of how the solution has successfully met the unique needs of other similar buyers.\\n\\n3. Concerns about the cost of implementing the solution:\\nResolution: Work with the prospect to understand their budget constraints and develop a customized pricing plan that aligns with their financial requirements. Emphasize the value and return on investment that the solution can provide to justify the cost.'}\n",
      "Running sub query What are some possible objections the buyer could raise given their details and pains?\n"
     ]
    },
    {
     "name": "stderr",
     "output_type": "stream",
     "text": [
      "2025-02-17 13:14:22,040 - 8645349184 - __init__.py-__init__:537 - WARNING: Overriding of current TracerProvider is not allowed\n"
     ]
    },
    {
     "name": "stdout",
     "output_type": "stream",
     "text": [
      "Sub query context {'query': 'What are some possible objections the buyer could raise given their details and pains?', 'context': 'Relevant Context:\\nThe possible objections the buyer could raise given their details and pains are related to concerns about the pricing model being too expensive for their enterprise, integration of the solution with their existing IT infrastructure, scalability of the digital adoption platform for their large user base, complexity of setting up and using the solution, comparison of features and pricing with competitors, level of customization provided, measurement of ROI, past experiences with digital adoption platforms, and suitability of the solution for their specific industry or use case.'}\n",
      "Running final query What are some possible objections the prospect could raise regarding our offering based on similar buyers in the past. Also provide how to handle them?\n"
     ]
    },
    {
     "name": "stderr",
     "output_type": "stream",
     "text": [
      "Running Queries: 100%|██████████| 8/8 [00:54<00:00,  6.81s/it]\n"
     ]
    },
    {
     "name": "stdout",
     "output_type": "stream",
     "text": [
      "Trying to parse with Ast...\n",
      "Running queries for call type demo\n"
     ]
    },
    {
     "name": "stderr",
     "output_type": "stream",
     "text": [
      "Running Queries:   0%|          | 0/4 [00:00<?, ?it/s]"
     ]
    },
    {
     "name": "stdout",
     "output_type": "stream",
     "text": [
      "Running sub query What are the top pains identified for the buyer in the past?\n"
     ]
    },
    {
     "name": "stderr",
     "output_type": "stream",
     "text": [
      "2025-02-17 13:14:26,916 - 8645349184 - __init__.py-__init__:537 - WARNING: Overriding of current TracerProvider is not allowed\n"
     ]
    },
    {
     "name": "stdout",
     "output_type": "stream",
     "text": [
      "Sub query context {'query': 'What are the top pains identified for the buyer in the past?', 'context': 'Relevant Context:\\nThe top pains identified for the buyer in the past were dealing with complex IT environments, lack of visibility into IT operations, manual processes leading to errors and inefficiencies, struggling with remote monitoring and management of host systems, and dealing with complex IT problems that hinder the ability to minimize cost and effort.'}\n",
      "Running final query What are the top pains identified for this account from discovery?\n"
     ]
    },
    {
     "name": "stderr",
     "output_type": "stream",
     "text": [
      "Running Queries:  25%|██▌       | 1/4 [00:03<00:11,  3.86s/it]"
     ]
    },
    {
     "name": "stdout",
     "output_type": "stream",
     "text": [
      "Trying to parse with Ast...\n",
      "Running sub query What are the top pains identified from the discovery phase?\n",
      "Sub query context {'query': 'What are the top pains identified from the discovery phase?', 'context': 'Relevant Context:\\nThe top pains identified from the discovery phase are dealing with complex IT environments, lack of visibility into IT operations, manual processes leading to errors and inefficiencies, struggling with remote monitoring and management of host systems, and dealing with complex IT problems that hinder the ability to minimize cost and effort.'}\n",
      "Running sub query What features align best with the pains identified?\n"
     ]
    },
    {
     "name": "stderr",
     "output_type": "stream",
     "text": [
      "2025-02-17 13:14:31,080 - 8645349184 - local_persistent_hnsw.py-local_persistent_hnsw:423 - WARNING: Number of requested results 3 is greater than number of elements in index 2, updating n_results = 2\n"
     ]
    },
    {
     "name": "stdout",
     "output_type": "stream",
     "text": [
      "Sub query context {'query': \"What features align best with the pains identified?\\nContext: \\nBuyer Research Fields Description: class ClientResearchResponse(BaseModel):\\n\\n\\tname: str # The name of the client.\\n\\twebsite: str # The website of the buyer.\\n\\tdescription: str # A description of the buyer.\\n\\tindustry: str # The industry that the buyer belongs to.\\n\\tcompany_size: str # The type of company size as: SMB, Mid-Market, Enterprise.\\n\\tgoals: List[str] # The goals of the buyer.\\n\\tuse_cases: List[str] # The use cases of the buyer.\\n\\tchallenges: List[str] # The challenges faced by the buyer.\\n\\tstakeholders: List[str] # The stakeholders of the buyer.\\n\\n# Name\\nBMC Software\\n# Website\\nhttps://www.bmc.com/\\n# Description\\nBMC helps customers run and reinvent their businesses with open, scalable, and modular solutions to complex IT problems.\\n# Industry\\nSoftware as a Service (SaaS)\\n# Company_Size\\nEnterprise\\n# Goals\\n   - Digital transformation\\n   - IT modernization\\n   - Mainframe optimization\\n# Use_Cases\\n   - Automating IT workflows\\n   - Managing IT resources\\n   - Optimizing IT infrastructure\\n# Challenges\\n   - Complex IT environments\\n   - Lack of visibility into IT operations\\n   - Difficulty in scaling IT resources\\n# Stakeholders\\n   - CIOs\\n   - CTOs\\n   - IT operations teams\\n   - DevOps teams\\n\\nCompetitive Info Fields Description: class CompetitorComparison(BaseModel):\\n\\n\\tname: str # The name of the competitor.\\n\\tpros: List[str] # The pros of the competitor.\\n\\tcons: List[str] # The cons of the competitor.\\n\\tdifferentiators: List[str] # The differentiators of the seller against the competitor.\\n\\n# Competitors\\n   - ### Name\\nWalkMe\\n### Pros\\n       - Leading digital adoption platform\\n       - Personalized guidance and automation\\n       - Enterprise-ready\\n### Cons\\n       - May be complex to set up\\n       - Pricing can be steep for large enterprises\\n### Differentiators\\n       - Overlays on any application\\n       - Identifies where workflows break\\n   - ### Name\\nPendo\\n### Pros\\n       - User-friendly interface\\n       - Strong analytics capabilities\\n       - Good for user onboarding\\n### Cons\\n       - Limited support for complex workflows\\n       - Pricing can be high for large enterprises\\n### Differentiators\\n       - AI-powered digital adoption platform\\n       - Creates happier customers\\n   - ### Name\\nUserpilot\\n### Pros\\n       - Highest user satisfaction\\n       - Easy to use\\n       - Good for small to medium-sized businesses\\n### Cons\\n       - Limited scalability\\n       - Limited support for complex workflows\\n### Differentiators\\n       - Highest user satisfaction\\n       - Easy to set up\\n   - ### Name\\nVisualSP\\n### Pros\\n       - Good for small to medium-sized businesses\\n       - Easy to use\\n       - Good support\\n### Cons\\n       - Limited scalability\\n       - Limited support for complex workflows\\n### Differentiators\\n       - Customizable digital adoption platform\\n       - Good for small to medium-sized businesses\\n   - ### Name\\nAppcues\\n### Pros\\n       - Easy to use\\n       - Good for user onboarding\\n       - Good support\\n### Cons\\n       - Limited scalability\\n       - Limited support for complex workflows\\n### Differentiators\\n       - Flows, a no-code workflow builder\\n       - Good for user onboarding\\n\\nAnticipated Qopcs Fields Description: class AnticipatedPainsAndObjections(BaseModel):\\n\\n\\tpains: List[str] # The pain points identified in the call.\\n\\tobjections: List[str] # The objections identified in the call.\\n\\n# Pains\\n   - Complex IT environments affecting digital transformation\\n   - Lack of visibility into IT operations hindering IT modernization\\n   - Difficulty in scaling IT resources for mainframe optimization\\n   - Inefficient user onboarding and training processes\\n   - Inadequate performance support for software adoption\\n   - High costs associated with user support and training\\n   - Need for a customized digital adoption platform\\n   - Requirement for a scalable solution to support large user bases\\n   - Desire for a user-friendly interface and good user experience\\n   - Importance of strong analytics capabilities for IT operations\\n# Objections\\n   - Whatfix's pricing model may be too expensive for our enterprise\\n   - How does Whatfix's solution integrate with our existing IT infrastructure?\\n   - Whatfix's digital adoption platform may not be scalable enough for our large user base\\n   - We're concerned about the complexity of setting up and using Whatfix's solution\\n   - How does Whatfix's solution compare to its competitors in terms of features and pricing?\\n   - We're not sure if Whatfix's solution can provide the level of customization we need\\n   - How does Whatfix measure the ROI of its digital adoption platform?\\n   - We have had bad experiences with digital adoption platforms in the past\\n   - Whatfix's solution may not be suitable for our specific industry or use case\", 'context': 'Relevant Context:\\nThe features that align best with the identified pains include providing in-app guidance, training, and performance support for software adoption, enhancing software experiences across various platforms, and improving user adoption of enterprise software.'}\n",
      "Running sub query What features best align with the pains identified for similar buyers?\n"
     ]
    },
    {
     "name": "stderr",
     "output_type": "stream",
     "text": [
      "2025-02-17 13:14:35,202 - 8645349184 - __init__.py-__init__:537 - WARNING: Overriding of current TracerProvider is not allowed\n"
     ]
    },
    {
     "name": "stdout",
     "output_type": "stream",
     "text": [
      "Sub query context {'query': \"What features best align with the pains identified for similar buyers?\\nContext: \\nBuyer Research Fields Description: class ClientResearchResponse(BaseModel):\\n\\n\\tname: str # The name of the client.\\n\\twebsite: str # The website of the buyer.\\n\\tdescription: str # A description of the buyer.\\n\\tindustry: str # The industry that the buyer belongs to.\\n\\tcompany_size: str # The type of company size as: SMB, Mid-Market, Enterprise.\\n\\tgoals: List[str] # The goals of the buyer.\\n\\tuse_cases: List[str] # The use cases of the buyer.\\n\\tchallenges: List[str] # The challenges faced by the buyer.\\n\\tstakeholders: List[str] # The stakeholders of the buyer.\\n\\n# Name\\nBMC Software\\n# Website\\nhttps://www.bmc.com/\\n# Description\\nBMC helps customers run and reinvent their businesses with open, scalable, and modular solutions to complex IT problems.\\n# Industry\\nSoftware as a Service (SaaS)\\n# Company_Size\\nEnterprise\\n# Goals\\n   - Digital transformation\\n   - IT modernization\\n   - Mainframe optimization\\n# Use_Cases\\n   - Automating IT workflows\\n   - Managing IT resources\\n   - Optimizing IT infrastructure\\n# Challenges\\n   - Complex IT environments\\n   - Lack of visibility into IT operations\\n   - Difficulty in scaling IT resources\\n# Stakeholders\\n   - CIOs\\n   - CTOs\\n   - IT operations teams\\n   - DevOps teams\\n\\nCompetitive Info Fields Description: class CompetitorComparison(BaseModel):\\n\\n\\tname: str # The name of the competitor.\\n\\tpros: List[str] # The pros of the competitor.\\n\\tcons: List[str] # The cons of the competitor.\\n\\tdifferentiators: List[str] # The differentiators of the seller against the competitor.\\n\\n# Competitors\\n   - ### Name\\nWalkMe\\n### Pros\\n       - Leading digital adoption platform\\n       - Personalized guidance and automation\\n       - Enterprise-ready\\n### Cons\\n       - May be complex to set up\\n       - Pricing can be steep for large enterprises\\n### Differentiators\\n       - Overlays on any application\\n       - Identifies where workflows break\\n   - ### Name\\nPendo\\n### Pros\\n       - User-friendly interface\\n       - Strong analytics capabilities\\n       - Good for user onboarding\\n### Cons\\n       - Limited support for complex workflows\\n       - Pricing can be high for large enterprises\\n### Differentiators\\n       - AI-powered digital adoption platform\\n       - Creates happier customers\\n   - ### Name\\nUserpilot\\n### Pros\\n       - Highest user satisfaction\\n       - Easy to use\\n       - Good for small to medium-sized businesses\\n### Cons\\n       - Limited scalability\\n       - Limited support for complex workflows\\n### Differentiators\\n       - Highest user satisfaction\\n       - Easy to set up\\n   - ### Name\\nVisualSP\\n### Pros\\n       - Good for small to medium-sized businesses\\n       - Easy to use\\n       - Good support\\n### Cons\\n       - Limited scalability\\n       - Limited support for complex workflows\\n### Differentiators\\n       - Customizable digital adoption platform\\n       - Good for small to medium-sized businesses\\n   - ### Name\\nAppcues\\n### Pros\\n       - Easy to use\\n       - Good for user onboarding\\n       - Good support\\n### Cons\\n       - Limited scalability\\n       - Limited support for complex workflows\\n### Differentiators\\n       - Flows, a no-code workflow builder\\n       - Good for user onboarding\\n\\nAnticipated Qopcs Fields Description: class AnticipatedPainsAndObjections(BaseModel):\\n\\n\\tpains: List[str] # The pain points identified in the call.\\n\\tobjections: List[str] # The objections identified in the call.\\n\\n# Pains\\n   - Complex IT environments affecting digital transformation\\n   - Lack of visibility into IT operations hindering IT modernization\\n   - Difficulty in scaling IT resources for mainframe optimization\\n   - Inefficient user onboarding and training processes\\n   - Inadequate performance support for software adoption\\n   - High costs associated with user support and training\\n   - Need for a customized digital adoption platform\\n   - Requirement for a scalable solution to support large user bases\\n   - Desire for a user-friendly interface and good user experience\\n   - Importance of strong analytics capabilities for IT operations\\n# Objections\\n   - Whatfix's pricing model may be too expensive for our enterprise\\n   - How does Whatfix's solution integrate with our existing IT infrastructure?\\n   - Whatfix's digital adoption platform may not be scalable enough for our large user base\\n   - We're concerned about the complexity of setting up and using Whatfix's solution\\n   - How does Whatfix's solution compare to its competitors in terms of features and pricing?\\n   - We're not sure if Whatfix's solution can provide the level of customization we need\\n   - How does Whatfix measure the ROI of its digital adoption platform?\\n   - We have had bad experiences with digital adoption platforms in the past\\n   - Whatfix's solution may not be suitable for our specific industry or use case\", 'context': 'Relevant Context:\\nThe features that best align with the pains identified for similar buyers include:\\n- In-app Guidance: Provides step-by-step guidance to users within the application, enhancing their software experience and addressing the pain point of struggling to find an effective way to train employees and customers.\\n- Digital Adoption Platform: Ensures seamless user onboarding and software adoption, addressing the pain point of struggling to find an effective way to train employees and customers.\\n- Employee Training: Provides an effective and scalable way to train employees, ensuring they can efficiently use digital infrastructure, addressing the pain point of struggling to find an effective way to train employees and customers.\\n- User Onboarding: Streamlines the onboarding process for new employees and customers, reducing time and costs associated with traditional training methods, addressing the pain point of struggling to find an effective way to train employees and customers.\\n- Implementation and Integration: Ensures seamless integration with existing systems and applications, addressing concerns about integration with existing systems and applications.'}\n",
      "Running final query Based on historical call features presented and the features identified from the product info, collate responses on what features to present based on pains identified\n"
     ]
    },
    {
     "name": "stderr",
     "output_type": "stream",
     "text": [
      "Running Queries:  50%|█████     | 2/4 [00:16<00:18,  9.00s/it]"
     ]
    },
    {
     "name": "stdout",
     "output_type": "stream",
     "text": [
      "Trying to parse with Ast...\n",
      "Running sub query What are the top objections that came up in discovery?\n",
      "Sub query context {'query': 'What are the top objections that came up in discovery?', 'context': 'Relevant Context:\\nThe top objections that came up in the discovery calls were related to pricing, integration with existing IT infrastructure, unsure if digital adoption platforms can meet specific requirements, and the need for a customized solution that can integrate with existing systems and provide advanced analytics and performance support.'}\n",
      "Running sub query What are the top objections that come up in demo calls for similar buyers?\n",
      "Sub query context {'query': 'What are the top objections that come up in demo calls for similar buyers?', 'context': 'Relevant Context:\\nThe top objections that come up in demo calls for similar buyers are related to budget constraints, handling integrations with existing enterprise web applications, complexity of implementing and maintaining a new solution, and concerns about customization and flexibility.'}\n",
      "Running sub query Given objections from current deal and historical deals below, how have these objections been handled successfully before in discovery and demo callsDisplay output in pairs of objection and their successful response \n"
     ]
    },
    {
     "name": "stderr",
     "output_type": "stream",
     "text": [
      "2025-02-17 13:14:50,292 - 8645349184 - __init__.py-__init__:537 - WARNING: Overriding of current TracerProvider is not allowed\n"
     ]
    },
    {
     "name": "stdout",
     "output_type": "stream",
     "text": [
      "Sub query context {'query': \"Given objections from current deal and historical deals below, how have these objections been handled successfully before in discovery and demo callsDisplay output in pairs of objection and their successful response \\nContext: \\nBuyer Research Fields Description: class ClientResearchResponse(BaseModel):\\n\\n\\tname: str # The name of the client.\\n\\twebsite: str # The website of the buyer.\\n\\tdescription: str # A description of the buyer.\\n\\tindustry: str # The industry that the buyer belongs to.\\n\\tcompany_size: str # The type of company size as: SMB, Mid-Market, Enterprise.\\n\\tgoals: List[str] # The goals of the buyer.\\n\\tuse_cases: List[str] # The use cases of the buyer.\\n\\tchallenges: List[str] # The challenges faced by the buyer.\\n\\tstakeholders: List[str] # The stakeholders of the buyer.\\n\\n# Name\\nBMC Software\\n# Website\\nhttps://www.bmc.com/\\n# Description\\nBMC helps customers run and reinvent their businesses with open, scalable, and modular solutions to complex IT problems.\\n# Industry\\nSoftware as a Service (SaaS)\\n# Company_Size\\nEnterprise\\n# Goals\\n   - Digital transformation\\n   - IT modernization\\n   - Mainframe optimization\\n# Use_Cases\\n   - Automating IT workflows\\n   - Managing IT resources\\n   - Optimizing IT infrastructure\\n# Challenges\\n   - Complex IT environments\\n   - Lack of visibility into IT operations\\n   - Difficulty in scaling IT resources\\n# Stakeholders\\n   - CIOs\\n   - CTOs\\n   - IT operations teams\\n   - DevOps teams\\n\\nCompetitive Info Fields Description: class CompetitorComparison(BaseModel):\\n\\n\\tname: str # The name of the competitor.\\n\\tpros: List[str] # The pros of the competitor.\\n\\tcons: List[str] # The cons of the competitor.\\n\\tdifferentiators: List[str] # The differentiators of the seller against the competitor.\\n\\n# Competitors\\n   - ### Name\\nWalkMe\\n### Pros\\n       - Leading digital adoption platform\\n       - Personalized guidance and automation\\n       - Enterprise-ready\\n### Cons\\n       - May be complex to set up\\n       - Pricing can be steep for large enterprises\\n### Differentiators\\n       - Overlays on any application\\n       - Identifies where workflows break\\n   - ### Name\\nPendo\\n### Pros\\n       - User-friendly interface\\n       - Strong analytics capabilities\\n       - Good for user onboarding\\n### Cons\\n       - Limited support for complex workflows\\n       - Pricing can be high for large enterprises\\n### Differentiators\\n       - AI-powered digital adoption platform\\n       - Creates happier customers\\n   - ### Name\\nUserpilot\\n### Pros\\n       - Highest user satisfaction\\n       - Easy to use\\n       - Good for small to medium-sized businesses\\n### Cons\\n       - Limited scalability\\n       - Limited support for complex workflows\\n### Differentiators\\n       - Highest user satisfaction\\n       - Easy to set up\\n   - ### Name\\nVisualSP\\n### Pros\\n       - Good for small to medium-sized businesses\\n       - Easy to use\\n       - Good support\\n### Cons\\n       - Limited scalability\\n       - Limited support for complex workflows\\n### Differentiators\\n       - Customizable digital adoption platform\\n       - Good for small to medium-sized businesses\\n   - ### Name\\nAppcues\\n### Pros\\n       - Easy to use\\n       - Good for user onboarding\\n       - Good support\\n### Cons\\n       - Limited scalability\\n       - Limited support for complex workflows\\n### Differentiators\\n       - Flows, a no-code workflow builder\\n       - Good for user onboarding\\n\\nAnticipated Qopcs Fields Description: class AnticipatedPainsAndObjections(BaseModel):\\n\\n\\tpains: List[str] # The pain points identified in the call.\\n\\tobjections: List[str] # The objections identified in the call.\\n\\n# Pains\\n   - Complex IT environments affecting digital transformation\\n   - Lack of visibility into IT operations hindering IT modernization\\n   - Difficulty in scaling IT resources for mainframe optimization\\n   - Inefficient user onboarding and training processes\\n   - Inadequate performance support for software adoption\\n   - High costs associated with user support and training\\n   - Need for a customized digital adoption platform\\n   - Requirement for a scalable solution to support large user bases\\n   - Desire for a user-friendly interface and good user experience\\n   - Importance of strong analytics capabilities for IT operations\\n# Objections\\n   - Whatfix's pricing model may be too expensive for our enterprise\\n   - How does Whatfix's solution integrate with our existing IT infrastructure?\\n   - Whatfix's digital adoption platform may not be scalable enough for our large user base\\n   - We're concerned about the complexity of setting up and using Whatfix's solution\\n   - How does Whatfix's solution compare to its competitors in terms of features and pricing?\\n   - We're not sure if Whatfix's solution can provide the level of customization we need\\n   - How does Whatfix measure the ROI of its digital adoption platform?\\n   - We have had bad experiences with digital adoption platforms in the past\\n   - Whatfix's solution may not be suitable for our specific industry or use case\\nRelevant Context:\\nThe top objections that came up in the discovery calls were related to pricing, integration with existing IT infrastructure, unsure if digital adoption platforms can meet specific requirements, and the need for a customized solution that can integrate with existing systems and provide advanced analytics and performance support.\", 'context': \"Relevant Context:\\n- Objection: Whatfix's pricing model may be too expensive for our enterprise\\n  - Resolution: We can work with you to understand your budget constraints and develop a customized pricing plan that meets your needs.\\n- Objection: How does Whatfix's solution integrate with our existing IT infrastructure?\\n  - Resolution: Whatfix integrates seamlessly with a wide range of software and systems, including CRM, ERP, and custom applications.\\n- Objection: Whatfix's digital adoption platform may not be scalable enough for our large user base\\n  - Resolution: Whatfix is designed to be highly customizable and flexible to meet the unique needs of our customers.\\n- Objection: We're concerned about the complexity of setting up and using Whatfix's solution\\n  - Resolution: Whatfix is designed to be highly customizable and flexible to meet the unique needs of our customers.\\n- Objection: How does Whatfix's solution compare to its competitors in terms of features and pricing?\\n  - Resolution: Whatfix takes the security and compliance of our customers' data very seriously. We are SOC 2 compliant, and our platform meets the highest standards for data security and encryption.\\n- Objection: We're not sure if Whatfix's solution can provide the level of customization we need\\n  - Resolution: Whatfix is designed to be highly customizable and flexible to meet the unique needs of our customers.\\n- Objection: How does Whatfix measure the ROI of its digital adoption platform?\\n  - Resolution: Our customers typically see a significant ROI from implementing Whatfix, including increased user adoption rates, improved user experience, and reduced time and effort spent on employee training and onboarding.\\n- Objection: We have had bad experiences with digital adoption platforms in the past\\n  - Resolution: Whatfix is designed to be highly customizable and flexible to meet the unique needs of our customers.\\n- Objection: Whatfix's solution may not be suitable for our specific industry or use case\\n  - Resolution: Whatfix is designed to be highly customizable and flexible to meet the unique needs of our customers.\"}\n",
      "Running final query Given objections from current deal and historical deals, How have these objections been handled successfully before in discovery and demo calls. Display output in pairs of objection and their successful response?\n"
     ]
    },
    {
     "name": "stderr",
     "output_type": "stream",
     "text": [
      "Running Queries:  75%|███████▌  | 3/4 [00:27<00:10, 10.07s/it]"
     ]
    },
    {
     "name": "stdout",
     "output_type": "stream",
     "text": [
      "Trying to parse with Ast...\n",
      "Running sub query What all pieces of information regarding pricing needs to be uncovered during pricing calls from similar buyers?\n",
      "Sub query context {'query': 'What all pieces of information regarding pricing needs to be uncovered during pricing calls from similar buyers?', 'context': \"Relevant Context:\\nThe concerns raised by the buyer, budget constraints, preferred pricing models, Key Performance Indicators (KPIs), company's financial priorities, pricing options presented by the seller, pricing levers used by the seller to sell value, negotiation tactics used by the seller, assets used by the seller to make their pitch, ROI calculators used by the seller, and historical case studies used by the seller to sell their product or service.\"}\n",
      "Running sub query What all pieces of information regarding pricing needs to be uncovered during discovery calls from similar buyers?\n",
      "Sub query context {'query': 'What all pieces of information regarding pricing needs to be uncovered during discovery calls from similar buyers?', 'context': 'Relevant Context:\\nDuring discovery calls with similar buyers, it is important to uncover information regarding the budget constraints and the need to ensure that any new solution will provide a sufficient return on investment. Additionally, understanding the potential benefits and return on investment, as well as justifying the cost of a digital adoption platform are crucial pieces of information that should be uncovered during these calls.'}\n",
      "Running sub query What all pieces of information regarding pricing needs to be uncovered during demo calls from similar buyers?\n",
      "Sub query context {'query': 'What all pieces of information regarding pricing needs to be uncovered during demo calls from similar buyers?', 'context': 'Relevant Context:\\nDuring demo calls from similar buyers, the following pieces of information regarding pricing need to be uncovered:\\n1. The cost of the solution and any budget constraints or concerns raised by the buyer.\\n2. Any objections related to the pricing or budget constraints and how they can be addressed.\\n3. Customizations or personalized features offered that may impact pricing.\\n4. Success stories or case studies related to the product or service that highlight the value proposition in relation to pricing.\\n5. Any specific questions or concerns from the buyer related to pricing, such as scalability and sustainability of the pricing model.'}\n",
      "Running sub query what all pieces of information have we uncovered about the buyer in the current deal across discovery, demo and pricing stages?\n"
     ]
    },
    {
     "name": "stderr",
     "output_type": "stream",
     "text": [
      "2025-02-17 13:15:00,430 - 8645349184 - __init__.py-__init__:537 - WARNING: Overriding of current TracerProvider is not allowed\n"
     ]
    },
    {
     "name": "stdout",
     "output_type": "stream",
     "text": [
      "Sub query context {'query': 'what all pieces of information have we uncovered about the buyer in the current deal across discovery, demo and pricing stages?', 'context': 'Relevant Context:\\nThe buyer in the current deal has revealed several key pieces of information across the discovery, demo, and pricing stages. They have identified pain points related to complex IT environments, lack of visibility into IT operations, and manual processes leading to errors and inefficiencies. Additionally, objections raised by the buyer include concerns about pricing and integration with existing IT infrastructure. The buyer has also shared a timeline for the next week for a demo, and the decision committee includes John, the Director of IT Operations at BMC Software. Furthermore, insights gathered indicate that BMC Software is undergoing a digital transformation and facing challenges with IT environments and operations.'}\n",
      "Running final query Given pieces of information we need to uncover and the information we have till now - what pending information do I need to uncover?\n"
     ]
    },
    {
     "name": "stderr",
     "output_type": "stream",
     "text": [
      "Running Queries: 100%|██████████| 4/4 [00:38<00:00,  9.57s/it]\n"
     ]
    },
    {
     "name": "stdout",
     "output_type": "stream",
     "text": [
      "Trying to parse with Ast...\n",
      "Running queries for call type pricing\n"
     ]
    },
    {
     "name": "stderr",
     "output_type": "stream",
     "text": [
      "Running Queries:   0%|          | 0/3 [00:00<?, ?it/s]"
     ]
    },
    {
     "name": "stdout",
     "output_type": "stream",
     "text": [
      "Running sub query What pricing levers have been successful in the past for similar buyers?\n",
      "Sub query context {'query': 'What pricing levers have been successful in the past for similar buyers?', 'context': 'Relevant Context:\\nPricing levers that have been successful in the past for similar buyers include emphasizing customization and flexibility, showcasing strong ROI potential, offering customized pricing plans, providing options for phased implementation, and highlighting scalability and sustainability in the business model.'}\n",
      "Running sub query What features and product offerings were received positively in discovery calls?\n",
      "Sub query context {'query': 'What features and product offerings were received positively in discovery calls?', 'context': \"Relevant Context:\\nThe features and product offerings that were received positively in the discovery calls include:\\n- Whatfix's pricing model based on a flat per-application fee and user license fees, along with free and basic plan options.\\n- Whatfix's platform being highly flexible, scalable, and capable of seamless integration with a wide range of IT infrastructures.\\n- Whatfix's digital adoption platform being highly customizable and tailored to meet specific requirements.\\n- Whatfix's ability to provide advanced analytics, performance support, AI-powered guidance, and real-time analytics.\\n- Whatfix's differentiation through its customizable platform, AI-powered guidance, and real-time analytics.\"}\n",
      "Running sub query What features and product offerings were received positively in demo calls?\n",
      "Sub query context {'query': 'What features and product offerings were received positively in demo calls?', 'context': 'Relevant Context:\\nThe features and product offerings that were received positively in the demo calls were the Digital Adoption Platform, Contextual User Experiences, Simulated Application Environments, Mirror Feature, Guidance Feature, Analytics Feature, Customizable Integration, and Implementation and Integration.'}\n",
      "Running sub query What are the top pains identified for the buyer in the past?\n"
     ]
    },
    {
     "name": "stderr",
     "output_type": "stream",
     "text": [
      "2025-02-17 13:15:10,483 - 8645349184 - __init__.py-__init__:537 - WARNING: Overriding of current TracerProvider is not allowed\n"
     ]
    },
    {
     "name": "stdout",
     "output_type": "stream",
     "text": [
      "Sub query context {'query': 'What are the top pains identified for the buyer in the past?', 'context': 'Relevant Context:\\nThe top pains identified for the buyer in the past were dealing with complex IT environments, lack of visibility into IT operations, manual processes leading to errors and inefficiencies, struggling with remote monitoring and management of host systems, and dealing with complex IT problems that hinder the ability to minimize cost and effort.'}\n",
      "Running final query Summarize the various pricing levers that will be used in a pricing call we have given the historical justifications used for similar buyers, the features that excited the buyer, and the pains mentioned by the buyer.\n"
     ]
    },
    {
     "name": "stderr",
     "output_type": "stream",
     "text": [
      "Running Queries:  33%|███▎      | 1/3 [00:10<00:20, 10.34s/it]"
     ]
    },
    {
     "name": "stdout",
     "output_type": "stream",
     "text": [
      "Trying to parse with Ast...\n",
      "Running sub query What are the top concerns and priorities of the buyer?\n",
      "Sub query context {'query': 'What are the top concerns and priorities of the buyer?', 'context': \"Relevant Context:\\nThe top concerns of the buyer are scalability, integration process, and the level of support offered for implementation and integration. The buyer's priorities include reducing costs and improving efficiency.\"}\n",
      "Running sub query what are the top objections till now around the product ROI and value?\n",
      "Sub query context {'query': 'what are the top objections till now around the product ROI and value?', 'context': 'Relevant Context:\\nThe top objections around the product ROI and value have been related to concerns about pricing, integration complexity, cost of implementation, scalability, level of support offered for implementation and integration, and ensuring that the pricing model can adapt to growing needs.'}\n",
      "Running sub query What pricing plans are relevant to buyers with pain points and priotities and top concerns around the product?\n",
      "Sub query context {'query': \"What pricing plans are relevant to buyers with pain points and priotities and top concerns around the product?\\nContext: \\nBuyer Research Fields Description: class ClientResearchResponse(BaseModel):\\n\\n\\tname: str # The name of the client.\\n\\twebsite: str # The website of the buyer.\\n\\tdescription: str # A description of the buyer.\\n\\tindustry: str # The industry that the buyer belongs to.\\n\\tcompany_size: str # The type of company size as: SMB, Mid-Market, Enterprise.\\n\\tgoals: List[str] # The goals of the buyer.\\n\\tuse_cases: List[str] # The use cases of the buyer.\\n\\tchallenges: List[str] # The challenges faced by the buyer.\\n\\tstakeholders: List[str] # The stakeholders of the buyer.\\n\\n# Name\\nBMC Software\\n# Website\\nhttps://www.bmc.com/\\n# Description\\nBMC helps customers run and reinvent their businesses with open, scalable, and modular solutions to complex IT problems.\\n# Industry\\nSoftware as a Service (SaaS)\\n# Company_Size\\nEnterprise\\n# Goals\\n   - Digital transformation\\n   - IT modernization\\n   - Mainframe optimization\\n# Use_Cases\\n   - Automating IT workflows\\n   - Managing IT resources\\n   - Optimizing IT infrastructure\\n# Challenges\\n   - Complex IT environments\\n   - Lack of visibility into IT operations\\n   - Difficulty in scaling IT resources\\n# Stakeholders\\n   - CIOs\\n   - CTOs\\n   - IT operations teams\\n   - DevOps teams\\n\\nCompetitive Info Fields Description: class CompetitorComparison(BaseModel):\\n\\n\\tname: str # The name of the competitor.\\n\\tpros: List[str] # The pros of the competitor.\\n\\tcons: List[str] # The cons of the competitor.\\n\\tdifferentiators: List[str] # The differentiators of the seller against the competitor.\\n\\n# Competitors\\n   - ### Name\\nWalkMe\\n### Pros\\n       - Leading digital adoption platform\\n       - Personalized guidance and automation\\n       - Enterprise-ready\\n### Cons\\n       - May be complex to set up\\n       - Pricing can be steep for large enterprises\\n### Differentiators\\n       - Overlays on any application\\n       - Identifies where workflows break\\n   - ### Name\\nPendo\\n### Pros\\n       - User-friendly interface\\n       - Strong analytics capabilities\\n       - Good for user onboarding\\n### Cons\\n       - Limited support for complex workflows\\n       - Pricing can be high for large enterprises\\n### Differentiators\\n       - AI-powered digital adoption platform\\n       - Creates happier customers\\n   - ### Name\\nUserpilot\\n### Pros\\n       - Highest user satisfaction\\n       - Easy to use\\n       - Good for small to medium-sized businesses\\n### Cons\\n       - Limited scalability\\n       - Limited support for complex workflows\\n### Differentiators\\n       - Highest user satisfaction\\n       - Easy to set up\\n   - ### Name\\nVisualSP\\n### Pros\\n       - Good for small to medium-sized businesses\\n       - Easy to use\\n       - Good support\\n### Cons\\n       - Limited scalability\\n       - Limited support for complex workflows\\n### Differentiators\\n       - Customizable digital adoption platform\\n       - Good for small to medium-sized businesses\\n   - ### Name\\nAppcues\\n### Pros\\n       - Easy to use\\n       - Good for user onboarding\\n       - Good support\\n### Cons\\n       - Limited scalability\\n       - Limited support for complex workflows\\n### Differentiators\\n       - Flows, a no-code workflow builder\\n       - Good for user onboarding\\n\\nAnticipated Qopcs Fields Description: class AnticipatedPainsAndObjections(BaseModel):\\n\\n\\tpains: List[str] # The pain points identified in the call.\\n\\tobjections: List[str] # The objections identified in the call.\\n\\n# Pains\\n   - Complex IT environments affecting digital transformation\\n   - Lack of visibility into IT operations hindering IT modernization\\n   - Difficulty in scaling IT resources for mainframe optimization\\n   - Inefficient user onboarding and training processes\\n   - Inadequate performance support for software adoption\\n   - High costs associated with user support and training\\n   - Need for a customized digital adoption platform\\n   - Requirement for a scalable solution to support large user bases\\n   - Desire for a user-friendly interface and good user experience\\n   - Importance of strong analytics capabilities for IT operations\\n# Objections\\n   - Whatfix's pricing model may be too expensive for our enterprise\\n   - How does Whatfix's solution integrate with our existing IT infrastructure?\\n   - Whatfix's digital adoption platform may not be scalable enough for our large user base\\n   - We're concerned about the complexity of setting up and using Whatfix's solution\\n   - How does Whatfix's solution compare to its competitors in terms of features and pricing?\\n   - We're not sure if Whatfix's solution can provide the level of customization we need\\n   - How does Whatfix measure the ROI of its digital adoption platform?\\n   - We have had bad experiences with digital adoption platforms in the past\\n   - Whatfix's solution may not be suitable for our specific industry or use case\\nRelevant Context:\\nThe top concerns of the buyer are scalability, integration process, and the level of support offered for implementation and integration. The buyer's priorities include reducing costs and improving efficiency.\", 'context': \"Relevant Context:\\nThe relevant pricing plans for buyers with pain points and priorities around the product would include custom plans, free plans, and basic plans. These pricing options cater to the buyer's concerns about high costs associated with user support and training, the need for a customized digital adoption platform, and the desire for a scalable solution to support large user bases. Additionally, the pricing levers such as flat per-application fees and user license fees align with the buyer's priorities of reducing costs and improving efficiency.\"}\n",
      "Running sub query What pricing plans are relevant to buyers with pain points and priotities and top concerns around the product?\n"
     ]
    },
    {
     "name": "stderr",
     "output_type": "stream",
     "text": [
      "2025-02-17 13:15:18,986 - 8645349184 - local_persistent_hnsw.py-local_persistent_hnsw:423 - WARNING: Number of requested results 3 is greater than number of elements in index 2, updating n_results = 2\n",
      "2025-02-17 13:15:19,948 - 8645349184 - __init__.py-__init__:537 - WARNING: Overriding of current TracerProvider is not allowed\n"
     ]
    },
    {
     "name": "stdout",
     "output_type": "stream",
     "text": [
      "Sub query context {'query': \"What pricing plans are relevant to buyers with pain points and priotities and top concerns around the product?\\nContext: \\nBuyer Research Fields Description: class ClientResearchResponse(BaseModel):\\n\\n\\tname: str # The name of the client.\\n\\twebsite: str # The website of the buyer.\\n\\tdescription: str # A description of the buyer.\\n\\tindustry: str # The industry that the buyer belongs to.\\n\\tcompany_size: str # The type of company size as: SMB, Mid-Market, Enterprise.\\n\\tgoals: List[str] # The goals of the buyer.\\n\\tuse_cases: List[str] # The use cases of the buyer.\\n\\tchallenges: List[str] # The challenges faced by the buyer.\\n\\tstakeholders: List[str] # The stakeholders of the buyer.\\n\\n# Name\\nBMC Software\\n# Website\\nhttps://www.bmc.com/\\n# Description\\nBMC helps customers run and reinvent their businesses with open, scalable, and modular solutions to complex IT problems.\\n# Industry\\nSoftware as a Service (SaaS)\\n# Company_Size\\nEnterprise\\n# Goals\\n   - Digital transformation\\n   - IT modernization\\n   - Mainframe optimization\\n# Use_Cases\\n   - Automating IT workflows\\n   - Managing IT resources\\n   - Optimizing IT infrastructure\\n# Challenges\\n   - Complex IT environments\\n   - Lack of visibility into IT operations\\n   - Difficulty in scaling IT resources\\n# Stakeholders\\n   - CIOs\\n   - CTOs\\n   - IT operations teams\\n   - DevOps teams\\n\\nCompetitive Info Fields Description: class CompetitorComparison(BaseModel):\\n\\n\\tname: str # The name of the competitor.\\n\\tpros: List[str] # The pros of the competitor.\\n\\tcons: List[str] # The cons of the competitor.\\n\\tdifferentiators: List[str] # The differentiators of the seller against the competitor.\\n\\n# Competitors\\n   - ### Name\\nWalkMe\\n### Pros\\n       - Leading digital adoption platform\\n       - Personalized guidance and automation\\n       - Enterprise-ready\\n### Cons\\n       - May be complex to set up\\n       - Pricing can be steep for large enterprises\\n### Differentiators\\n       - Overlays on any application\\n       - Identifies where workflows break\\n   - ### Name\\nPendo\\n### Pros\\n       - User-friendly interface\\n       - Strong analytics capabilities\\n       - Good for user onboarding\\n### Cons\\n       - Limited support for complex workflows\\n       - Pricing can be high for large enterprises\\n### Differentiators\\n       - AI-powered digital adoption platform\\n       - Creates happier customers\\n   - ### Name\\nUserpilot\\n### Pros\\n       - Highest user satisfaction\\n       - Easy to use\\n       - Good for small to medium-sized businesses\\n### Cons\\n       - Limited scalability\\n       - Limited support for complex workflows\\n### Differentiators\\n       - Highest user satisfaction\\n       - Easy to set up\\n   - ### Name\\nVisualSP\\n### Pros\\n       - Good for small to medium-sized businesses\\n       - Easy to use\\n       - Good support\\n### Cons\\n       - Limited scalability\\n       - Limited support for complex workflows\\n### Differentiators\\n       - Customizable digital adoption platform\\n       - Good for small to medium-sized businesses\\n   - ### Name\\nAppcues\\n### Pros\\n       - Easy to use\\n       - Good for user onboarding\\n       - Good support\\n### Cons\\n       - Limited scalability\\n       - Limited support for complex workflows\\n### Differentiators\\n       - Flows, a no-code workflow builder\\n       - Good for user onboarding\\n\\nAnticipated Qopcs Fields Description: class AnticipatedPainsAndObjections(BaseModel):\\n\\n\\tpains: List[str] # The pain points identified in the call.\\n\\tobjections: List[str] # The objections identified in the call.\\n\\n# Pains\\n   - Complex IT environments affecting digital transformation\\n   - Lack of visibility into IT operations hindering IT modernization\\n   - Difficulty in scaling IT resources for mainframe optimization\\n   - Inefficient user onboarding and training processes\\n   - Inadequate performance support for software adoption\\n   - High costs associated with user support and training\\n   - Need for a customized digital adoption platform\\n   - Requirement for a scalable solution to support large user bases\\n   - Desire for a user-friendly interface and good user experience\\n   - Importance of strong analytics capabilities for IT operations\\n# Objections\\n   - Whatfix's pricing model may be too expensive for our enterprise\\n   - How does Whatfix's solution integrate with our existing IT infrastructure?\\n   - Whatfix's digital adoption platform may not be scalable enough for our large user base\\n   - We're concerned about the complexity of setting up and using Whatfix's solution\\n   - How does Whatfix's solution compare to its competitors in terms of features and pricing?\\n   - We're not sure if Whatfix's solution can provide the level of customization we need\\n   - How does Whatfix measure the ROI of its digital adoption platform?\\n   - We have had bad experiences with digital adoption platforms in the past\\n   - Whatfix's solution may not be suitable for our specific industry or use case\\nRelevant Context:\\nThe top concerns of the buyer are scalability, integration process, and the level of support offered for implementation and integration. The buyer's priorities include reducing costs and improving efficiency.\", 'context': 'Relevant Context:\\nThe pricing plans that are relevant to buyers with pain points and priorities around the product include a custom pricing model based on the needs and scale of each organization, a free plan with 30 credits, and a basic plan starting at $39 per month for up to 2,500 unique users.'}\n",
      "Running final query Summarize the two responses around pricing plans relevant to the buyer that woukd be presented in a pricing sales call?\n"
     ]
    },
    {
     "name": "stderr",
     "output_type": "stream",
     "text": [
      "Running Queries:  67%|██████▋   | 2/3 [00:18<00:09,  9.26s/it]"
     ]
    },
    {
     "name": "stdout",
     "output_type": "stream",
     "text": [
      "Trying to parse with Ast...\n",
      "Running sub query What are the top concerns and priorities of the buyer?\n",
      "Sub query context {'query': 'What are the top concerns and priorities of the buyer?', 'context': \"Relevant Context:\\nThe top concerns of the buyer are scalability, integration process, and the level of support offered for implementation and integration. The buyer's priorities include reducing costs and improving efficiency.\"}\n",
      "Running sub query What are the top objections till now around the product ROI and value?\n"
     ]
    },
    {
     "name": "stderr",
     "output_type": "stream",
     "text": [
      "2025-02-17 13:15:25,023 - 8645349184 - __init__.py-__init__:537 - WARNING: Overriding of current TracerProvider is not allowed\n"
     ]
    },
    {
     "name": "stdout",
     "output_type": "stream",
     "text": [
      "Sub query context {'query': 'What are the top objections till now around the product ROI and value?', 'context': 'Relevant Context:\\nThe top objections around the product ROI and value have been related to concerns about pricing, integration complexity, cost of implementation, scalability, level of support offered for implementation and integration, and ensuring that the pricing model can adapt to growing needs.'}\n",
      "Running final query Given the pains and objections of the buyer, What are the top ways to make a business case and ROI justification to the buyer?\n"
     ]
    },
    {
     "name": "stderr",
     "output_type": "stream",
     "text": [
      "Running Queries: 100%|██████████| 3/3 [00:24<00:00,  8.18s/it]\n"
     ]
    },
    {
     "name": "stdout",
     "output_type": "stream",
     "text": [
      "Trying to parse with Ast...\n",
      "Running queries for call type negotiation\n"
     ]
    },
    {
     "name": "stderr",
     "output_type": "stream",
     "text": [
      "Running Queries:   0%|          | 0/4 [00:00<?, ?it/s]"
     ]
    },
    {
     "name": "stdout",
     "output_type": "stream",
     "text": [
      "Running sub query What are pending concerns to be addressed before close?\n"
     ]
    },
    {
     "name": "stderr",
     "output_type": "stream",
     "text": [
      "2025-02-17 13:15:29,676 - 8645349184 - __init__.py-__init__:537 - WARNING: Overriding of current TracerProvider is not allowed\n"
     ]
    },
    {
     "name": "stdout",
     "output_type": "stream",
     "text": [
      "Sub query context {'query': 'What are pending concerns to be addressed before close?', 'context': 'Relevant Context:\\nThe pending concerns to be addressed before close include:\\n- Fit into budget\\n- Integration complexity\\n- Achieving KPIs\\n- Custom pricing model\\n- Level of support offered\\n- Implementation and integration timeline'}\n",
      "Running final query What are pending concerns to be addressed before close?\n"
     ]
    },
    {
     "name": "stderr",
     "output_type": "stream",
     "text": [
      "Running Queries:  25%|██▌       | 1/4 [00:03<00:09,  3.21s/it]"
     ]
    },
    {
     "name": "stdout",
     "output_type": "stream",
     "text": [
      "Trying to parse with Ast...\n",
      "Running sub query What discounts and concessions can and have been offered during pricing calls?\n",
      "Sub query context {'query': 'What discounts and concessions can and have been offered during pricing calls?', 'context': 'Relevant Context:\\nDiscounts and concessions that can and have been offered during pricing calls include customized pricing plans, free options, basic plans, phased implementation approaches, and flexible pricing structures. Sellers have also used negotiation tactics such as addressing concerns, providing case studies, and offering options tailored to specific needs and budget constraints. Additionally, historical case studies showcasing improvements in user adoption rates, reduction in training time, and cost savings have been used to demonstrate value and potentially offer discounts or concessions during pricing calls.'}\n",
      "Running sub query What discounts and concessions can and have been offered during negotiation calls?\n"
     ]
    },
    {
     "name": "stderr",
     "output_type": "stream",
     "text": [
      "2025-02-17 13:15:34,840 - 8645349184 - __init__.py-__init__:537 - WARNING: Overriding of current TracerProvider is not allowed\n"
     ]
    },
    {
     "name": "stdout",
     "output_type": "stream",
     "text": [
      "Sub query context {'query': 'What discounts and concessions can and have been offered during negotiation calls?', 'context': 'Relevant Context:\\nThe concessions and discounts offered during negotiation calls include a customized plan that includes a flat per-application fee of $10,000 plus user license fees of $5 per user per month. Additionally, discounts and concessions have been provided by addressing concerns such as customization and flexibility, implementation timeline, ROI goals alignment, integration with custom applications, security and compliance, and budget constraints.'}\n",
      "Running final query What discounts and concessions can and have been offered?\n"
     ]
    },
    {
     "name": "stderr",
     "output_type": "stream",
     "text": [
      "Running Queries:  50%|█████     | 2/4 [00:08<00:08,  4.34s/it]"
     ]
    },
    {
     "name": "stdout",
     "output_type": "stream",
     "text": [
      "Trying to parse with Ast...\n",
      "Running sub query What are the procurement and legal concerns possible?\n"
     ]
    },
    {
     "name": "stderr",
     "output_type": "stream",
     "text": [
      "2025-02-17 13:15:38,246 - 8645349184 - __init__.py-__init__:537 - WARNING: Overriding of current TracerProvider is not allowed\n"
     ]
    },
    {
     "name": "stdout",
     "output_type": "stream",
     "text": [
      "Sub query context {'query': 'What are the procurement and legal concerns possible?', 'context': \"Relevant Context:\\nPossible procurement concerns could include budget constraints and the complexity of implementing and maintaining a new solution. Legal concerns might involve ensuring that the customized pricing plan aligns with the buyer's budget and that the contract terms, such as the implementation timeline and training, are clearly defined and agreed upon by both parties.\"}\n",
      "Running final query What are the possible legal concerns that could come up during negotiation?\n"
     ]
    },
    {
     "name": "stderr",
     "output_type": "stream",
     "text": [
      "Running Queries:  75%|███████▌  | 3/4 [00:12<00:04,  4.23s/it]"
     ]
    },
    {
     "name": "stdout",
     "output_type": "stream",
     "text": [
      "Trying to parse with Ast...\n",
      "Running sub query What are the closing tactics that have been successful in the past?\n"
     ]
    },
    {
     "name": "stderr",
     "output_type": "stream",
     "text": [
      "2025-02-17 13:15:42,007 - 8645349184 - __init__.py-__init__:537 - WARNING: Overriding of current TracerProvider is not allowed\n"
     ]
    },
    {
     "name": "stdout",
     "output_type": "stream",
     "text": [
      "Sub query context {'query': 'What are the closing tactics that have been successful in the past?', 'context': 'Relevant Context:\\nThe closing tactics that have been successful in the past include finalizing the pricing and implementation plan, sending over a proposal within the next 24 hours, offering a detailed quote, scheduling a follow-up call, assigning a customer success manager, providing a clear next step, and sending a formal proposal.'}\n",
      "Running final query What final closing tactics can be used for their account?\n"
     ]
    },
    {
     "name": "stderr",
     "output_type": "stream",
     "text": [
      "Running Queries: 100%|██████████| 4/4 [00:16<00:00,  4.06s/it]"
     ]
    },
    {
     "name": "stdout",
     "output_type": "stream",
     "text": [
      "Trying to parse with Ast...\n"
     ]
    },
    {
     "name": "stderr",
     "output_type": "stream",
     "text": [
      "\n"
     ]
    }
   ],
   "source": [
    "from echo.query_executor import arun_queries\n",
    "from echo.query_executor import ResponseFormat\n",
    "from echo.query_executor import ContextExtractionMode\n",
    "import nest_asyncio\n",
    "import asyncio\n",
    "\n",
    "nest_asyncio.apply()\n",
    "\n",
    "\n",
    "inputs = {\"buyer\": \"BMC Software\", \"company_size\": \"Enterprise\"}\n",
    "\n",
    "responses = asyncio.run(\n",
    "    arun_queries(\n",
    "        queries,\n",
    "        inputs=inputs,\n",
    "        response_format=ResponseFormat.MARKDOWN,\n",
    "        context_extraction_mode=ContextExtractionMode.QUERY_ENGINE,\n",
    "    )\n",
    ")"
   ]
  },
  {
   "cell_type": "code",
   "execution_count": 15,
   "metadata": {},
   "outputs": [
    {
     "data": {
      "text/plain": [
       "19"
      ]
     },
     "execution_count": 15,
     "metadata": {},
     "output_type": "execute_result"
    }
   ],
   "source": [
    "len(responses.keys())"
   ]
  },
  {
   "cell_type": "code",
   "execution_count": 16,
   "metadata": {},
   "outputs": [
    {
     "data": {
      "text/plain": [
       "{'response': \"**Missing Information to Uncover in Upcoming Calls**\\n==============================================\\n\\n### Section 1: Buyer's Current Challenges and Pain Points\\n\\n* More details on the specific challenges faced by BMC Software's IT operations team and how they affect digital transformation\\n* Quantification of the costs associated with user support and training, and the impact on their business\\n* Additional pain points related to remote monitoring and management of host systems\\n\\n### Section 2: Budget and Pricing\\n\\n* A clear understanding of the budget allocated for the digital adoption platform\\n* Details on the preferred pricing model and any flexibility in terms of pricing structure\\n* Comparison of Whatfix's pricing model with competitors like WalkMe, Pendo, and Userpilot\\n\\n### Section 3: Decision Committee and Timeline\\n\\n* More information on the decision-making process and the roles of each stakeholder (Ayman Sayed, John Moores, and IT department stakeholders)\\n* Clarification on the 6-12 month timeline for implementing a digital adoption platform and potential milestones\\n\\n### Section 4: Technical Requirements and Integration\\n\\n* Specific technical requirements for integrating Whatfix's solution with BMC Software's existing IT infrastructure\\n* Details on the customization needed to meet BMC Software's unique requirements\\n* Discussion on the feasibility of integrating Whatfix's solution with other tools and systems used by BMC Software\\n\\n### Section 5: Competitor Comparison and Differentiation\\n\\n* More information on how BMC Software perceives Whatfix's solution compared to competitors (WalkMe, Pendo, and Userpilot)\\n* Gaps in features, pricing, and customization that Whatfix can fill\\n* Unique selling points and differentiators that set Whatfix apart from competitors\",\n",
       " 'sub_queries_context': [{'query': 'Buyer Research Information',\n",
       "   'context': \"Buyer Research Fields Description: class ClientResearchResponse(BaseModel):\\n\\n\\tname: str # The name of the client.\\n\\twebsite: str # The website of the buyer.\\n\\tdescription: str # A description of the buyer.\\n\\tindustry: str # The industry that the buyer belongs to.\\n\\tcompany_size: str # The type of company size as: SMB, Mid-Market, Enterprise.\\n\\tgoals: List[str] # The goals of the buyer.\\n\\tuse_cases: List[str] # The use cases of the buyer.\\n\\tchallenges: List[str] # The challenges faced by the buyer.\\n\\tstakeholders: List[str] # The stakeholders of the buyer.\\n\\n# Name\\nBMC Software\\n# Website\\nhttps://www.bmc.com/\\n# Description\\nBMC helps customers run and reinvent their businesses with open, scalable, and modular solutions to complex IT problems.\\n# Industry\\nSoftware as a Service (SaaS)\\n# Company_Size\\nEnterprise\\n# Goals\\n   - Digital transformation\\n   - IT modernization\\n   - Mainframe optimization\\n# Use_Cases\\n   - Automating IT workflows\\n   - Managing IT resources\\n   - Optimizing IT infrastructure\\n# Challenges\\n   - Complex IT environments\\n   - Lack of visibility into IT operations\\n   - Difficulty in scaling IT resources\\n# Stakeholders\\n   - CIOs\\n   - CTOs\\n   - IT operations teams\\n   - DevOps teams\\n\\nCompetitive Info Fields Description: class CompetitorComparison(BaseModel):\\n\\n\\tname: str # The name of the competitor.\\n\\tpros: List[str] # The pros of the competitor.\\n\\tcons: List[str] # The cons of the competitor.\\n\\tdifferentiators: List[str] # The differentiators of the seller against the competitor.\\n\\n# Competitors\\n   - ### Name\\nWalkMe\\n### Pros\\n       - Leading digital adoption platform\\n       - Personalized guidance and automation\\n       - Enterprise-ready\\n### Cons\\n       - May be complex to set up\\n       - Pricing can be steep for large enterprises\\n### Differentiators\\n       - Overlays on any application\\n       - Identifies where workflows break\\n   - ### Name\\nPendo\\n### Pros\\n       - User-friendly interface\\n       - Strong analytics capabilities\\n       - Good for user onboarding\\n### Cons\\n       - Limited support for complex workflows\\n       - Pricing can be high for large enterprises\\n### Differentiators\\n       - AI-powered digital adoption platform\\n       - Creates happier customers\\n   - ### Name\\nUserpilot\\n### Pros\\n       - Highest user satisfaction\\n       - Easy to use\\n       - Good for small to medium-sized businesses\\n### Cons\\n       - Limited scalability\\n       - Limited support for complex workflows\\n### Differentiators\\n       - Highest user satisfaction\\n       - Easy to set up\\n   - ### Name\\nVisualSP\\n### Pros\\n       - Good for small to medium-sized businesses\\n       - Easy to use\\n       - Good support\\n### Cons\\n       - Limited scalability\\n       - Limited support for complex workflows\\n### Differentiators\\n       - Customizable digital adoption platform\\n       - Good for small to medium-sized businesses\\n   - ### Name\\nAppcues\\n### Pros\\n       - Easy to use\\n       - Good for user onboarding\\n       - Good support\\n### Cons\\n       - Limited scalability\\n       - Limited support for complex workflows\\n### Differentiators\\n       - Flows, a no-code workflow builder\\n       - Good for user onboarding\\n\\nAnticipated Qopcs Fields Description: class AnticipatedPainsAndObjections(BaseModel):\\n\\n\\tpains: List[str] # The pain points identified in the call.\\n\\tobjections: List[str] # The objections identified in the call.\\n\\n# Pains\\n   - Complex IT environments affecting digital transformation\\n   - Lack of visibility into IT operations hindering IT modernization\\n   - Difficulty in scaling IT resources for mainframe optimization\\n   - Inefficient user onboarding and training processes\\n   - Inadequate performance support for software adoption\\n   - High costs associated with user support and training\\n   - Need for a customized digital adoption platform\\n   - Requirement for a scalable solution to support large user bases\\n   - Desire for a user-friendly interface and good user experience\\n   - Importance of strong analytics capabilities for IT operations\\n# Objections\\n   - Whatfix's pricing model may be too expensive for our enterprise\\n   - How does Whatfix's solution integrate with our existing IT infrastructure?\\n   - Whatfix's digital adoption platform may not be scalable enough for our large user base\\n   - We're concerned about the complexity of setting up and using Whatfix's solution\\n   - How does Whatfix's solution compare to its competitors in terms of features and pricing?\\n   - We're not sure if Whatfix's solution can provide the level of customization we need\\n   - How does Whatfix measure the ROI of its digital adoption platform?\\n   - We have had bad experiences with digital adoption platforms in the past\\n   - Whatfix's solution may not be suitable for our specific industry or use case\"},\n",
       "  {'query': 'What all pieces of information about the buyer are uncovered in discovery calls of successful deals?',\n",
       "   'context': 'Relevant Context:\\nThe pain points, objections, time lines, success indicators, budget constraints, competition, and decision committee members of the buyer are uncovered in discovery calls of successful deals.'},\n",
       "  {'query': 'What all piece of information have we learnt about the buyer from discovery till now?',\n",
       "   'context': 'Relevant Context:\\nThe buyer, BMC Software, is dealing with complex IT problems that hinder their ability to minimize cost and effort. They are struggling with remote monitoring and management of host systems. BMC Software is unsure if digital adoption platforms can meet their specific requirements and they need a customized solution that can integrate with existing systems and provide advanced analytics and performance support. They are open to exploring different pricing models and have not set a specific budget yet. The decision committee includes Ayman Sayed (CEO), John Moores (Founder), and IT department stakeholders. The buyer is looking for a digital adoption platform that can provide a significant reduction in cost and effort, as well as an improvement in user adoption and satisfaction. They have a timeline of 6-12 months for implementing a digital adoption platform and are considering competitors like WalkMe, Pendo, and Userpilot.'}]}"
      ]
     },
     "execution_count": 16,
     "metadata": {},
     "output_type": "execute_result"
    }
   ],
   "source": [
    "responses[\"Info To Cover\"]"
   ]
  },
  {
   "cell_type": "code",
   "execution_count": 17,
   "metadata": {},
   "outputs": [],
   "source": [
    "# from echo.query_executor import aget_query_response\n",
    "\n",
    "\n",
    "# response, sub_queries_context = await aget_query_response(\n",
    "#     query,\n",
    "#     inputs,\n",
    "#     response_format=ResponseFormat.MARKDOWN, context_extraction_mode=ContextExtractionMode.QUERY_ENGINE\n",
    "# )"
   ]
  }
 ],
 "metadata": {
  "kernelspec": {
   "display_name": "Echo",
   "language": "python",
   "name": "python3"
  },
  "language_info": {
   "codemirror_mode": {
    "name": "ipython",
    "version": 3
   },
   "file_extension": ".py",
   "mimetype": "text/x-python",
   "name": "python",
   "nbconvert_exporter": "python",
   "pygments_lexer": "ipython3",
   "version": "3.12.0"
  }
 },
 "nbformat": 4,
 "nbformat_minor": 2
}

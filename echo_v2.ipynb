{
 "cells": [
  {
   "cell_type": "code",
   "execution_count": 1,
   "metadata": {},
   "outputs": [],
   "source": [
    "import nest_asyncio\n",
    "from crewai import LLM\n",
    "from dotenv import load_dotenv\n",
    "import os\n",
    "import asyncio\n",
    "from echo.constants import (\n",
    "    DISCOVERY,\n",
    "    DEMO,\n",
    "    PRICING,\n",
    "    NEGOTIATION\n",
    ")\n",
    "\n",
    "\n",
    "nest_asyncio.apply()\n",
    "\n",
    "load_dotenv()\n",
    "\n",
    "llm = LLM(\n",
    "    model=os.getenv(\"FIREWORKS_MODEL_NAME\"),\n",
    "    base_url=\"https://api.fireworks.ai/inference/v1\",\n",
    "    api_key=os.getenv(\"FIREWORKS_API_KEY\"),\n",
    ")"
   ]
  },
  {
   "cell_type": "code",
   "execution_count": 2,
   "metadata": {},
   "outputs": [
    {
     "name": "stdout",
     "output_type": "stream",
     "text": [
      "Creating seller for Whatfix\n",
      "Adding Seller: Whatfix Data\n"
     ]
    }
   ],
   "source": [
    "from echo.runner import create_or_get_seller\n",
    "\n",
    "inputs = {\n",
    "    \"seller\": \"Whatfix\",\n",
    "    \"num_buyers\": 10,\n",
    "}\n",
    "\n",
    "seller = asyncio.run(create_or_get_seller(inputs))"
   ]
  },
  {
   "cell_type": "code",
   "execution_count": 3,
   "metadata": {},
   "outputs": [],
   "source": [
    "from echo.runner import make_call\n",
    "\n",
    "\n",
    "buyer_inputs = {\n",
    "    **inputs,\n",
    "    **seller,\n",
    "    'n_competitors': 10,\n",
    "}\n",
    "\n",
    "clients = seller['seller_clients']['clients']"
   ]
  },
  {
   "cell_type": "code",
   "execution_count": 4,
   "metadata": {},
   "outputs": [
    {
     "data": {
      "text/plain": [
       "['Cardinal Health',\n",
       " 'BMC Software',\n",
       " 'Grant Thornton',\n",
       " 'Coca Cola',\n",
       " 'Equinix',\n",
       " 'Sophos',\n",
       " 'Sentry Insurance',\n",
       " 'Marketboomer']"
      ]
     },
     "execution_count": 4,
     "metadata": {},
     "output_type": "execute_result"
    }
   ],
   "source": [
    "seller['seller_clients']['clients']"
   ]
  },
  {
   "cell_type": "code",
   "execution_count": 5,
   "metadata": {},
   "outputs": [
    {
     "name": "stdout",
     "output_type": "stream",
     "text": [
      "Making discovery call for ['Cardinal Health', 'BMC Software', 'Grant Thornton', 'Coca Cola', 'Equinix', 'Sophos', 'Sentry Insurance', 'Marketboomer']\n",
      "Getting analysis Data\n",
      "Number of Clients:  8\n"
     ]
    },
    {
     "name": "stderr",
     "output_type": "stream",
     "text": [
      "Getting Data:   0%|          | 0/8 [00:00<?, ?it/s]"
     ]
    },
    {
     "name": "stdout",
     "output_type": "stream",
     "text": [
      "Getting Data for Cardinal Health\n",
      "Adding Analysis Data to Vector Store\n"
     ]
    },
    {
     "name": "stderr",
     "output_type": "stream",
     "text": [
      "Getting Data:  12%|█▎        | 1/8 [00:00<00:05,  1.27it/s]"
     ]
    },
    {
     "name": "stdout",
     "output_type": "stream",
     "text": [
      "Getting Data for BMC Software\n",
      "Data not found for client: BMC Software\n",
      "Data not found for client: BMC Software\n",
      "Adding Buyer: BMC Software Data\n"
     ]
    },
    {
     "name": "stderr",
     "output_type": "stream",
     "text": [
      "2025-02-12 21:12:17,779 - 8645349184 - __init__.py-__init__:537 - WARNING: Overriding of current TracerProvider is not allowed\n"
     ]
    },
    {
     "name": "stdout",
     "output_type": "stream",
     "text": [
      "Adding discovery Transcript Data to Vector Store\n"
     ]
    },
    {
     "name": "stderr",
     "output_type": "stream",
     "text": [
      "2025-02-12 21:12:22,754 - 8645349184 - __init__.py-__init__:537 - WARNING: Overriding of current TracerProvider is not allowed\n"
     ]
    },
    {
     "name": "stdout",
     "output_type": "stream",
     "text": [
      "Adding Analysis Data to Vector Store\n"
     ]
    },
    {
     "name": "stderr",
     "output_type": "stream",
     "text": [
      "Getting Data:  25%|██▌       | 2/8 [00:25<01:28, 14.67s/it]2025-02-12 21:12:27,906 - 8645349184 - __init__.py-__init__:537 - WARNING: Overriding of current TracerProvider is not allowed\n"
     ]
    },
    {
     "name": "stdout",
     "output_type": "stream",
     "text": [
      "Getting Data for Grant Thornton\n",
      "Data not found for client: Grant Thornton\n",
      "Data not found for client: Grant Thornton\n",
      "Retrying due to error: Failed to convert text into a Pydantic model due to the following error: Instructor does not support multiple tool calls, use List[Model] instead\n",
      "\n",
      "\n",
      "LiteLLM.Info: If you need to debug this error, use `litellm.set_verbose=True'.\n",
      "\n",
      "\n",
      "\u001b[1;31mProvider List: https://docs.litellm.ai/docs/providers\u001b[0m\n",
      "\n",
      "\u001b[91m Error during LLM call: litellm.BadRequestError: Fireworks_aiException - Error code: 400 - {'error': {'object': 'error', 'type': 'invalid_request_error', 'message': 'The prompt is too long: 8826, model maximum context length: 8191'}}\u001b[00m\n",
      "Retrying due to error: litellm.BadRequestError: Fireworks_aiException - Error code: 400 - {'error': {'object': 'error', 'type': 'invalid_request_error', 'message': 'The prompt is too long: 8826, model maximum context length: 8191'}}\n",
      "Adding Buyer: Grant Thornton Data\n"
     ]
    },
    {
     "name": "stderr",
     "output_type": "stream",
     "text": [
      "2025-02-12 21:13:31,019 - 8645349184 - __init__.py-__init__:537 - WARNING: Overriding of current TracerProvider is not allowed\n"
     ]
    },
    {
     "name": "stdout",
     "output_type": "stream",
     "text": [
      "Adding discovery Transcript Data to Vector Store\n"
     ]
    },
    {
     "name": "stderr",
     "output_type": "stream",
     "text": [
      "2025-02-12 21:13:37,202 - 8645349184 - __init__.py-__init__:537 - WARNING: Overriding of current TracerProvider is not allowed\n"
     ]
    },
    {
     "name": "stdout",
     "output_type": "stream",
     "text": [
      "Adding Analysis Data to Vector Store\n"
     ]
    },
    {
     "name": "stderr",
     "output_type": "stream",
     "text": [
      "Getting Data:  38%|███▊      | 3/8 [01:38<03:28, 41.66s/it]2025-02-12 21:13:41,690 - 8645349184 - __init__.py-__init__:537 - WARNING: Overriding of current TracerProvider is not allowed\n"
     ]
    },
    {
     "name": "stdout",
     "output_type": "stream",
     "text": [
      "Getting Data for Coca Cola\n",
      "Data not found for client: Coca Cola\n",
      "Data not found for client: Coca Cola\n",
      "Adding Buyer: Coca Cola Data\n"
     ]
    },
    {
     "name": "stderr",
     "output_type": "stream",
     "text": [
      "2025-02-12 21:14:03,762 - 8645349184 - __init__.py-__init__:537 - WARNING: Overriding of current TracerProvider is not allowed\n"
     ]
    },
    {
     "name": "stdout",
     "output_type": "stream",
     "text": [
      "Adding discovery Transcript Data to Vector Store\n"
     ]
    },
    {
     "name": "stderr",
     "output_type": "stream",
     "text": [
      "2025-02-12 21:14:08,817 - 8645349184 - __init__.py-__init__:537 - WARNING: Overriding of current TracerProvider is not allowed\n"
     ]
    },
    {
     "name": "stdout",
     "output_type": "stream",
     "text": [
      "Adding Analysis Data to Vector Store\n"
     ]
    },
    {
     "name": "stderr",
     "output_type": "stream",
     "text": [
      "Getting Data:  50%|█████     | 4/8 [02:11<02:31, 37.99s/it]2025-02-12 21:14:14,055 - 8645349184 - __init__.py-__init__:537 - WARNING: Overriding of current TracerProvider is not allowed\n"
     ]
    },
    {
     "name": "stdout",
     "output_type": "stream",
     "text": [
      "Getting Data for Equinix\n",
      "Data not found for client: Equinix\n",
      "Data not found for client: Equinix\n",
      "Adding Buyer: Equinix Data\n"
     ]
    },
    {
     "name": "stderr",
     "output_type": "stream",
     "text": [
      "2025-02-12 21:14:28,692 - 8645349184 - __init__.py-__init__:537 - WARNING: Overriding of current TracerProvider is not allowed\n"
     ]
    },
    {
     "name": "stdout",
     "output_type": "stream",
     "text": [
      "Adding discovery Transcript Data to Vector Store\n"
     ]
    },
    {
     "name": "stderr",
     "output_type": "stream",
     "text": [
      "2025-02-12 21:14:36,007 - 8645349184 - __init__.py-__init__:537 - WARNING: Overriding of current TracerProvider is not allowed\n"
     ]
    },
    {
     "name": "stdout",
     "output_type": "stream",
     "text": [
      "Adding Analysis Data to Vector Store\n"
     ]
    },
    {
     "name": "stderr",
     "output_type": "stream",
     "text": [
      "Getting Data:  62%|██████▎   | 5/8 [02:38<01:41, 33.98s/it]2025-02-12 21:14:40,926 - 8645349184 - __init__.py-__init__:537 - WARNING: Overriding of current TracerProvider is not allowed\n"
     ]
    },
    {
     "name": "stdout",
     "output_type": "stream",
     "text": [
      "Getting Data for Sophos\n",
      "Data not found for client: Sophos\n",
      "Data not found for client: Sophos\n",
      "Adding Buyer: Sophos Data\n"
     ]
    },
    {
     "name": "stderr",
     "output_type": "stream",
     "text": [
      "2025-02-12 21:15:00,905 - 8645349184 - __init__.py-__init__:537 - WARNING: Overriding of current TracerProvider is not allowed\n"
     ]
    },
    {
     "name": "stdout",
     "output_type": "stream",
     "text": [
      "Adding discovery Transcript Data to Vector Store\n"
     ]
    },
    {
     "name": "stderr",
     "output_type": "stream",
     "text": [
      "2025-02-12 21:15:07,246 - 8645349184 - __init__.py-__init__:537 - WARNING: Overriding of current TracerProvider is not allowed\n"
     ]
    },
    {
     "name": "stdout",
     "output_type": "stream",
     "text": [
      "Adding Analysis Data to Vector Store\n"
     ]
    },
    {
     "name": "stderr",
     "output_type": "stream",
     "text": [
      "Getting Data:  75%|███████▌  | 6/8 [03:09<01:06, 33.06s/it]2025-02-12 21:15:12,202 - 8645349184 - __init__.py-__init__:537 - WARNING: Overriding of current TracerProvider is not allowed\n"
     ]
    },
    {
     "name": "stdout",
     "output_type": "stream",
     "text": [
      "Getting Data for Sentry Insurance\n",
      "Data not found for client: Sentry Insurance\n",
      "Data not found for client: Sentry Insurance\n",
      "Adding Buyer: Sentry Insurance Data\n"
     ]
    },
    {
     "name": "stderr",
     "output_type": "stream",
     "text": [
      "2025-02-12 21:15:25,728 - 8645349184 - __init__.py-__init__:537 - WARNING: Overriding of current TracerProvider is not allowed\n"
     ]
    },
    {
     "name": "stdout",
     "output_type": "stream",
     "text": [
      "Adding discovery Transcript Data to Vector Store\n"
     ]
    },
    {
     "name": "stderr",
     "output_type": "stream",
     "text": [
      "2025-02-12 21:15:33,021 - 8645349184 - __init__.py-__init__:537 - WARNING: Overriding of current TracerProvider is not allowed\n"
     ]
    },
    {
     "name": "stdout",
     "output_type": "stream",
     "text": [
      "Adding Analysis Data to Vector Store\n"
     ]
    },
    {
     "name": "stderr",
     "output_type": "stream",
     "text": [
      "Getting Data:  88%|████████▊ | 7/8 [03:35<00:30, 30.62s/it]2025-02-12 21:15:37,784 - 8645349184 - __init__.py-__init__:537 - WARNING: Overriding of current TracerProvider is not allowed\n"
     ]
    },
    {
     "name": "stdout",
     "output_type": "stream",
     "text": [
      "Getting Data for Marketboomer\n",
      "Data not found for client: Marketboomer\n",
      "Data not found for client: Marketboomer\n",
      "Adding Buyer: Marketboomer Data\n"
     ]
    },
    {
     "name": "stderr",
     "output_type": "stream",
     "text": [
      "2025-02-12 21:15:59,256 - 8645349184 - __init__.py-__init__:537 - WARNING: Overriding of current TracerProvider is not allowed\n"
     ]
    },
    {
     "name": "stdout",
     "output_type": "stream",
     "text": [
      "Adding discovery Transcript Data to Vector Store\n"
     ]
    },
    {
     "name": "stderr",
     "output_type": "stream",
     "text": [
      "2025-02-12 21:16:04,876 - 8645349184 - __init__.py-__init__:537 - WARNING: Overriding of current TracerProvider is not allowed\n"
     ]
    },
    {
     "name": "stdout",
     "output_type": "stream",
     "text": [
      "Adding Analysis Data to Vector Store\n"
     ]
    },
    {
     "name": "stderr",
     "output_type": "stream",
     "text": [
      "Getting Data: 100%|██████████| 8/8 [04:06<00:00, 30.85s/it]\n"
     ]
    }
   ],
   "source": [
    "discovery_calls_data = asyncio.run(make_call(DISCOVERY, seller['seller_clients']['clients'], buyer_inputs))"
   ]
  },
  {
   "cell_type": "code",
   "execution_count": 6,
   "metadata": {},
   "outputs": [
    {
     "name": "stdout",
     "output_type": "stream",
     "text": [
      "Making demo call for ['Cardinal Health', 'BMC Software', 'Grant Thornton', 'Coca Cola', 'Equinix', 'Sophos', 'Sentry Insurance', 'Marketboomer']\n",
      "Getting analysis Data\n",
      "Number of Clients:  8\n"
     ]
    },
    {
     "name": "stderr",
     "output_type": "stream",
     "text": [
      "Getting Data:   0%|          | 0/8 [00:00<?, ?it/s]2025-02-12 21:17:06,725 - 8645349184 - __init__.py-__init__:537 - WARNING: Overriding of current TracerProvider is not allowed\n"
     ]
    },
    {
     "name": "stdout",
     "output_type": "stream",
     "text": [
      "Getting Data for Cardinal Health\n",
      "Adding Research Data to Vector Store\n"
     ]
    },
    {
     "name": "stderr",
     "output_type": "stream",
     "text": [
      "2025-02-12 21:17:09,692 - 6258388992 - _common.py-_common:105 - INFO: Backing off send_request(...) for 0.0s (requests.exceptions.ConnectionError: ('Connection aborted.', RemoteDisconnected('Remote end closed connection without response')))\n",
      "2025-02-12 21:17:09,905 - 8645349184 - __init__.py-__init__:537 - WARNING: Overriding of current TracerProvider is not allowed\n"
     ]
    },
    {
     "name": "stdout",
     "output_type": "stream",
     "text": [
      "Adding demo Transcript Data to Vector Store\n"
     ]
    },
    {
     "name": "stderr",
     "output_type": "stream",
     "text": [
      "2025-02-12 21:17:17,236 - 8645349184 - __init__.py-__init__:537 - WARNING: Overriding of current TracerProvider is not allowed\n"
     ]
    },
    {
     "name": "stdout",
     "output_type": "stream",
     "text": [
      "Retrying due to error: Failed to convert text into a Pydantic model due to the following error: Instructor does not support multiple tool calls, use List[Model] instead\n",
      "Adding Analysis Data to Vector Store\n"
     ]
    },
    {
     "name": "stderr",
     "output_type": "stream",
     "text": [
      "Getting Data:  12%|█▎        | 1/8 [00:41<04:48, 41.24s/it]2025-02-12 21:17:47,888 - 8645349184 - __init__.py-__init__:537 - WARNING: Overriding of current TracerProvider is not allowed\n"
     ]
    },
    {
     "name": "stdout",
     "output_type": "stream",
     "text": [
      "Getting Data for BMC Software\n",
      "Adding Research Data to Vector Store\n"
     ]
    },
    {
     "name": "stderr",
     "output_type": "stream",
     "text": [
      "2025-02-12 21:17:50,083 - 8645349184 - __init__.py-__init__:537 - WARNING: Overriding of current TracerProvider is not allowed\n"
     ]
    },
    {
     "name": "stdout",
     "output_type": "stream",
     "text": [
      "Adding demo Transcript Data to Vector Store\n"
     ]
    },
    {
     "name": "stderr",
     "output_type": "stream",
     "text": [
      "2025-02-12 21:17:56,536 - 8645349184 - __init__.py-__init__:537 - WARNING: Overriding of current TracerProvider is not allowed\n"
     ]
    },
    {
     "name": "stdout",
     "output_type": "stream",
     "text": [
      "Retrying due to error: Failed to convert text into a Pydantic model due to the following error: Instructor does not support multiple tool calls, use List[Model] instead\n",
      "Retrying due to error: Failed to convert text into a Pydantic model due to the following error: Instructor does not support multiple tool calls, use List[Model] instead\n",
      "Retrying due to error: Failed to convert text into a Pydantic model due to the following error: Instructor does not support multiple tool calls, use List[Model] instead\n",
      "Adding Analysis Data to Vector Store\n"
     ]
    },
    {
     "name": "stderr",
     "output_type": "stream",
     "text": [
      "Getting Data:  25%|██▌       | 2/8 [02:02<06:30, 65.01s/it]2025-02-12 21:19:09,552 - 8645349184 - __init__.py-__init__:537 - WARNING: Overriding of current TracerProvider is not allowed\n"
     ]
    },
    {
     "name": "stdout",
     "output_type": "stream",
     "text": [
      "Getting Data for Grant Thornton\n",
      "Adding Research Data to Vector Store\n"
     ]
    },
    {
     "name": "stderr",
     "output_type": "stream",
     "text": [
      "2025-02-12 21:19:11,998 - 8645349184 - __init__.py-__init__:537 - WARNING: Overriding of current TracerProvider is not allowed\n"
     ]
    },
    {
     "name": "stdout",
     "output_type": "stream",
     "text": [
      "Adding demo Transcript Data to Vector Store\n"
     ]
    },
    {
     "name": "stderr",
     "output_type": "stream",
     "text": [
      "2025-02-12 21:19:18,489 - 8645349184 - __init__.py-__init__:537 - WARNING: Overriding of current TracerProvider is not allowed\n"
     ]
    },
    {
     "name": "stdout",
     "output_type": "stream",
     "text": [
      "Adding Analysis Data to Vector Store\n"
     ]
    },
    {
     "name": "stderr",
     "output_type": "stream",
     "text": [
      "Getting Data:  38%|███▊      | 3/8 [02:15<03:25, 41.15s/it]2025-02-12 21:19:22,290 - 8645349184 - __init__.py-__init__:537 - WARNING: Overriding of current TracerProvider is not allowed\n"
     ]
    },
    {
     "name": "stdout",
     "output_type": "stream",
     "text": [
      "Getting Data for Coca Cola\n",
      "Adding Research Data to Vector Store\n"
     ]
    },
    {
     "name": "stderr",
     "output_type": "stream",
     "text": [
      "2025-02-12 21:19:24,402 - 8645349184 - __init__.py-__init__:537 - WARNING: Overriding of current TracerProvider is not allowed\n"
     ]
    },
    {
     "name": "stdout",
     "output_type": "stream",
     "text": [
      "Adding demo Transcript Data to Vector Store\n"
     ]
    },
    {
     "name": "stderr",
     "output_type": "stream",
     "text": [
      "2025-02-12 21:19:29,836 - 8645349184 - __init__.py-__init__:537 - WARNING: Overriding of current TracerProvider is not allowed\n"
     ]
    },
    {
     "name": "stdout",
     "output_type": "stream",
     "text": [
      "Adding Analysis Data to Vector Store\n"
     ]
    },
    {
     "name": "stderr",
     "output_type": "stream",
     "text": [
      "Getting Data:  50%|█████     | 4/8 [02:29<02:01, 30.47s/it]2025-02-12 21:19:36,383 - 8645349184 - __init__.py-__init__:537 - WARNING: Overriding of current TracerProvider is not allowed\n"
     ]
    },
    {
     "name": "stdout",
     "output_type": "stream",
     "text": [
      "Getting Data for Equinix\n",
      "Adding Research Data to Vector Store\n"
     ]
    },
    {
     "name": "stderr",
     "output_type": "stream",
     "text": [
      "2025-02-12 21:19:39,107 - 8645349184 - __init__.py-__init__:537 - WARNING: Overriding of current TracerProvider is not allowed\n"
     ]
    },
    {
     "name": "stdout",
     "output_type": "stream",
     "text": [
      "Adding demo Transcript Data to Vector Store\n"
     ]
    },
    {
     "name": "stderr",
     "output_type": "stream",
     "text": [
      "2025-02-12 21:19:46,429 - 8645349184 - __init__.py-__init__:537 - WARNING: Overriding of current TracerProvider is not allowed\n"
     ]
    },
    {
     "name": "stdout",
     "output_type": "stream",
     "text": [
      "Adding Analysis Data to Vector Store\n"
     ]
    },
    {
     "name": "stderr",
     "output_type": "stream",
     "text": [
      "Getting Data:  62%|██████▎   | 5/8 [02:44<01:14, 24.90s/it]2025-02-12 21:19:51,409 - 8645349184 - __init__.py-__init__:537 - WARNING: Overriding of current TracerProvider is not allowed\n"
     ]
    },
    {
     "name": "stdout",
     "output_type": "stream",
     "text": [
      "Getting Data for Sophos\n",
      "Adding Research Data to Vector Store\n"
     ]
    },
    {
     "name": "stderr",
     "output_type": "stream",
     "text": [
      "2025-02-12 21:19:53,102 - 8645349184 - __init__.py-__init__:537 - WARNING: Overriding of current TracerProvider is not allowed\n"
     ]
    },
    {
     "name": "stdout",
     "output_type": "stream",
     "text": [
      "Adding demo Transcript Data to Vector Store\n"
     ]
    },
    {
     "name": "stderr",
     "output_type": "stream",
     "text": [
      "2025-02-12 21:19:58,234 - 8645349184 - __init__.py-__init__:537 - WARNING: Overriding of current TracerProvider is not allowed\n"
     ]
    },
    {
     "name": "stdout",
     "output_type": "stream",
     "text": [
      "Adding Analysis Data to Vector Store\n"
     ]
    },
    {
     "name": "stderr",
     "output_type": "stream",
     "text": [
      "Getting Data:  75%|███████▌  | 6/8 [02:56<00:40, 20.34s/it]2025-02-12 21:20:02,892 - 8645349184 - __init__.py-__init__:537 - WARNING: Overriding of current TracerProvider is not allowed\n"
     ]
    },
    {
     "name": "stdout",
     "output_type": "stream",
     "text": [
      "Getting Data for Sentry Insurance\n",
      "Adding Research Data to Vector Store\n"
     ]
    },
    {
     "name": "stderr",
     "output_type": "stream",
     "text": [
      "2025-02-12 21:20:06,002 - 8645349184 - __init__.py-__init__:537 - WARNING: Overriding of current TracerProvider is not allowed\n"
     ]
    },
    {
     "name": "stdout",
     "output_type": "stream",
     "text": [
      "Adding demo Transcript Data to Vector Store\n"
     ]
    },
    {
     "name": "stderr",
     "output_type": "stream",
     "text": [
      "2025-02-12 21:20:11,880 - 8645349184 - __init__.py-__init__:537 - WARNING: Overriding of current TracerProvider is not allowed\n"
     ]
    },
    {
     "name": "stdout",
     "output_type": "stream",
     "text": [
      "Adding Analysis Data to Vector Store\n"
     ]
    },
    {
     "name": "stderr",
     "output_type": "stream",
     "text": [
      "Getting Data:  88%|████████▊ | 7/8 [03:09<00:18, 18.19s/it]2025-02-12 21:20:16,657 - 8645349184 - __init__.py-__init__:537 - WARNING: Overriding of current TracerProvider is not allowed\n"
     ]
    },
    {
     "name": "stdout",
     "output_type": "stream",
     "text": [
      "Getting Data for Marketboomer\n",
      "Adding Research Data to Vector Store\n"
     ]
    },
    {
     "name": "stderr",
     "output_type": "stream",
     "text": [
      "2025-02-12 21:20:18,629 - 8645349184 - __init__.py-__init__:537 - WARNING: Overriding of current TracerProvider is not allowed\n"
     ]
    },
    {
     "name": "stdout",
     "output_type": "stream",
     "text": [
      "Adding demo Transcript Data to Vector Store\n"
     ]
    },
    {
     "name": "stderr",
     "output_type": "stream",
     "text": [
      "2025-02-12 21:20:25,467 - 8645349184 - __init__.py-__init__:537 - WARNING: Overriding of current TracerProvider is not allowed\n"
     ]
    },
    {
     "name": "stdout",
     "output_type": "stream",
     "text": [
      "Retrying due to error: Failed to convert text into a Pydantic model due to the following error: Instructor does not support multiple tool calls, use List[Model] instead\n",
      "Adding Analysis Data to Vector Store\n"
     ]
    },
    {
     "name": "stderr",
     "output_type": "stream",
     "text": [
      "Getting Data: 100%|██████████| 8/8 [03:47<00:00, 28.44s/it]\n"
     ]
    }
   ],
   "source": [
    "demo_calls_data = asyncio.run(make_call(DEMO, clients, buyer_inputs))"
   ]
  },
  {
   "cell_type": "code",
   "execution_count": 7,
   "metadata": {},
   "outputs": [
    {
     "name": "stdout",
     "output_type": "stream",
     "text": [
      "Making pricing call for ['Cardinal Health', 'BMC Software', 'Grant Thornton', 'Coca Cola', 'Equinix', 'Sophos', 'Sentry Insurance', 'Marketboomer']\n",
      "Getting analysis Data\n",
      "Number of Clients:  8\n"
     ]
    },
    {
     "name": "stderr",
     "output_type": "stream",
     "text": [
      "Getting Data:   0%|          | 0/8 [00:00<?, ?it/s]2025-02-12 21:20:54,188 - 8645349184 - __init__.py-__init__:537 - WARNING: Overriding of current TracerProvider is not allowed\n"
     ]
    },
    {
     "name": "stdout",
     "output_type": "stream",
     "text": [
      "Getting Data for Cardinal Health\n",
      "Data exists but pricing transcript not found\n",
      "Retrying due to error: Failed to convert text into a Pydantic model due to the following error: Instructor does not support multiple tool calls, use List[Model] instead\n",
      "Adding pricing Transcript Data to Vector Store\n"
     ]
    },
    {
     "name": "stderr",
     "output_type": "stream",
     "text": [
      "2025-02-12 21:21:26,566 - 8645349184 - __init__.py-__init__:537 - WARNING: Overriding of current TracerProvider is not allowed\n"
     ]
    },
    {
     "name": "stdout",
     "output_type": "stream",
     "text": [
      "Adding Analysis Data to Vector Store\n"
     ]
    },
    {
     "name": "stderr",
     "output_type": "stream",
     "text": [
      "Getting Data:  12%|█▎        | 1/8 [00:36<04:13, 36.21s/it]2025-02-12 21:21:30,403 - 8645349184 - __init__.py-__init__:537 - WARNING: Overriding of current TracerProvider is not allowed\n"
     ]
    },
    {
     "name": "stdout",
     "output_type": "stream",
     "text": [
      "Getting Data for BMC Software\n",
      "Data exists but pricing transcript not found\n",
      "Adding pricing Transcript Data to Vector Store\n"
     ]
    },
    {
     "name": "stderr",
     "output_type": "stream",
     "text": [
      "2025-02-12 21:21:36,724 - 8645349184 - __init__.py-__init__:537 - WARNING: Overriding of current TracerProvider is not allowed\n"
     ]
    },
    {
     "name": "stdout",
     "output_type": "stream",
     "text": [
      "Adding Analysis Data to Vector Store\n"
     ]
    },
    {
     "name": "stderr",
     "output_type": "stream",
     "text": [
      "Getting Data:  25%|██▌       | 2/8 [00:46<02:05, 20.84s/it]2025-02-12 21:21:40,490 - 8645349184 - __init__.py-__init__:537 - WARNING: Overriding of current TracerProvider is not allowed\n"
     ]
    },
    {
     "name": "stdout",
     "output_type": "stream",
     "text": [
      "Getting Data for Grant Thornton\n",
      "Data exists but pricing transcript not found\n",
      "Adding pricing Transcript Data to Vector Store\n"
     ]
    },
    {
     "name": "stderr",
     "output_type": "stream",
     "text": [
      "2025-02-12 21:21:45,508 - 8645349184 - __init__.py-__init__:537 - WARNING: Overriding of current TracerProvider is not allowed\n"
     ]
    },
    {
     "name": "stdout",
     "output_type": "stream",
     "text": [
      "Adding Analysis Data to Vector Store\n"
     ]
    },
    {
     "name": "stderr",
     "output_type": "stream",
     "text": [
      "Getting Data:  38%|███▊      | 3/8 [00:55<01:17, 15.49s/it]2025-02-12 21:21:49,601 - 8645349184 - __init__.py-__init__:537 - WARNING: Overriding of current TracerProvider is not allowed\n"
     ]
    },
    {
     "name": "stdout",
     "output_type": "stream",
     "text": [
      "Getting Data for Coca Cola\n",
      "Data exists but pricing transcript not found\n",
      "Adding pricing Transcript Data to Vector Store\n"
     ]
    },
    {
     "name": "stderr",
     "output_type": "stream",
     "text": [
      "2025-02-12 21:21:55,146 - 8645349184 - __init__.py-__init__:537 - WARNING: Overriding of current TracerProvider is not allowed\n"
     ]
    },
    {
     "name": "stdout",
     "output_type": "stream",
     "text": [
      "Adding Analysis Data to Vector Store\n"
     ]
    },
    {
     "name": "stderr",
     "output_type": "stream",
     "text": [
      "Getting Data:  50%|█████     | 4/8 [01:06<00:55, 13.84s/it]2025-02-12 21:22:00,904 - 8645349184 - __init__.py-__init__:537 - WARNING: Overriding of current TracerProvider is not allowed\n"
     ]
    },
    {
     "name": "stdout",
     "output_type": "stream",
     "text": [
      "Getting Data for Equinix\n",
      "Data exists but pricing transcript not found\n",
      "Adding pricing Transcript Data to Vector Store\n"
     ]
    },
    {
     "name": "stderr",
     "output_type": "stream",
     "text": [
      "2025-02-12 21:22:06,906 - 8645349184 - __init__.py-__init__:537 - WARNING: Overriding of current TracerProvider is not allowed\n"
     ]
    },
    {
     "name": "stdout",
     "output_type": "stream",
     "text": [
      "Adding Analysis Data to Vector Store\n"
     ]
    },
    {
     "name": "stderr",
     "output_type": "stream",
     "text": [
      "Getting Data:  62%|██████▎   | 5/8 [01:16<00:37, 12.40s/it]2025-02-12 21:22:10,750 - 8645349184 - __init__.py-__init__:537 - WARNING: Overriding of current TracerProvider is not allowed\n"
     ]
    },
    {
     "name": "stdout",
     "output_type": "stream",
     "text": [
      "Getting Data for Sophos\n",
      "Data exists but pricing transcript not found\n",
      "Adding pricing Transcript Data to Vector Store\n"
     ]
    },
    {
     "name": "stderr",
     "output_type": "stream",
     "text": [
      "2025-02-12 21:22:16,095 - 8645349184 - __init__.py-__init__:537 - WARNING: Overriding of current TracerProvider is not allowed\n"
     ]
    },
    {
     "name": "stdout",
     "output_type": "stream",
     "text": [
      "Adding Analysis Data to Vector Store\n"
     ]
    },
    {
     "name": "stderr",
     "output_type": "stream",
     "text": [
      "Getting Data:  75%|███████▌  | 6/8 [01:25<00:22, 11.10s/it]2025-02-12 21:22:19,359 - 8645349184 - __init__.py-__init__:537 - WARNING: Overriding of current TracerProvider is not allowed\n"
     ]
    },
    {
     "name": "stdout",
     "output_type": "stream",
     "text": [
      "Getting Data for Sentry Insurance\n",
      "Data exists but pricing transcript not found\n",
      "Adding pricing Transcript Data to Vector Store\n"
     ]
    },
    {
     "name": "stderr",
     "output_type": "stream",
     "text": [
      "2025-02-12 21:22:24,973 - 8645349184 - __init__.py-__init__:537 - WARNING: Overriding of current TracerProvider is not allowed\n"
     ]
    },
    {
     "name": "stdout",
     "output_type": "stream",
     "text": [
      "Adding Analysis Data to Vector Store\n"
     ]
    },
    {
     "name": "stderr",
     "output_type": "stream",
     "text": [
      "Getting Data:  88%|████████▊ | 7/8 [01:34<00:10, 10.63s/it]2025-02-12 21:22:29,010 - 8645349184 - __init__.py-__init__:537 - WARNING: Overriding of current TracerProvider is not allowed\n"
     ]
    },
    {
     "name": "stdout",
     "output_type": "stream",
     "text": [
      "Getting Data for Marketboomer\n",
      "Data exists but pricing transcript not found\n",
      "Adding pricing Transcript Data to Vector Store\n"
     ]
    },
    {
     "name": "stderr",
     "output_type": "stream",
     "text": [
      "2025-02-12 21:22:34,124 - 8645349184 - __init__.py-__init__:537 - WARNING: Overriding of current TracerProvider is not allowed\n"
     ]
    },
    {
     "name": "stdout",
     "output_type": "stream",
     "text": [
      "Adding Analysis Data to Vector Store\n"
     ]
    },
    {
     "name": "stderr",
     "output_type": "stream",
     "text": [
      "Getting Data: 100%|██████████| 8/8 [01:43<00:00, 12.99s/it]\n"
     ]
    }
   ],
   "source": [
    "pricing_call_data = asyncio.run(make_call(PRICING, clients, buyer_inputs))"
   ]
  },
  {
   "cell_type": "code",
   "execution_count": 8,
   "metadata": {},
   "outputs": [
    {
     "name": "stdout",
     "output_type": "stream",
     "text": [
      "Making negotiation call for ['Cardinal Health', 'BMC Software', 'Grant Thornton', 'Coca Cola', 'Equinix', 'Sophos', 'Sentry Insurance', 'Marketboomer']\n",
      "Getting analysis Data\n",
      "Number of Clients:  8\n"
     ]
    },
    {
     "name": "stderr",
     "output_type": "stream",
     "text": [
      "Getting Data:   0%|          | 0/8 [00:00<?, ?it/s]2025-02-12 21:22:38,120 - 8645349184 - __init__.py-__init__:537 - WARNING: Overriding of current TracerProvider is not allowed\n"
     ]
    },
    {
     "name": "stdout",
     "output_type": "stream",
     "text": [
      "Getting Data for Cardinal Health\n",
      "Data exists but pricing transcript not found\n",
      "Adding negotiation Transcript Data to Vector Store\n"
     ]
    },
    {
     "name": "stderr",
     "output_type": "stream",
     "text": [
      "2025-02-12 21:22:43,245 - 8645349184 - __init__.py-__init__:537 - WARNING: Overriding of current TracerProvider is not allowed\n"
     ]
    },
    {
     "name": "stdout",
     "output_type": "stream",
     "text": [
      "Adding Analysis Data to Vector Store\n"
     ]
    },
    {
     "name": "stderr",
     "output_type": "stream",
     "text": [
      "Getting Data:  12%|█▎        | 1/8 [00:09<01:04,  9.19s/it]2025-02-12 21:22:47,313 - 8645349184 - __init__.py-__init__:537 - WARNING: Overriding of current TracerProvider is not allowed\n"
     ]
    },
    {
     "name": "stdout",
     "output_type": "stream",
     "text": [
      "Getting Data for BMC Software\n",
      "Data exists but pricing transcript not found\n",
      "Adding negotiation Transcript Data to Vector Store\n"
     ]
    },
    {
     "name": "stderr",
     "output_type": "stream",
     "text": [
      "2025-02-12 21:22:51,607 - 8645349184 - __init__.py-__init__:537 - WARNING: Overriding of current TracerProvider is not allowed\n"
     ]
    },
    {
     "name": "stdout",
     "output_type": "stream",
     "text": [
      "Adding Analysis Data to Vector Store\n"
     ]
    },
    {
     "name": "stderr",
     "output_type": "stream",
     "text": [
      "Getting Data:  25%|██▌       | 2/8 [00:17<00:53,  8.91s/it]2025-02-12 21:22:56,032 - 8645349184 - __init__.py-__init__:537 - WARNING: Overriding of current TracerProvider is not allowed\n"
     ]
    },
    {
     "name": "stdout",
     "output_type": "stream",
     "text": [
      "Getting Data for Grant Thornton\n",
      "Data exists but pricing transcript not found\n",
      "Adding negotiation Transcript Data to Vector Store\n"
     ]
    },
    {
     "name": "stderr",
     "output_type": "stream",
     "text": [
      "2025-02-12 21:23:01,426 - 8645349184 - __init__.py-__init__:537 - WARNING: Overriding of current TracerProvider is not allowed\n"
     ]
    },
    {
     "name": "stdout",
     "output_type": "stream",
     "text": [
      "Adding Analysis Data to Vector Store\n"
     ]
    },
    {
     "name": "stderr",
     "output_type": "stream",
     "text": [
      "Getting Data:  38%|███▊      | 3/8 [00:26<00:42,  8.57s/it]2025-02-12 21:23:04,183 - 8645349184 - __init__.py-__init__:537 - WARNING: Overriding of current TracerProvider is not allowed\n"
     ]
    },
    {
     "name": "stdout",
     "output_type": "stream",
     "text": [
      "Getting Data for Coca Cola\n",
      "Data exists but pricing transcript not found\n",
      "Adding negotiation Transcript Data to Vector Store\n"
     ]
    },
    {
     "name": "stderr",
     "output_type": "stream",
     "text": [
      "2025-02-12 21:23:09,339 - 8645349184 - __init__.py-__init__:537 - WARNING: Overriding of current TracerProvider is not allowed\n"
     ]
    },
    {
     "name": "stdout",
     "output_type": "stream",
     "text": [
      "Adding Analysis Data to Vector Store\n"
     ]
    },
    {
     "name": "stderr",
     "output_type": "stream",
     "text": [
      "Getting Data:  50%|█████     | 4/8 [00:35<00:35,  8.84s/it]2025-02-12 21:23:13,446 - 8645349184 - __init__.py-__init__:537 - WARNING: Overriding of current TracerProvider is not allowed\n"
     ]
    },
    {
     "name": "stdout",
     "output_type": "stream",
     "text": [
      "Getting Data for Equinix\n",
      "Data exists but pricing transcript not found\n",
      "Adding negotiation Transcript Data to Vector Store\n"
     ]
    },
    {
     "name": "stderr",
     "output_type": "stream",
     "text": [
      "2025-02-12 21:23:17,533 - 8645349184 - __init__.py-__init__:537 - WARNING: Overriding of current TracerProvider is not allowed\n"
     ]
    },
    {
     "name": "stdout",
     "output_type": "stream",
     "text": [
      "Adding Analysis Data to Vector Store\n"
     ]
    },
    {
     "name": "stderr",
     "output_type": "stream",
     "text": [
      "Getting Data:  62%|██████▎   | 5/8 [00:43<00:25,  8.42s/it]2025-02-12 21:23:21,122 - 8645349184 - __init__.py-__init__:537 - WARNING: Overriding of current TracerProvider is not allowed\n"
     ]
    },
    {
     "name": "stdout",
     "output_type": "stream",
     "text": [
      "Getting Data for Sophos\n",
      "Data exists but pricing transcript not found\n",
      "Adding negotiation Transcript Data to Vector Store\n"
     ]
    },
    {
     "name": "stderr",
     "output_type": "stream",
     "text": [
      "2025-02-12 21:23:27,202 - 8645349184 - __init__.py-__init__:537 - WARNING: Overriding of current TracerProvider is not allowed\n"
     ]
    },
    {
     "name": "stdout",
     "output_type": "stream",
     "text": [
      "Adding Analysis Data to Vector Store\n"
     ]
    },
    {
     "name": "stderr",
     "output_type": "stream",
     "text": [
      "Getting Data:  75%|███████▌  | 6/8 [00:52<00:17,  8.88s/it]2025-02-12 21:23:30,905 - 8645349184 - __init__.py-__init__:537 - WARNING: Overriding of current TracerProvider is not allowed\n"
     ]
    },
    {
     "name": "stdout",
     "output_type": "stream",
     "text": [
      "Getting Data for Sentry Insurance\n",
      "Data exists but pricing transcript not found\n",
      "Adding negotiation Transcript Data to Vector Store\n"
     ]
    },
    {
     "name": "stderr",
     "output_type": "stream",
     "text": [
      "2025-02-12 21:23:36,096 - 8645349184 - __init__.py-__init__:537 - WARNING: Overriding of current TracerProvider is not allowed\n"
     ]
    },
    {
     "name": "stdout",
     "output_type": "stream",
     "text": [
      "Adding Analysis Data to Vector Store\n"
     ]
    },
    {
     "name": "stderr",
     "output_type": "stream",
     "text": [
      "Getting Data:  88%|████████▊ | 7/8 [01:02<00:09,  9.24s/it]2025-02-12 21:23:40,875 - 8645349184 - __init__.py-__init__:537 - WARNING: Overriding of current TracerProvider is not allowed\n"
     ]
    },
    {
     "name": "stdout",
     "output_type": "stream",
     "text": [
      "Getting Data for Marketboomer\n",
      "Data exists but pricing transcript not found\n",
      "Adding negotiation Transcript Data to Vector Store\n"
     ]
    },
    {
     "name": "stderr",
     "output_type": "stream",
     "text": [
      "2025-02-12 21:23:46,443 - 8645349184 - __init__.py-__init__:537 - WARNING: Overriding of current TracerProvider is not allowed\n"
     ]
    },
    {
     "name": "stdout",
     "output_type": "stream",
     "text": [
      "Adding Analysis Data to Vector Store\n"
     ]
    },
    {
     "name": "stderr",
     "output_type": "stream",
     "text": [
      "Getting Data: 100%|██████████| 8/8 [01:12<00:00,  9.05s/it]\n"
     ]
    }
   ],
   "source": [
    "negotiation_call_data = asyncio.run(make_call(NEGOTIATION, clients, buyer_inputs))"
   ]
  },
  {
   "cell_type": "markdown",
   "metadata": {},
   "source": [
    "## Queries"
   ]
  },
  {
   "cell_type": "code",
   "execution_count": 13,
   "metadata": {},
   "outputs": [],
   "source": [
    "# len(index._storage_context.vector_store._collection.get()['metadatas'])"
   ]
  },
  {
   "cell_type": "code",
   "execution_count": 1,
   "metadata": {},
   "outputs": [],
   "source": [
    "from echo.queries import get_queries\n",
    "\n",
    "seller = \"Whatfix\"\n",
    "queries = get_queries(seller)"
   ]
  },
  {
   "cell_type": "code",
   "execution_count": 2,
   "metadata": {},
   "outputs": [
    {
     "name": "stdout",
     "output_type": "stream",
     "text": [
      "Total queries:  4\n"
     ]
    }
   ],
   "source": [
    "print(\"Total queries: \", len(queries))"
   ]
  },
  {
   "cell_type": "code",
   "execution_count": 3,
   "metadata": {},
   "outputs": [
    {
     "data": {
      "text/plain": [
       "dict_keys(['discovery', 'demo', 'pricing', 'negotiation'])"
      ]
     },
     "execution_count": 3,
     "metadata": {},
     "output_type": "execute_result"
    }
   ],
   "source": [
    "queries.keys()"
   ]
  },
  {
   "cell_type": "code",
   "execution_count": null,
   "metadata": {},
   "outputs": [],
   "source": [
    "# vector_index.storage_context.vector_store._collection.get()['metadatas']"
   ]
  },
  {
   "cell_type": "code",
   "execution_count": 4,
   "metadata": {},
   "outputs": [
    {
     "name": "stdout",
     "output_type": "stream",
     "text": [
      "Running queries for call type discovery\n"
     ]
    },
    {
     "name": "stderr",
     "output_type": "stream",
     "text": [
      "Running Queries:   0%|          | 0/8 [00:00<?, ?it/s]"
     ]
    },
    {
     "name": "stdout",
     "output_type": "stream",
     "text": [
      "Running sub query What all pieces of information about the buyer are uncovered in discovery calls of successful deals?\n",
      "Sub query context {'query': 'What all pieces of information about the buyer are uncovered in discovery calls of successful deals?', 'context': 'Relevant Context:\\nThe pain points, objections, time lines, success indicators, budget constraints, competition, and decision committee members are all pieces of information about the buyer that are uncovered in discovery calls of successful deals.'}\n",
      "Running sub query What all piece of information have we learnt about the buyer from discovery till now?\n",
      "Sub query context {'query': 'What all piece of information have we learnt about the buyer from discovery till now?', 'context': 'Relevant Context:\\nThe buyer, Sophos, is struggling with user onboarding and adoption, leading to low adoption rates and decreased productivity. They find their current training program time-consuming and costly, and they are challenged in measuring the ROI of software investments. Sophos is looking to improve their cybersecurity posture, defeat cyberattacks, and they require a solution that offers customization and flexibility. Additionally, they have budget constraints and are concerned about the cost of implementing Whatfix.'}\n",
      "Running final query Given all the information needed to uncover and the current information uncovered till now - What all pieces of information are missing that should be uner and the current information uncovered till nowWhat all pieces of information are missing that should be uncovered in upcoming calls?\n"
     ]
    },
    {
     "name": "stderr",
     "output_type": "stream",
     "text": [
      "Running Queries:  12%|█▎        | 1/8 [00:07<00:50,  7.23s/it]"
     ]
    },
    {
     "name": "stdout",
     "output_type": "stream",
     "text": [
      "Trying to parse with Ast...\n",
      "Running sub query What are the top priorities for the account to solve for?\n"
     ]
    },
    {
     "name": "stderr",
     "output_type": "stream",
     "text": [
      "Overriding of current TracerProvider is not allowed\n"
     ]
    },
    {
     "name": "stdout",
     "output_type": "stream",
     "text": [
      "Sub query context {'query': 'What are the top priorities for the account to solve for?', 'context': 'Relevant Context:\\nDefeat Cyberattacks, Protect the future of business with confidence.'}\n",
      "Running final query What are the top priorities this quarter for the account to solve for?\n"
     ]
    },
    {
     "name": "stderr",
     "output_type": "stream",
     "text": [
      "Running Queries:  25%|██▌       | 2/8 [00:12<00:36,  6.15s/it]"
     ]
    },
    {
     "name": "stdout",
     "output_type": "stream",
     "text": [
      "Trying to parse with Ast...\n",
      "Running sub query What are the top priorities and possible pains for my prospect in the upcoming quarters?\n",
      "Sub query context {'query': 'What are the top priorities and possible pains for my prospect in the upcoming quarters?', 'context': 'Relevant Context:\\nThe top priorities for your prospect in the upcoming quarters are to defeat cyberattacks and protect the future of their business with confidence. Possible pains they may face include struggling to efficiently onboard users, leading to low adoption rates and decreased productivity, dealing with a time-consuming and costly training program affecting their bottom line, finding it challenging to measure the ROI of software investments due to poor user adoption, employees struggling to keep up with the complexity of their cybersecurity software, high churn rates among customers due to poor software adoption and user experience, and the sales team struggling to effectively onboard new customers, resulting in delayed deployments and revenue losses.'}\n",
      "Running sub query What are the historical ways to present the product value prop to similar buyers\n"
     ]
    },
    {
     "name": "stderr",
     "output_type": "stream",
     "text": [
      "Overriding of current TracerProvider is not allowed\n"
     ]
    },
    {
     "name": "stdout",
     "output_type": "stream",
     "text": [
      "Sub query context {'query': 'What are the historical ways to present the product value prop to similar buyers', 'context': \"Relevant Context:\\nHistorically, the ways to present the product value proposition to similar buyers have included highlighting the ability to address specific pain points identified during the call, showcasing success indicators that align with the buyer's goals such as increasing user adoption rates and improving productivity, emphasizing the ability to provide a clear ROI and cost savings, demonstrating how the product can integrate with existing systems and provide advanced analytics capabilities, and addressing objections such as budget constraints by ensuring that the solution meets the buyer's needs and budget requirements.\"}\n",
      "Running final query Given stakeholder priorities and historical ways we've presented product to similar buyers - How can I present the value proposition of this product that aligns with my prospects industry and current stakeholders priorities?\n"
     ]
    },
    {
     "name": "stderr",
     "output_type": "stream",
     "text": [
      "Running Queries:  38%|███▊      | 3/8 [00:22<00:38,  7.64s/it]"
     ]
    },
    {
     "name": "stdout",
     "output_type": "stream",
     "text": [
      "Trying to parse with Ast...\n",
      "Running sub query What are the top relevant discovery questions that have been successful for similar buyers and the respective stakeholder?\n"
     ]
    },
    {
     "name": "stderr",
     "output_type": "stream",
     "text": [
      "Overriding of current TracerProvider is not allowed\n"
     ]
    },
    {
     "name": "stdout",
     "output_type": "stream",
     "text": [
      "Sub query context {'query': 'What are the top relevant discovery questions that have been successful for similar buyers and the respective stakeholder?', 'context': \"Relevant Context:\\nCan you please introduce yourself and tell me a little bit about your role within the organization?\\nCan you tell me more about the current challenges you're facing when it comes to employee training and support?\\nWhat are some of the pain points you're experiencing?\\nCan you tell me more about your current software landscape and what systems you're currently using?\\nCan you tell me more about your decision-making process and what the timeline looks like for implementing a new solution?\\nWhat are you hoping to achieve with a new solution in terms of metrics or KPIs?\"}\n",
      "Running final query What are the top relevant discovery questions that have been successful for similar buyers and the respective stakeholder?\n"
     ]
    },
    {
     "name": "stderr",
     "output_type": "stream",
     "text": [
      "Running Queries:  50%|█████     | 4/8 [00:27<00:27,  6.80s/it]"
     ]
    },
    {
     "name": "stdout",
     "output_type": "stream",
     "text": [
      "Trying to parse with Ast...\n",
      "Running sub query What are the top competitors for the account and what are the key differentiators?\n",
      "Sub query context {'query': 'What are the top competitors for the account and what are the key differentiators?', 'context': \"Relevant Context:\\nThe top competitors for the account are WalkMe, Pendo, SAP Enable Now, Oracle Guided Learning, Userpilot, and Appcues. The key differentiators for these competitors are as follows:\\n- WalkMe: Robust cross-platform or multi-app adoption capabilities.\\n- Pendo: Superior 'Click Tracking' capabilities.\\n- SAP Enable Now: Multi-app scalability and element detection stability.\\n- Oracle Guided Learning: Advanced features such as multi-format content publishing, analytics, and automation.\\n- Userpilot: Robust cross-platform or multi-app adoption capabilities.\\n- Appcues: Robust cross-platform or multi-app adoption capabilities.\"}\n",
      "Running sub query Who are my top competitors and how do i differentiate ourselves compared to each of them to better solve the buyers issues?\n"
     ]
    },
    {
     "name": "stderr",
     "output_type": "stream",
     "text": [
      "Overriding of current TracerProvider is not allowed\n"
     ]
    },
    {
     "name": "stdout",
     "output_type": "stream",
     "text": [
      "Sub query context {'query': 'Who are my top competitors and how do i differentiate ourselves compared to each of them to better solve the buyers issues?', 'context': \"Relevant Context:\\nYour top competitor is WalkMe. To differentiate yourself from WalkMe, you can emphasize the flexibility and scalability of your platform, highlighting how it can seamlessly integrate with a wide range of IT infrastructures and provide advanced analytics capabilities. Additionally, you can showcase specific examples of how your platform has helped similar companies in the past, demonstrating a track record of success in addressing pain points such as onboarding new users to enterprise software, improving user adoption rates, reducing training time and costs, and enhancing overall employee productivity. By focusing on these strengths and success stories, you can better position yourself as the preferred solution provider for the buyer's challenges.\"}\n",
      "Running final query What are my top competitors and our differentiation?\n"
     ]
    },
    {
     "name": "stderr",
     "output_type": "stream",
     "text": [
      "Running Queries:  62%|██████▎   | 5/8 [00:39<00:26,  8.72s/it]"
     ]
    },
    {
     "name": "stdout",
     "output_type": "stream",
     "text": [
      "Trying to parse with Ast...\n",
      "Running sub query What all questions and information about the decision making process do i need to gather from the buyer?\n",
      "Sub query context {'query': 'What all questions and information about the decision making process do i need to gather from the buyer?', 'context': \"Relevant Context:\\nYou need to gather information about the buyer's decision-making process by asking questions such as:\\n- Can you tell me more about your decision-making process and what the timeline looks like for implementing a new solution?\\n- What are you hoping to achieve with a new solution in terms of metrics or KPIs?\\n- What are the next steps if we're interested in moving forward with Whatfix?\\n\\nAdditionally, you should gather insights on the buyer's decision-making process, including any objections they may have and how those objections can be resolved effectively.\"}\n",
      "Running sub query What all pieces of information do i already have about the decision makers and buying committee?\n"
     ]
    },
    {
     "name": "stderr",
     "output_type": "stream",
     "text": [
      "Overriding of current TracerProvider is not allowed\n"
     ]
    },
    {
     "name": "stdout",
     "output_type": "stream",
     "text": [
      "Sub query context {'query': 'What all pieces of information do i already have about the decision makers and buying committee?', 'context': 'Relevant Context:\\nThe decision makers and buying committee identified in the call are the IT team, sales team, and customer success team.'}\n",
      "Running final query What all pieces of information about the decision making committee is pending given the current information I have?\n"
     ]
    },
    {
     "name": "stderr",
     "output_type": "stream",
     "text": [
      "Running Queries:  75%|███████▌  | 6/8 [00:46<00:16,  8.12s/it]"
     ]
    },
    {
     "name": "stdout",
     "output_type": "stream",
     "text": [
      "Trying to parse with Ast...\n",
      "Running sub query Based on the historical calls with the buyer, what are some ways or topics to build rapport?\n",
      "Sub query context {'query': 'Based on the historical calls with the buyer, what are some ways or topics to build rapport?', 'context': 'Relevant Context:\\nSome ways or topics to build rapport based on historical calls with the buyer could include discussing their current challenges and pain points, showing an understanding of their industry and specific needs, providing insights and examples relevant to their situation, offering solutions that align with their goals and initiatives, and demonstrating flexibility and willingness to work within their budget constraints.'}\n",
      "Running sub query Based on similar buyers, what kind of talking points about the industry could help build rapport?\n",
      "Sub query context {'query': 'Based on similar buyers, what kind of talking points about the industry could help build rapport?', 'context': 'Relevant Context:\\nTalking points about the industry that could help build rapport include discussing the challenges commonly faced by companies in the beverage industry, such as issues related to employee training, software adoption, and measuring ROI. Highlighting the importance of advanced analytics capabilities, integration with existing systems, and the need for solutions that can improve overall productivity and user adoption rates could resonate well with buyers in the beverage industry. Additionally, emphasizing the significance of addressing budget constraints while ensuring a sufficient ROI could also be a valuable talking point to establish rapport with buyers in this industry.'}\n",
      "Running sub query Based on the external research of the buyer, what kind of talking points could help build rapport?\n"
     ]
    },
    {
     "name": "stderr",
     "output_type": "stream",
     "text": [
      "Overriding of current TracerProvider is not allowed\n"
     ]
    },
    {
     "name": "stdout",
     "output_type": "stream",
     "text": [
      "Sub query context {'query': 'Based on the external research of the buyer, what kind of talking points could help build rapport?', 'context': \"Relevant Context:\\nDiscussing topics related to Sophos' goals, use cases, challenges, and stakeholders could help build rapport with the buyer. Understanding their focus on defeating cyberattacks, protecting the future of business, and their specific use cases like endpoint security, network security, and cloud security can show alignment with their needs. Acknowledging the challenges they face with ransomware attacks, data breaches, and cyber threats demonstrates empathy. Additionally, recognizing key stakeholders like CEO Joe Levy, Torjus Gylstorff, and Thoma Bravo can indicate a deeper understanding of their organization.\"}\n",
      "Running final query what are some rapport building cues I could use with the prospect?\n"
     ]
    },
    {
     "name": "stderr",
     "output_type": "stream",
     "text": [
      "Running Queries:  88%|████████▊ | 7/8 [00:56<00:08,  8.63s/it]"
     ]
    },
    {
     "name": "stdout",
     "output_type": "stream",
     "text": [
      "Trying to parse with Ast...\n",
      "Running sub query What are some possible objections the prospect could raise regarding our offering based on similar buyers in the past. Also provide how to handle them?\n",
      "Sub query context {'query': 'What are some possible objections the prospect could raise regarding our offering based on similar buyers in the past. Also provide how to handle them?', 'context': \"Relevant Context:\\nPossible objections the prospect could raise regarding the offering based on similar buyers in the past include concerns about pricing and integration with existing IT infrastructure. To handle these objections, the seller can address them proactively by explaining the pricing model clearly, highlighting any flexible options available, and emphasizing the value proposition to justify the cost. For integration concerns, the seller can showcase the platform's flexibility and experience in integrating with various IT infrastructures, offering to work closely with the buyer's team to ensure a seamless integration that meets their specific needs.\"}\n",
      "Running sub query What are some possible objections the buyer could raise given their details and pains?\n"
     ]
    },
    {
     "name": "stderr",
     "output_type": "stream",
     "text": [
      "Overriding of current TracerProvider is not allowed\n"
     ]
    },
    {
     "name": "stdout",
     "output_type": "stream",
     "text": [
      "Sub query context {'query': 'What are some possible objections the buyer could raise given their details and pains?', 'context': 'Relevant Context:\\nThe possible objections the buyer could raise given their details and pains are concerns about the cost of implementing a new solution, uncertainty about seamless integration with existing systems, worries about scalability to meet growing needs, potential disruption to current workflows, doubts about customization and flexibility, and apprehensions regarding security risks associated with implementing a new digital adoption platform.'}\n",
      "Running final query What are some possible objections the prospect could raise regarding our offering based on similar buyers in the past. Also provide how to handle them?\n"
     ]
    },
    {
     "name": "stderr",
     "output_type": "stream",
     "text": [
      "Running Queries: 100%|██████████| 8/8 [01:03<00:00,  7.92s/it]\n"
     ]
    },
    {
     "name": "stdout",
     "output_type": "stream",
     "text": [
      "Trying to parse with Ast...\n",
      "Running queries for call type demo\n"
     ]
    },
    {
     "name": "stderr",
     "output_type": "stream",
     "text": [
      "Running Queries:   0%|          | 0/4 [00:00<?, ?it/s]"
     ]
    },
    {
     "name": "stdout",
     "output_type": "stream",
     "text": [
      "Running sub query What are the top pains identified for the buyer in the past?\n"
     ]
    },
    {
     "name": "stderr",
     "output_type": "stream",
     "text": [
      "Overriding of current TracerProvider is not allowed\n"
     ]
    },
    {
     "name": "stdout",
     "output_type": "stream",
     "text": [
      "Sub query context {'query': 'What are the top pains identified for the buyer in the past?', 'context': 'Relevant Context:\\nThe top pains identified for the buyer in the past were struggling to onboard users efficiently, low adoption rates and decreased productivity, current training program being time-consuming and costly, challenging to measure the ROI of software investments, difficulty scaling and personalizing the experience for users, and high churn rates among customers due to poor software adoption and user experience.'}\n",
      "Running final query What are the top pains identified for this account from discovery?\n"
     ]
    },
    {
     "name": "stderr",
     "output_type": "stream",
     "text": [
      "Running Queries:  25%|██▌       | 1/4 [00:04<00:12,  4.14s/it]"
     ]
    },
    {
     "name": "stdout",
     "output_type": "stream",
     "text": [
      "Trying to parse with Ast...\n",
      "Running sub query What are the top pains identified from the discovery phase?\n",
      "Sub query context {'query': 'What are the top pains identified from the discovery phase?', 'context': 'Relevant Context:\\nThe top pains identified from the discovery phase are:\\n- Struggling to onboard users efficiently\\n- Low adoption rates and decreased productivity\\n- Current training program is time-consuming and costly\\n- Challenging to measure the ROI of software investments\\n- Difficulty scaling and personalizing the experience for users\\n- High churn rates among customers due to poor software adoption and user experience'}\n",
      "Running sub query What features align best with the pains identified?\n"
     ]
    },
    {
     "name": "stderr",
     "output_type": "stream",
     "text": [
      "Number of requested results 3 is greater than number of elements in index 1, updating n_results = 1\n"
     ]
    },
    {
     "name": "stdout",
     "output_type": "stream",
     "text": [
      "Sub query context {'query': \"What features align best with the pains identified?\\nContext: \\nBuyer Research Fields Description: class ClientResearchResponse(BaseModel):\\n\\n\\tname: str # The name of the client.\\n\\twebsite: str # The website of the buyer.\\n\\tdescription: str # A description of the buyer.\\n\\tindustry: str # The industry that the buyer belongs to.\\n\\tcompany_size: str # The type of company size as: SMB, Mid-Market, Enterprise.\\n\\tgoals: List[str] # The goals of the buyer.\\n\\tuse_cases: List[str] # The use cases of the buyer.\\n\\tchallenges: List[str] # The challenges faced by the buyer.\\n\\tstakeholders: List[str] # The stakeholders of the buyer.\\n\\n# Name\\nSophos\\n# Website\\nhttps://www.sophos.com/en-us\\n# Description\\nSophos is a British security software and hardware company that develops and markets managed security services and cybersecurity software and hardware.\\n# Industry\\nCybersecurity\\n# Company_Size\\nEnterprise\\n# Goals\\n   - Defeat Cyberattacks\\n   - Protect the future of business with confidence\\n# Use_Cases\\n   - Endpoint security\\n   - Network security\\n   - Cloud security\\n   - Managed detection and response\\n# Challenges\\n   - Ransomware attacks\\n   - Data breaches\\n   - Cyber threats\\n# Stakeholders\\n   - CEO Joe Levy\\n   - Torjus Gylstorff\\n   - Thoma Bravo\\n\\nCompetitive Info Fields Description: class CompetitorComparison(BaseModel):\\n\\n\\tname: str # The name of the competitor.\\n\\tpros: List[str] # The pros of the competitor.\\n\\tcons: List[str] # The cons of the competitor.\\n\\tdifferentiators: List[str] # The differentiators of the seller against the competitor.\\n\\n# Competitors\\n   - ### Name\\nWalkMe\\n### Pros\\n       - offers personalized guidance, automation, and real-time insights\\n       - integration capabilities for various applications\\n### Cons\\n       - lacking robust cross-platform or multi-app adoption capabilities\\n### Differentiators\\n       - robust cross-platform or multi-app adoption capabilities\\n   - ### Name\\nPendo\\n### Pros\\n       - offers advanced features such as multi-format content publishing, analytics, automation\\n### Cons\\n       - lacking detailed insights into user interactions\\n### Differentiators\\n       - superior 'Click Tracking' capabilities\\n   - ### Name\\nSAP Enable Now\\n### Pros\\n       - capability within SAP's ecosystem\\n### Cons\\n       - capability diminishes outside SAP's ecosystem\\n       - flows are prone to breaking if the UI changes\\n### Differentiators\\n       - multi-app scalability\\n       - element detection stability\\n   - ### Name\\nOracle Guided Learning\\n### Pros\\n       - offers essential in-app guidance features\\n### Cons\\n       - lacking robust cross-platform or multi-app adoption capabilities\\n       - lacking advanced features such as multi-format content publishing, analytics, automation\\n### Differentiators\\n       - advanced features such as multi-format content publishing, analytics, automation\\n   - ### Name\\nUserpilot\\n### Pros\\n       - offers personalized guidance, automation, and real-time insights\\n### Cons\\n       - lacking robust cross-platform or multi-app adoption capabilities\\n### Differentiators\\n       - robust cross-platform or multi-app adoption capabilities\\n   - ### Name\\nAppcues\\n### Pros\\n       - offers personalized guidance, automation, and real-time insights\\n### Cons\\n       - lacking robust cross-platform or multi-app adoption capabilities\\n### Differentiators\\n       - robust cross-platform or multi-app adoption capabilities\\n\\nAnticipated Qopcs Fields Description: class AnticipatedPainsAndObjections(BaseModel):\\n\\n\\tpains: List[str] # The pain points identified in the call.\\n\\tobjections: List[str] # The objections identified in the call.\\n\\n# Pains\\n   - Sophos is struggling to onboard their users efficiently, resulting in low adoption rates and decreased productivity.\\n   - Their current training program is time-consuming and costly, affecting their bottom line.\\n   - They are finding it challenging to measure the ROI of their software investments due to poor user adoption.\\n   - Their employees are struggling to keep up with the complexity of their cybersecurity software, leading to frustration and inefficiency.\\n   - They are experiencing high churn rates among their customers due to poor software adoption and user experience.\\n   - Their sales team is struggling to effectively onboard new customers, leading to delayed deployments and revenue losses.\\n# Objections\\n   - We're concerned about the cost of implementing Whatfix, especially considering our current budget constraints.\\n   - We're not sure if Whatfix can integrate seamlessly with our existing cybersecurity software and systems.\\n   - We're worried that Whatfix may not be scalable enough to meet our growing needs.\\n   - We're concerned about the potential disruption to our current workflows and operations.\\n   - We're not convinced that Whatfix can provide the level of customization and flexibility we need.\\n   - We're worried about the potential security risks of implementing a new digital adoption platform.\", 'context': 'Relevant Context:\\nThe features that align best with the identified pains include providing in-app guidance, training, and performance support, enhancing software experiences across different platforms, and improving user adoption of enterprise software.'}\n",
      "Running sub query What features best align with the pains identified for similar buyers?\n"
     ]
    },
    {
     "name": "stderr",
     "output_type": "stream",
     "text": [
      "Overriding of current TracerProvider is not allowed\n"
     ]
    },
    {
     "name": "stdout",
     "output_type": "stream",
     "text": [
      "Sub query context {'query': \"What features best align with the pains identified for similar buyers?\\nContext: \\nBuyer Research Fields Description: class ClientResearchResponse(BaseModel):\\n\\n\\tname: str # The name of the client.\\n\\twebsite: str # The website of the buyer.\\n\\tdescription: str # A description of the buyer.\\n\\tindustry: str # The industry that the buyer belongs to.\\n\\tcompany_size: str # The type of company size as: SMB, Mid-Market, Enterprise.\\n\\tgoals: List[str] # The goals of the buyer.\\n\\tuse_cases: List[str] # The use cases of the buyer.\\n\\tchallenges: List[str] # The challenges faced by the buyer.\\n\\tstakeholders: List[str] # The stakeholders of the buyer.\\n\\n# Name\\nSophos\\n# Website\\nhttps://www.sophos.com/en-us\\n# Description\\nSophos is a British security software and hardware company that develops and markets managed security services and cybersecurity software and hardware.\\n# Industry\\nCybersecurity\\n# Company_Size\\nEnterprise\\n# Goals\\n   - Defeat Cyberattacks\\n   - Protect the future of business with confidence\\n# Use_Cases\\n   - Endpoint security\\n   - Network security\\n   - Cloud security\\n   - Managed detection and response\\n# Challenges\\n   - Ransomware attacks\\n   - Data breaches\\n   - Cyber threats\\n# Stakeholders\\n   - CEO Joe Levy\\n   - Torjus Gylstorff\\n   - Thoma Bravo\\n\\nCompetitive Info Fields Description: class CompetitorComparison(BaseModel):\\n\\n\\tname: str # The name of the competitor.\\n\\tpros: List[str] # The pros of the competitor.\\n\\tcons: List[str] # The cons of the competitor.\\n\\tdifferentiators: List[str] # The differentiators of the seller against the competitor.\\n\\n# Competitors\\n   - ### Name\\nWalkMe\\n### Pros\\n       - offers personalized guidance, automation, and real-time insights\\n       - integration capabilities for various applications\\n### Cons\\n       - lacking robust cross-platform or multi-app adoption capabilities\\n### Differentiators\\n       - robust cross-platform or multi-app adoption capabilities\\n   - ### Name\\nPendo\\n### Pros\\n       - offers advanced features such as multi-format content publishing, analytics, automation\\n### Cons\\n       - lacking detailed insights into user interactions\\n### Differentiators\\n       - superior 'Click Tracking' capabilities\\n   - ### Name\\nSAP Enable Now\\n### Pros\\n       - capability within SAP's ecosystem\\n### Cons\\n       - capability diminishes outside SAP's ecosystem\\n       - flows are prone to breaking if the UI changes\\n### Differentiators\\n       - multi-app scalability\\n       - element detection stability\\n   - ### Name\\nOracle Guided Learning\\n### Pros\\n       - offers essential in-app guidance features\\n### Cons\\n       - lacking robust cross-platform or multi-app adoption capabilities\\n       - lacking advanced features such as multi-format content publishing, analytics, automation\\n### Differentiators\\n       - advanced features such as multi-format content publishing, analytics, automation\\n   - ### Name\\nUserpilot\\n### Pros\\n       - offers personalized guidance, automation, and real-time insights\\n### Cons\\n       - lacking robust cross-platform or multi-app adoption capabilities\\n### Differentiators\\n       - robust cross-platform or multi-app adoption capabilities\\n   - ### Name\\nAppcues\\n### Pros\\n       - offers personalized guidance, automation, and real-time insights\\n### Cons\\n       - lacking robust cross-platform or multi-app adoption capabilities\\n### Differentiators\\n       - robust cross-platform or multi-app adoption capabilities\\n\\nAnticipated Qopcs Fields Description: class AnticipatedPainsAndObjections(BaseModel):\\n\\n\\tpains: List[str] # The pain points identified in the call.\\n\\tobjections: List[str] # The objections identified in the call.\\n\\n# Pains\\n   - Sophos is struggling to onboard their users efficiently, resulting in low adoption rates and decreased productivity.\\n   - Their current training program is time-consuming and costly, affecting their bottom line.\\n   - They are finding it challenging to measure the ROI of their software investments due to poor user adoption.\\n   - Their employees are struggling to keep up with the complexity of their cybersecurity software, leading to frustration and inefficiency.\\n   - They are experiencing high churn rates among their customers due to poor software adoption and user experience.\\n   - Their sales team is struggling to effectively onboard new customers, leading to delayed deployments and revenue losses.\\n# Objections\\n   - We're concerned about the cost of implementing Whatfix, especially considering our current budget constraints.\\n   - We're not sure if Whatfix can integrate seamlessly with our existing cybersecurity software and systems.\\n   - We're worried that Whatfix may not be scalable enough to meet our growing needs.\\n   - We're concerned about the potential disruption to our current workflows and operations.\\n   - We're not convinced that Whatfix can provide the level of customization and flexibility we need.\\n   - We're worried about the potential security risks of implementing a new digital adoption platform.\", 'context': 'Relevant Context:\\nThe features that best align with the pains identified for similar buyers include:\\n- In-App Guidance: Provides step-by-step guidance to users within the application, enhancing their software experience and addressing the challenge of struggling to efficiently onboard users.\\n- Digital Adoption Platform: Ensures seamless user onboarding and software adoption, helping with low adoption rates and decreased productivity.\\n- Employee Training: Provides an effective and scalable way to train employees, addressing the challenge of time-consuming and costly training programs.\\n- User Onboarding: Streamlines the onboarding process for new employees and customers, reducing time and costs associated with traditional training methods.\\n- Implementation and Integration: Ensures seamless integration with existing systems and applications, addressing concerns about integration complexity and scalability.'}\n",
      "Running final query Based on historical call features presented and the features identified from the product info, collate responses on what features to present based on pains identified\n"
     ]
    },
    {
     "name": "stderr",
     "output_type": "stream",
     "text": [
      "Running Queries:  50%|█████     | 2/4 [00:13<00:14,  7.20s/it]"
     ]
    },
    {
     "name": "stdout",
     "output_type": "stream",
     "text": [
      "Trying to parse with Ast...\n",
      "Running sub query What are the top objections that came up in discovery?\n",
      "Sub query context {'query': 'What are the top objections that came up in discovery?', 'context': 'Relevant Context:\\nThe top objections that came up in the discovery call were:\\n1. Concern about the potential disruption to current workflows and operations.\\n2. Need for customization and flexibility in the solution.\\n3. Concern about the cost of implementing Whatfix.'}\n",
      "Running sub query What are the top objections that come up in demo calls for similar buyers?\n",
      "Sub query context {'query': 'What are the top objections that come up in demo calls for similar buyers?', 'context': 'Relevant Context:\\nThe top objections that come up in demo calls for similar buyers are related to integration complexity, cost of implementation, budget constraints, customization and flexibility, and the implementation timeline.'}\n",
      "Running sub query Given objections from current deal and historical deals below, how have these objections been handled successfully before in discovery and demo callsDisplay output in pairs of objection and their successful response \n"
     ]
    },
    {
     "name": "stderr",
     "output_type": "stream",
     "text": [
      "Overriding of current TracerProvider is not allowed\n"
     ]
    },
    {
     "name": "stdout",
     "output_type": "stream",
     "text": [
      "Sub query context {'query': \"Given objections from current deal and historical deals below, how have these objections been handled successfully before in discovery and demo callsDisplay output in pairs of objection and their successful response \\nContext: \\nBuyer Research Fields Description: class ClientResearchResponse(BaseModel):\\n\\n\\tname: str # The name of the client.\\n\\twebsite: str # The website of the buyer.\\n\\tdescription: str # A description of the buyer.\\n\\tindustry: str # The industry that the buyer belongs to.\\n\\tcompany_size: str # The type of company size as: SMB, Mid-Market, Enterprise.\\n\\tgoals: List[str] # The goals of the buyer.\\n\\tuse_cases: List[str] # The use cases of the buyer.\\n\\tchallenges: List[str] # The challenges faced by the buyer.\\n\\tstakeholders: List[str] # The stakeholders of the buyer.\\n\\n# Name\\nSophos\\n# Website\\nhttps://www.sophos.com/en-us\\n# Description\\nSophos is a British security software and hardware company that develops and markets managed security services and cybersecurity software and hardware.\\n# Industry\\nCybersecurity\\n# Company_Size\\nEnterprise\\n# Goals\\n   - Defeat Cyberattacks\\n   - Protect the future of business with confidence\\n# Use_Cases\\n   - Endpoint security\\n   - Network security\\n   - Cloud security\\n   - Managed detection and response\\n# Challenges\\n   - Ransomware attacks\\n   - Data breaches\\n   - Cyber threats\\n# Stakeholders\\n   - CEO Joe Levy\\n   - Torjus Gylstorff\\n   - Thoma Bravo\\n\\nCompetitive Info Fields Description: class CompetitorComparison(BaseModel):\\n\\n\\tname: str # The name of the competitor.\\n\\tpros: List[str] # The pros of the competitor.\\n\\tcons: List[str] # The cons of the competitor.\\n\\tdifferentiators: List[str] # The differentiators of the seller against the competitor.\\n\\n# Competitors\\n   - ### Name\\nWalkMe\\n### Pros\\n       - offers personalized guidance, automation, and real-time insights\\n       - integration capabilities for various applications\\n### Cons\\n       - lacking robust cross-platform or multi-app adoption capabilities\\n### Differentiators\\n       - robust cross-platform or multi-app adoption capabilities\\n   - ### Name\\nPendo\\n### Pros\\n       - offers advanced features such as multi-format content publishing, analytics, automation\\n### Cons\\n       - lacking detailed insights into user interactions\\n### Differentiators\\n       - superior 'Click Tracking' capabilities\\n   - ### Name\\nSAP Enable Now\\n### Pros\\n       - capability within SAP's ecosystem\\n### Cons\\n       - capability diminishes outside SAP's ecosystem\\n       - flows are prone to breaking if the UI changes\\n### Differentiators\\n       - multi-app scalability\\n       - element detection stability\\n   - ### Name\\nOracle Guided Learning\\n### Pros\\n       - offers essential in-app guidance features\\n### Cons\\n       - lacking robust cross-platform or multi-app adoption capabilities\\n       - lacking advanced features such as multi-format content publishing, analytics, automation\\n### Differentiators\\n       - advanced features such as multi-format content publishing, analytics, automation\\n   - ### Name\\nUserpilot\\n### Pros\\n       - offers personalized guidance, automation, and real-time insights\\n### Cons\\n       - lacking robust cross-platform or multi-app adoption capabilities\\n### Differentiators\\n       - robust cross-platform or multi-app adoption capabilities\\n   - ### Name\\nAppcues\\n### Pros\\n       - offers personalized guidance, automation, and real-time insights\\n### Cons\\n       - lacking robust cross-platform or multi-app adoption capabilities\\n### Differentiators\\n       - robust cross-platform or multi-app adoption capabilities\\n\\nAnticipated Qopcs Fields Description: class AnticipatedPainsAndObjections(BaseModel):\\n\\n\\tpains: List[str] # The pain points identified in the call.\\n\\tobjections: List[str] # The objections identified in the call.\\n\\n# Pains\\n   - Sophos is struggling to onboard their users efficiently, resulting in low adoption rates and decreased productivity.\\n   - Their current training program is time-consuming and costly, affecting their bottom line.\\n   - They are finding it challenging to measure the ROI of their software investments due to poor user adoption.\\n   - Their employees are struggling to keep up with the complexity of their cybersecurity software, leading to frustration and inefficiency.\\n   - They are experiencing high churn rates among their customers due to poor software adoption and user experience.\\n   - Their sales team is struggling to effectively onboard new customers, leading to delayed deployments and revenue losses.\\n# Objections\\n   - We're concerned about the cost of implementing Whatfix, especially considering our current budget constraints.\\n   - We're not sure if Whatfix can integrate seamlessly with our existing cybersecurity software and systems.\\n   - We're worried that Whatfix may not be scalable enough to meet our growing needs.\\n   - We're concerned about the potential disruption to our current workflows and operations.\\n   - We're not convinced that Whatfix can provide the level of customization and flexibility we need.\\n   - We're worried about the potential security risks of implementing a new digital adoption platform.\\nRelevant Context:\\nThe top objections that came up in the discovery call were:\\n1. Concern about the potential disruption to current workflows and operations.\\n2. Need for customization and flexibility in the solution.\\n3. Concern about the cost of implementing Whatfix.\", 'context': 'Relevant Context:\\n1. Concern about the potential disruption to current workflows and operations.\\n   - Resolution: Whatfix can customize the platform to meet specific needs, including branding and user interface requirements.\\n2. Need for customization and flexibility in the solution.\\n   - Resolution: Whatfix can customize the platform to meet specific needs, including branding and user interface requirements.\\n3. Concern about the cost of implementing Whatfix.\\n   - Resolution: Our pricing model is based on a flat per-application fee, plus user license fees. We also offer a free plan with 30 credits and a basic plan starting at $39 per month for up to 2,500 unique users.'}\n",
      "Running final query Given objections from current deal and historical deals, How have these objections been handled successfully before in discovery and demo calls. Display output in pairs of objection and their successful response?\n"
     ]
    },
    {
     "name": "stderr",
     "output_type": "stream",
     "text": [
      "Running Queries:  75%|███████▌  | 3/4 [00:22<00:08,  8.02s/it]"
     ]
    },
    {
     "name": "stdout",
     "output_type": "stream",
     "text": [
      "Trying to parse with Ast...\n",
      "Running sub query What all pieces of information regarding pricing needs to be uncovered during pricing calls from similar buyers?\n",
      "Sub query context {'query': 'What all pieces of information regarding pricing needs to be uncovered during pricing calls from similar buyers?', 'context': 'Relevant Context:\\nThe concerns related to pricing, budget constraints, preferred pricing models, timelines to close, Key Performance Indicators (KPIs) related to pricing, and company financial priorities related to pricing need to be uncovered during pricing calls from similar buyers.'}\n",
      "Running sub query What all pieces of information regarding pricing needs to be uncovered during discovery calls from similar buyers?\n",
      "Sub query context {'query': 'What all pieces of information regarding pricing needs to be uncovered during discovery calls from similar buyers?', 'context': \"Relevant Context:\\nThe pricing information that needs to be uncovered during discovery calls from similar buyers includes the buyer's objections related to pricing, the buyer's budget constraints, and the resolution provided by the seller regarding pricing concerns.\"}\n",
      "Running sub query What all pieces of information regarding pricing needs to be uncovered during demo calls from similar buyers?\n",
      "Sub query context {'query': 'What all pieces of information regarding pricing needs to be uncovered during demo calls from similar buyers?', 'context': \"Relevant Context:\\nThe pricing information that needs to be uncovered during demo calls from similar buyers includes details about the pricing model, such as any per-application fees, user license fees, free plan options, basic plan pricing, and any additional costs associated with implementation. It is also important to address concerns related to the cost of implementation, budget constraints, and how the solution can work within the buyer's budget. Additionally, understanding any objections or concerns about pricing, and providing resolutions or alternatives to address those concerns, is crucial during the demo calls.\"}\n",
      "Running sub query what all pieces of information have we uncovered about the buyer in the current deal across discovery, demo and pricing stages?\n"
     ]
    },
    {
     "name": "stderr",
     "output_type": "stream",
     "text": [
      "Overriding of current TracerProvider is not allowed\n"
     ]
    },
    {
     "name": "stdout",
     "output_type": "stream",
     "text": [
      "Sub query context {'query': 'what all pieces of information have we uncovered about the buyer in the current deal across discovery, demo and pricing stages?', 'context': \"Relevant Context:\\nThe buyer in the current deal across discovery, demo, and pricing stages has uncovered the following pieces of information:\\n- Pain points related to struggling with user onboarding, low adoption rates, costly training programs, measuring ROI, scaling user experiences, and high churn rates.\\n- Objections regarding potential disruption to workflows, need for customization and flexibility, and concerns about the cost of implementing Whatfix.\\n- Time lines indicating a focus on the next quarter.\\n- Success indicators include improving cybersecurity posture, defeating cyberattacks, and protecting the future of business with confidence.\\n- Budget constraints related to the cost of implementing Whatfix and the need to stay within budget.\\n- Identified decision committee members from the IT team, sales team, and customer success team.\\n- Interested features such as In-app Guidance and Product Analytics during the demo.\\n- Skeptical features like the Implementation Process.\\n- Stakeholder engagement levels during the demo were medium for the IT team, sales team, and customer success team.\\n- Final objections including budget constraints and potential disruption to workflows.\\n- Remaining concerns about implementation timeline, achieving ROI on software investments, and improving cybersecurity posture and user adoption rates.\\n- Contract terms involving a customized proposal meeting Sophos' budget and requirements, and an implementation process timeline of 4-6 weeks.\"}\n",
      "Running final query Given pieces of information we need to uncover and the information we have till now - what pending information do I need to uncover?\n"
     ]
    },
    {
     "name": "stderr",
     "output_type": "stream",
     "text": [
      "Running Queries: 100%|██████████| 4/4 [00:35<00:00,  8.88s/it]\n"
     ]
    },
    {
     "name": "stdout",
     "output_type": "stream",
     "text": [
      "Trying to parse with Ast...\n",
      "Running queries for call type pricing\n"
     ]
    },
    {
     "name": "stderr",
     "output_type": "stream",
     "text": [
      "Running Queries:   0%|          | 0/3 [00:00<?, ?it/s]"
     ]
    },
    {
     "name": "stdout",
     "output_type": "stream",
     "text": [
      "Running sub query What pricing levers have been successful in the past for similar buyers?\n",
      "Sub query context {'query': 'What pricing levers have been successful in the past for similar buyers?', 'context': 'Relevant Context:\\nCustomization and flexibility, ROI analysis, addressing concerns, providing case studies, in-app guidance, training, performance support, product analytics, and negotiating pricing based on specific needs and budget constraints have been successful pricing levers in the past for similar buyers.'}\n",
      "Running sub query What features and product offerings were received positively in discovery calls?\n",
      "Sub query context {'query': 'What features and product offerings were received positively in discovery calls?', 'context': 'Relevant Context:\\nImproving cybersecurity posture, defeating cyberattacks, protecting the future of business with confidence, and the flexibility and customization options of the solution were received positively in discovery calls.'}\n",
      "Running sub query What features and product offerings were received positively in demo calls?\n",
      "Sub query context {'query': 'What features and product offerings were received positively in demo calls?', 'context': 'Relevant Context:\\nThe features and product offerings that were received positively in demo calls were \"In-app Guidance\" and \"Product Analytics.\"'}\n",
      "Running sub query What are the top pains identified for the buyer in the past?\n"
     ]
    },
    {
     "name": "stderr",
     "output_type": "stream",
     "text": [
      "Overriding of current TracerProvider is not allowed\n"
     ]
    },
    {
     "name": "stdout",
     "output_type": "stream",
     "text": [
      "Sub query context {'query': 'What are the top pains identified for the buyer in the past?', 'context': 'Relevant Context:\\nThe top pains identified for the buyer in the past were struggling to onboard users efficiently, low adoption rates and decreased productivity, current training program being time-consuming and costly, challenging to measure the ROI of software investments, difficulty scaling and personalizing the experience for users, and high churn rates among customers due to poor software adoption and user experience.'}\n",
      "Running final query Summarize the various pricing levers that will be used in a pricing call we have given the historical justifications used for similar buyers, the features that excited the buyer, and the pains mentioned by the buyer.\n"
     ]
    },
    {
     "name": "stderr",
     "output_type": "stream",
     "text": [
      "Running Queries:  33%|███▎      | 1/3 [00:09<00:19,  9.99s/it]"
     ]
    },
    {
     "name": "stdout",
     "output_type": "stream",
     "text": [
      "Trying to parse with Ast...\n",
      "Running sub query What are the top concerns and priorities of the buyer?\n",
      "Sub query context {'query': 'What are the top concerns and priorities of the buyer?', 'context': \"Relevant Context:\\nThe top concerns of the buyer are potential disruption to current workflows and operations. The buyer's priorities include staying within budget and achieving a significant ROI on software investments.\"}\n",
      "Running sub query what are the top objections till now around the product ROI and value?\n",
      "Sub query context {'query': 'what are the top objections till now around the product ROI and value?', 'context': 'Relevant Context:\\nThe top objections around the product ROI and value have been concerns related to potential disruption to current workflows and operations, and budget constraints of $50,000 per year.'}\n",
      "Running sub query What pricing plans are relevant to buyers with pain points and priotities and top concerns around the product?\n",
      "Sub query context {'query': \"What pricing plans are relevant to buyers with pain points and priotities and top concerns around the product?\\nContext: \\nBuyer Research Fields Description: class ClientResearchResponse(BaseModel):\\n\\n\\tname: str # The name of the client.\\n\\twebsite: str # The website of the buyer.\\n\\tdescription: str # A description of the buyer.\\n\\tindustry: str # The industry that the buyer belongs to.\\n\\tcompany_size: str # The type of company size as: SMB, Mid-Market, Enterprise.\\n\\tgoals: List[str] # The goals of the buyer.\\n\\tuse_cases: List[str] # The use cases of the buyer.\\n\\tchallenges: List[str] # The challenges faced by the buyer.\\n\\tstakeholders: List[str] # The stakeholders of the buyer.\\n\\n# Name\\nSophos\\n# Website\\nhttps://www.sophos.com/en-us\\n# Description\\nSophos is a British security software and hardware company that develops and markets managed security services and cybersecurity software and hardware.\\n# Industry\\nCybersecurity\\n# Company_Size\\nEnterprise\\n# Goals\\n   - Defeat Cyberattacks\\n   - Protect the future of business with confidence\\n# Use_Cases\\n   - Endpoint security\\n   - Network security\\n   - Cloud security\\n   - Managed detection and response\\n# Challenges\\n   - Ransomware attacks\\n   - Data breaches\\n   - Cyber threats\\n# Stakeholders\\n   - CEO Joe Levy\\n   - Torjus Gylstorff\\n   - Thoma Bravo\\n\\nCompetitive Info Fields Description: class CompetitorComparison(BaseModel):\\n\\n\\tname: str # The name of the competitor.\\n\\tpros: List[str] # The pros of the competitor.\\n\\tcons: List[str] # The cons of the competitor.\\n\\tdifferentiators: List[str] # The differentiators of the seller against the competitor.\\n\\n# Competitors\\n   - ### Name\\nWalkMe\\n### Pros\\n       - offers personalized guidance, automation, and real-time insights\\n       - integration capabilities for various applications\\n### Cons\\n       - lacking robust cross-platform or multi-app adoption capabilities\\n### Differentiators\\n       - robust cross-platform or multi-app adoption capabilities\\n   - ### Name\\nPendo\\n### Pros\\n       - offers advanced features such as multi-format content publishing, analytics, automation\\n### Cons\\n       - lacking detailed insights into user interactions\\n### Differentiators\\n       - superior 'Click Tracking' capabilities\\n   - ### Name\\nSAP Enable Now\\n### Pros\\n       - capability within SAP's ecosystem\\n### Cons\\n       - capability diminishes outside SAP's ecosystem\\n       - flows are prone to breaking if the UI changes\\n### Differentiators\\n       - multi-app scalability\\n       - element detection stability\\n   - ### Name\\nOracle Guided Learning\\n### Pros\\n       - offers essential in-app guidance features\\n### Cons\\n       - lacking robust cross-platform or multi-app adoption capabilities\\n       - lacking advanced features such as multi-format content publishing, analytics, automation\\n### Differentiators\\n       - advanced features such as multi-format content publishing, analytics, automation\\n   - ### Name\\nUserpilot\\n### Pros\\n       - offers personalized guidance, automation, and real-time insights\\n### Cons\\n       - lacking robust cross-platform or multi-app adoption capabilities\\n### Differentiators\\n       - robust cross-platform or multi-app adoption capabilities\\n   - ### Name\\nAppcues\\n### Pros\\n       - offers personalized guidance, automation, and real-time insights\\n### Cons\\n       - lacking robust cross-platform or multi-app adoption capabilities\\n### Differentiators\\n       - robust cross-platform or multi-app adoption capabilities\\n\\nAnticipated Qopcs Fields Description: class AnticipatedPainsAndObjections(BaseModel):\\n\\n\\tpains: List[str] # The pain points identified in the call.\\n\\tobjections: List[str] # The objections identified in the call.\\n\\n# Pains\\n   - Sophos is struggling to onboard their users efficiently, resulting in low adoption rates and decreased productivity.\\n   - Their current training program is time-consuming and costly, affecting their bottom line.\\n   - They are finding it challenging to measure the ROI of their software investments due to poor user adoption.\\n   - Their employees are struggling to keep up with the complexity of their cybersecurity software, leading to frustration and inefficiency.\\n   - They are experiencing high churn rates among their customers due to poor software adoption and user experience.\\n   - Their sales team is struggling to effectively onboard new customers, leading to delayed deployments and revenue losses.\\n# Objections\\n   - We're concerned about the cost of implementing Whatfix, especially considering our current budget constraints.\\n   - We're not sure if Whatfix can integrate seamlessly with our existing cybersecurity software and systems.\\n   - We're worried that Whatfix may not be scalable enough to meet our growing needs.\\n   - We're concerned about the potential disruption to our current workflows and operations.\\n   - We're not convinced that Whatfix can provide the level of customization and flexibility we need.\\n   - We're worried about the potential security risks of implementing a new digital adoption platform.\\nRelevant Context:\\nThe top concerns of the buyer are potential disruption to current workflows and operations. The buyer's priorities include staying within budget and achieving a significant ROI on software investments.\", 'context': \"Relevant Context:\\nThe relevant pricing plans for buyers with pain points and priorities around potential disruption to current workflows and operations, staying within budget, and achieving a significant ROI on software investments would include custom plans with flat per-application fees, user license fees, and tiered pricing for larger commitments. These pricing options align with the buyer's concerns and priorities by offering flexibility, scalability, and the potential for a strong return on investment.\"}\n",
      "Running sub query What pricing plans are relevant to buyers with pain points and priotities and top concerns around the product?\n"
     ]
    },
    {
     "name": "stderr",
     "output_type": "stream",
     "text": [
      "Number of requested results 3 is greater than number of elements in index 1, updating n_results = 1\n",
      "Overriding of current TracerProvider is not allowed\n"
     ]
    },
    {
     "name": "stdout",
     "output_type": "stream",
     "text": [
      "Sub query context {'query': \"What pricing plans are relevant to buyers with pain points and priotities and top concerns around the product?\\nContext: \\nBuyer Research Fields Description: class ClientResearchResponse(BaseModel):\\n\\n\\tname: str # The name of the client.\\n\\twebsite: str # The website of the buyer.\\n\\tdescription: str # A description of the buyer.\\n\\tindustry: str # The industry that the buyer belongs to.\\n\\tcompany_size: str # The type of company size as: SMB, Mid-Market, Enterprise.\\n\\tgoals: List[str] # The goals of the buyer.\\n\\tuse_cases: List[str] # The use cases of the buyer.\\n\\tchallenges: List[str] # The challenges faced by the buyer.\\n\\tstakeholders: List[str] # The stakeholders of the buyer.\\n\\n# Name\\nSophos\\n# Website\\nhttps://www.sophos.com/en-us\\n# Description\\nSophos is a British security software and hardware company that develops and markets managed security services and cybersecurity software and hardware.\\n# Industry\\nCybersecurity\\n# Company_Size\\nEnterprise\\n# Goals\\n   - Defeat Cyberattacks\\n   - Protect the future of business with confidence\\n# Use_Cases\\n   - Endpoint security\\n   - Network security\\n   - Cloud security\\n   - Managed detection and response\\n# Challenges\\n   - Ransomware attacks\\n   - Data breaches\\n   - Cyber threats\\n# Stakeholders\\n   - CEO Joe Levy\\n   - Torjus Gylstorff\\n   - Thoma Bravo\\n\\nCompetitive Info Fields Description: class CompetitorComparison(BaseModel):\\n\\n\\tname: str # The name of the competitor.\\n\\tpros: List[str] # The pros of the competitor.\\n\\tcons: List[str] # The cons of the competitor.\\n\\tdifferentiators: List[str] # The differentiators of the seller against the competitor.\\n\\n# Competitors\\n   - ### Name\\nWalkMe\\n### Pros\\n       - offers personalized guidance, automation, and real-time insights\\n       - integration capabilities for various applications\\n### Cons\\n       - lacking robust cross-platform or multi-app adoption capabilities\\n### Differentiators\\n       - robust cross-platform or multi-app adoption capabilities\\n   - ### Name\\nPendo\\n### Pros\\n       - offers advanced features such as multi-format content publishing, analytics, automation\\n### Cons\\n       - lacking detailed insights into user interactions\\n### Differentiators\\n       - superior 'Click Tracking' capabilities\\n   - ### Name\\nSAP Enable Now\\n### Pros\\n       - capability within SAP's ecosystem\\n### Cons\\n       - capability diminishes outside SAP's ecosystem\\n       - flows are prone to breaking if the UI changes\\n### Differentiators\\n       - multi-app scalability\\n       - element detection stability\\n   - ### Name\\nOracle Guided Learning\\n### Pros\\n       - offers essential in-app guidance features\\n### Cons\\n       - lacking robust cross-platform or multi-app adoption capabilities\\n       - lacking advanced features such as multi-format content publishing, analytics, automation\\n### Differentiators\\n       - advanced features such as multi-format content publishing, analytics, automation\\n   - ### Name\\nUserpilot\\n### Pros\\n       - offers personalized guidance, automation, and real-time insights\\n### Cons\\n       - lacking robust cross-platform or multi-app adoption capabilities\\n### Differentiators\\n       - robust cross-platform or multi-app adoption capabilities\\n   - ### Name\\nAppcues\\n### Pros\\n       - offers personalized guidance, automation, and real-time insights\\n### Cons\\n       - lacking robust cross-platform or multi-app adoption capabilities\\n### Differentiators\\n       - robust cross-platform or multi-app adoption capabilities\\n\\nAnticipated Qopcs Fields Description: class AnticipatedPainsAndObjections(BaseModel):\\n\\n\\tpains: List[str] # The pain points identified in the call.\\n\\tobjections: List[str] # The objections identified in the call.\\n\\n# Pains\\n   - Sophos is struggling to onboard their users efficiently, resulting in low adoption rates and decreased productivity.\\n   - Their current training program is time-consuming and costly, affecting their bottom line.\\n   - They are finding it challenging to measure the ROI of their software investments due to poor user adoption.\\n   - Their employees are struggling to keep up with the complexity of their cybersecurity software, leading to frustration and inefficiency.\\n   - They are experiencing high churn rates among their customers due to poor software adoption and user experience.\\n   - Their sales team is struggling to effectively onboard new customers, leading to delayed deployments and revenue losses.\\n# Objections\\n   - We're concerned about the cost of implementing Whatfix, especially considering our current budget constraints.\\n   - We're not sure if Whatfix can integrate seamlessly with our existing cybersecurity software and systems.\\n   - We're worried that Whatfix may not be scalable enough to meet our growing needs.\\n   - We're concerned about the potential disruption to our current workflows and operations.\\n   - We're not convinced that Whatfix can provide the level of customization and flexibility we need.\\n   - We're worried about the potential security risks of implementing a new digital adoption platform.\\nRelevant Context:\\nThe top concerns of the buyer are potential disruption to current workflows and operations. The buyer's priorities include staying within budget and achieving a significant ROI on software investments.\", 'context': 'Relevant Context:\\nThe pricing plans that would be relevant to buyers with pain points and priorities around the product would include the Basic plan starting at $39 per month, which supports up to 2,500 unique users. This plan could address concerns about staying within budget while providing a solution that supports their user adoption and onboarding needs.'}\n",
      "Running final query Summarize the two responses around pricing plans relevant to the buyer that woukd be presented in a pricing sales call?\n"
     ]
    },
    {
     "name": "stderr",
     "output_type": "stream",
     "text": [
      "Running Queries:  67%|██████▋   | 2/3 [00:21<00:10, 10.71s/it]"
     ]
    },
    {
     "name": "stdout",
     "output_type": "stream",
     "text": [
      "Trying to parse with Ast...\n",
      "Running sub query What are the top concerns and priorities of the buyer?\n",
      "Sub query context {'query': 'What are the top concerns and priorities of the buyer?', 'context': \"Relevant Context:\\nThe top concerns of the buyer are potential disruption to current workflows and operations. The buyer's priorities include staying within budget and achieving a significant ROI on software investments.\"}\n",
      "Running sub query What are the top objections till now around the product ROI and value?\n"
     ]
    },
    {
     "name": "stderr",
     "output_type": "stream",
     "text": [
      "Overriding of current TracerProvider is not allowed\n"
     ]
    },
    {
     "name": "stdout",
     "output_type": "stream",
     "text": [
      "Sub query context {'query': 'What are the top objections till now around the product ROI and value?', 'context': 'Relevant Context:\\nThe top objections around the product ROI and value have been concerns related to potential disruption to current workflows and operations, and budget constraints of $50,000 per year.'}\n",
      "Running final query Given the pains and objections of the buyer, What are the top ways to make a business case and ROI justification to the buyer?\n"
     ]
    },
    {
     "name": "stderr",
     "output_type": "stream",
     "text": [
      "Running Queries: 100%|██████████| 3/3 [00:28<00:00,  9.60s/it]\n"
     ]
    },
    {
     "name": "stdout",
     "output_type": "stream",
     "text": [
      "Trying to parse with Ast...\n",
      "Running queries for call type negotiation\n"
     ]
    },
    {
     "name": "stderr",
     "output_type": "stream",
     "text": [
      "Running Queries:   0%|          | 0/4 [00:00<?, ?it/s]"
     ]
    },
    {
     "name": "stdout",
     "output_type": "stream",
     "text": [
      "Running sub query What are pending concerns to be addressed before close?\n"
     ]
    },
    {
     "name": "stderr",
     "output_type": "stream",
     "text": [
      "Overriding of current TracerProvider is not allowed\n"
     ]
    },
    {
     "name": "stdout",
     "output_type": "stream",
     "text": [
      "Sub query context {'query': 'What are pending concerns to be addressed before close?', 'context': 'Relevant Context:\\nThe pending concerns to be addressed before close include the implementation timeline and training, achieving significant ROI on software investments, and improving cybersecurity posture and user adoption rates.'}\n",
      "Running final query What are pending concerns to be addressed before close?\n"
     ]
    },
    {
     "name": "stderr",
     "output_type": "stream",
     "text": [
      "Running Queries:  25%|██▌       | 1/4 [00:04<00:13,  4.41s/it]"
     ]
    },
    {
     "name": "stdout",
     "output_type": "stream",
     "text": [
      "Trying to parse with Ast...\n",
      "Running sub query What discounts and concessions can and have been offered during pricing calls?\n",
      "Sub query context {'query': 'What discounts and concessions can and have been offered during pricing calls?', 'context': 'Relevant Context:\\nDiscounts and concessions that can and have been offered during pricing calls include custom pricing plans, free plans with limited features, basic plans at a lower cost, flexible and scalable pricing options, flat per-application fees, user license fees, credits for certain services, and trials or proof-of-concepts. Sellers have also provided customized proposals outlining pricing and implementation details, addressed concerns around pricing and integration complexity, offered ROI analysis to justify the investment, and presented historical case studies and references from similar companies to showcase cost savings, efficiency gains, and improvements in key performance indicators.'}\n",
      "Running sub query What discounts and concessions can and have been offered during negotiation calls?\n"
     ]
    },
    {
     "name": "stderr",
     "output_type": "stream",
     "text": [
      "Overriding of current TracerProvider is not allowed\n"
     ]
    },
    {
     "name": "stdout",
     "output_type": "stream",
     "text": [
      "Sub query context {'query': 'What discounts and concessions can and have been offered during negotiation calls?', 'context': 'Relevant Context:\\nThe concessions and discounts offered during negotiation calls include a customized plan that includes a flat per-application fee of $10,000 plus user license fees of $5 per user per month. Additionally, discounts and concessions have been provided by addressing concerns such as customization and flexibility, implementation timeline, ROI goals alignment, integration with custom applications, security and compliance, and budget constraints.'}\n",
      "Running final query What discounts and concessions can and have been offered?\n"
     ]
    },
    {
     "name": "stderr",
     "output_type": "stream",
     "text": [
      "Running Queries:  50%|█████     | 2/4 [00:11<00:12,  6.20s/it]"
     ]
    },
    {
     "name": "stdout",
     "output_type": "stream",
     "text": [
      "Trying to parse with Ast...\n",
      "Running sub query What are the procurement and legal concerns possible?\n"
     ]
    },
    {
     "name": "stderr",
     "output_type": "stream",
     "text": [
      "Overriding of current TracerProvider is not allowed\n"
     ]
    },
    {
     "name": "stdout",
     "output_type": "stream",
     "text": [
      "Sub query context {'query': 'What are the procurement and legal concerns possible?', 'context': 'Relevant Context:\\nPossible procurement concerns could include budget allocation, implementation timeline, and customization requirements. Legal concerns may involve contract terms, such as pricing models, dedicated customer support, and ensuring alignment with ROI goals.'}\n",
      "Running final query What are the possible legal concerns that could come up during negotiation?\n"
     ]
    },
    {
     "name": "stderr",
     "output_type": "stream",
     "text": [
      "Running Queries:  75%|███████▌  | 3/4 [00:18<00:06,  6.18s/it]"
     ]
    },
    {
     "name": "stdout",
     "output_type": "stream",
     "text": [
      "Trying to parse with Ast...\n",
      "Running sub query What are the closing tactics that have been successful in the past?\n"
     ]
    },
    {
     "name": "stderr",
     "output_type": "stream",
     "text": [
      "Overriding of current TracerProvider is not allowed\n"
     ]
    },
    {
     "name": "stdout",
     "output_type": "stream",
     "text": [
      "Sub query context {'query': 'What are the closing tactics that have been successful in the past?', 'context': \"Relevant Context:\\nThe successful closing tactics in the past have included offering a detailed quote, scheduling a follow-up call, assigning a customer success manager, providing a clear next step, involving multiple stakeholders in the call, sending a formal proposal, and acknowledging the buyer's requirements while emphasizing the benefits of the platform.\"}\n",
      "Running final query What final closing tactics can be used for their account?\n"
     ]
    },
    {
     "name": "stderr",
     "output_type": "stream",
     "text": [
      "Running Queries: 100%|██████████| 4/4 [00:22<00:00,  5.74s/it]"
     ]
    },
    {
     "name": "stdout",
     "output_type": "stream",
     "text": [
      "Trying to parse with Ast...\n"
     ]
    },
    {
     "name": "stderr",
     "output_type": "stream",
     "text": [
      "\n"
     ]
    }
   ],
   "source": [
    "from echo.query_executor import arun_queries\n",
    "from echo.query_executor import ResponseFormat\n",
    "from echo.query_executor import ContextExtractionMode\n",
    "import nest_asyncio\n",
    "import asyncio\n",
    "\n",
    "nest_asyncio.apply()\n",
    "\n",
    "\n",
    "inputs = {\"buyer\": \"Sophos\", \"company_size\": \"Enterprise\"}\n",
    "\n",
    "responses = asyncio.run(\n",
    "    arun_queries(\n",
    "        queries,\n",
    "        inputs=inputs,\n",
    "        response_format=ResponseFormat.MARKDOWN,\n",
    "        context_extraction_mode=ContextExtractionMode.QUERY_ENGINE,\n",
    "    )\n",
    ")"
   ]
  },
  {
   "cell_type": "code",
   "execution_count": 5,
   "metadata": {},
   "outputs": [
    {
     "data": {
      "text/plain": [
       "19"
      ]
     },
     "execution_count": 5,
     "metadata": {},
     "output_type": "execute_result"
    }
   ],
   "source": [
    "len(responses.keys())"
   ]
  },
  {
   "cell_type": "code",
   "execution_count": 4,
   "metadata": {},
   "outputs": [
    {
     "data": {
      "text/plain": [
       "{'response': \"# Call Preparation Document\\n## Discovery Call with Shell\\n### Overview\\nThe goal of this discovery call is to uncover the needs and pain points of Shell, a potential buyer, and understand how Whatfix can help them address their challenges.\\n\\n### Information Uncovered so far\\n#### Challenges and Pain Points\\n* Maximize technology investments and driving user adoption\\n* Balancing oil demand with climate goals\\n* Slow user adoption of new tools, impacting productivity and efficiency\\n* Integration with existing systems\\n* High degree of customization to meet unique requirements\\n* Concerns about cost and implementation timeline of a digital adoption platform\\n\\n#### Decision Committee Members\\n* IT\\n* Operations\\n* Business Leaders\\n* CEO Wael Sawan\\n* Mark (Shell icon)\\n* Shareholders\\n\\n### Missing Information to Uncover\\n#### From Historical Data\\n* Objections\\n* Time lines\\n* Success indicators\\n* Budget constraints\\n* Competition\\n\\n#### From Current Call\\n* None, as we have already uncovered the buyer's challenges, pain points, and decision committee members.\\n\\n### Next Steps\\nIn the upcoming calls, we should focus on uncovering the missing information mentioned above. Specifically, we should ask questions to understand:\\n* What are the buyer's objections to adopting a digital adoption platform?\\n* What are the key timelines for implementing a solution?\\n* What are the success indicators for a digital adoption platform?\\n* What are the budget constraints for this project?\\n* Who are the competitors, and how does the buyer perceive them?\\n\\nBy uncovering this information, we can better understand the buyer's needs and tailor our solution to address their challenges, increasing the chances of a successful deal.\",\n",
       " 'sub_queries_context': [{'query': 'What all pieces of information about the buyer are uncovered in discovery calls of successful deals?',\n",
       "   'context': 'Relevant Context:\\nThe pain points, objections, time lines, success indicators, budget constraints, competition, and decision committee members are all pieces of information about the buyer that are uncovered in discovery calls of successful deals.'},\n",
       "  {'query': 'What all piece of information have we learnt about the buyer from discovery till now?',\n",
       "   'context': 'Relevant Context:\\nThe buyer, Shell, is facing challenges in maximizing technology investments and driving user adoption. They are struggling to balance oil demand with climate goals and their users are not adopting new tools quickly enough, impacting productivity and efficiency. Shell is concerned about integration with existing systems, needs a high degree of customization to meet their unique requirements, and is also concerned about the cost and implementation timeline of a digital adoption platform. The decision committee involved in the call includes IT, operations, business leaders, the CEO Wael Sawan, Mark (Shell icon), and shareholders.'}]}"
      ]
     },
     "execution_count": 4,
     "metadata": {},
     "output_type": "execute_result"
    }
   ],
   "source": [
    "responses[\"Info To Cover\"]"
   ]
  },
  {
   "cell_type": "code",
   "execution_count": 1,
   "metadata": {},
   "outputs": [],
   "source": [
    "# from echo.query_executor import aget_query_response\n",
    "\n",
    "\n",
    "# response, sub_queries_context = await aget_query_response(\n",
    "#     query,\n",
    "#     inputs,\n",
    "#     response_format=ResponseFormat.MARKDOWN, context_extraction_mode=ContextExtractionMode.QUERY_ENGINE\n",
    "# )"
   ]
  },
  {
   "cell_type": "code",
   "execution_count": null,
   "metadata": {},
   "outputs": [],
   "source": [
    "from echo.step_templates.discovery import aget_research_data_for_client\n",
    "from echo.utils import get_llm\n",
    "import nest_asyncio\n",
    "import asyncio\n",
    "\n",
    "nest_asyncio.apply()\n",
    "\n",
    "\n",
    "\n",
    "data = asyncio.run(aget_research_data_for_client(inputs, llm=get_llm()))"
   ]
  }
 ],
 "metadata": {
  "kernelspec": {
   "display_name": "Echo",
   "language": "python",
   "name": "python3"
  },
  "language_info": {
   "codemirror_mode": {
    "name": "ipython",
    "version": 3
   },
   "file_extension": ".py",
   "mimetype": "text/x-python",
   "name": "python",
   "nbconvert_exporter": "python",
   "pygments_lexer": "ipython3",
   "version": "3.12.0"
  }
 },
 "nbformat": 4,
 "nbformat_minor": 2
}
